{
 "cells": [
  {
   "cell_type": "markdown",
   "id": "9a5b49ca-f180-41d3-9bbf-215b209eb921",
   "metadata": {},
   "source": [
    "<div class=\"alert alert-block alert-success\">\n",
    "    <h1 align=\"center\">Machine Learning in Python</h1>\n",
    "    <h3 align=\"center\">Decision Tree Classification</h3>\n",

   ]
  },
  {
   "cell_type": "markdown",
   "id": "76ae1afc-7d7c-4b17-b863-877426f24f27",
   "metadata": {},
   "source": [
    "# Decision Tree Classification"
   ]
  },
  {
   "cell_type": "markdown",
   "id": "ccc5a010-fe68-4edb-96cc-f5506ea961a9",
   "metadata": {},
   "source": [
    "* Node: Each object in a tree. Nodes contain subsets of data, and excluding leaf nodes, a question splits the subset.\n",
    "* Parent node: The question that makes a data split.\n",
    "* Child node: Resulting node. It also can be a parent for its children.\n",
    "* Leaf node: Final node with no further questions. Only a subset of the data representing answers to preceding questions.\n",
    "* Branch: Unique line of the questions with answers that flow to a leaf node.\n",
    "* Root: The top node. "
   ]
  },
  {
   "cell_type": "markdown",
   "id": "0fc5dac1-af63-40d4-8f9f-8fde3c8097fd",
   "metadata": {},
   "source": [
    "## Decision Tree (Example)"
   ]
  },
  {
   "cell_type": "markdown",
   "id": "2741595a-25f3-4644-9768-6b5629b11661",
   "metadata": {},
   "source": [
    "<img src = \"https://2.bp.blogspot.com/-sD_VfJzi8YY/WtTygMEGRCI/AAAAAAAABwA/mnnX-Q14j3kRoFzbygUrhgDS_DQwSemZQCLcBGAs/s640/Decision%2BTree%2BExercise.jpg\" width=50%>"
   ]
  },
  {
   "cell_type": "markdown",
   "id": "0172376c-e5c3-431c-bd47-eabfd42ff22b",
   "metadata": {},
   "source": [
    "## Information Gain & Gini Index"
   ]
  },
  {
   "cell_type": "markdown",
   "id": "19dc72ed-c28b-4960-8a8f-a4477adc3f78",
   "metadata": {},
   "source": [
    "* Information gain is the reduction in entropy or surprise by transforming a dataset and is often used in training decision trees. Information gain is calculated by comparing the entropy of the dataset before and after a transformation."
   ]
  },
  {
   "cell_type": "markdown",
   "id": "4597a99d-94a8-4385-bf19-83514eb8adf8",
   "metadata": {},
   "source": [
    "* Gini index or Gini impurity measures the degree or probability of a particular variable being wrongly classified when it is randomly chosen. ... A Gini Index of 0.5 denotes equally distributed elements into some classes."
   ]
  },
  {
   "cell_type": "markdown",
   "id": "f0bb99ea-0f8d-4089-a340-8f2f4ff9f6e3",
   "metadata": {},
   "source": [
    "## Importing the libraries"
   ]
  },
  {
   "cell_type": "code",
   "execution_count": 3,
   "id": "9db76d18-7512-4330-9852-8afea072a33c",
   "metadata": {},
   "outputs": [],
   "source": [
    "%matplotlib inline\n",
    "import numpy as np\n",
    "import pandas as pd\n",
    "import matplotlib.pyplot as plt\n",
    "import seaborn as sns\n",
    "import sklearn"
   ]
  },
  {
   "cell_type": "code",
   "execution_count": 4,
   "id": "e207967a-cd2f-4991-b4fc-4212ec106c64",
   "metadata": {},
   "outputs": [],
   "source": [
    "path= \"/Users/miladebrahimian/Documents/Machine_learning_course/Datasets/Social_Network_Ads.csv\"\n",
    "\n",
    "dataset= pd.read_csv(path)"
   ]
  },
  {
   "cell_type": "code",
   "execution_count": 6,
   "id": "8dec0cd0-35b4-4c84-9bc6-95c6d12c8a70",
   "metadata": {},
   "outputs": [
    {
     "data": {
      "text/html": [
       "<div>\n",
       "<style scoped>\n",
       "    .dataframe tbody tr th:only-of-type {\n",
       "        vertical-align: middle;\n",
       "    }\n",
       "\n",
       "    .dataframe tbody tr th {\n",
       "        vertical-align: top;\n",
       "    }\n",
       "\n",
       "    .dataframe thead th {\n",
       "        text-align: right;\n",
       "    }\n",
       "</style>\n",
       "<table border=\"1\" class=\"dataframe\">\n",
       "  <thead>\n",
       "    <tr style=\"text-align: right;\">\n",
       "      <th></th>\n",
       "      <th>Age</th>\n",
       "      <th>EstimatedSalary</th>\n",
       "      <th>Purchased</th>\n",
       "    </tr>\n",
       "  </thead>\n",
       "  <tbody>\n",
       "    <tr>\n",
       "      <th>0</th>\n",
       "      <td>19</td>\n",
       "      <td>19000</td>\n",
       "      <td>0</td>\n",
       "    </tr>\n",
       "    <tr>\n",
       "      <th>1</th>\n",
       "      <td>35</td>\n",
       "      <td>20000</td>\n",
       "      <td>0</td>\n",
       "    </tr>\n",
       "    <tr>\n",
       "      <th>2</th>\n",
       "      <td>26</td>\n",
       "      <td>43000</td>\n",
       "      <td>0</td>\n",
       "    </tr>\n",
       "    <tr>\n",
       "      <th>3</th>\n",
       "      <td>27</td>\n",
       "      <td>57000</td>\n",
       "      <td>0</td>\n",
       "    </tr>\n",
       "    <tr>\n",
       "      <th>4</th>\n",
       "      <td>19</td>\n",
       "      <td>76000</td>\n",
       "      <td>0</td>\n",
       "    </tr>\n",
       "    <tr>\n",
       "      <th>...</th>\n",
       "      <td>...</td>\n",
       "      <td>...</td>\n",
       "      <td>...</td>\n",
       "    </tr>\n",
       "    <tr>\n",
       "      <th>395</th>\n",
       "      <td>46</td>\n",
       "      <td>41000</td>\n",
       "      <td>1</td>\n",
       "    </tr>\n",
       "    <tr>\n",
       "      <th>396</th>\n",
       "      <td>51</td>\n",
       "      <td>23000</td>\n",
       "      <td>1</td>\n",
       "    </tr>\n",
       "    <tr>\n",
       "      <th>397</th>\n",
       "      <td>50</td>\n",
       "      <td>20000</td>\n",
       "      <td>1</td>\n",
       "    </tr>\n",
       "    <tr>\n",
       "      <th>398</th>\n",
       "      <td>36</td>\n",
       "      <td>33000</td>\n",
       "      <td>0</td>\n",
       "    </tr>\n",
       "    <tr>\n",
       "      <th>399</th>\n",
       "      <td>49</td>\n",
       "      <td>36000</td>\n",
       "      <td>1</td>\n",
       "    </tr>\n",
       "  </tbody>\n",
       "</table>\n",
       "<p>400 rows × 3 columns</p>\n",
       "</div>"
      ],
      "text/plain": [
       "     Age  EstimatedSalary  Purchased\n",
       "0     19            19000          0\n",
       "1     35            20000          0\n",
       "2     26            43000          0\n",
       "3     27            57000          0\n",
       "4     19            76000          0\n",
       "..   ...              ...        ...\n",
       "395   46            41000          1\n",
       "396   51            23000          1\n",
       "397   50            20000          1\n",
       "398   36            33000          0\n",
       "399   49            36000          1\n",
       "\n",
       "[400 rows x 3 columns]"
      ]
     },
     "execution_count": 6,
     "metadata": {},
     "output_type": "execute_result"
    }
   ],
   "source": [
    "dataset"
   ]
  },
  {
   "cell_type": "code",
   "execution_count": 5,
   "id": "81210c26-a26e-4e44-a11e-f452eb0dfe60",
   "metadata": {},
   "outputs": [],
   "source": [
    "X= dataset.iloc[:, :-1].values\n",
    "y= dataset.iloc[:, -1].values"
   ]
  },
  {
   "cell_type": "code",
   "execution_count": 8,
   "id": "22457878-0819-4841-99e5-9ebb74219b91",
   "metadata": {},
   "outputs": [
    {
     "data": {
      "text/plain": [
       "array([[    19,  19000],\n",
       "       [    35,  20000],\n",
       "       [    26,  43000],\n",
       "       [    27,  57000],\n",
       "       [    19,  76000],\n",
       "       [    27,  58000],\n",
       "       [    27,  84000],\n",
       "       [    32, 150000],\n",
       "       [    25,  33000],\n",
       "       [    35,  65000],\n",
       "       [    26,  80000],\n",
       "       [    26,  52000],\n",
       "       [    20,  86000],\n",
       "       [    32,  18000],\n",
       "       [    18,  82000],\n",
       "       [    29,  80000],\n",
       "       [    47,  25000],\n",
       "       [    45,  26000],\n",
       "       [    46,  28000],\n",
       "       [    48,  29000],\n",
       "       [    45,  22000],\n",
       "       [    47,  49000],\n",
       "       [    48,  41000],\n",
       "       [    45,  22000],\n",
       "       [    46,  23000],\n",
       "       [    47,  20000],\n",
       "       [    49,  28000],\n",
       "       [    47,  30000],\n",
       "       [    29,  43000],\n",
       "       [    31,  18000],\n",
       "       [    31,  74000],\n",
       "       [    27, 137000],\n",
       "       [    21,  16000],\n",
       "       [    28,  44000],\n",
       "       [    27,  90000],\n",
       "       [    35,  27000],\n",
       "       [    33,  28000],\n",
       "       [    30,  49000],\n",
       "       [    26,  72000],\n",
       "       [    27,  31000],\n",
       "       [    27,  17000],\n",
       "       [    33,  51000],\n",
       "       [    35, 108000],\n",
       "       [    30,  15000],\n",
       "       [    28,  84000],\n",
       "       [    23,  20000],\n",
       "       [    25,  79000],\n",
       "       [    27,  54000],\n",
       "       [    30, 135000],\n",
       "       [    31,  89000],\n",
       "       [    24,  32000],\n",
       "       [    18,  44000],\n",
       "       [    29,  83000],\n",
       "       [    35,  23000],\n",
       "       [    27,  58000],\n",
       "       [    24,  55000],\n",
       "       [    23,  48000],\n",
       "       [    28,  79000],\n",
       "       [    22,  18000],\n",
       "       [    32, 117000],\n",
       "       [    27,  20000],\n",
       "       [    25,  87000],\n",
       "       [    23,  66000],\n",
       "       [    32, 120000],\n",
       "       [    59,  83000],\n",
       "       [    24,  58000],\n",
       "       [    24,  19000],\n",
       "       [    23,  82000],\n",
       "       [    22,  63000],\n",
       "       [    31,  68000],\n",
       "       [    25,  80000],\n",
       "       [    24,  27000],\n",
       "       [    20,  23000],\n",
       "       [    33, 113000],\n",
       "       [    32,  18000],\n",
       "       [    34, 112000],\n",
       "       [    18,  52000],\n",
       "       [    22,  27000],\n",
       "       [    28,  87000],\n",
       "       [    26,  17000],\n",
       "       [    30,  80000],\n",
       "       [    39,  42000],\n",
       "       [    20,  49000],\n",
       "       [    35,  88000],\n",
       "       [    30,  62000],\n",
       "       [    31, 118000],\n",
       "       [    24,  55000],\n",
       "       [    28,  85000],\n",
       "       [    26,  81000],\n",
       "       [    35,  50000],\n",
       "       [    22,  81000],\n",
       "       [    30, 116000],\n",
       "       [    26,  15000],\n",
       "       [    29,  28000],\n",
       "       [    29,  83000],\n",
       "       [    35,  44000],\n",
       "       [    35,  25000],\n",
       "       [    28, 123000],\n",
       "       [    35,  73000],\n",
       "       [    28,  37000],\n",
       "       [    27,  88000],\n",
       "       [    28,  59000],\n",
       "       [    32,  86000],\n",
       "       [    33, 149000],\n",
       "       [    19,  21000],\n",
       "       [    21,  72000],\n",
       "       [    26,  35000],\n",
       "       [    27,  89000],\n",
       "       [    26,  86000],\n",
       "       [    38,  80000],\n",
       "       [    39,  71000],\n",
       "       [    37,  71000],\n",
       "       [    38,  61000],\n",
       "       [    37,  55000],\n",
       "       [    42,  80000],\n",
       "       [    40,  57000],\n",
       "       [    35,  75000],\n",
       "       [    36,  52000],\n",
       "       [    40,  59000],\n",
       "       [    41,  59000],\n",
       "       [    36,  75000],\n",
       "       [    37,  72000],\n",
       "       [    40,  75000],\n",
       "       [    35,  53000],\n",
       "       [    41,  51000],\n",
       "       [    39,  61000],\n",
       "       [    42,  65000],\n",
       "       [    26,  32000],\n",
       "       [    30,  17000],\n",
       "       [    26,  84000],\n",
       "       [    31,  58000],\n",
       "       [    33,  31000],\n",
       "       [    30,  87000],\n",
       "       [    21,  68000],\n",
       "       [    28,  55000],\n",
       "       [    23,  63000],\n",
       "       [    20,  82000],\n",
       "       [    30, 107000],\n",
       "       [    28,  59000],\n",
       "       [    19,  25000],\n",
       "       [    19,  85000],\n",
       "       [    18,  68000],\n",
       "       [    35,  59000],\n",
       "       [    30,  89000],\n",
       "       [    34,  25000],\n",
       "       [    24,  89000],\n",
       "       [    27,  96000],\n",
       "       [    41,  30000],\n",
       "       [    29,  61000],\n",
       "       [    20,  74000],\n",
       "       [    26,  15000],\n",
       "       [    41,  45000],\n",
       "       [    31,  76000],\n",
       "       [    36,  50000],\n",
       "       [    40,  47000],\n",
       "       [    31,  15000],\n",
       "       [    46,  59000],\n",
       "       [    29,  75000],\n",
       "       [    26,  30000],\n",
       "       [    32, 135000],\n",
       "       [    32, 100000],\n",
       "       [    25,  90000],\n",
       "       [    37,  33000],\n",
       "       [    35,  38000],\n",
       "       [    33,  69000],\n",
       "       [    18,  86000],\n",
       "       [    22,  55000],\n",
       "       [    35,  71000],\n",
       "       [    29, 148000],\n",
       "       [    29,  47000],\n",
       "       [    21,  88000],\n",
       "       [    34, 115000],\n",
       "       [    26, 118000],\n",
       "       [    34,  43000],\n",
       "       [    34,  72000],\n",
       "       [    23,  28000],\n",
       "       [    35,  47000],\n",
       "       [    25,  22000],\n",
       "       [    24,  23000],\n",
       "       [    31,  34000],\n",
       "       [    26,  16000],\n",
       "       [    31,  71000],\n",
       "       [    32, 117000],\n",
       "       [    33,  43000],\n",
       "       [    33,  60000],\n",
       "       [    31,  66000],\n",
       "       [    20,  82000],\n",
       "       [    33,  41000],\n",
       "       [    35,  72000],\n",
       "       [    28,  32000],\n",
       "       [    24,  84000],\n",
       "       [    19,  26000],\n",
       "       [    29,  43000],\n",
       "       [    19,  70000],\n",
       "       [    28,  89000],\n",
       "       [    34,  43000],\n",
       "       [    30,  79000],\n",
       "       [    20,  36000],\n",
       "       [    26,  80000],\n",
       "       [    35,  22000],\n",
       "       [    35,  39000],\n",
       "       [    49,  74000],\n",
       "       [    39, 134000],\n",
       "       [    41,  71000],\n",
       "       [    58, 101000],\n",
       "       [    47,  47000],\n",
       "       [    55, 130000],\n",
       "       [    52, 114000],\n",
       "       [    40, 142000],\n",
       "       [    46,  22000],\n",
       "       [    48,  96000],\n",
       "       [    52, 150000],\n",
       "       [    59,  42000],\n",
       "       [    35,  58000],\n",
       "       [    47,  43000],\n",
       "       [    60, 108000],\n",
       "       [    49,  65000],\n",
       "       [    40,  78000],\n",
       "       [    46,  96000],\n",
       "       [    59, 143000],\n",
       "       [    41,  80000],\n",
       "       [    35,  91000],\n",
       "       [    37, 144000],\n",
       "       [    60, 102000],\n",
       "       [    35,  60000],\n",
       "       [    37,  53000],\n",
       "       [    36, 126000],\n",
       "       [    56, 133000],\n",
       "       [    40,  72000],\n",
       "       [    42,  80000],\n",
       "       [    35, 147000],\n",
       "       [    39,  42000],\n",
       "       [    40, 107000],\n",
       "       [    49,  86000],\n",
       "       [    38, 112000],\n",
       "       [    46,  79000],\n",
       "       [    40,  57000],\n",
       "       [    37,  80000],\n",
       "       [    46,  82000],\n",
       "       [    53, 143000],\n",
       "       [    42, 149000],\n",
       "       [    38,  59000],\n",
       "       [    50,  88000],\n",
       "       [    56, 104000],\n",
       "       [    41,  72000],\n",
       "       [    51, 146000],\n",
       "       [    35,  50000],\n",
       "       [    57, 122000],\n",
       "       [    41,  52000],\n",
       "       [    35,  97000],\n",
       "       [    44,  39000],\n",
       "       [    37,  52000],\n",
       "       [    48, 134000],\n",
       "       [    37, 146000],\n",
       "       [    50,  44000],\n",
       "       [    52,  90000],\n",
       "       [    41,  72000],\n",
       "       [    40,  57000],\n",
       "       [    58,  95000],\n",
       "       [    45, 131000],\n",
       "       [    35,  77000],\n",
       "       [    36, 144000],\n",
       "       [    55, 125000],\n",
       "       [    35,  72000],\n",
       "       [    48,  90000],\n",
       "       [    42, 108000],\n",
       "       [    40,  75000],\n",
       "       [    37,  74000],\n",
       "       [    47, 144000],\n",
       "       [    40,  61000],\n",
       "       [    43, 133000],\n",
       "       [    59,  76000],\n",
       "       [    60,  42000],\n",
       "       [    39, 106000],\n",
       "       [    57,  26000],\n",
       "       [    57,  74000],\n",
       "       [    38,  71000],\n",
       "       [    49,  88000],\n",
       "       [    52,  38000],\n",
       "       [    50,  36000],\n",
       "       [    59,  88000],\n",
       "       [    35,  61000],\n",
       "       [    37,  70000],\n",
       "       [    52,  21000],\n",
       "       [    48, 141000],\n",
       "       [    37,  93000],\n",
       "       [    37,  62000],\n",
       "       [    48, 138000],\n",
       "       [    41,  79000],\n",
       "       [    37,  78000],\n",
       "       [    39, 134000],\n",
       "       [    49,  89000],\n",
       "       [    55,  39000],\n",
       "       [    37,  77000],\n",
       "       [    35,  57000],\n",
       "       [    36,  63000],\n",
       "       [    42,  73000],\n",
       "       [    43, 112000],\n",
       "       [    45,  79000],\n",
       "       [    46, 117000],\n",
       "       [    58,  38000],\n",
       "       [    48,  74000],\n",
       "       [    37, 137000],\n",
       "       [    37,  79000],\n",
       "       [    40,  60000],\n",
       "       [    42,  54000],\n",
       "       [    51, 134000],\n",
       "       [    47, 113000],\n",
       "       [    36, 125000],\n",
       "       [    38,  50000],\n",
       "       [    42,  70000],\n",
       "       [    39,  96000],\n",
       "       [    38,  50000],\n",
       "       [    49, 141000],\n",
       "       [    39,  79000],\n",
       "       [    39,  75000],\n",
       "       [    54, 104000],\n",
       "       [    35,  55000],\n",
       "       [    45,  32000],\n",
       "       [    36,  60000],\n",
       "       [    52, 138000],\n",
       "       [    53,  82000],\n",
       "       [    41,  52000],\n",
       "       [    48,  30000],\n",
       "       [    48, 131000],\n",
       "       [    41,  60000],\n",
       "       [    41,  72000],\n",
       "       [    42,  75000],\n",
       "       [    36, 118000],\n",
       "       [    47, 107000],\n",
       "       [    38,  51000],\n",
       "       [    48, 119000],\n",
       "       [    42,  65000],\n",
       "       [    40,  65000],\n",
       "       [    57,  60000],\n",
       "       [    36,  54000],\n",
       "       [    58, 144000],\n",
       "       [    35,  79000],\n",
       "       [    38,  55000],\n",
       "       [    39, 122000],\n",
       "       [    53, 104000],\n",
       "       [    35,  75000],\n",
       "       [    38,  65000],\n",
       "       [    47,  51000],\n",
       "       [    47, 105000],\n",
       "       [    41,  63000],\n",
       "       [    53,  72000],\n",
       "       [    54, 108000],\n",
       "       [    39,  77000],\n",
       "       [    38,  61000],\n",
       "       [    38, 113000],\n",
       "       [    37,  75000],\n",
       "       [    42,  90000],\n",
       "       [    37,  57000],\n",
       "       [    36,  99000],\n",
       "       [    60,  34000],\n",
       "       [    54,  70000],\n",
       "       [    41,  72000],\n",
       "       [    40,  71000],\n",
       "       [    42,  54000],\n",
       "       [    43, 129000],\n",
       "       [    53,  34000],\n",
       "       [    47,  50000],\n",
       "       [    42,  79000],\n",
       "       [    42, 104000],\n",
       "       [    59,  29000],\n",
       "       [    58,  47000],\n",
       "       [    46,  88000],\n",
       "       [    38,  71000],\n",
       "       [    54,  26000],\n",
       "       [    60,  46000],\n",
       "       [    60,  83000],\n",
       "       [    39,  73000],\n",
       "       [    59, 130000],\n",
       "       [    37,  80000],\n",
       "       [    46,  32000],\n",
       "       [    46,  74000],\n",
       "       [    42,  53000],\n",
       "       [    41,  87000],\n",
       "       [    58,  23000],\n",
       "       [    42,  64000],\n",
       "       [    48,  33000],\n",
       "       [    44, 139000],\n",
       "       [    49,  28000],\n",
       "       [    57,  33000],\n",
       "       [    56,  60000],\n",
       "       [    49,  39000],\n",
       "       [    39,  71000],\n",
       "       [    47,  34000],\n",
       "       [    48,  35000],\n",
       "       [    48,  33000],\n",
       "       [    47,  23000],\n",
       "       [    45,  45000],\n",
       "       [    60,  42000],\n",
       "       [    39,  59000],\n",
       "       [    46,  41000],\n",
       "       [    51,  23000],\n",
       "       [    50,  20000],\n",
       "       [    36,  33000],\n",
       "       [    49,  36000]])"
      ]
     },
     "execution_count": 8,
     "metadata": {},
     "output_type": "execute_result"
    }
   ],
   "source": [
    "X"
   ]
  },
  {
   "cell_type": "code",
   "execution_count": 9,
   "id": "537d6520-00fe-477b-b863-0a7437ce55b6",
   "metadata": {},
   "outputs": [
    {
     "data": {
      "text/plain": [
       "array([0, 0, 0, 0, 0, 0, 0, 1, 0, 0, 0, 0, 0, 0, 0, 0, 1, 1, 1, 1, 1, 1,\n",
       "       1, 1, 1, 1, 1, 1, 0, 0, 0, 1, 0, 0, 0, 0, 0, 0, 0, 0, 0, 0, 0, 0,\n",
       "       0, 0, 0, 0, 1, 0, 0, 0, 0, 0, 0, 0, 0, 0, 0, 0, 0, 0, 0, 1, 0, 0,\n",
       "       0, 0, 0, 0, 0, 0, 0, 0, 0, 1, 0, 0, 0, 0, 0, 0, 0, 0, 0, 1, 0, 0,\n",
       "       0, 0, 0, 0, 0, 0, 0, 0, 0, 1, 0, 0, 0, 0, 0, 1, 0, 0, 0, 0, 0, 0,\n",
       "       0, 0, 0, 0, 0, 0, 0, 0, 0, 0, 0, 0, 0, 0, 0, 0, 0, 0, 0, 0, 0, 0,\n",
       "       0, 0, 0, 0, 0, 1, 0, 0, 0, 0, 0, 0, 0, 0, 1, 0, 0, 0, 0, 0, 0, 0,\n",
       "       0, 0, 0, 0, 0, 1, 1, 0, 0, 0, 0, 0, 0, 0, 1, 0, 0, 0, 0, 0, 0, 0,\n",
       "       0, 0, 0, 0, 0, 0, 1, 0, 0, 0, 0, 0, 0, 0, 0, 0, 0, 0, 0, 0, 0, 0,\n",
       "       0, 0, 0, 0, 1, 0, 1, 0, 1, 0, 1, 0, 1, 1, 0, 0, 0, 1, 0, 0, 0, 1,\n",
       "       0, 1, 1, 1, 0, 0, 1, 1, 0, 1, 1, 0, 1, 1, 0, 1, 0, 0, 0, 1, 1, 0,\n",
       "       1, 1, 0, 1, 0, 1, 0, 1, 0, 0, 1, 1, 0, 1, 0, 0, 1, 1, 0, 1, 1, 0,\n",
       "       1, 1, 0, 0, 1, 0, 0, 1, 1, 1, 1, 1, 0, 1, 1, 1, 1, 0, 1, 1, 0, 1,\n",
       "       0, 1, 0, 1, 1, 1, 1, 0, 0, 0, 1, 1, 0, 1, 1, 1, 1, 1, 0, 0, 0, 1,\n",
       "       1, 0, 0, 1, 0, 1, 0, 1, 1, 0, 1, 0, 1, 1, 0, 1, 1, 0, 0, 0, 1, 1,\n",
       "       0, 1, 0, 0, 1, 0, 1, 0, 0, 1, 1, 0, 0, 1, 1, 0, 1, 1, 0, 0, 1, 0,\n",
       "       1, 0, 1, 1, 1, 0, 1, 0, 1, 1, 1, 0, 1, 1, 1, 1, 0, 1, 1, 1, 0, 1,\n",
       "       0, 1, 0, 0, 1, 1, 0, 1, 1, 1, 1, 1, 1, 0, 1, 1, 1, 1, 1, 1, 0, 1,\n",
       "       1, 1, 0, 1])"
      ]
     },
     "execution_count": 9,
     "metadata": {},
     "output_type": "execute_result"
    }
   ],
   "source": [
    "y"
   ]
  },
  {
   "cell_type": "code",
   "execution_count": 10,
   "id": "013539b8-d6c4-4e75-8a29-6fc383bfe65e",
   "metadata": {},
   "outputs": [],
   "source": [
    "from sklearn.model_selection import train_test_split\n",
    "X_train, X_test, y_train, y_test = train_test_split(X, y, test_size = 0.25, random_state = 0)"
   ]
  },
  {
   "cell_type": "code",
   "execution_count": 12,
   "id": "b6901573-5f0f-4142-96f5-72a6d4aad597",
   "metadata": {},
   "outputs": [],
   "source": [
    "from sklearn.preprocessing import StandardScaler\n",
    "sc= StandardScaler()\n",
    "X_train= sc.fit_transform(X_train)\n",
    "X_test= sc.transform(X_test)"
   ]
  },
  {
   "cell_type": "code",
   "execution_count": 14,
   "id": "0167c71e-28e0-4d2e-88f7-b158a7529a91",
   "metadata": {},
   "outputs": [
    {
     "data": {
      "text/html": [
       "<style>#sk-container-id-1 {color: black;background-color: white;}#sk-container-id-1 pre{padding: 0;}#sk-container-id-1 div.sk-toggleable {background-color: white;}#sk-container-id-1 label.sk-toggleable__label {cursor: pointer;display: block;width: 100%;margin-bottom: 0;padding: 0.3em;box-sizing: border-box;text-align: center;}#sk-container-id-1 label.sk-toggleable__label-arrow:before {content: \"▸\";float: left;margin-right: 0.25em;color: #696969;}#sk-container-id-1 label.sk-toggleable__label-arrow:hover:before {color: black;}#sk-container-id-1 div.sk-estimator:hover label.sk-toggleable__label-arrow:before {color: black;}#sk-container-id-1 div.sk-toggleable__content {max-height: 0;max-width: 0;overflow: hidden;text-align: left;background-color: #f0f8ff;}#sk-container-id-1 div.sk-toggleable__content pre {margin: 0.2em;color: black;border-radius: 0.25em;background-color: #f0f8ff;}#sk-container-id-1 input.sk-toggleable__control:checked~div.sk-toggleable__content {max-height: 200px;max-width: 100%;overflow: auto;}#sk-container-id-1 input.sk-toggleable__control:checked~label.sk-toggleable__label-arrow:before {content: \"▾\";}#sk-container-id-1 div.sk-estimator input.sk-toggleable__control:checked~label.sk-toggleable__label {background-color: #d4ebff;}#sk-container-id-1 div.sk-label input.sk-toggleable__control:checked~label.sk-toggleable__label {background-color: #d4ebff;}#sk-container-id-1 input.sk-hidden--visually {border: 0;clip: rect(1px 1px 1px 1px);clip: rect(1px, 1px, 1px, 1px);height: 1px;margin: -1px;overflow: hidden;padding: 0;position: absolute;width: 1px;}#sk-container-id-1 div.sk-estimator {font-family: monospace;background-color: #f0f8ff;border: 1px dotted black;border-radius: 0.25em;box-sizing: border-box;margin-bottom: 0.5em;}#sk-container-id-1 div.sk-estimator:hover {background-color: #d4ebff;}#sk-container-id-1 div.sk-parallel-item::after {content: \"\";width: 100%;border-bottom: 1px solid gray;flex-grow: 1;}#sk-container-id-1 div.sk-label:hover label.sk-toggleable__label {background-color: #d4ebff;}#sk-container-id-1 div.sk-serial::before {content: \"\";position: absolute;border-left: 1px solid gray;box-sizing: border-box;top: 0;bottom: 0;left: 50%;z-index: 0;}#sk-container-id-1 div.sk-serial {display: flex;flex-direction: column;align-items: center;background-color: white;padding-right: 0.2em;padding-left: 0.2em;position: relative;}#sk-container-id-1 div.sk-item {position: relative;z-index: 1;}#sk-container-id-1 div.sk-parallel {display: flex;align-items: stretch;justify-content: center;background-color: white;position: relative;}#sk-container-id-1 div.sk-item::before, #sk-container-id-1 div.sk-parallel-item::before {content: \"\";position: absolute;border-left: 1px solid gray;box-sizing: border-box;top: 0;bottom: 0;left: 50%;z-index: -1;}#sk-container-id-1 div.sk-parallel-item {display: flex;flex-direction: column;z-index: 1;position: relative;background-color: white;}#sk-container-id-1 div.sk-parallel-item:first-child::after {align-self: flex-end;width: 50%;}#sk-container-id-1 div.sk-parallel-item:last-child::after {align-self: flex-start;width: 50%;}#sk-container-id-1 div.sk-parallel-item:only-child::after {width: 0;}#sk-container-id-1 div.sk-dashed-wrapped {border: 1px dashed gray;margin: 0 0.4em 0.5em 0.4em;box-sizing: border-box;padding-bottom: 0.4em;background-color: white;}#sk-container-id-1 div.sk-label label {font-family: monospace;font-weight: bold;display: inline-block;line-height: 1.2em;}#sk-container-id-1 div.sk-label-container {text-align: center;}#sk-container-id-1 div.sk-container {/* jupyter's `normalize.less` sets `[hidden] { display: none; }` but bootstrap.min.css set `[hidden] { display: none !important; }` so we also need the `!important` here to be able to override the default hidden behavior on the sphinx rendered scikit-learn.org. See: https://github.com/scikit-learn/scikit-learn/issues/21755 */display: inline-block !important;position: relative;}#sk-container-id-1 div.sk-text-repr-fallback {display: none;}</style><div id=\"sk-container-id-1\" class=\"sk-top-container\"><div class=\"sk-text-repr-fallback\"><pre>DecisionTreeClassifier(criterion=&#x27;entropy&#x27;, random_state=0)</pre><b>In a Jupyter environment, please rerun this cell to show the HTML representation or trust the notebook. <br />On GitHub, the HTML representation is unable to render, please try loading this page with nbviewer.org.</b></div><div class=\"sk-container\" hidden><div class=\"sk-item\"><div class=\"sk-estimator sk-toggleable\"><input class=\"sk-toggleable__control sk-hidden--visually\" id=\"sk-estimator-id-1\" type=\"checkbox\" checked><label for=\"sk-estimator-id-1\" class=\"sk-toggleable__label sk-toggleable__label-arrow\">DecisionTreeClassifier</label><div class=\"sk-toggleable__content\"><pre>DecisionTreeClassifier(criterion=&#x27;entropy&#x27;, random_state=0)</pre></div></div></div></div></div>"
      ],
      "text/plain": [
       "DecisionTreeClassifier(criterion='entropy', random_state=0)"
      ]
     },
     "execution_count": 14,
     "metadata": {},
     "output_type": "execute_result"
    }
   ],
   "source": [
    "from sklearn.tree import DecisionTreeClassifier \n",
    "classifier= DecisionTreeClassifier(criterion= 'entropy', random_state= 0)\n",
    "classifier.fit(X_train, y_train)"
   ]
  },
  {
   "cell_type": "markdown",
   "id": "84c97e7a-9d2f-490c-b99f-f504ded88286",
   "metadata": {},
   "source": [
    "## Predicting a new result"
   ]
  },
  {
   "cell_type": "code",
   "execution_count": 15,
   "id": "9157ff6a-6310-4b29-afaf-138aa47c382f",
   "metadata": {},
   "outputs": [
    {
     "name": "stdout",
     "output_type": "stream",
     "text": [
      "[0]\n"
     ]
    }
   ],
   "source": [
    "print(classifier.predict(sc.transform([[30,87000]])))"
   ]
  },
  {
   "cell_type": "code",
   "execution_count": 17,
   "id": "7af032f5-c77b-4740-b491-aad9228a1d02",
   "metadata": {},
   "outputs": [],
   "source": [
    "y_pred= classifier.predict(X_test)"
   ]
  },
  {
   "cell_type": "markdown",
   "id": "6b83fa16-bd4e-45db-9eeb-029cd871a3a5",
   "metadata": {},
   "source": [
    "## Making the Confusion Matrix"
   ]
  },
  {
   "cell_type": "code",
   "execution_count": 18,
   "id": "5119469b-35c9-4d65-a28a-606a2f0342ff",
   "metadata": {},
   "outputs": [
    {
     "name": "stdout",
     "output_type": "stream",
     "text": [
      "[[62  6]\n",
      " [ 3 29]]\n"
     ]
    },
    {
     "data": {
      "text/plain": [
       "0.91"
      ]
     },
     "execution_count": 18,
     "metadata": {},
     "output_type": "execute_result"
    }
   ],
   "source": [
    "from sklearn.metrics import confusion_matrix, accuracy_score\n",
    "cm = confusion_matrix(y_test, y_pred)\n",
    "print(cm)\n",
    "accuracy_score(y_test, y_pred)"
   ]
  },
  {
   "cell_type": "markdown",
   "id": "095ffd91-4d8e-4b53-b0f5-4aa33b439a36",
   "metadata": {},
   "source": [
    "## Visualising the Training set results"
   ]
  },
  {
   "cell_type": "code",
   "execution_count": 22,
   "id": "6c7f69a6-9e9f-4a5a-81ca-5ff816bd174b",
   "metadata": {},
   "outputs": [
    {
     "data": {
      "image/png": "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",
      "text/plain": [
       "<Figure size 640x480 with 1 Axes>"
      ]
     },
     "metadata": {},
     "output_type": "display_data"
    }
   ],
   "source": [
    "# Assuming 'sc', 'X_train', 'y_train', and 'classifier' are already defined and imported properly\n",
    "X_set, y_set = sc.inverse_transform(X_train), y_train\n",
    "X1, X2 = np.meshgrid(np.arange(start=X_set[:, 0].min() - 10, stop=X_set[:, 0].max() + 10, step=0.25),\n",
    "                     np.arange(start=X_set[:, 1].min() - 1000, stop=X_set[:, 1].max() + 1000, step=0.25))\n",
    "\n",
    "# Define the colormap\n",
    "cmap = ListedColormap(['blue', 'green'])\n",
    "\n",
    "# Contour fill\n",
    "plt.contourf(X1, X2, classifier.predict(sc.transform(np.array([X1.ravel(), X2.ravel()]).T)).reshape(X1.shape),\n",
    "             alpha=0.75, cmap=cmap)\n",
    "\n",
    "# Setting axis limits\n",
    "plt.xlim(X1.min(), X1.max())\n",
    "plt.ylim(X2.min(), X2.max())\n",
    "\n",
    "# Scatter plot\n",
    "for i, j in enumerate(np.unique(y_set)):\n",
    "    plt.scatter(X_set[y_set == j, 0], X_set[y_set == j, 1], color=cmap(i), label=f'Class {j}')\n",
    "\n",
    "# Plot decorations\n",
    "plt.title('Decision Tree Classification (Training set)')\n",
    "plt.xlabel('Age')\n",
    "plt.ylabel('Estimated Salary')\n",
    "plt.legend()\n",
    "plt.show()"
   ]
  },
  {
   "cell_type": "markdown",
   "id": "acf842c3-3acd-4e29-ad50-b37b51bfdd83",
   "metadata": {},
   "source": [
    "## Visualising the Test set results"
   ]
  },
  {
   "cell_type": "code",
   "execution_count": 24,
   "id": "020547fd-399a-46d5-94f7-f63d4de9796a",
   "metadata": {},
   "outputs": [
    {
     "data": {
      "image/png": "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",
      "text/plain": [
       "<Figure size 640x480 with 1 Axes>"
      ]
     },
     "metadata": {},
     "output_type": "display_data"
    }
   ],
   "source": [
    "# Assuming 'sc', 'X_train', 'y_train', and 'classifier' are already defined and imported properly\n",
    "X_set, y_set = sc.inverse_transform(X_test), y_test\n",
    "X1, X2 = np.meshgrid(np.arange(start=X_set[:, 0].min() - 10, stop=X_set[:, 0].max() + 10, step=0.25),\n",
    "                     np.arange(start=X_set[:, 1].min() - 1000, stop=X_set[:, 1].max() + 1000, step=0.25))\n",
    "\n",
    "# Define the colormap\n",
    "cmap = ListedColormap(['blue', 'green'])\n",
    "\n",
    "# Contour fill\n",
    "plt.contourf(X1, X2, classifier.predict(sc.transform(np.array([X1.ravel(), X2.ravel()]).T)).reshape(X1.shape),\n",
    "             alpha=0.75, cmap=cmap)\n",
    "\n",
    "# Setting axis limits\n",
    "plt.xlim(X1.min(), X1.max())\n",
    "plt.ylim(X2.min(), X2.max())\n",
    "\n",
    "# Scatter plot\n",
    "for i, j in enumerate(np.unique(y_set)):\n",
    "    plt.scatter(X_set[y_set == j, 0], X_set[y_set == j, 1], color=cmap(i), label=f'Class {j}')\n",
    "\n",
    "# Plot decorations\n",
    "plt.title('Decision Tree Classification (Test set)')\n",
    "plt.xlabel('Age')\n",
    "plt.ylabel('Estimated Salary')\n",
    "plt.legend()\n",
    "plt.show()"
   ]
  },
  {
   "cell_type": "markdown",
   "id": "7c296b1e-2edb-4e67-b204-01ca8c792f9e",
   "metadata": {},
   "source": [
    "# A Disadvatage of DecisionTree: \n",
    "\n",
    "## There is a potential risk of Overfitting (why? explore later)"
   ]
  },
  {
   "cell_type": "code",
   "execution_count": null,
   "id": "ceeb3c67-06b8-4d26-80a9-d4c94450a567",
   "metadata": {},
   "outputs": [],
   "source": []
  }
 ],
 "metadata": {
  "kernelspec": {
   "display_name": "Python 3 (ipykernel)",
   "language": "python",
   "name": "python3"
  },
  "language_info": {
   "codemirror_mode": {
    "name": "ipython",
    "version": 3
   },
   "file_extension": ".py",
   "mimetype": "text/x-python",
   "name": "python",
   "nbconvert_exporter": "python",
   "pygments_lexer": "ipython3",
   "version": "3.11.7"
  }
 },
 "nbformat": 4,
 "nbformat_minor": 5
}
