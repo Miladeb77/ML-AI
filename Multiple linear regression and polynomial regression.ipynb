{
 "cells": [
  {
   "cell_type": "code",
   "execution_count": 1,
   "id": "a6afcc05-cb4a-433b-8664-e4f9d7a441dc",
   "metadata": {},
   "outputs": [],
   "source": [
    "%matplotlib inline\n",
    "import numpy as np\n",
    "import pandas as pd \n",
    "import matplotlib.pyplot as plt \n",
    "import seaborn as sns \n",
    "import sklearn "
   ]
  },
  {
   "cell_type": "markdown",
   "id": "155297af-3882-4f88-bbf5-fbbd31b7947b",
   "metadata": {},
   "source": [
    "<img src=\"https://miro.medium.com/max/875/1*XSBSL7LbDOvjXyi4wz-i_g.png\" width=75% />"
   ]
  },
  {
   "cell_type": "markdown",
   "id": "64282eb5-0ef0-4c17-bc9b-f9cbeb354aef",
   "metadata": {},
   "source": [
    "# California house dataset "
   ]
  },
  {
   "cell_type": "markdown",
   "id": "50f99f4d-b40a-45be-8497-0139bda43942",
   "metadata": {},
   "source": [
    "This is a built-in dataframe in sklearn so we call it from sklearn "
   ]
  },
  {
   "cell_type": "code",
   "execution_count": 2,
   "id": "905a6cf6-a6a7-4c88-94be-b256019b6970",
   "metadata": {},
   "outputs": [],
   "source": [
    "from sklearn import datasets\n",
    "from sklearn.datasets import fetch_california_housing\n",
    "california_housing= fetch_california_housing()"
   ]
  },
  {
   "cell_type": "code",
   "execution_count": 3,
   "id": "2af9e889-f773-4310-9d4d-c522aaff423e",
   "metadata": {},
   "outputs": [
    {
     "name": "stdout",
     "output_type": "stream",
     "text": [
      ".. _california_housing_dataset:\n",
      "\n",
      "California Housing dataset\n",
      "--------------------------\n",
      "\n",
      "**Data Set Characteristics:**\n",
      "\n",
      "    :Number of Instances: 20640\n",
      "\n",
      "    :Number of Attributes: 8 numeric, predictive attributes and the target\n",
      "\n",
      "    :Attribute Information:\n",
      "        - MedInc        median income in block group\n",
      "        - HouseAge      median house age in block group\n",
      "        - AveRooms      average number of rooms per household\n",
      "        - AveBedrms     average number of bedrooms per household\n",
      "        - Population    block group population\n",
      "        - AveOccup      average number of household members\n",
      "        - Latitude      block group latitude\n",
      "        - Longitude     block group longitude\n",
      "\n",
      "    :Missing Attribute Values: None\n",
      "\n",
      "This dataset was obtained from the StatLib repository.\n",
      "https://www.dcc.fc.up.pt/~ltorgo/Regression/cal_housing.html\n",
      "\n",
      "The target variable is the median house value for California districts,\n",
      "expressed in hundreds of thousands of dollars ($100,000).\n",
      "\n",
      "This dataset was derived from the 1990 U.S. census, using one row per census\n",
      "block group. A block group is the smallest geographical unit for which the U.S.\n",
      "Census Bureau publishes sample data (a block group typically has a population\n",
      "of 600 to 3,000 people).\n",
      "\n",
      "A household is a group of people residing within a home. Since the average\n",
      "number of rooms and bedrooms in this dataset are provided per household, these\n",
      "columns may take surprisingly large values for block groups with few households\n",
      "and many empty houses, such as vacation resorts.\n",
      "\n",
      "It can be downloaded/loaded using the\n",
      ":func:`sklearn.datasets.fetch_california_housing` function.\n",
      "\n",
      ".. topic:: References\n",
      "\n",
      "    - Pace, R. Kelley and Ronald Barry, Sparse Spatial Autoregressions,\n",
      "      Statistics and Probability Letters, 33 (1997) 291-297\n",
      "\n"
     ]
    }
   ],
   "source": [
    "print(california_housing.DESCR) # DESCR is one of the built in functions within this dataframe"
   ]
  },
  {
   "cell_type": "code",
   "execution_count": 4,
   "id": "69a4740a-aa21-49ac-a216-083dddb2570e",
   "metadata": {},
   "outputs": [
    {
     "data": {
      "text/plain": [
       "['MedInc',\n",
       " 'HouseAge',\n",
       " 'AveRooms',\n",
       " 'AveBedrms',\n",
       " 'Population',\n",
       " 'AveOccup',\n",
       " 'Latitude',\n",
       " 'Longitude']"
      ]
     },
     "execution_count": 4,
     "metadata": {},
     "output_type": "execute_result"
    }
   ],
   "source": [
    "california_housing.feature_names # Again, this is a built-in function "
   ]
  },
  {
   "cell_type": "markdown",
   "id": "cfdeb4ce-dcc6-4b74-9eac-21b875963ec5",
   "metadata": {},
   "source": [
    "### initializing a dataframe "
   ]
  },
  {
   "cell_type": "code",
   "execution_count": 5,
   "id": "69fea3fa-8b1b-4540-baa5-ab2fba46635a",
   "metadata": {},
   "outputs": [],
   "source": [
    "data= pd.DataFrame(california_housing.data, columns= california_housing.feature_names)"
   ]
  },
  {
   "cell_type": "code",
   "execution_count": 6,
   "id": "67acfdb2-e79b-433a-a9c2-a3f40ce7443d",
   "metadata": {},
   "outputs": [
    {
     "data": {
      "text/html": [
       "<div>\n",
       "<style scoped>\n",
       "    .dataframe tbody tr th:only-of-type {\n",
       "        vertical-align: middle;\n",
       "    }\n",
       "\n",
       "    .dataframe tbody tr th {\n",
       "        vertical-align: top;\n",
       "    }\n",
       "\n",
       "    .dataframe thead th {\n",
       "        text-align: right;\n",
       "    }\n",
       "</style>\n",
       "<table border=\"1\" class=\"dataframe\">\n",
       "  <thead>\n",
       "    <tr style=\"text-align: right;\">\n",
       "      <th></th>\n",
       "      <th>MedInc</th>\n",
       "      <th>HouseAge</th>\n",
       "      <th>AveRooms</th>\n",
       "      <th>AveBedrms</th>\n",
       "      <th>Population</th>\n",
       "      <th>AveOccup</th>\n",
       "      <th>Latitude</th>\n",
       "      <th>Longitude</th>\n",
       "    </tr>\n",
       "  </thead>\n",
       "  <tbody>\n",
       "    <tr>\n",
       "      <th>0</th>\n",
       "      <td>8.3252</td>\n",
       "      <td>41.0</td>\n",
       "      <td>6.984127</td>\n",
       "      <td>1.023810</td>\n",
       "      <td>322.0</td>\n",
       "      <td>2.555556</td>\n",
       "      <td>37.88</td>\n",
       "      <td>-122.23</td>\n",
       "    </tr>\n",
       "    <tr>\n",
       "      <th>1</th>\n",
       "      <td>8.3014</td>\n",
       "      <td>21.0</td>\n",
       "      <td>6.238137</td>\n",
       "      <td>0.971880</td>\n",
       "      <td>2401.0</td>\n",
       "      <td>2.109842</td>\n",
       "      <td>37.86</td>\n",
       "      <td>-122.22</td>\n",
       "    </tr>\n",
       "    <tr>\n",
       "      <th>2</th>\n",
       "      <td>7.2574</td>\n",
       "      <td>52.0</td>\n",
       "      <td>8.288136</td>\n",
       "      <td>1.073446</td>\n",
       "      <td>496.0</td>\n",
       "      <td>2.802260</td>\n",
       "      <td>37.85</td>\n",
       "      <td>-122.24</td>\n",
       "    </tr>\n",
       "    <tr>\n",
       "      <th>3</th>\n",
       "      <td>5.6431</td>\n",
       "      <td>52.0</td>\n",
       "      <td>5.817352</td>\n",
       "      <td>1.073059</td>\n",
       "      <td>558.0</td>\n",
       "      <td>2.547945</td>\n",
       "      <td>37.85</td>\n",
       "      <td>-122.25</td>\n",
       "    </tr>\n",
       "    <tr>\n",
       "      <th>4</th>\n",
       "      <td>3.8462</td>\n",
       "      <td>52.0</td>\n",
       "      <td>6.281853</td>\n",
       "      <td>1.081081</td>\n",
       "      <td>565.0</td>\n",
       "      <td>2.181467</td>\n",
       "      <td>37.85</td>\n",
       "      <td>-122.25</td>\n",
       "    </tr>\n",
       "  </tbody>\n",
       "</table>\n",
       "</div>"
      ],
      "text/plain": [
       "   MedInc  HouseAge  AveRooms  AveBedrms  Population  AveOccup  Latitude  \\\n",
       "0  8.3252      41.0  6.984127   1.023810       322.0  2.555556     37.88   \n",
       "1  8.3014      21.0  6.238137   0.971880      2401.0  2.109842     37.86   \n",
       "2  7.2574      52.0  8.288136   1.073446       496.0  2.802260     37.85   \n",
       "3  5.6431      52.0  5.817352   1.073059       558.0  2.547945     37.85   \n",
       "4  3.8462      52.0  6.281853   1.081081       565.0  2.181467     37.85   \n",
       "\n",
       "   Longitude  \n",
       "0    -122.23  \n",
       "1    -122.22  \n",
       "2    -122.24  \n",
       "3    -122.25  \n",
       "4    -122.25  "
      ]
     },
     "execution_count": 6,
     "metadata": {},
     "output_type": "execute_result"
    }
   ],
   "source": [
    "data.head()"
   ]
  },
  {
   "cell_type": "markdown",
   "id": "5ceca0cc-5498-4b80-b697-605f9577c808",
   "metadata": {},
   "source": [
    "### Adding Y to the DataFrame"
   ]
  },
  {
   "cell_type": "code",
   "execution_count": 7,
   "id": "2a3d99cf-286c-4972-a36c-a162ed6b8ba1",
   "metadata": {},
   "outputs": [],
   "source": [
    "data['PRICE']= california_housing.target"
   ]
  },
  {
   "cell_type": "code",
   "execution_count": 8,
   "id": "1548f1b1-523f-41d0-bc8d-676c79199f93",
   "metadata": {},
   "outputs": [
    {
     "data": {
      "text/html": [
       "<div>\n",
       "<style scoped>\n",
       "    .dataframe tbody tr th:only-of-type {\n",
       "        vertical-align: middle;\n",
       "    }\n",
       "\n",
       "    .dataframe tbody tr th {\n",
       "        vertical-align: top;\n",
       "    }\n",
       "\n",
       "    .dataframe thead th {\n",
       "        text-align: right;\n",
       "    }\n",
       "</style>\n",
       "<table border=\"1\" class=\"dataframe\">\n",
       "  <thead>\n",
       "    <tr style=\"text-align: right;\">\n",
       "      <th></th>\n",
       "      <th>MedInc</th>\n",
       "      <th>HouseAge</th>\n",
       "      <th>AveRooms</th>\n",
       "      <th>AveBedrms</th>\n",
       "      <th>Population</th>\n",
       "      <th>AveOccup</th>\n",
       "      <th>Latitude</th>\n",
       "      <th>Longitude</th>\n",
       "      <th>PRICE</th>\n",
       "    </tr>\n",
       "  </thead>\n",
       "  <tbody>\n",
       "    <tr>\n",
       "      <th>0</th>\n",
       "      <td>8.3252</td>\n",
       "      <td>41.0</td>\n",
       "      <td>6.984127</td>\n",
       "      <td>1.023810</td>\n",
       "      <td>322.0</td>\n",
       "      <td>2.555556</td>\n",
       "      <td>37.88</td>\n",
       "      <td>-122.23</td>\n",
       "      <td>4.526</td>\n",
       "    </tr>\n",
       "    <tr>\n",
       "      <th>1</th>\n",
       "      <td>8.3014</td>\n",
       "      <td>21.0</td>\n",
       "      <td>6.238137</td>\n",
       "      <td>0.971880</td>\n",
       "      <td>2401.0</td>\n",
       "      <td>2.109842</td>\n",
       "      <td>37.86</td>\n",
       "      <td>-122.22</td>\n",
       "      <td>3.585</td>\n",
       "    </tr>\n",
       "    <tr>\n",
       "      <th>2</th>\n",
       "      <td>7.2574</td>\n",
       "      <td>52.0</td>\n",
       "      <td>8.288136</td>\n",
       "      <td>1.073446</td>\n",
       "      <td>496.0</td>\n",
       "      <td>2.802260</td>\n",
       "      <td>37.85</td>\n",
       "      <td>-122.24</td>\n",
       "      <td>3.521</td>\n",
       "    </tr>\n",
       "    <tr>\n",
       "      <th>3</th>\n",
       "      <td>5.6431</td>\n",
       "      <td>52.0</td>\n",
       "      <td>5.817352</td>\n",
       "      <td>1.073059</td>\n",
       "      <td>558.0</td>\n",
       "      <td>2.547945</td>\n",
       "      <td>37.85</td>\n",
       "      <td>-122.25</td>\n",
       "      <td>3.413</td>\n",
       "    </tr>\n",
       "    <tr>\n",
       "      <th>4</th>\n",
       "      <td>3.8462</td>\n",
       "      <td>52.0</td>\n",
       "      <td>6.281853</td>\n",
       "      <td>1.081081</td>\n",
       "      <td>565.0</td>\n",
       "      <td>2.181467</td>\n",
       "      <td>37.85</td>\n",
       "      <td>-122.25</td>\n",
       "      <td>3.422</td>\n",
       "    </tr>\n",
       "  </tbody>\n",
       "</table>\n",
       "</div>"
      ],
      "text/plain": [
       "   MedInc  HouseAge  AveRooms  AveBedrms  Population  AveOccup  Latitude  \\\n",
       "0  8.3252      41.0  6.984127   1.023810       322.0  2.555556     37.88   \n",
       "1  8.3014      21.0  6.238137   0.971880      2401.0  2.109842     37.86   \n",
       "2  7.2574      52.0  8.288136   1.073446       496.0  2.802260     37.85   \n",
       "3  5.6431      52.0  5.817352   1.073059       558.0  2.547945     37.85   \n",
       "4  3.8462      52.0  6.281853   1.081081       565.0  2.181467     37.85   \n",
       "\n",
       "   Longitude  PRICE  \n",
       "0    -122.23  4.526  \n",
       "1    -122.22  3.585  \n",
       "2    -122.24  3.521  \n",
       "3    -122.25  3.413  \n",
       "4    -122.25  3.422  "
      ]
     },
     "execution_count": 8,
     "metadata": {},
     "output_type": "execute_result"
    }
   ],
   "source": [
    "data.head()"
   ]
  },
  {
   "cell_type": "code",
   "execution_count": 9,
   "id": "fc47fa23-9d54-4afb-9179-22bdfe4138d6",
   "metadata": {},
   "outputs": [
    {
     "data": {
      "text/plain": [
       "(20640, 9)"
      ]
     },
     "execution_count": 9,
     "metadata": {},
     "output_type": "execute_result"
    }
   ],
   "source": [
    "data.shape"
   ]
  },
  {
   "cell_type": "code",
   "execution_count": 10,
   "id": "e91a62ed-847d-46ed-88dd-022c6fd80245",
   "metadata": {},
   "outputs": [
    {
     "data": {
      "text/plain": [
       "Index(['MedInc', 'HouseAge', 'AveRooms', 'AveBedrms', 'Population', 'AveOccup',\n",
       "       'Latitude', 'Longitude', 'PRICE'],\n",
       "      dtype='object')"
      ]
     },
     "execution_count": 10,
     "metadata": {},
     "output_type": "execute_result"
    }
   ],
   "source": [
    "data.columns"
   ]
  },
  {
   "cell_type": "code",
   "execution_count": 11,
   "id": "ab064015-4c08-456d-99a7-e8742a89cff6",
   "metadata": {},
   "outputs": [
    {
     "data": {
      "text/plain": [
       "MedInc        float64\n",
       "HouseAge      float64\n",
       "AveRooms      float64\n",
       "AveBedrms     float64\n",
       "Population    float64\n",
       "AveOccup      float64\n",
       "Latitude      float64\n",
       "Longitude     float64\n",
       "PRICE         float64\n",
       "dtype: object"
      ]
     },
     "execution_count": 11,
     "metadata": {},
     "output_type": "execute_result"
    }
   ],
   "source": [
    "data.dtypes"
   ]
  },
  {
   "cell_type": "markdown",
   "id": "dba6af21-0346-451b-a6ee-58f31db69b88",
   "metadata": {},
   "source": [
    "### Unique values in the DataFrame "
   ]
  },
  {
   "cell_type": "code",
   "execution_count": 12,
   "id": "9877d7ea-f17b-4b14-afc6-d3dd8d8d58bd",
   "metadata": {},
   "outputs": [
    {
     "data": {
      "text/plain": [
       "MedInc        12928\n",
       "HouseAge         52\n",
       "AveRooms      19392\n",
       "AveBedrms     14233\n",
       "Population     3888\n",
       "AveOccup      18841\n",
       "Latitude        862\n",
       "Longitude       844\n",
       "PRICE          3842\n",
       "dtype: int64"
      ]
     },
     "execution_count": 12,
     "metadata": {},
     "output_type": "execute_result"
    }
   ],
   "source": [
    "data.nunique()"
   ]
  },
  {
   "cell_type": "markdown",
   "id": "5cf48d3a-61b5-4b37-8b77-b934b30f6840",
   "metadata": {},
   "source": [
    "### Checking for any missing values "
   ]
  },
  {
   "cell_type": "code",
   "execution_count": 13,
   "id": "43bf7271-1d21-4e84-a1d9-9fdb331f5230",
   "metadata": {},
   "outputs": [
    {
     "data": {
      "text/plain": [
       "MedInc        0\n",
       "HouseAge      0\n",
       "AveRooms      0\n",
       "AveBedrms     0\n",
       "Population    0\n",
       "AveOccup      0\n",
       "Latitude      0\n",
       "Longitude     0\n",
       "PRICE         0\n",
       "dtype: int64"
      ]
     },
     "execution_count": 13,
     "metadata": {},
     "output_type": "execute_result"
    }
   ],
   "source": [
    "data.isnull().sum()"
   ]
  },
  {
   "cell_type": "markdown",
   "id": "090f0b16-3550-446a-bf0a-9429aa2ca417",
   "metadata": {},
   "source": [
    "### viewing the data statistics "
   ]
  },
  {
   "cell_type": "code",
   "execution_count": 14,
   "id": "f9073987-2003-4336-b9a4-0cce3abf96f2",
   "metadata": {},
   "outputs": [
    {
     "data": {
      "text/html": [
       "<div>\n",
       "<style scoped>\n",
       "    .dataframe tbody tr th:only-of-type {\n",
       "        vertical-align: middle;\n",
       "    }\n",
       "\n",
       "    .dataframe tbody tr th {\n",
       "        vertical-align: top;\n",
       "    }\n",
       "\n",
       "    .dataframe thead th {\n",
       "        text-align: right;\n",
       "    }\n",
       "</style>\n",
       "<table border=\"1\" class=\"dataframe\">\n",
       "  <thead>\n",
       "    <tr style=\"text-align: right;\">\n",
       "      <th></th>\n",
       "      <th>MedInc</th>\n",
       "      <th>HouseAge</th>\n",
       "      <th>AveRooms</th>\n",
       "      <th>AveBedrms</th>\n",
       "      <th>Population</th>\n",
       "      <th>AveOccup</th>\n",
       "      <th>Latitude</th>\n",
       "      <th>Longitude</th>\n",
       "      <th>PRICE</th>\n",
       "    </tr>\n",
       "  </thead>\n",
       "  <tbody>\n",
       "    <tr>\n",
       "      <th>count</th>\n",
       "      <td>20640.000000</td>\n",
       "      <td>20640.000000</td>\n",
       "      <td>20640.000000</td>\n",
       "      <td>20640.000000</td>\n",
       "      <td>20640.000000</td>\n",
       "      <td>20640.000000</td>\n",
       "      <td>20640.000000</td>\n",
       "      <td>20640.000000</td>\n",
       "      <td>20640.000000</td>\n",
       "    </tr>\n",
       "    <tr>\n",
       "      <th>mean</th>\n",
       "      <td>3.870671</td>\n",
       "      <td>28.639486</td>\n",
       "      <td>5.429000</td>\n",
       "      <td>1.096675</td>\n",
       "      <td>1425.476744</td>\n",
       "      <td>3.070655</td>\n",
       "      <td>35.631861</td>\n",
       "      <td>-119.569704</td>\n",
       "      <td>2.068558</td>\n",
       "    </tr>\n",
       "    <tr>\n",
       "      <th>std</th>\n",
       "      <td>1.899822</td>\n",
       "      <td>12.585558</td>\n",
       "      <td>2.474173</td>\n",
       "      <td>0.473911</td>\n",
       "      <td>1132.462122</td>\n",
       "      <td>10.386050</td>\n",
       "      <td>2.135952</td>\n",
       "      <td>2.003532</td>\n",
       "      <td>1.153956</td>\n",
       "    </tr>\n",
       "    <tr>\n",
       "      <th>min</th>\n",
       "      <td>0.499900</td>\n",
       "      <td>1.000000</td>\n",
       "      <td>0.846154</td>\n",
       "      <td>0.333333</td>\n",
       "      <td>3.000000</td>\n",
       "      <td>0.692308</td>\n",
       "      <td>32.540000</td>\n",
       "      <td>-124.350000</td>\n",
       "      <td>0.149990</td>\n",
       "    </tr>\n",
       "    <tr>\n",
       "      <th>25%</th>\n",
       "      <td>2.563400</td>\n",
       "      <td>18.000000</td>\n",
       "      <td>4.440716</td>\n",
       "      <td>1.006079</td>\n",
       "      <td>787.000000</td>\n",
       "      <td>2.429741</td>\n",
       "      <td>33.930000</td>\n",
       "      <td>-121.800000</td>\n",
       "      <td>1.196000</td>\n",
       "    </tr>\n",
       "    <tr>\n",
       "      <th>50%</th>\n",
       "      <td>3.534800</td>\n",
       "      <td>29.000000</td>\n",
       "      <td>5.229129</td>\n",
       "      <td>1.048780</td>\n",
       "      <td>1166.000000</td>\n",
       "      <td>2.818116</td>\n",
       "      <td>34.260000</td>\n",
       "      <td>-118.490000</td>\n",
       "      <td>1.797000</td>\n",
       "    </tr>\n",
       "    <tr>\n",
       "      <th>75%</th>\n",
       "      <td>4.743250</td>\n",
       "      <td>37.000000</td>\n",
       "      <td>6.052381</td>\n",
       "      <td>1.099526</td>\n",
       "      <td>1725.000000</td>\n",
       "      <td>3.282261</td>\n",
       "      <td>37.710000</td>\n",
       "      <td>-118.010000</td>\n",
       "      <td>2.647250</td>\n",
       "    </tr>\n",
       "    <tr>\n",
       "      <th>max</th>\n",
       "      <td>15.000100</td>\n",
       "      <td>52.000000</td>\n",
       "      <td>141.909091</td>\n",
       "      <td>34.066667</td>\n",
       "      <td>35682.000000</td>\n",
       "      <td>1243.333333</td>\n",
       "      <td>41.950000</td>\n",
       "      <td>-114.310000</td>\n",
       "      <td>5.000010</td>\n",
       "    </tr>\n",
       "  </tbody>\n",
       "</table>\n",
       "</div>"
      ],
      "text/plain": [
       "             MedInc      HouseAge      AveRooms     AveBedrms    Population  \\\n",
       "count  20640.000000  20640.000000  20640.000000  20640.000000  20640.000000   \n",
       "mean       3.870671     28.639486      5.429000      1.096675   1425.476744   \n",
       "std        1.899822     12.585558      2.474173      0.473911   1132.462122   \n",
       "min        0.499900      1.000000      0.846154      0.333333      3.000000   \n",
       "25%        2.563400     18.000000      4.440716      1.006079    787.000000   \n",
       "50%        3.534800     29.000000      5.229129      1.048780   1166.000000   \n",
       "75%        4.743250     37.000000      6.052381      1.099526   1725.000000   \n",
       "max       15.000100     52.000000    141.909091     34.066667  35682.000000   \n",
       "\n",
       "           AveOccup      Latitude     Longitude         PRICE  \n",
       "count  20640.000000  20640.000000  20640.000000  20640.000000  \n",
       "mean       3.070655     35.631861   -119.569704      2.068558  \n",
       "std       10.386050      2.135952      2.003532      1.153956  \n",
       "min        0.692308     32.540000   -124.350000      0.149990  \n",
       "25%        2.429741     33.930000   -121.800000      1.196000  \n",
       "50%        2.818116     34.260000   -118.490000      1.797000  \n",
       "75%        3.282261     37.710000   -118.010000      2.647250  \n",
       "max     1243.333333     41.950000   -114.310000      5.000010  "
      ]
     },
     "execution_count": 14,
     "metadata": {},
     "output_type": "execute_result"
    }
   ],
   "source": [
    "data.describe()"
   ]
  },
  {
   "cell_type": "markdown",
   "id": "0736d2aa-70d6-47a3-b0e0-29b6e81db223",
   "metadata": {},
   "source": [
    "### Undertaking feature engeneering "
   ]
  },
  {
   "cell_type": "markdown",
   "id": "7615f0f5-889e-458f-82ca-526cfd3ef38c",
   "metadata": {},
   "source": [
    "<img src=\"https://4.bp.blogspot.com/-oizUdNg_XMk/WLAfW-f4ShI/AAAAAAAAEAE/hXpnuCzG-8098Ocsv5Vl-V45GNZ_zOv-QCLcB/s400/correlation_coefficient.gif\" />\n"
   ]
  },
  {
   "cell_type": "code",
   "execution_count": 15,
   "id": "ab08f898-b215-4bdc-8ae8-2f286b66305f",
   "metadata": {},
   "outputs": [],
   "source": [
    "corr= data.corr()"
   ]
  },
  {
   "cell_type": "code",
   "execution_count": 16,
   "id": "5a85e13d-3283-4598-bfb4-db9f01d44584",
   "metadata": {},
   "outputs": [
    {
     "data": {
      "text/plain": [
       "(9, 9)"
      ]
     },
     "execution_count": 16,
     "metadata": {},
     "output_type": "execute_result"
    }
   ],
   "source": [
    "corr.shape "
   ]
  },
  {
   "cell_type": "code",
   "execution_count": 17,
   "id": "0a423679-fdb1-4fd4-b2b9-caddebd3cc19",
   "metadata": {},
   "outputs": [
    {
     "data": {
      "text/html": [
       "<div>\n",
       "<style scoped>\n",
       "    .dataframe tbody tr th:only-of-type {\n",
       "        vertical-align: middle;\n",
       "    }\n",
       "\n",
       "    .dataframe tbody tr th {\n",
       "        vertical-align: top;\n",
       "    }\n",
       "\n",
       "    .dataframe thead th {\n",
       "        text-align: right;\n",
       "    }\n",
       "</style>\n",
       "<table border=\"1\" class=\"dataframe\">\n",
       "  <thead>\n",
       "    <tr style=\"text-align: right;\">\n",
       "      <th></th>\n",
       "      <th>MedInc</th>\n",
       "      <th>HouseAge</th>\n",
       "      <th>AveRooms</th>\n",
       "      <th>AveBedrms</th>\n",
       "      <th>Population</th>\n",
       "      <th>AveOccup</th>\n",
       "      <th>Latitude</th>\n",
       "      <th>Longitude</th>\n",
       "      <th>PRICE</th>\n",
       "    </tr>\n",
       "  </thead>\n",
       "  <tbody>\n",
       "    <tr>\n",
       "      <th>MedInc</th>\n",
       "      <td>1.000000</td>\n",
       "      <td>-0.119034</td>\n",
       "      <td>0.326895</td>\n",
       "      <td>-0.062040</td>\n",
       "      <td>0.004834</td>\n",
       "      <td>0.018766</td>\n",
       "      <td>-0.079809</td>\n",
       "      <td>-0.015176</td>\n",
       "      <td>0.688075</td>\n",
       "    </tr>\n",
       "    <tr>\n",
       "      <th>HouseAge</th>\n",
       "      <td>-0.119034</td>\n",
       "      <td>1.000000</td>\n",
       "      <td>-0.153277</td>\n",
       "      <td>-0.077747</td>\n",
       "      <td>-0.296244</td>\n",
       "      <td>0.013191</td>\n",
       "      <td>0.011173</td>\n",
       "      <td>-0.108197</td>\n",
       "      <td>0.105623</td>\n",
       "    </tr>\n",
       "    <tr>\n",
       "      <th>AveRooms</th>\n",
       "      <td>0.326895</td>\n",
       "      <td>-0.153277</td>\n",
       "      <td>1.000000</td>\n",
       "      <td>0.847621</td>\n",
       "      <td>-0.072213</td>\n",
       "      <td>-0.004852</td>\n",
       "      <td>0.106389</td>\n",
       "      <td>-0.027540</td>\n",
       "      <td>0.151948</td>\n",
       "    </tr>\n",
       "    <tr>\n",
       "      <th>AveBedrms</th>\n",
       "      <td>-0.062040</td>\n",
       "      <td>-0.077747</td>\n",
       "      <td>0.847621</td>\n",
       "      <td>1.000000</td>\n",
       "      <td>-0.066197</td>\n",
       "      <td>-0.006181</td>\n",
       "      <td>0.069721</td>\n",
       "      <td>0.013344</td>\n",
       "      <td>-0.046701</td>\n",
       "    </tr>\n",
       "    <tr>\n",
       "      <th>Population</th>\n",
       "      <td>0.004834</td>\n",
       "      <td>-0.296244</td>\n",
       "      <td>-0.072213</td>\n",
       "      <td>-0.066197</td>\n",
       "      <td>1.000000</td>\n",
       "      <td>0.069863</td>\n",
       "      <td>-0.108785</td>\n",
       "      <td>0.099773</td>\n",
       "      <td>-0.024650</td>\n",
       "    </tr>\n",
       "    <tr>\n",
       "      <th>AveOccup</th>\n",
       "      <td>0.018766</td>\n",
       "      <td>0.013191</td>\n",
       "      <td>-0.004852</td>\n",
       "      <td>-0.006181</td>\n",
       "      <td>0.069863</td>\n",
       "      <td>1.000000</td>\n",
       "      <td>0.002366</td>\n",
       "      <td>0.002476</td>\n",
       "      <td>-0.023737</td>\n",
       "    </tr>\n",
       "    <tr>\n",
       "      <th>Latitude</th>\n",
       "      <td>-0.079809</td>\n",
       "      <td>0.011173</td>\n",
       "      <td>0.106389</td>\n",
       "      <td>0.069721</td>\n",
       "      <td>-0.108785</td>\n",
       "      <td>0.002366</td>\n",
       "      <td>1.000000</td>\n",
       "      <td>-0.924664</td>\n",
       "      <td>-0.144160</td>\n",
       "    </tr>\n",
       "    <tr>\n",
       "      <th>Longitude</th>\n",
       "      <td>-0.015176</td>\n",
       "      <td>-0.108197</td>\n",
       "      <td>-0.027540</td>\n",
       "      <td>0.013344</td>\n",
       "      <td>0.099773</td>\n",
       "      <td>0.002476</td>\n",
       "      <td>-0.924664</td>\n",
       "      <td>1.000000</td>\n",
       "      <td>-0.045967</td>\n",
       "    </tr>\n",
       "    <tr>\n",
       "      <th>PRICE</th>\n",
       "      <td>0.688075</td>\n",
       "      <td>0.105623</td>\n",
       "      <td>0.151948</td>\n",
       "      <td>-0.046701</td>\n",
       "      <td>-0.024650</td>\n",
       "      <td>-0.023737</td>\n",
       "      <td>-0.144160</td>\n",
       "      <td>-0.045967</td>\n",
       "      <td>1.000000</td>\n",
       "    </tr>\n",
       "  </tbody>\n",
       "</table>\n",
       "</div>"
      ],
      "text/plain": [
       "              MedInc  HouseAge  AveRooms  AveBedrms  Population  AveOccup  \\\n",
       "MedInc      1.000000 -0.119034  0.326895  -0.062040    0.004834  0.018766   \n",
       "HouseAge   -0.119034  1.000000 -0.153277  -0.077747   -0.296244  0.013191   \n",
       "AveRooms    0.326895 -0.153277  1.000000   0.847621   -0.072213 -0.004852   \n",
       "AveBedrms  -0.062040 -0.077747  0.847621   1.000000   -0.066197 -0.006181   \n",
       "Population  0.004834 -0.296244 -0.072213  -0.066197    1.000000  0.069863   \n",
       "AveOccup    0.018766  0.013191 -0.004852  -0.006181    0.069863  1.000000   \n",
       "Latitude   -0.079809  0.011173  0.106389   0.069721   -0.108785  0.002366   \n",
       "Longitude  -0.015176 -0.108197 -0.027540   0.013344    0.099773  0.002476   \n",
       "PRICE       0.688075  0.105623  0.151948  -0.046701   -0.024650 -0.023737   \n",
       "\n",
       "            Latitude  Longitude     PRICE  \n",
       "MedInc     -0.079809  -0.015176  0.688075  \n",
       "HouseAge    0.011173  -0.108197  0.105623  \n",
       "AveRooms    0.106389  -0.027540  0.151948  \n",
       "AveBedrms   0.069721   0.013344 -0.046701  \n",
       "Population -0.108785   0.099773 -0.024650  \n",
       "AveOccup    0.002366   0.002476 -0.023737  \n",
       "Latitude    1.000000  -0.924664 -0.144160  \n",
       "Longitude  -0.924664   1.000000 -0.045967  \n",
       "PRICE      -0.144160  -0.045967  1.000000  "
      ]
     },
     "execution_count": 17,
     "metadata": {},
     "output_type": "execute_result"
    }
   ],
   "source": [
    "corr"
   ]
  },
  {
   "cell_type": "markdown",
   "id": "042157b4-794a-4482-aee1-f6338f79a0ae",
   "metadata": {},
   "source": [
    "<img src=\"https://www.datadeck.com/en/blog/wp-content/uploads/2018/11/cor-examples.png\" />"
   ]
  },
  {
   "cell_type": "markdown",
   "id": "93ae37f9-8ab7-444f-9329-ac1f7a71a4ef",
   "metadata": {},
   "source": [
    "### Plotting a heatmap for correlation between features "
   ]
  },
  {
   "cell_type": "code",
   "execution_count": 18,
   "id": "1915d232-451e-46e3-a38e-12ff0601e2cb",
   "metadata": {},
   "outputs": [
    {
     "data": {
      "image/png": "[encoded data removed]",
      "text/plain": [
       "<Figure size 1000x800 with 2 Axes>"
      ]
     },
     "metadata": {},
     "output_type": "display_data"
    }
   ],
   "source": [
    "# Your correlation matrix as a NumPy array\n",
    "corr_array = np.array(corr)\n",
    "\n",
    "# Set the figure size\n",
    "plt.figure(figsize=(10, 8))\n",
    "\n",
    "# Generate the heatmap without annotations\n",
    "heatmap = sns.heatmap(corr, cmap='Greens')\n",
    "\n",
    "# Get the coordinates for each square\n",
    "for i in range(corr_array.shape[0]):\n",
    "    for j in range(corr_array.shape[1]):\n",
    "        # Place the text for each square\n",
    "        text = heatmap.text(j + 0.5, i + 0.5, '{:.1f}'.format(corr_array[i, j]),\n",
    "                            ha=\"center\", va=\"center\", color=\"black\")\n",
    "\n",
    "# Rotate the tick labels for better visibility\n",
    "plt.xticks(rotation=45, ha='right')\n",
    "plt.yticks(rotation=0)\n",
    "\n",
    "plt.show()\n"
   ]
  },
  {
   "cell_type": "markdown",
   "id": "f78d4ef9-bb29-43b0-911f-2fc07e5e627a",
   "metadata": {},
   "source": [
    "This code snippet is a Python script using NumPy, Matplotlib, and Seaborn libraries to generate and visualize a heatmap of a correlation matrix. Let's break down the snippet into its main components:\n",
    "\n",
    "1. **Importing Libraries (Implied):** Although not shown directly, this snippet implies that the `numpy` library is imported as `np`, and plotting libraries `matplotlib.pyplot` as `plt` and `seaborn` as `sns` are also imported. These libraries are essential for numerical operations (NumPy) and data visualization (Matplotlib and Seaborn).\n",
    "\n",
    "2. **Creating a NumPy Array for the Correlation Matrix:**\n",
    "   ```python\n",
    "   corr_array = np.array(corr)\n",
    "   ```\n",
    "   This line converts the `corr` object (presumably a Pandas DataFrame containing a correlation matrix) into a NumPy array. A correlation matrix shows the correlation coefficients between variables, indicating the strength and direction of the relationships.\n",
    "\n",
    "3. **Setting the Figure Size:**\n",
    "   ```python\n",
    "   plt.figure(figsize=(10, 8))\n",
    "   ```\n",
    "   This line sets the size of the figure that will display the heatmap to 10 inches wide by 8 inches tall.\n",
    "\n",
    "4. **Generating the Heatmap Without Annotations:**\n",
    "   ```python\n",
    "   heatmap = sns.heatmap(corr, cmap='Greens')\n",
    "   ```\n",
    "   Here, a heatmap of the correlation matrix (`corr`) is generated using Seaborn's `heatmap` function. The color map (`cmap`) is set to 'Greens', meaning the strength of the correlations will be represented with varying shades of green. The darker the shade, the stronger the correlation. This line does not include annotations (numerical values) on the heatmap.\n",
    "\n",
    "5. **Annotating the Heatmap:**\n",
    "   The nested for loops iterate through the rows and columns of the `corr_array` to place text annotations on the heatmap:\n",
    "   ```python\n",
    "   for i in range(corr_array.shape[0]):\n",
    "       for j in range(corr_array.shape[1]):\n",
    "           text = heatmap.text(j + 0.5, i + 0.5, '{:.1f}'.format(corr_array[i, j]),\n",
    "                               ha=\"center\", va=\"center\", color=\"black\")\n",
    "   ```\n",
    "   For each cell in the heatmap, it calculates the center position (by adding 0.5 to the row and column indices) and places the rounded (to one decimal place) correlation coefficient value as text. The text is centered both horizontally (`ha=\"center\"`) and vertically (`va=\"center\"`) within each cell, and the color of the text is set to black for contrast.\n",
    "\n",
    "6. **Rotating Tick Labels for Better Visibility:**\n",
    "   ```python\n",
    "   plt.xticks(rotation=45, ha='right')\n",
    "   plt.yticks(rotation=0)\n",
    "   ```\n",
    "   These lines rotate the x-axis tick labels by 45 degrees and align them to the right (`ha='right'`) for better readability. The y-axis tick labels remain unrotated.\n",
    "\n",
    "7. **Displaying the Plot:**\n",
    "   ```python\n",
    "   plt.show()\n",
    "   ```\n",
    "   Finally, this line displays the heatmap with the specified annotations and tick label rotations. \n",
    "\n",
    "In summary, this code snippet generates a visual heatmap representation of a correlation matrix, with each cell annotated with the correlation coefficient value. The color intensity reflects the magnitude of the correlation, and the plot adjustments enhance readability."
   ]
  },
  {
   "cell_type": "code",
   "execution_count": 19,
   "id": "a0064150-6863-423c-ba01-bed24805eb78",
   "metadata": {},
   "outputs": [
    {
     "name": "stdout",
     "output_type": "stream",
     "text": [
      "              MedInc  HouseAge  AveRooms  AveBedrms  Population  AveOccup  \\\n",
      "MedInc      1.000000 -0.119034  0.326895  -0.062040    0.004834  0.018766   \n",
      "HouseAge   -0.119034  1.000000 -0.153277  -0.077747   -0.296244  0.013191   \n",
      "AveRooms    0.326895 -0.153277  1.000000   0.847621   -0.072213 -0.004852   \n",
      "AveBedrms  -0.062040 -0.077747  0.847621   1.000000   -0.066197 -0.006181   \n",
      "Population  0.004834 -0.296244 -0.072213  -0.066197    1.000000  0.069863   \n",
      "AveOccup    0.018766  0.013191 -0.004852  -0.006181    0.069863  1.000000   \n",
      "Latitude   -0.079809  0.011173  0.106389   0.069721   -0.108785  0.002366   \n",
      "Longitude  -0.015176 -0.108197 -0.027540   0.013344    0.099773  0.002476   \n",
      "PRICE       0.688075  0.105623  0.151948  -0.046701   -0.024650 -0.023737   \n",
      "\n",
      "            Latitude  Longitude     PRICE  \n",
      "MedInc     -0.079809  -0.015176  0.688075  \n",
      "HouseAge    0.011173  -0.108197  0.105623  \n",
      "AveRooms    0.106389  -0.027540  0.151948  \n",
      "AveBedrms   0.069721   0.013344 -0.046701  \n",
      "Population -0.108785   0.099773 -0.024650  \n",
      "AveOccup    0.002366   0.002476 -0.023737  \n",
      "Latitude    1.000000  -0.924664 -0.144160  \n",
      "Longitude  -0.924664   1.000000 -0.045967  \n",
      "PRICE      -0.144160  -0.045967  1.000000  \n"
     ]
    }
   ],
   "source": [
    "print(corr)"
   ]
  },
  {
   "cell_type": "code",
   "execution_count": 20,
   "id": "7dabcd40-01f1-409b-8e2f-a4be2f13368a",
   "metadata": {},
   "outputs": [
    {
     "name": "stdout",
     "output_type": "stream",
     "text": [
      "[[ 1.         -0.11903399  0.32689543 -0.06204013  0.00483435  0.01876625\n",
      "  -0.07980913 -0.01517587  0.68807521]\n",
      " [-0.11903399  1.         -0.15327742 -0.07774728 -0.29624424  0.01319136\n",
      "   0.01117267 -0.10819681  0.10562341]\n",
      " [ 0.32689543 -0.15327742  1.          0.84762133 -0.07221285 -0.00485229\n",
      "   0.10638897 -0.02754005  0.15194829]\n",
      " [-0.06204013 -0.07774728  0.84762133  1.         -0.0661974  -0.0061812\n",
      "   0.06972113  0.01334439 -0.04670051]\n",
      " [ 0.00483435 -0.29624424 -0.07221285 -0.0661974   1.          0.06986273\n",
      "  -0.10878475  0.09977322 -0.02464968]\n",
      " [ 0.01876625  0.01319136 -0.00485229 -0.0061812   0.06986273  1.\n",
      "   0.00236618  0.00247582 -0.02373741]\n",
      " [-0.07980913  0.01117267  0.10638897  0.06972113 -0.10878475  0.00236618\n",
      "   1.         -0.92466443 -0.14416028]\n",
      " [-0.01517587 -0.10819681 -0.02754005  0.01334439  0.09977322  0.00247582\n",
      "  -0.92466443  1.         -0.04596662]\n",
      " [ 0.68807521  0.10562341  0.15194829 -0.04670051 -0.02464968 -0.02373741\n",
      "  -0.14416028 -0.04596662  1.        ]]\n"
     ]
    }
   ],
   "source": [
    "print(corr_array)"
   ]
  },
  {
   "cell_type": "markdown",
   "id": "d7e8e359-b84e-494f-aa72-dc3fd510f483",
   "metadata": {},
   "source": [
    "### why the correlation matrix is converted to a numpy array "
   ]
  },
  {
   "cell_type": "markdown",
   "id": "56d5845d-948f-4c5c-a67c-b2e1936bdc49",
   "metadata": {},
   "source": [
    "Converting the correlation matrix to a NumPy array in this context might seem unnecessary at first glance, especially because Seaborn's `heatmap` function can directly work with Pandas DataFrames (which is a common format for correlation matrices). However, there are a few reasons why this conversion might be done:\n",
    "\n",
    "1. **Uniform Data Processing:** If the code snippet is part of a larger script or module where numerical computations are performed on the correlation matrix, converting it to a NumPy array ensures uniformity in data types. NumPy arrays offer efficient storage and computation capabilities for numerical data, which might be leveraged elsewhere in the code.\n",
    "\n",
    "2. **Access to NumPy Operations:** Converting the DataFrame to a NumPy array provides direct access to a wide array of NumPy operations that can be applied to the matrix. This is particularly useful for complex mathematical manipulations that are not directly supported by Pandas or when performance is critical.\n",
    "\n",
    "3. **Specific Annotation Requirements:** The snippet includes a custom loop to annotate the heatmap with correlation values. While Seaborn's `heatmap` can automatically annotate cells with values using the `annot` parameter, the explicit loop allows for more detailed customization of the text properties (like color, alignment, or number formatting). This level of customization requires direct access to the matrix elements, which is straightforward when using a NumPy array.\n",
    "\n",
    "4. **Educational or Demonstrative Purpose:** In some cases, the conversion might be performed for educational purposes to demonstrate how to work with NumPy arrays or to ensure the example is understandable regardless of the audience's familiarity with Pandas.\n",
    "\n",
    "5. **Compatibility with Other Libraries:** If the correlation matrix is intended to be used with other libraries that require input data in the form of NumPy arrays, converting it early on makes the code more modular and reusable.\n",
    "\n",
    "In this specific snippet, while the direct reason for converting to a NumPy array is not mentioned, it is likely for one or more of the reasons outlined above. The conversion ensures that the data is in a form that is versatile for numerical operations, potentially enhancing both performance and compatibility with the broader Python data science ecosystem."
   ]
  },
  {
   "cell_type": "code",
   "execution_count": 21,
   "id": "402e36eb-1bad-4dcc-a091-b586fd294764",
   "metadata": {},
   "outputs": [
    {
     "data": {
      "text/html": [
       "<div>\n",
       "<style scoped>\n",
       "    .dataframe tbody tr th:only-of-type {\n",
       "        vertical-align: middle;\n",
       "    }\n",
       "\n",
       "    .dataframe tbody tr th {\n",
       "        vertical-align: top;\n",
       "    }\n",
       "\n",
       "    .dataframe thead th {\n",
       "        text-align: right;\n",
       "    }\n",
       "</style>\n",
       "<table border=\"1\" class=\"dataframe\">\n",
       "  <thead>\n",
       "    <tr style=\"text-align: right;\">\n",
       "      <th></th>\n",
       "      <th>MedInc</th>\n",
       "      <th>HouseAge</th>\n",
       "      <th>AveRooms</th>\n",
       "      <th>AveBedrms</th>\n",
       "      <th>Population</th>\n",
       "      <th>AveOccup</th>\n",
       "      <th>Latitude</th>\n",
       "      <th>Longitude</th>\n",
       "      <th>PRICE</th>\n",
       "    </tr>\n",
       "  </thead>\n",
       "  <tbody>\n",
       "    <tr>\n",
       "      <th>0</th>\n",
       "      <td>8.3252</td>\n",
       "      <td>41.0</td>\n",
       "      <td>6.984127</td>\n",
       "      <td>1.023810</td>\n",
       "      <td>322.0</td>\n",
       "      <td>2.555556</td>\n",
       "      <td>37.88</td>\n",
       "      <td>-122.23</td>\n",
       "      <td>4.526</td>\n",
       "    </tr>\n",
       "    <tr>\n",
       "      <th>1</th>\n",
       "      <td>8.3014</td>\n",
       "      <td>21.0</td>\n",
       "      <td>6.238137</td>\n",
       "      <td>0.971880</td>\n",
       "      <td>2401.0</td>\n",
       "      <td>2.109842</td>\n",
       "      <td>37.86</td>\n",
       "      <td>-122.22</td>\n",
       "      <td>3.585</td>\n",
       "    </tr>\n",
       "    <tr>\n",
       "      <th>2</th>\n",
       "      <td>7.2574</td>\n",
       "      <td>52.0</td>\n",
       "      <td>8.288136</td>\n",
       "      <td>1.073446</td>\n",
       "      <td>496.0</td>\n",
       "      <td>2.802260</td>\n",
       "      <td>37.85</td>\n",
       "      <td>-122.24</td>\n",
       "      <td>3.521</td>\n",
       "    </tr>\n",
       "    <tr>\n",
       "      <th>3</th>\n",
       "      <td>5.6431</td>\n",
       "      <td>52.0</td>\n",
       "      <td>5.817352</td>\n",
       "      <td>1.073059</td>\n",
       "      <td>558.0</td>\n",
       "      <td>2.547945</td>\n",
       "      <td>37.85</td>\n",
       "      <td>-122.25</td>\n",
       "      <td>3.413</td>\n",
       "    </tr>\n",
       "    <tr>\n",
       "      <th>4</th>\n",
       "      <td>3.8462</td>\n",
       "      <td>52.0</td>\n",
       "      <td>6.281853</td>\n",
       "      <td>1.081081</td>\n",
       "      <td>565.0</td>\n",
       "      <td>2.181467</td>\n",
       "      <td>37.85</td>\n",
       "      <td>-122.25</td>\n",
       "      <td>3.422</td>\n",
       "    </tr>\n",
       "  </tbody>\n",
       "</table>\n",
       "</div>"
      ],
      "text/plain": [
       "   MedInc  HouseAge  AveRooms  AveBedrms  Population  AveOccup  Latitude  \\\n",
       "0  8.3252      41.0  6.984127   1.023810       322.0  2.555556     37.88   \n",
       "1  8.3014      21.0  6.238137   0.971880      2401.0  2.109842     37.86   \n",
       "2  7.2574      52.0  8.288136   1.073446       496.0  2.802260     37.85   \n",
       "3  5.6431      52.0  5.817352   1.073059       558.0  2.547945     37.85   \n",
       "4  3.8462      52.0  6.281853   1.081081       565.0  2.181467     37.85   \n",
       "\n",
       "   Longitude  PRICE  \n",
       "0    -122.23  4.526  \n",
       "1    -122.22  3.585  \n",
       "2    -122.24  3.521  \n",
       "3    -122.25  3.413  \n",
       "4    -122.25  3.422  "
      ]
     },
     "execution_count": 21,
     "metadata": {},
     "output_type": "execute_result"
    }
   ],
   "source": [
    "data.head()"
   ]
  },
  {
   "cell_type": "markdown",
   "id": "89e79980-1b46-443d-91eb-f269f56044ca",
   "metadata": {},
   "source": [
    "## Simple vs. linear regression "
   ]
  },
  {
   "cell_type": "code",
   "execution_count": 22,
   "id": "f85d4e13-7b9d-4490-aff0-b8c327f5471e",
   "metadata": {},
   "outputs": [
    {
     "data": {
      "text/plain": [
       "Index(['MedInc', 'HouseAge', 'AveRooms', 'AveBedrms', 'Population', 'AveOccup',\n",
       "       'Latitude', 'Longitude', 'PRICE'],\n",
       "      dtype='object')"
      ]
     },
     "execution_count": 22,
     "metadata": {},
     "output_type": "execute_result"
    }
   ],
   "source": [
    "data.columns"
   ]
  },
  {
   "cell_type": "code",
   "execution_count": 23,
   "id": "d2b69adb-f993-443a-9dbc-9fb401e50a65",
   "metadata": {},
   "outputs": [],
   "source": [
    "X= data[['MedInc']]\n",
    "Y= data[['PRICE']]"
   ]
  },
  {
   "cell_type": "code",
   "execution_count": 24,
   "id": "50982188-bcea-43db-a004-ff21ad5c7832",
   "metadata": {},
   "outputs": [
    {
     "data": {
      "text/html": [
       "<div>\n",
       "<style scoped>\n",
       "    .dataframe tbody tr th:only-of-type {\n",
       "        vertical-align: middle;\n",
       "    }\n",
       "\n",
       "    .dataframe tbody tr th {\n",
       "        vertical-align: top;\n",
       "    }\n",
       "\n",
       "    .dataframe thead th {\n",
       "        text-align: right;\n",
       "    }\n",
       "</style>\n",
       "<table border=\"1\" class=\"dataframe\">\n",
       "  <thead>\n",
       "    <tr style=\"text-align: right;\">\n",
       "      <th></th>\n",
       "      <th>MedInc</th>\n",
       "    </tr>\n",
       "  </thead>\n",
       "  <tbody>\n",
       "    <tr>\n",
       "      <th>0</th>\n",
       "      <td>8.3252</td>\n",
       "    </tr>\n",
       "    <tr>\n",
       "      <th>1</th>\n",
       "      <td>8.3014</td>\n",
       "    </tr>\n",
       "    <tr>\n",
       "      <th>2</th>\n",
       "      <td>7.2574</td>\n",
       "    </tr>\n",
       "    <tr>\n",
       "      <th>3</th>\n",
       "      <td>5.6431</td>\n",
       "    </tr>\n",
       "    <tr>\n",
       "      <th>4</th>\n",
       "      <td>3.8462</td>\n",
       "    </tr>\n",
       "  </tbody>\n",
       "</table>\n",
       "</div>"
      ],
      "text/plain": [
       "   MedInc\n",
       "0  8.3252\n",
       "1  8.3014\n",
       "2  7.2574\n",
       "3  5.6431\n",
       "4  3.8462"
      ]
     },
     "execution_count": 24,
     "metadata": {},
     "output_type": "execute_result"
    }
   ],
   "source": [
    "X.head()"
   ]
  },
  {
   "cell_type": "code",
   "execution_count": 25,
   "id": "7b85decc-10db-454d-815d-9f527ccd9dbe",
   "metadata": {},
   "outputs": [
    {
     "data": {
      "text/html": [
       "<div>\n",
       "<style scoped>\n",
       "    .dataframe tbody tr th:only-of-type {\n",
       "        vertical-align: middle;\n",
       "    }\n",
       "\n",
       "    .dataframe tbody tr th {\n",
       "        vertical-align: top;\n",
       "    }\n",
       "\n",
       "    .dataframe thead th {\n",
       "        text-align: right;\n",
       "    }\n",
       "</style>\n",
       "<table border=\"1\" class=\"dataframe\">\n",
       "  <thead>\n",
       "    <tr style=\"text-align: right;\">\n",
       "      <th></th>\n",
       "      <th>PRICE</th>\n",
       "    </tr>\n",
       "  </thead>\n",
       "  <tbody>\n",
       "    <tr>\n",
       "      <th>0</th>\n",
       "      <td>4.526</td>\n",
       "    </tr>\n",
       "    <tr>\n",
       "      <th>1</th>\n",
       "      <td>3.585</td>\n",
       "    </tr>\n",
       "    <tr>\n",
       "      <th>2</th>\n",
       "      <td>3.521</td>\n",
       "    </tr>\n",
       "    <tr>\n",
       "      <th>3</th>\n",
       "      <td>3.413</td>\n",
       "    </tr>\n",
       "    <tr>\n",
       "      <th>4</th>\n",
       "      <td>3.422</td>\n",
       "    </tr>\n",
       "  </tbody>\n",
       "</table>\n",
       "</div>"
      ],
      "text/plain": [
       "   PRICE\n",
       "0  4.526\n",
       "1  3.585\n",
       "2  3.521\n",
       "3  3.413\n",
       "4  3.422"
      ]
     },
     "execution_count": 25,
     "metadata": {},
     "output_type": "execute_result"
    }
   ],
   "source": [
    "Y.head()"
   ]
  },
  {
   "cell_type": "code",
   "execution_count": 26,
   "id": "9df04c49-116d-4c54-ac2f-5474834576de",
   "metadata": {},
   "outputs": [],
   "source": [
    "from sklearn.model_selection import train_test_split\n",
    "X_train, X_test, Y_train, Y_test= train_test_split(X,Y, test_size= 0.3, random_state= 4)"
   ]
  },
  {
   "cell_type": "code",
   "execution_count": 27,
   "id": "dd86b4a4-051c-44cd-9b14-ec42801d1a46",
   "metadata": {},
   "outputs": [
    {
     "data": {
      "text/html": [
       "<style>#sk-container-id-1 {color: black;background-color: white;}#sk-container-id-1 pre{padding: 0;}#sk-container-id-1 div.sk-toggleable {background-color: white;}#sk-container-id-1 label.sk-toggleable__label {cursor: pointer;display: block;width: 100%;margin-bottom: 0;padding: 0.3em;box-sizing: border-box;text-align: center;}#sk-container-id-1 label.sk-toggleable__label-arrow:before {content: \"▸\";float: left;margin-right: 0.25em;color: #696969;}#sk-container-id-1 label.sk-toggleable__label-arrow:hover:before {color: black;}#sk-container-id-1 div.sk-estimator:hover label.sk-toggleable__label-arrow:before {color: black;}#sk-container-id-1 div.sk-toggleable__content {max-height: 0;max-width: 0;overflow: hidden;text-align: left;background-color: #f0f8ff;}#sk-container-id-1 div.sk-toggleable__content pre {margin: 0.2em;color: black;border-radius: 0.25em;background-color: #f0f8ff;}#sk-container-id-1 input.sk-toggleable__control:checked~div.sk-toggleable__content {max-height: 200px;max-width: 100%;overflow: auto;}#sk-container-id-1 input.sk-toggleable__control:checked~label.sk-toggleable__label-arrow:before {content: \"▾\";}#sk-container-id-1 div.sk-estimator input.sk-toggleable__control:checked~label.sk-toggleable__label {background-color: #d4ebff;}#sk-container-id-1 div.sk-label input.sk-toggleable__control:checked~label.sk-toggleable__label {background-color: #d4ebff;}#sk-container-id-1 input.sk-hidden--visually {border: 0;clip: rect(1px 1px 1px 1px);clip: rect(1px, 1px, 1px, 1px);height: 1px;margin: -1px;overflow: hidden;padding: 0;position: absolute;width: 1px;}#sk-container-id-1 div.sk-estimator {font-family: monospace;background-color: #f0f8ff;border: 1px dotted black;border-radius: 0.25em;box-sizing: border-box;margin-bottom: 0.5em;}#sk-container-id-1 div.sk-estimator:hover {background-color: #d4ebff;}#sk-container-id-1 div.sk-parallel-item::after {content: \"\";width: 100%;border-bottom: 1px solid gray;flex-grow: 1;}#sk-container-id-1 div.sk-label:hover label.sk-toggleable__label {background-color: #d4ebff;}#sk-container-id-1 div.sk-serial::before {content: \"\";position: absolute;border-left: 1px solid gray;box-sizing: border-box;top: 0;bottom: 0;left: 50%;z-index: 0;}#sk-container-id-1 div.sk-serial {display: flex;flex-direction: column;align-items: center;background-color: white;padding-right: 0.2em;padding-left: 0.2em;position: relative;}#sk-container-id-1 div.sk-item {position: relative;z-index: 1;}#sk-container-id-1 div.sk-parallel {display: flex;align-items: stretch;justify-content: center;background-color: white;position: relative;}#sk-container-id-1 div.sk-item::before, #sk-container-id-1 div.sk-parallel-item::before {content: \"\";position: absolute;border-left: 1px solid gray;box-sizing: border-box;top: 0;bottom: 0;left: 50%;z-index: -1;}#sk-container-id-1 div.sk-parallel-item {display: flex;flex-direction: column;z-index: 1;position: relative;background-color: white;}#sk-container-id-1 div.sk-parallel-item:first-child::after {align-self: flex-end;width: 50%;}#sk-container-id-1 div.sk-parallel-item:last-child::after {align-self: flex-start;width: 50%;}#sk-container-id-1 div.sk-parallel-item:only-child::after {width: 0;}#sk-container-id-1 div.sk-dashed-wrapped {border: 1px dashed gray;margin: 0 0.4em 0.5em 0.4em;box-sizing: border-box;padding-bottom: 0.4em;background-color: white;}#sk-container-id-1 div.sk-label label {font-family: monospace;font-weight: bold;display: inline-block;line-height: 1.2em;}#sk-container-id-1 div.sk-label-container {text-align: center;}#sk-container-id-1 div.sk-container {/* jupyter's `normalize.less` sets `[hidden] { display: none; }` but bootstrap.min.css set `[hidden] { display: none !important; }` so we also need the `!important` here to be able to override the default hidden behavior on the sphinx rendered scikit-learn.org. See: https://github.com/scikit-learn/scikit-learn/issues/21755 */display: inline-block !important;position: relative;}#sk-container-id-1 div.sk-text-repr-fallback {display: none;}</style><div id=\"sk-container-id-1\" class=\"sk-top-container\"><div class=\"sk-text-repr-fallback\"><pre>LinearRegression()</pre><b>In a Jupyter environment, please rerun this cell to show the HTML representation or trust the notebook. <br />On GitHub, the HTML representation is unable to render, please try loading this page with nbviewer.org.</b></div><div class=\"sk-container\" hidden><div class=\"sk-item\"><div class=\"sk-estimator sk-toggleable\"><input class=\"sk-toggleable__control sk-hidden--visually\" id=\"sk-estimator-id-1\" type=\"checkbox\" checked><label for=\"sk-estimator-id-1\" class=\"sk-toggleable__label sk-toggleable__label-arrow\">LinearRegression</label><div class=\"sk-toggleable__content\"><pre>LinearRegression()</pre></div></div></div></div></div>"
      ],
      "text/plain": [
       "LinearRegression()"
      ]
     },
     "execution_count": 27,
     "metadata": {},
     "output_type": "execute_result"
    }
   ],
   "source": [
    "from sklearn.linear_model import LinearRegression\n",
    "\n",
    "#slr: single linear regression \n",
    "slr= LinearRegression()\n",
    "\n",
    "slr.fit(X_train, Y_train)"
   ]
  },
  {
   "cell_type": "code",
   "execution_count": 28,
   "id": "b8be33e4-ed3e-43dd-a8a5-7c1dbb5adad2",
   "metadata": {},
   "outputs": [
    {
     "data": {
      "text/plain": [
       "array([0.4571402])"
      ]
     },
     "execution_count": 28,
     "metadata": {},
     "output_type": "execute_result"
    }
   ],
   "source": [
    "slr.intercept_"
   ]
  },
  {
   "cell_type": "code",
   "execution_count": 29,
   "id": "598242a8-c409-48a5-9d7f-341d586d8ae8",
   "metadata": {},
   "outputs": [
    {
     "data": {
      "text/plain": [
       "array([[0.4163053]])"
      ]
     },
     "execution_count": 29,
     "metadata": {},
     "output_type": "execute_result"
    }
   ],
   "source": [
    "slr.coef_"
   ]
  },
  {
   "cell_type": "markdown",
   "id": "fccfbff8-53b7-4a41-a852-fd7b7551f49f",
   "metadata": {},
   "source": [
    "### convering the coefficients into a dataframe "
   ]
  },
  {
   "cell_type": "code",
   "execution_count": 30,
   "id": "f4ba4579-c928-4e94-8731-795b2bab2faa",
   "metadata": {},
   "outputs": [],
   "source": [
    "coefficients= pd.DataFrame([X_train.columns,slr.coef_]).T\n",
    "coefficients= coefficients.rename(columns= {0:'Attribute', 1: 'Coefficients'})"
   ]
  },
  {
   "cell_type": "code",
   "execution_count": 31,
   "id": "1452461a-4c78-4500-83cc-e107e5538d48",
   "metadata": {},
   "outputs": [
    {
     "data": {
      "text/html": [
       "<div>\n",
       "<style scoped>\n",
       "    .dataframe tbody tr th:only-of-type {\n",
       "        vertical-align: middle;\n",
       "    }\n",
       "\n",
       "    .dataframe tbody tr th {\n",
       "        vertical-align: top;\n",
       "    }\n",
       "\n",
       "    .dataframe thead th {\n",
       "        text-align: right;\n",
       "    }\n",
       "</style>\n",
       "<table border=\"1\" class=\"dataframe\">\n",
       "  <thead>\n",
       "    <tr style=\"text-align: right;\">\n",
       "      <th></th>\n",
       "      <th>Attribute</th>\n",
       "      <th>Coefficients</th>\n",
       "    </tr>\n",
       "  </thead>\n",
       "  <tbody>\n",
       "    <tr>\n",
       "      <th>0</th>\n",
       "      <td>MedInc</td>\n",
       "      <td>[0.4163053041728345]</td>\n",
       "    </tr>\n",
       "  </tbody>\n",
       "</table>\n",
       "</div>"
      ],
      "text/plain": [
       "  Attribute          Coefficients\n",
       "0    MedInc  [0.4163053041728345]"
      ]
     },
     "execution_count": 31,
     "metadata": {},
     "output_type": "execute_result"
    }
   ],
   "source": [
    "coefficients "
   ]
  },
  {
   "cell_type": "markdown",
   "id": "5fff332e-29fc-4c4e-bbad-d41b34a8a6de",
   "metadata": {},
   "source": [
    "The provided code snippet is creating and modifying a Pandas DataFrame to display the coefficients of a simple linear regression model alongside their corresponding attributes (features). Let's break down the code snippet step by step:\n",
    "\n",
    "1. **Creating the Initial DataFrame:**\n",
    "   ```python\n",
    "   coefficients= pd.DataFrame([X_train.columns,slr.coef_]).T\n",
    "   ```\n",
    "   - `pd.DataFrame(...)`: This constructs a new DataFrame.\n",
    "   - `[X_train.columns, slr.coef_]`: This list contains two elements. The first element, `X_train.columns`, is likely a Pandas Index or list containing the names of the features used in the training of a linear regression model. The second element, `slr.coef_`, is an array containing the coefficients of the linear regression model (where `slr` represents the linear regression model object, typically from a library like `scikit-learn`). These coefficients quantify the relationship between each feature and the target variable.\n",
    "   - `.T`: The transpose operation changes the shape of the DataFrame from 2 rows (one with attribute names and one with coefficients) to a format where each row represents a feature and its corresponding coefficient. This makes the DataFrame more readable and easier to work with, aligning attributes with their coefficients in a columnar format.\n",
    "\n",
    "\n",
    "\n",
    "2. **Renaming Columns of the DataFrame:**\n",
    "   - `.rename(columns={0: 'Attribute', 1: 'Coefficients'})`: This method renames the columns of the DataFrame. The original columns, which are numerically indexed as 0 and 1 due to the DataFrame creation from a list, are renamed to `'Attribute'` for the feature names and `'Coefficients'` for the linear regression coefficients, respectively. This makes the DataFrame more understandable by giving meaningful names to the columns.\n",
    "\n",
    "The purpose of this snippet is to create a structured and readable presentation of the linear regression model's coefficients, mapping each feature name to its coefficient. This is useful for interpreting the model, as it allows one to see which features have the most significant impact on the prediction and how each feature is expected to influence the target variable (positive or negative correlation)."
   ]
  },
  {
   "cell_type": "markdown",
   "id": "d6c1f1fd-2b9e-445f-af84-4f7df1e86910",
   "metadata": {},
   "source": [
    "# Single linear regression (SLR) evaluation "
   ]
  },
  {
   "cell_type": "code",
   "execution_count": 32,
   "id": "b4fafccf-be4c-401b-9883-af957c1122d5",
   "metadata": {},
   "outputs": [],
   "source": [
    "from sklearn import metrics "
   ]
  },
  {
   "cell_type": "code",
   "execution_count": 33,
   "id": "d9ee97d5-c209-4e05-acd8-2e8179dc90c1",
   "metadata": {},
   "outputs": [],
   "source": [
    "Y_pred= slr.predict(X_train)"
   ]
  },
  {
   "cell_type": "code",
   "execution_count": 34,
   "id": "7f9f0e67-00d7-4e28-89b6-e725c6163a31",
   "metadata": {},
   "outputs": [
    {
     "name": "stdout",
     "output_type": "stream",
     "text": [
      "R^2: 0.4746858522764793\n",
      "MAE: 0.6283207799297096\n",
      "MSE: 0.7050206811266955\n",
      "RMSE: 0.8396550965287446\n"
     ]
    }
   ],
   "source": [
    "# Model Evaluation\n",
    "print('R^2:',metrics.r2_score(Y_train, Y_pred))\n",
    "print('MAE:',metrics.mean_absolute_error(Y_train, Y_pred))\n",
    "print('MSE:',metrics.mean_squared_error(Y_train, Y_pred))\n",
    "print('RMSE:',np.sqrt(metrics.mean_squared_error(Y_train, Y_pred)))"
   ]
  },
  {
   "cell_type": "markdown",
   "id": "5c689fd0-b62b-4b83-aaf5-7b9614198d3f",
   "metadata": {},
   "source": [
    "### Visualising the difference between actual prices and predicted values "
   ]
  },
  {
   "cell_type": "code",
   "execution_count": 35,
   "id": "e5d4fb59-864b-4f0f-9288-5107bcdfbf3a",
   "metadata": {},
   "outputs": [
    {
     "data": {
      "image/png": "[encoded data removed]",
      "text/plain": [
       "<Figure size 640x480 with 1 Axes>"
      ]
     },
     "metadata": {},
     "output_type": "display_data"
    }
   ],
   "source": [
    "plt.scatter(Y_train, Y_pred)\n",
    "plt.xlabel(\"Prices\")\n",
    "plt.ylabel(\"predicted Prices\")\n",
    "plt.title(\" Prices vs. the predicted Prices\")\n",
    "plt.show()"
   ]
  },
  {
   "cell_type": "code",
   "execution_count": 36,
   "id": "828821c9-5f03-400d-8c59-7121222d48a5",
   "metadata": {},
   "outputs": [
    {
     "name": "stderr",
     "output_type": "stream",
     "text": [
      "/Applications/anaconda3/lib/python3.11/site-packages/seaborn/_oldcore.py:1119: FutureWarning: use_inf_as_na option is deprecated and will be removed in a future version. Convert inf values to NaN before operating instead.\n",
      "  with pd.option_context('mode.use_inf_as_na', True):\n"
     ]
    },
    {
     "data": {
      "image/png": "[encoded data removed]",
      "text/plain": [
       "<Figure size 590.75x500 with 1 Axes>"
      ]
     },
     "metadata": {},
     "output_type": "display_data"
    }
   ],
   "source": [
    "sns.displot(Y_train- Y_pred)\n",
    "plt.title (\"Histogram of residuals\")\n",
    "plt.xlabel(\"residuals\")\n",
    "plt.ylabel(\"Frequency\")\n",
    "plt.show()"
   ]
  },
  {
   "cell_type": "markdown",
   "id": "e94c4f6e-5722-4899-b54f-a81b28b03751",
   "metadata": {},
   "source": [
    "# Multiple linear regression "
   ]
  },
  {
   "cell_type": "markdown",
   "id": "aac8c09a-e096-43fe-b08d-e31be0acb95e",
   "metadata": {},
   "source": [
    "here, we use all of the existing variables (independent features) within the dataframe for our MLR model "
   ]
  },
  {
   "cell_type": "code",
   "execution_count": 37,
   "id": "e203d23f-8b0c-4cff-819e-b5fab0ce30b8",
   "metadata": {},
   "outputs": [],
   "source": [
    "X= data.drop(['PRICE'], axis= 1)\n",
    "Y= data['PRICE']"
   ]
  },
  {
   "cell_type": "code",
   "execution_count": 38,
   "id": "9d2ffb14-7265-4c8e-8dd1-976b7ca9539e",
   "metadata": {},
   "outputs": [],
   "source": [
    "from sklearn.model_selection import train_test_split\n",
    "X_train, X_test, Y_train, Y_test = train_test_split(X,Y, test_size = 0.3, random_state = 4)"
   ]
  },
  {
   "cell_type": "code",
   "execution_count": 39,
   "id": "3f7da3c1-c1ab-4fe9-abbc-47ea98e42d40",
   "metadata": {},
   "outputs": [
    {
     "data": {
      "text/html": [
       "<style>#sk-container-id-2 {color: black;background-color: white;}#sk-container-id-2 pre{padding: 0;}#sk-container-id-2 div.sk-toggleable {background-color: white;}#sk-container-id-2 label.sk-toggleable__label {cursor: pointer;display: block;width: 100%;margin-bottom: 0;padding: 0.3em;box-sizing: border-box;text-align: center;}#sk-container-id-2 label.sk-toggleable__label-arrow:before {content: \"▸\";float: left;margin-right: 0.25em;color: #696969;}#sk-container-id-2 label.sk-toggleable__label-arrow:hover:before {color: black;}#sk-container-id-2 div.sk-estimator:hover label.sk-toggleable__label-arrow:before {color: black;}#sk-container-id-2 div.sk-toggleable__content {max-height: 0;max-width: 0;overflow: hidden;text-align: left;background-color: #f0f8ff;}#sk-container-id-2 div.sk-toggleable__content pre {margin: 0.2em;color: black;border-radius: 0.25em;background-color: #f0f8ff;}#sk-container-id-2 input.sk-toggleable__control:checked~div.sk-toggleable__content {max-height: 200px;max-width: 100%;overflow: auto;}#sk-container-id-2 input.sk-toggleable__control:checked~label.sk-toggleable__label-arrow:before {content: \"▾\";}#sk-container-id-2 div.sk-estimator input.sk-toggleable__control:checked~label.sk-toggleable__label {background-color: #d4ebff;}#sk-container-id-2 div.sk-label input.sk-toggleable__control:checked~label.sk-toggleable__label {background-color: #d4ebff;}#sk-container-id-2 input.sk-hidden--visually {border: 0;clip: rect(1px 1px 1px 1px);clip: rect(1px, 1px, 1px, 1px);height: 1px;margin: -1px;overflow: hidden;padding: 0;position: absolute;width: 1px;}#sk-container-id-2 div.sk-estimator {font-family: monospace;background-color: #f0f8ff;border: 1px dotted black;border-radius: 0.25em;box-sizing: border-box;margin-bottom: 0.5em;}#sk-container-id-2 div.sk-estimator:hover {background-color: #d4ebff;}#sk-container-id-2 div.sk-parallel-item::after {content: \"\";width: 100%;border-bottom: 1px solid gray;flex-grow: 1;}#sk-container-id-2 div.sk-label:hover label.sk-toggleable__label {background-color: #d4ebff;}#sk-container-id-2 div.sk-serial::before {content: \"\";position: absolute;border-left: 1px solid gray;box-sizing: border-box;top: 0;bottom: 0;left: 50%;z-index: 0;}#sk-container-id-2 div.sk-serial {display: flex;flex-direction: column;align-items: center;background-color: white;padding-right: 0.2em;padding-left: 0.2em;position: relative;}#sk-container-id-2 div.sk-item {position: relative;z-index: 1;}#sk-container-id-2 div.sk-parallel {display: flex;align-items: stretch;justify-content: center;background-color: white;position: relative;}#sk-container-id-2 div.sk-item::before, #sk-container-id-2 div.sk-parallel-item::before {content: \"\";position: absolute;border-left: 1px solid gray;box-sizing: border-box;top: 0;bottom: 0;left: 50%;z-index: -1;}#sk-container-id-2 div.sk-parallel-item {display: flex;flex-direction: column;z-index: 1;position: relative;background-color: white;}#sk-container-id-2 div.sk-parallel-item:first-child::after {align-self: flex-end;width: 50%;}#sk-container-id-2 div.sk-parallel-item:last-child::after {align-self: flex-start;width: 50%;}#sk-container-id-2 div.sk-parallel-item:only-child::after {width: 0;}#sk-container-id-2 div.sk-dashed-wrapped {border: 1px dashed gray;margin: 0 0.4em 0.5em 0.4em;box-sizing: border-box;padding-bottom: 0.4em;background-color: white;}#sk-container-id-2 div.sk-label label {font-family: monospace;font-weight: bold;display: inline-block;line-height: 1.2em;}#sk-container-id-2 div.sk-label-container {text-align: center;}#sk-container-id-2 div.sk-container {/* jupyter's `normalize.less` sets `[hidden] { display: none; }` but bootstrap.min.css set `[hidden] { display: none !important; }` so we also need the `!important` here to be able to override the default hidden behavior on the sphinx rendered scikit-learn.org. See: https://github.com/scikit-learn/scikit-learn/issues/21755 */display: inline-block !important;position: relative;}#sk-container-id-2 div.sk-text-repr-fallback {display: none;}</style><div id=\"sk-container-id-2\" class=\"sk-top-container\"><div class=\"sk-text-repr-fallback\"><pre>LinearRegression()</pre><b>In a Jupyter environment, please rerun this cell to show the HTML representation or trust the notebook. <br />On GitHub, the HTML representation is unable to render, please try loading this page with nbviewer.org.</b></div><div class=\"sk-container\" hidden><div class=\"sk-item\"><div class=\"sk-estimator sk-toggleable\"><input class=\"sk-toggleable__control sk-hidden--visually\" id=\"sk-estimator-id-2\" type=\"checkbox\" checked><label for=\"sk-estimator-id-2\" class=\"sk-toggleable__label sk-toggleable__label-arrow\">LinearRegression</label><div class=\"sk-toggleable__content\"><pre>LinearRegression()</pre></div></div></div></div></div>"
      ],
      "text/plain": [
       "LinearRegression()"
      ]
     },
     "execution_count": 39,
     "metadata": {},
     "output_type": "execute_result"
    }
   ],
   "source": [
    "from sklearn.linear_model import LinearRegression \n",
    "\n",
    "mlr= LinearRegression()\n",
    "\n",
    "mlr.fit(X_train, Y_train)"
   ]
  },
  {
   "cell_type": "code",
   "execution_count": 40,
   "id": "f912bdd6-510e-46fc-a9d7-158c76a098a6",
   "metadata": {},
   "outputs": [
    {
     "data": {
      "text/plain": [
       "-36.9258842988461"
      ]
     },
     "execution_count": 40,
     "metadata": {},
     "output_type": "execute_result"
    }
   ],
   "source": [
    "mlr.intercept_"
   ]
  },
  {
   "cell_type": "code",
   "execution_count": 41,
   "id": "2f07706b-937b-4661-bab9-90e7f4ab7dcb",
   "metadata": {},
   "outputs": [
    {
     "data": {
      "text/plain": [
       "array([ 4.38284149e-01,  9.02141800e-03, -1.13436409e-01,  6.48834993e-01,\n",
       "       -7.98668870e-06, -3.97828751e-03, -4.21168217e-01, -4.34680482e-01])"
      ]
     },
     "execution_count": 41,
     "metadata": {},
     "output_type": "execute_result"
    }
   ],
   "source": [
    "mlr.coef_"
   ]
  },
  {
   "cell_type": "code",
   "execution_count": 42,
   "id": "8b6b7a10-e3fe-446a-bcf9-1798c3e0d1a2",
   "metadata": {},
   "outputs": [
    {
     "data": {
      "text/html": [
       "<div>\n",
       "<style scoped>\n",
       "    .dataframe tbody tr th:only-of-type {\n",
       "        vertical-align: middle;\n",
       "    }\n",
       "\n",
       "    .dataframe tbody tr th {\n",
       "        vertical-align: top;\n",
       "    }\n",
       "\n",
       "    .dataframe thead th {\n",
       "        text-align: right;\n",
       "    }\n",
       "</style>\n",
       "<table border=\"1\" class=\"dataframe\">\n",
       "  <thead>\n",
       "    <tr style=\"text-align: right;\">\n",
       "      <th></th>\n",
       "      <th>Attribute</th>\n",
       "      <th>Coefficients</th>\n",
       "    </tr>\n",
       "  </thead>\n",
       "  <tbody>\n",
       "    <tr>\n",
       "      <th>0</th>\n",
       "      <td>MedInc</td>\n",
       "      <td>0.438284</td>\n",
       "    </tr>\n",
       "    <tr>\n",
       "      <th>1</th>\n",
       "      <td>HouseAge</td>\n",
       "      <td>0.009021</td>\n",
       "    </tr>\n",
       "    <tr>\n",
       "      <th>2</th>\n",
       "      <td>AveRooms</td>\n",
       "      <td>-0.113436</td>\n",
       "    </tr>\n",
       "    <tr>\n",
       "      <th>3</th>\n",
       "      <td>AveBedrms</td>\n",
       "      <td>0.648835</td>\n",
       "    </tr>\n",
       "    <tr>\n",
       "      <th>4</th>\n",
       "      <td>Population</td>\n",
       "      <td>-0.000008</td>\n",
       "    </tr>\n",
       "    <tr>\n",
       "      <th>5</th>\n",
       "      <td>AveOccup</td>\n",
       "      <td>-0.003978</td>\n",
       "    </tr>\n",
       "    <tr>\n",
       "      <th>6</th>\n",
       "      <td>Latitude</td>\n",
       "      <td>-0.421168</td>\n",
       "    </tr>\n",
       "    <tr>\n",
       "      <th>7</th>\n",
       "      <td>Longitude</td>\n",
       "      <td>-0.43468</td>\n",
       "    </tr>\n",
       "  </tbody>\n",
       "</table>\n",
       "</div>"
      ],
      "text/plain": [
       "    Attribute Coefficients\n",
       "0      MedInc     0.438284\n",
       "1    HouseAge     0.009021\n",
       "2    AveRooms    -0.113436\n",
       "3   AveBedrms     0.648835\n",
       "4  Population    -0.000008\n",
       "5    AveOccup    -0.003978\n",
       "6    Latitude    -0.421168\n",
       "7   Longitude     -0.43468"
      ]
     },
     "execution_count": 42,
     "metadata": {},
     "output_type": "execute_result"
    }
   ],
   "source": [
    "coefficients= pd.DataFrame([X_train.columns,mlr.coef_]).T\n",
    "coefficients= coefficients.rename(columns= {0: 'Attribute', 1: 'Coefficients'})\n",
    "coefficients"
   ]
  },
  {
   "cell_type": "markdown",
   "id": "22e303c6-d949-4352-8a7a-f7922e942716",
   "metadata": {},
   "source": [
    "# MLR evaluation "
   ]
  },
  {
   "cell_type": "code",
   "execution_count": 43,
   "id": "84bc8887-7416-4255-bb86-aa2a80431f2e",
   "metadata": {},
   "outputs": [],
   "source": [
    "Y_pred= mlr.predict(X_train)"
   ]
  },
  {
   "cell_type": "code",
   "execution_count": 45,
   "id": "d343eaa9-4df2-4fe7-bb10-908436cf2885",
   "metadata": {},
   "outputs": [
    {
     "name": "stdout",
     "output_type": "stream",
     "text": [
      "R^2: 0.6081901093734017\n",
      "MAE: 0.5319076620403801\n",
      "MSE: 0.525845491043439\n",
      "RMSE: 0.7251520468449627\n"
     ]
    }
   ],
   "source": [
    "# Model Evaluation\n",
    "print('R^2:',metrics.r2_score(Y_train, Y_pred))\n",
    "print('MAE:',metrics.mean_absolute_error(Y_train, Y_pred))\n",
    "print('MSE:',metrics.mean_squared_error(Y_train, Y_pred))\n",
    "print('RMSE:',np.sqrt(metrics.mean_squared_error(Y_train, Y_pred)))"
   ]
  },
  {
   "cell_type": "code",
   "execution_count": 46,
   "id": "840b4616-90bc-4ad9-97b7-0f82b91044a9",
   "metadata": {},
   "outputs": [
    {
     "data": {
      "image/png": "[encoded data removed]",
      "text/plain": [
       "<Figure size 640x480 with 1 Axes>"
      ]
     },
     "metadata": {},
     "output_type": "display_data"
    }
   ],
   "source": [
    "# Visualizing the differences between actual prices and predicted values\n",
    "plt.scatter(Y_train, Y_pred)\n",
    "plt.xlabel(\"Prices\")\n",
    "plt.ylabel(\"Predicted prices\")\n",
    "plt.title(\"Prices vs Predicted prices\")\n",
    "plt.show()"
   ]
  },
  {
   "cell_type": "code",
   "execution_count": 47,
   "id": "3717e02b-e917-4d5e-9f68-aa54cf4b3ba2",
   "metadata": {},
   "outputs": [
    {
     "name": "stderr",
     "output_type": "stream",
     "text": [
      "/Applications/anaconda3/lib/python3.11/site-packages/seaborn/_oldcore.py:1119: FutureWarning: use_inf_as_na option is deprecated and will be removed in a future version. Convert inf values to NaN before operating instead.\n",
      "  with pd.option_context('mode.use_inf_as_na', True):\n"
     ]
    },
    {
     "data": {
      "image/png": "[encoded data removed]",
      "text/plain": [
       "<Figure size 500x500 with 1 Axes>"
      ]
     },
     "metadata": {},
     "output_type": "display_data"
    }
   ],
   "source": [
    "sns.displot(Y_train-Y_pred)\n",
    "plt.title(\"Histogram of Residuals\")\n",
    "plt.xlabel(\"Residuals\")\n",
    "plt.ylabel(\"Frequency\")\n",
    "plt.show()"
   ]
  },
  {
   "cell_type": "markdown",
   "id": "18505847-e96d-49ec-9bba-63c020855a3a",
   "metadata": {},
   "source": [
    "# Polynomial regression "
   ]
  },
  {
   "cell_type": "code",
   "execution_count": 48,
   "id": "f40322c3-fae9-42f8-a9c7-6b2ca0a8af7e",
   "metadata": {},
   "outputs": [],
   "source": [
    "from sklearn.preprocessing import PolynomialFeatures"
   ]
  },
  {
   "cell_type": "code",
   "execution_count": 52,
   "id": "54803448-68a3-46ea-b9d4-78a148e5634c",
   "metadata": {},
   "outputs": [],
   "source": [
    "\"Creates a polynomial regression model for the given degree\"\n",
    "poly_features = PolynomialFeatures(degree=2)\n",
    "   \n",
    "# transform the features to higher degree features.\n",
    "X_train_quadratic = poly_features.fit_transform(X_train)\n",
    "   \n",
    "# fit the transformed features to Linear Regression\n",
    "quadratic = LinearRegression()\n",
    "\n",
    "quadratic.fit(X_train_quadratic, Y_train)\n",
    "     \n",
    "# predicting on training data-set\n",
    "Y_train_predicted = quadratic.predict(X_train_quadratic)\n",
    "   \n",
    "# predicting on test data-set\n",
    "Y_test_predicted = quadratic.predict(poly_features.fit_transform(X_test))"
   ]
  },
  {
   "cell_type": "markdown",
   "id": "98765232-bb87-414f-97ca-5c7c5077e690",
   "metadata": {},
   "source": [
    "This code snippet demonstrates the process of creating, fitting, and using a polynomial regression model to make predictions on both training and testing datasets. Polynomial regression is a form of regression analysis in which the relationship between the independent variable \\(x\\) and the dependent variable \\(y\\) is modeled as an \\(n\\)th degree polynomial. It's used when the data shows a non-linear relationship that a simple linear regression can't accurately model. Here's a step-by-step explanation:\n",
    "\n",
    "1. **Polynomial Feature Transformation:**\n",
    "   ```python\n",
    "   poly_features = PolynomialFeatures(degree=2)\n",
    "   ```\n",
    "   - `PolynomialFeatures(degree=2)` creates an instance of the `PolynomialFeatures` class from the `sklearn.preprocessing` module. This instance is configured to generate polynomial features of degree 2. It means that if the input feature is \\(x\\), the output will include features \\(1\\) (the bias), \\(x\\), and \\(x^2\\).\n",
    "\n",
    "2. **Transforming the Training Features:**\n",
    "   ```python\n",
    "   X_train_quadratic = poly_features.fit_transform(X_train)\n",
    "   ```\n",
    "   - `fit_transform(X_train)` applies two operations: it first fits the model to the data, determining the min-max values of the features if needed, and then transforms the features in `X_train` into quadratic features. The transformed features are stored in `X_train_quadratic`, which now contains the original features plus the squared terms and an intercept term.\n",
    "\n",
    "3. **Fitting the Transformed Features to Linear Regression:**\n",
    "   ```python\n",
    "   quadratic = LinearRegression()\n",
    "   quadratic.fit(X_train_quadratic, y_train)\n",
    "   ```\n",
    "   - A `LinearRegression` model instance is created and then fitted to the transformed quadratic features (`X_train_quadratic`) and the target variable (`y_train`). Although the underlying relationship between the transformed features and the target is linear from the model's perspective, the actual relationship between the original features and the target is quadratic.\n",
    "\n",
    "4. **Predicting on Training Dataset:**\n",
    "   ```python\n",
    "   y_train_predicted = quadratic.predict(X_train_quadratic)\n",
    "   ```\n",
    "   - The model, now trained on the quadratic features, is used to make predictions on the training dataset itself. These predictions are stored in `y_train_predicted`. This can be useful for evaluating the training performance of the model, such as calculating the training error.\n",
    "\n",
    "5. **Transforming the Test Features and Predicting on Test Dataset:**\n",
    "   ```python\n",
    "   y_test_predicted = quadratic.predict(poly_features.fit_transform(X_test))\n",
    "   ```\n",
    "   - Before making predictions on the test dataset (`X_test`), it's crucial to transform its features to match the quadratic feature space used for training. Note that `fit_transform` is used again, but typically, you should use just `transform` on the test set to avoid data leakage and ensure the transformation is consistent with the training set. This seems to be an oversight in the snippet. After transformation, the model makes predictions on the test dataset, stored in `y_test_predicted`.\n",
    "\n",
    "In summary, this snippet outlines the process of using polynomial features to extend linear regression for cases where the relationship between variables is non-linear. It includes generating polynomial features, fitting a linear model to these features, and making predictions on both training and test datasets. However, be mindful of the potential mistake in using `fit_transform` on the test set; instead, `transform` should be used to ensure the transformation applied is consistent with the one applied to the training set."
   ]
  },
  {
   "cell_type": "code",
   "execution_count": 57,
   "id": "225b158a-52b5-4f8b-a2a0-1d6d1511651e",
   "metadata": {},
   "outputs": [
    {
     "data": {
      "text/html": [
       "<div>\n",
       "<style scoped>\n",
       "    .dataframe tbody tr th:only-of-type {\n",
       "        vertical-align: middle;\n",
       "    }\n",
       "\n",
       "    .dataframe tbody tr th {\n",
       "        vertical-align: top;\n",
       "    }\n",
       "\n",
       "    .dataframe thead th {\n",
       "        text-align: right;\n",
       "    }\n",
       "</style>\n",
       "<table border=\"1\" class=\"dataframe\">\n",
       "  <thead>\n",
       "    <tr style=\"text-align: right;\">\n",
       "      <th></th>\n",
       "      <th>MedInc</th>\n",
       "      <th>HouseAge</th>\n",
       "      <th>AveRooms</th>\n",
       "      <th>AveBedrms</th>\n",
       "      <th>Population</th>\n",
       "      <th>AveOccup</th>\n",
       "      <th>Latitude</th>\n",
       "      <th>Longitude</th>\n",
       "    </tr>\n",
       "  </thead>\n",
       "  <tbody>\n",
       "    <tr>\n",
       "      <th>7379</th>\n",
       "      <td>2.1473</td>\n",
       "      <td>41.0</td>\n",
       "      <td>3.416185</td>\n",
       "      <td>1.000000</td>\n",
       "      <td>1644.0</td>\n",
       "      <td>4.751445</td>\n",
       "      <td>33.97</td>\n",
       "      <td>-118.24</td>\n",
       "    </tr>\n",
       "    <tr>\n",
       "      <th>16825</th>\n",
       "      <td>3.5250</td>\n",
       "      <td>34.0</td>\n",
       "      <td>4.296296</td>\n",
       "      <td>0.895062</td>\n",
       "      <td>398.0</td>\n",
       "      <td>2.456790</td>\n",
       "      <td>37.63</td>\n",
       "      <td>-122.49</td>\n",
       "    </tr>\n",
       "    <tr>\n",
       "      <th>4424</th>\n",
       "      <td>1.5491</td>\n",
       "      <td>20.0</td>\n",
       "      <td>1.640000</td>\n",
       "      <td>0.680000</td>\n",
       "      <td>87.0</td>\n",
       "      <td>3.480000</td>\n",
       "      <td>34.06</td>\n",
       "      <td>-118.25</td>\n",
       "    </tr>\n",
       "    <tr>\n",
       "      <th>17693</th>\n",
       "      <td>5.7078</td>\n",
       "      <td>17.0</td>\n",
       "      <td>5.395735</td>\n",
       "      <td>1.014218</td>\n",
       "      <td>1887.0</td>\n",
       "      <td>4.471564</td>\n",
       "      <td>37.28</td>\n",
       "      <td>-121.81</td>\n",
       "    </tr>\n",
       "    <tr>\n",
       "      <th>19584</th>\n",
       "      <td>5.6945</td>\n",
       "      <td>36.0</td>\n",
       "      <td>6.191489</td>\n",
       "      <td>1.021277</td>\n",
       "      <td>124.0</td>\n",
       "      <td>2.638298</td>\n",
       "      <td>37.59</td>\n",
       "      <td>-120.59</td>\n",
       "    </tr>\n",
       "  </tbody>\n",
       "</table>\n",
       "</div>"
      ],
      "text/plain": [
       "       MedInc  HouseAge  AveRooms  AveBedrms  Population  AveOccup  Latitude  \\\n",
       "7379   2.1473      41.0  3.416185   1.000000      1644.0  4.751445     33.97   \n",
       "16825  3.5250      34.0  4.296296   0.895062       398.0  2.456790     37.63   \n",
       "4424   1.5491      20.0  1.640000   0.680000        87.0  3.480000     34.06   \n",
       "17693  5.7078      17.0  5.395735   1.014218      1887.0  4.471564     37.28   \n",
       "19584  5.6945      36.0  6.191489   1.021277       124.0  2.638298     37.59   \n",
       "\n",
       "       Longitude  \n",
       "7379     -118.24  \n",
       "16825    -122.49  \n",
       "4424     -118.25  \n",
       "17693    -121.81  \n",
       "19584    -120.59  "
      ]
     },
     "execution_count": 57,
     "metadata": {},
     "output_type": "execute_result"
    }
   ],
   "source": [
    "X_train.head()"
   ]
  },
  {
   "cell_type": "markdown",
   "id": "ba4bdbff-84dc-495c-88b1-6fe4b6ad2fbe",
   "metadata": {},
   "source": [
    "## A mistake in the source code "
   ]
  },
  {
   "cell_type": "markdown",
   "id": "90cce948-7823-4da5-a27b-5c516eebfbde",
   "metadata": {},
   "source": [
    "The advice about using `transform` instead of `fit_transform` on the test dataset addresses a crucial concept in machine learning: avoiding data leakage and ensuring that the model is evaluated on truly unseen data. Here's a deeper explanation of these points:\n",
    "\n",
    "### Data Leakage\n",
    "\n",
    "- **Data Leakage:** This occurs when information from outside the training dataset is used to create the model. This can lead to overly optimistic performance metrics during training and testing phases and can result in poor performance when the model is deployed in a real-world setting. In the context of feature transformation, using `fit_transform` on the test set might introduce data leakage because it recalculates any transformation parameters based on the test set before transforming it. Essentially, you're allowing the model to peek at the test data during training, albeit indirectly, which can bias the model.\n",
    "\n",
    "### Ensuring Consistent Transformation\n",
    "\n",
    "- **Fitting on Training Data:** When you use `fit_transform` on the training data (`X_train`), the transformation (like `PolynomialFeatures`) learns any necessary parameters from this data. For polynomial features, there might not be explicit parameters to learn since the transformation is deterministic and based only on the degree of the polynomial specified. However, for other transformations that compute statistics (like scaling or normalization), `fit` calculates these necessary statistics (e.g., mean, standard deviation) from the training data.\n",
    "\n",
    "- **Transforming the Test Data:** The correct practice is to then use the `transform` method (not `fit_transform`) on the test data (`X_test`). This uses the parameters learned from the training data to transform the test data. This ensures that the transformation applied to the test data is consistent with the transformation applied to the training data, making the training and test datasets compatible for model evaluation.\n",
    "\n",
    "### Why `transform` and Not `fit_transform` for Test Data\n",
    "\n",
    "- Using `fit_transform` on the test set, especially for transformations that involve learning parameters, would cause the transformation to adjust these parameters based on the test data. This not only risks data leakage but also breaks the consistency between how the training and test data are processed. For polynomial features, even though the parameter learning is not applicable, using `transform` is still the best practice to maintain consistency in preprocessing steps across different types of transformations.\n",
    "\n",
    "- Ensuring that both training and test datasets undergo the same preprocessing steps (using the same parameters learned from the training set) is crucial for the fairness and accuracy of the model evaluation process. The model should be tested under the same conditions as it was trained, using the test set as a stand-in for future, unseen data.\n",
    "\n",
    "In summary, the advice highlights the best practice of using `transform` on the test dataset to avoid inadvertently giving the model access to information it shouldn't have (preventing data leakage) and to ensure that the test data is processed in exactly the same way as the training data, using the parameters learned from the training data. This makes the testing phase a more accurate reflection of how the model will perform on truly unseen data."
   ]
  },
  {
   "cell_type": "markdown",
   "id": "0304691a-4617-48c1-9d29-211bae29b8f7",
   "metadata": {},
   "source": [
    "## Eddited version based on the mistake made "
   ]
  },
  {
   "cell_type": "code",
   "execution_count": 66,
   "id": "d1952227-7d7d-4b09-81a3-f9220f745da9",
   "metadata": {},
   "outputs": [],
   "source": [
    "# predicting on test data-set\n",
    "Y_test_predicted = quadratic.predict(poly_features.transform(X_test))"
   ]
  },
  {
   "cell_type": "code",
   "execution_count": 67,
   "id": "70709538-3ccb-4b5f-b917-303d047091cb",
   "metadata": {},
   "outputs": [
    {
     "data": {
      "text/plain": [
       "array([[ 1.00000000e+00,  2.14730000e+00,  4.10000000e+01,\n",
       "         3.41618497e+00,  1.00000000e+00,  1.64400000e+03,\n",
       "         4.75144509e+00,  3.39700000e+01, -1.18240000e+02,\n",
       "         4.61089729e+00,  8.80393000e+01,  7.33557399e+00,\n",
       "         2.14730000e+00,  3.53016120e+03,  1.02027780e+01,\n",
       "         7.29437810e+01, -2.53896752e+02,  1.68100000e+03,\n",
       "         1.40063584e+02,  4.10000000e+01,  6.74040000e+04,\n",
       "         1.94809249e+02,  1.39277000e+03, -4.84784000e+03,\n",
       "         1.16703198e+01,  3.41618497e+00,  5.61620809e+03,\n",
       "         1.62318153e+01,  1.16047803e+02, -4.03929711e+02,\n",
       "         1.00000000e+00,  1.64400000e+03,  4.75144509e+00,\n",
       "         3.39700000e+01, -1.18240000e+02,  2.70273600e+06,\n",
       "         7.81137572e+03,  5.58466800e+04, -1.94386560e+05,\n",
       "         2.25762304e+01,  1.61406590e+02, -5.61810867e+02,\n",
       "         1.15396090e+03, -4.01661280e+03,  1.39806976e+04]])"
      ]
     },
     "execution_count": 67,
     "metadata": {},
     "output_type": "execute_result"
    }
   ],
   "source": [
    "X_train_quadratic[[0]]"
   ]
  },
  {
   "cell_type": "markdown",
   "id": "f05de899-2a63-4df5-b2eb-00857654f499",
   "metadata": {},
   "source": [
    "## model evaluation"
   ]
  },
  {
   "cell_type": "code",
   "execution_count": 68,
   "id": "a5270eaa-2529-40ab-b648-f8814c3a6d25",
   "metadata": {},
   "outputs": [
    {
     "data": {
      "text/plain": [
       "0.697055435513924"
      ]
     },
     "execution_count": 68,
     "metadata": {},
     "output_type": "execute_result"
    }
   ],
   "source": [
    "metrics.r2_score(Y_train, Y_train_predicted)"
   ]
  },
  {
   "cell_type": "code",
   "execution_count": 69,
   "id": "b1c38943-eba6-4189-a8fd-1ba2b3d48edd",
   "metadata": {},
   "outputs": [
    {
     "data": {
      "text/plain": [
       "0.4799914924515505"
      ]
     },
     "execution_count": 69,
     "metadata": {},
     "output_type": "execute_result"
    }
   ],
   "source": [
    "metrics.r2_score(Y_test, Y_test_predicted)"
   ]
  },
  {
   "cell_type": "markdown",
   "id": "3f78bd8e-14fd-4f69-889c-77a0a86c0755",
   "metadata": {},
   "source": [
    " ## Let's set the degree to 3 now (Cubic)"
   ]
  },
  {
   "cell_type": "code",
   "execution_count": 70,
   "id": "d4f56021-ce1b-49c0-b77a-402839b409fb",
   "metadata": {},
   "outputs": [],
   "source": [
    "\"Creates a polynomial regression model for the given degree\"\n",
    "poly_features = PolynomialFeatures(degree=3)\n",
    "   \n",
    "# transform the features to higher degree features.\n",
    "X_train_cubic = poly_features.fit_transform(X_train)\n",
    "   \n",
    "# fit the transformed features to Linear Regression\n",
    "cubic = LinearRegression()\n",
    "\n",
    "cubic.fit(X_train_cubic, Y_train)\n",
    "     \n",
    "# predicting on training data-set\n",
    "Y_train_predicted = cubic.predict(X_train_cubic)\n",
    "   \n",
    "# predicting on test data-set\n",
    "Y_test_predicted = cubic.predict(poly_features.transform(X_test))"
   ]
  },
  {
   "cell_type": "markdown",
   "id": "e93837e7-f55b-40b7-a9ba-6b08fb3795c7",
   "metadata": {},
   "source": [
    "## Model evaluation "
   ]
  },
  {
   "cell_type": "code",
   "execution_count": 71,
   "id": "d550892e-56ad-49ec-807c-0e3268a43524",
   "metadata": {},
   "outputs": [
    {
     "data": {
      "text/plain": [
       "0.7447841460906479"
      ]
     },
     "execution_count": 71,
     "metadata": {},
     "output_type": "execute_result"
    }
   ],
   "source": [
    "metrics.r2_score(Y_train, Y_train_predicted)"
   ]
  },
  {
   "cell_type": "code",
   "execution_count": 72,
   "id": "7a51c8b1-a4ca-49be-8185-ddee88e1d189",
   "metadata": {},
   "outputs": [
    {
     "data": {
      "text/plain": [
       "-41820.56593404423"
      ]
     },
     "execution_count": 72,
     "metadata": {},
     "output_type": "execute_result"
    }
   ],
   "source": [
    "metrics.r2_score(Y_test, Y_test_predicted)"
   ]
  },
  {
   "cell_type": "markdown",
   "id": "c8cb8b0f-3d3b-4183-a050-d966d5072960",
   "metadata": {},
   "source": [
    "An \\(R^2\\) score of 0.74 for the training data suggests that your model explains 74% of the variance in the target variable based on the input features, which is generally considered a decent score depending on the context and the complexity of the problem you're tackling. However, an \\(R^2\\) score of -41 for the test dataset is highly unusual and indicates a significant problem with how the model is generalizing to new, unseen data. The \\(R^2\\) score, or the coefficient of determination, ranges from -∞ to 1, where:\n",
    "- A score of 1 indicates a perfect fit.\n",
    "- A score of 0 indicates that the model does as well as a simple mean of the target values, with no regard to the input features.\n",
    "- A negative \\(R^2\\) score indicates that the model performs worse than a simple mean of the target values, which is typically a sign of a severely overfitting model or other significant issues.\n",
    "\n",
    "Several factors could contribute to such a drastic difference between the training and test \\(R^2\\) scores:\n",
    "\n",
    "### Overfitting\n",
    "Your model may have overfit the training data. Overfitting occurs when a model learns the details and noise in the training data to the extent that it negatively impacts the model's performance on new data. This is especially common in models with high complexity, such as polynomial regression with a high degree, leading to capturing noise as if it were a legitimate pattern.\n",
    "\n",
    "### Data Leakage\n",
    "As previously mentioned, if there was any data leakage during the model training process, your model might perform unrealistically well on the training data but fail on the test data. However, data leakage typically results in overly optimistic training performance, which doesn't directly explain the negative \\(R^2\\) score on the test set unless the leakage led to incorrect model training or validation procedures.\n",
    "\n",
    "### Feature Transformation Consistency\n",
    "If the feature transformation applied to the test data is not consistent with the transformation applied to the training data, the model might receive input in a form it hasn't learned to predict accurately. For example, if `fit_transform` was mistakenly used on the test data for some transformations (leading to different scaling, normalization, or polynomial feature calculations), the model predictions can be off.\n",
    "\n",
    "### Dataset Discrepancy\n",
    "There might be a significant discrepancy between the training and test datasets. If the test set contains outliers or values not represented or significantly underrepresented in the training set, the model might fail to make accurate predictions for those points. This is also related to the model's generalization ability but highlights the importance of ensuring that the training and test sets are representative of the same population.\n",
    "\n",
    "### Error in Model Application\n",
    "Ensure that there were no errors in how the model was applied to the test data, such as incorrect feature selection, accidental inclusion of target variable information in the features, or issues with data preprocessing that led to incorrect input data for the model.\n",
    "\n",
    "### Debugging Steps\n",
    "- **Review the feature preprocessing pipeline** to ensure consistency between training and test datasets.\n",
    "- **Check for overfitting** by using simpler models or applying regularization techniques.\n",
    "- **Validate the model** with cross-validation to ensure its robustness and generalization capability.\n",
    "- **Examine the test data** for outliers or leverage points that could disproportionately affect the model's performance.\n",
    "- **Experiment with model complexity**, possibly reducing the degree of polynomial features if you're using polynomial regression, to see if a simpler model generalizes better."
   ]
  },
  {
   "cell_type": "code",
   "execution_count": null,
   "id": "86a471ca-dd85-4ab2-a9b7-9e813ef115eb",
   "metadata": {},
   "outputs": [],
   "source": []
  }
 ],
 "metadata": {
  "kernelspec": {
   "display_name": "Python 3 (ipykernel)",
   "language": "python",
   "name": "python3"
  },
  "language_info": {
   "codemirror_mode": {
    "name": "ipython",
    "version": 3
   },
   "file_extension": ".py",
   "mimetype": "text/x-python",
   "name": "python",
   "nbconvert_exporter": "python",
   "pygments_lexer": "ipython3",
   "version": "3.11.7"
  }
 },
 "nbformat": 4,
 "nbformat_minor": 5
}
