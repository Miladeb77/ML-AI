{
 "cells": [
  {
   "cell_type": "code",
   "execution_count": 104,
   "metadata": {
    "executionInfo": {
     "elapsed": 255,
     "status": "ok",
     "timestamp": 1719345266592,
     "user": {
      "displayName": "milad ebrahimian",
      "userId": "12617387319880213983"
     },
     "user_tz": -60
    },
    "id": "t90YKrWFBQGc"
   },
   "outputs": [],
   "source": [
    "import tensorflow as tf\n",
    "from tensorflow import keras\n",
    "import matplotlib.pyplot as plt\n",
    "import numpy as np"
   ]
  },
  {
   "cell_type": "markdown",
   "metadata": {},
   "source": [
    "# The following topics will be discussed within this notebook:\n",
    "\n",
    "    1- Loading the dataset and looking through the data in TensorFlow \n",
    "    2- Simple data normalisation \n",
    "    3- Creating a simple MLP for classification \n",
    "    4- Model compiling \n",
    "    5- Model fitting \n",
    "    6- Visualisation of objective functions \n",
    "    7- Using the model for prediction"
   ]
  },
  {
   "cell_type": "markdown",
   "metadata": {
    "id": "ZFJxmw-rB_qz"
   },
   "source": [
    "the Fashion MNIST dataset which contains 70,000 grayscale images in 10 categories. The images show individual articles of clothing at low resolution (28 by 28 pixels)\n",
    "\n"
   ]
  },
  {
   "cell_type": "markdown",
   "metadata": {
    "id": "ZDCjR2tqDmnc"
   },
   "source": [
    "Downloading Fashion MNIST from kERAS. note that the train test split has already been done in within the downloaded dataset"
   ]
  },
  {
   "cell_type": "code",
   "execution_count": 2,
   "metadata": {
    "executionInfo": {
     "elapsed": 293,
     "status": "ok",
     "timestamp": 1719330166210,
     "user": {
      "displayName": "milad ebrahimian",
      "userId": "12617387319880213983"
     },
     "user_tz": -60
    },
    "id": "rwz3rqeMDXxT"
   },
   "outputs": [],
   "source": [
    "fmnist_data= keras.datasets.fashion_mnist"
   ]
  },
  {
   "cell_type": "code",
   "execution_count": 3,
   "metadata": {
    "colab": {
     "base_uri": "https://localhost:8080/"
    },
    "executionInfo": {
     "elapsed": 287,
     "status": "ok",
     "timestamp": 1719330184536,
     "user": {
      "displayName": "milad ebrahimian",
      "userId": "12617387319880213983"
     },
     "user_tz": -60
    },
    "id": "6ub3l7r_EH7G",
    "outputId": "7c40f249-79de-4e7e-f6fc-14abb55895f9"
   },
   "outputs": [
    {
     "data": {
      "text/plain": [
       "<module 'keras.api._v2.keras.datasets.fashion_mnist' from '/usr/local/lib/python3.10/dist-packages/keras/api/_v2/keras/datasets/fashion_mnist/__init__.py'>"
      ]
     },
     "execution_count": 3,
     "metadata": {},
     "output_type": "execute_result"
    }
   ],
   "source": [
    "fmnist_data"
   ]
  },
  {
   "cell_type": "code",
   "execution_count": 4,
   "metadata": {
    "colab": {
     "base_uri": "https://localhost:8080/"
    },
    "executionInfo": {
     "elapsed": 1235,
     "status": "ok",
     "timestamp": 1719330224392,
     "user": {
      "displayName": "milad ebrahimian",
      "userId": "12617387319880213983"
     },
     "user_tz": -60
    },
    "id": "mdvX05jqEJr4",
    "outputId": "d6ec37ac-85ce-47ac-b945-0ddefa356f89"
   },
   "outputs": [
    {
     "name": "stdout",
     "output_type": "stream",
     "text": [
      "Downloading data from https://storage.googleapis.com/tensorflow/tf-keras-datasets/train-labels-idx1-ubyte.gz\n",
      "29515/29515 [==============================] - 0s 0us/step\n",
      "Downloading data from https://storage.googleapis.com/tensorflow/tf-keras-datasets/train-images-idx3-ubyte.gz\n",
      "26421880/26421880 [==============================] - 0s 0us/step\n",
      "Downloading data from https://storage.googleapis.com/tensorflow/tf-keras-datasets/t10k-labels-idx1-ubyte.gz\n",
      "5148/5148 [==============================] - 0s 0us/step\n",
      "Downloading data from https://storage.googleapis.com/tensorflow/tf-keras-datasets/t10k-images-idx3-ubyte.gz\n",
      "4422102/4422102 [==============================] - 0s 0us/step\n"
     ]
    },
    {
     "data": {
      "text/plain": [
       "((array([[[0, 0, 0, ..., 0, 0, 0],\n",
       "          [0, 0, 0, ..., 0, 0, 0],\n",
       "          [0, 0, 0, ..., 0, 0, 0],\n",
       "          ...,\n",
       "          [0, 0, 0, ..., 0, 0, 0],\n",
       "          [0, 0, 0, ..., 0, 0, 0],\n",
       "          [0, 0, 0, ..., 0, 0, 0]],\n",
       "  \n",
       "         [[0, 0, 0, ..., 0, 0, 0],\n",
       "          [0, 0, 0, ..., 0, 0, 0],\n",
       "          [0, 0, 0, ..., 0, 0, 0],\n",
       "          ...,\n",
       "          [0, 0, 0, ..., 0, 0, 0],\n",
       "          [0, 0, 0, ..., 0, 0, 0],\n",
       "          [0, 0, 0, ..., 0, 0, 0]],\n",
       "  \n",
       "         [[0, 0, 0, ..., 0, 0, 0],\n",
       "          [0, 0, 0, ..., 0, 0, 0],\n",
       "          [0, 0, 0, ..., 0, 0, 0],\n",
       "          ...,\n",
       "          [0, 0, 0, ..., 0, 0, 0],\n",
       "          [0, 0, 0, ..., 0, 0, 0],\n",
       "          [0, 0, 0, ..., 0, 0, 0]],\n",
       "  \n",
       "         ...,\n",
       "  \n",
       "         [[0, 0, 0, ..., 0, 0, 0],\n",
       "          [0, 0, 0, ..., 0, 0, 0],\n",
       "          [0, 0, 0, ..., 0, 0, 0],\n",
       "          ...,\n",
       "          [0, 0, 0, ..., 0, 0, 0],\n",
       "          [0, 0, 0, ..., 0, 0, 0],\n",
       "          [0, 0, 0, ..., 0, 0, 0]],\n",
       "  \n",
       "         [[0, 0, 0, ..., 0, 0, 0],\n",
       "          [0, 0, 0, ..., 0, 0, 0],\n",
       "          [0, 0, 0, ..., 0, 0, 0],\n",
       "          ...,\n",
       "          [0, 0, 0, ..., 0, 0, 0],\n",
       "          [0, 0, 0, ..., 0, 0, 0],\n",
       "          [0, 0, 0, ..., 0, 0, 0]],\n",
       "  \n",
       "         [[0, 0, 0, ..., 0, 0, 0],\n",
       "          [0, 0, 0, ..., 0, 0, 0],\n",
       "          [0, 0, 0, ..., 0, 0, 0],\n",
       "          ...,\n",
       "          [0, 0, 0, ..., 0, 0, 0],\n",
       "          [0, 0, 0, ..., 0, 0, 0],\n",
       "          [0, 0, 0, ..., 0, 0, 0]]], dtype=uint8),\n",
       "  array([9, 0, 0, ..., 3, 0, 5], dtype=uint8)),\n",
       " (array([[[0, 0, 0, ..., 0, 0, 0],\n",
       "          [0, 0, 0, ..., 0, 0, 0],\n",
       "          [0, 0, 0, ..., 0, 0, 0],\n",
       "          ...,\n",
       "          [0, 0, 0, ..., 0, 0, 0],\n",
       "          [0, 0, 0, ..., 0, 0, 0],\n",
       "          [0, 0, 0, ..., 0, 0, 0]],\n",
       "  \n",
       "         [[0, 0, 0, ..., 0, 0, 0],\n",
       "          [0, 0, 0, ..., 0, 0, 0],\n",
       "          [0, 0, 0, ..., 0, 0, 0],\n",
       "          ...,\n",
       "          [0, 0, 0, ..., 0, 0, 0],\n",
       "          [0, 0, 0, ..., 0, 0, 0],\n",
       "          [0, 0, 0, ..., 0, 0, 0]],\n",
       "  \n",
       "         [[0, 0, 0, ..., 0, 0, 0],\n",
       "          [0, 0, 0, ..., 0, 0, 0],\n",
       "          [0, 0, 0, ..., 0, 0, 0],\n",
       "          ...,\n",
       "          [0, 0, 0, ..., 0, 0, 0],\n",
       "          [0, 0, 0, ..., 0, 0, 0],\n",
       "          [0, 0, 0, ..., 0, 0, 0]],\n",
       "  \n",
       "         ...,\n",
       "  \n",
       "         [[0, 0, 0, ..., 0, 0, 0],\n",
       "          [0, 0, 0, ..., 0, 0, 0],\n",
       "          [0, 0, 0, ..., 0, 0, 0],\n",
       "          ...,\n",
       "          [0, 0, 0, ..., 0, 0, 0],\n",
       "          [0, 0, 0, ..., 0, 0, 0],\n",
       "          [0, 0, 0, ..., 0, 0, 0]],\n",
       "  \n",
       "         [[0, 0, 0, ..., 0, 0, 0],\n",
       "          [0, 0, 0, ..., 0, 0, 0],\n",
       "          [0, 0, 0, ..., 0, 0, 0],\n",
       "          ...,\n",
       "          [0, 0, 0, ..., 0, 0, 0],\n",
       "          [0, 0, 0, ..., 0, 0, 0],\n",
       "          [0, 0, 0, ..., 0, 0, 0]],\n",
       "  \n",
       "         [[0, 0, 0, ..., 0, 0, 0],\n",
       "          [0, 0, 0, ..., 0, 0, 0],\n",
       "          [0, 0, 0, ..., 0, 0, 0],\n",
       "          ...,\n",
       "          [0, 0, 0, ..., 0, 0, 0],\n",
       "          [0, 0, 0, ..., 0, 0, 0],\n",
       "          [0, 0, 0, ..., 0, 0, 0]]], dtype=uint8),\n",
       "  array([9, 2, 1, ..., 8, 1, 5], dtype=uint8)))"
      ]
     },
     "execution_count": 4,
     "metadata": {},
     "output_type": "execute_result"
    }
   ],
   "source": [
    "fmnist_data.load_data()"
   ]
  },
  {
   "cell_type": "markdown",
   "metadata": {
    "id": "w6gf-Vq7Ec7P"
   },
   "source": [
    "Note that within fmnist_data the train and test data has already been seperated"
   ]
  },
  {
   "cell_type": "code",
   "execution_count": 55,
   "metadata": {
    "executionInfo": {
     "elapsed": 662,
     "status": "ok",
     "timestamp": 1719342047942,
     "user": {
      "displayName": "milad ebrahimian",
      "userId": "12617387319880213983"
     },
     "user_tz": -60
    },
    "id": "FxofSSJFEnOn"
   },
   "outputs": [],
   "source": [
    "(x_train, y_train), (x_test, y_test)= fmnist_data.load_data()"
   ]
  },
  {
   "cell_type": "code",
   "execution_count": 56,
   "metadata": {
    "colab": {
     "base_uri": "https://localhost:8080/"
    },
    "executionInfo": {
     "elapsed": 293,
     "status": "ok",
     "timestamp": 1719342049087,
     "user": {
      "displayName": "milad ebrahimian",
      "userId": "12617387319880213983"
     },
     "user_tz": -60
    },
    "id": "fA3hhmGzExnd",
    "outputId": "50bc64a6-cd73-4219-8425-bf3374046b53"
   },
   "outputs": [
    {
     "data": {
      "text/plain": [
       "(60000, 28, 28)"
      ]
     },
     "execution_count": 56,
     "metadata": {},
     "output_type": "execute_result"
    }
   ],
   "source": [
    "x_train.shape # 60000 pictures with 28*28 pixels. For each picture, there are 28 rols and 28 cols"
   ]
  },
  {
   "cell_type": "code",
   "execution_count": 57,
   "metadata": {
    "colab": {
     "base_uri": "https://localhost:8080/"
    },
    "executionInfo": {
     "elapsed": 2,
     "status": "ok",
     "timestamp": 1719342049915,
     "user": {
      "displayName": "milad ebrahimian",
      "userId": "12617387319880213983"
     },
     "user_tz": -60
    },
    "id": "rCAlWTctE0Qg",
    "outputId": "7f54d8c6-32ba-484f-9ab9-52f3c587c4c9"
   },
   "outputs": [
    {
     "data": {
      "text/plain": [
       "(60000,)"
      ]
     },
     "execution_count": 57,
     "metadata": {},
     "output_type": "execute_result"
    }
   ],
   "source": [
    "y_train.shape # the actual class/ category of each picture"
   ]
  },
  {
   "cell_type": "code",
   "execution_count": 58,
   "metadata": {
    "colab": {
     "base_uri": "https://localhost:8080/"
    },
    "executionInfo": {
     "elapsed": 2,
     "status": "ok",
     "timestamp": 1719342050938,
     "user": {
      "displayName": "milad ebrahimian",
      "userId": "12617387319880213983"
     },
     "user_tz": -60
    },
    "id": "C7zyA6zpE-o9",
    "outputId": "670ed9ba-d1b9-4fb1-da96-a9b55fa45609"
   },
   "outputs": [
    {
     "data": {
      "text/plain": [
       "array([[[0, 0, 0, ..., 0, 0, 0],\n",
       "        [0, 0, 0, ..., 0, 0, 0],\n",
       "        [0, 0, 0, ..., 0, 0, 0],\n",
       "        ...,\n",
       "        [0, 0, 0, ..., 0, 0, 0],\n",
       "        [0, 0, 0, ..., 0, 0, 0],\n",
       "        [0, 0, 0, ..., 0, 0, 0]],\n",
       "\n",
       "       [[0, 0, 0, ..., 0, 0, 0],\n",
       "        [0, 0, 0, ..., 0, 0, 0],\n",
       "        [0, 0, 0, ..., 0, 0, 0],\n",
       "        ...,\n",
       "        [0, 0, 0, ..., 0, 0, 0],\n",
       "        [0, 0, 0, ..., 0, 0, 0],\n",
       "        [0, 0, 0, ..., 0, 0, 0]]], dtype=uint8)"
      ]
     },
     "execution_count": 58,
     "metadata": {},
     "output_type": "execute_result"
    }
   ],
   "source": [
    "x_train[0:2]"
   ]
  },
  {
   "cell_type": "code",
   "execution_count": 59,
   "metadata": {
    "colab": {
     "base_uri": "https://localhost:8080/"
    },
    "executionInfo": {
     "elapsed": 406,
     "status": "ok",
     "timestamp": 1719342052400,
     "user": {
      "displayName": "milad ebrahimian",
      "userId": "12617387319880213983"
     },
     "user_tz": -60
    },
    "id": "iLCaj2i0FEDJ",
    "outputId": "13b61996-22da-472c-ede9-0dc02d376284"
   },
   "outputs": [
    {
     "data": {
      "text/plain": [
       "array([9, 0], dtype=uint8)"
      ]
     },
     "execution_count": 59,
     "metadata": {},
     "output_type": "execute_result"
    }
   ],
   "source": [
    "y_train[0:2] # image with index 0 is class 9 (a t-shirt for example) and image with index 1 is class 0"
   ]
  },
  {
   "cell_type": "code",
   "execution_count": 60,
   "metadata": {
    "colab": {
     "base_uri": "https://localhost:8080/"
    },
    "executionInfo": {
     "elapsed": 3,
     "status": "ok",
     "timestamp": 1719342053364,
     "user": {
      "displayName": "milad ebrahimian",
      "userId": "12617387319880213983"
     },
     "user_tz": -60
    },
    "id": "wi5BBWAoGK_e",
    "outputId": "0b4f9de1-5564-42fe-ad3e-15bb739d705b"
   },
   "outputs": [
    {
     "data": {
      "text/plain": [
       "(10000, 28, 28)"
      ]
     },
     "execution_count": 60,
     "metadata": {},
     "output_type": "execute_result"
    }
   ],
   "source": [
    "x_test.shape"
   ]
  },
  {
   "cell_type": "code",
   "execution_count": 61,
   "metadata": {
    "colab": {
     "base_uri": "https://localhost:8080/"
    },
    "executionInfo": {
     "elapsed": 3,
     "status": "ok",
     "timestamp": 1719342054309,
     "user": {
      "displayName": "milad ebrahimian",
      "userId": "12617387319880213983"
     },
     "user_tz": -60
    },
    "id": "yDgpP6yTGeLl",
    "outputId": "469d0e1c-97ec-487f-8b9c-173c47846355"
   },
   "outputs": [
    {
     "data": {
      "text/plain": [
       "(10000,)"
      ]
     },
     "execution_count": 61,
     "metadata": {},
     "output_type": "execute_result"
    }
   ],
   "source": [
    "y_test.shape"
   ]
  },
  {
   "cell_type": "code",
   "execution_count": 62,
   "metadata": {
    "colab": {
     "base_uri": "https://localhost:8080/"
    },
    "executionInfo": {
     "elapsed": 3,
     "status": "ok",
     "timestamp": 1719342055363,
     "user": {
      "displayName": "milad ebrahimian",
      "userId": "12617387319880213983"
     },
     "user_tz": -60
    },
    "id": "xEH3pqI9Ghib",
    "outputId": "e125af25-8552-4a86-dedb-25044cc2aca9"
   },
   "outputs": [
    {
     "data": {
      "text/plain": [
       "array([[[0, 0, 0, ..., 0, 0, 0],\n",
       "        [0, 0, 0, ..., 0, 0, 0],\n",
       "        [0, 0, 0, ..., 0, 0, 0],\n",
       "        ...,\n",
       "        [0, 0, 0, ..., 0, 0, 0],\n",
       "        [0, 0, 0, ..., 0, 0, 0],\n",
       "        [0, 0, 0, ..., 0, 0, 0]],\n",
       "\n",
       "       [[0, 0, 0, ..., 0, 0, 0],\n",
       "        [0, 0, 0, ..., 0, 0, 0],\n",
       "        [0, 0, 0, ..., 0, 0, 0],\n",
       "        ...,\n",
       "        [0, 0, 0, ..., 0, 0, 0],\n",
       "        [0, 0, 0, ..., 0, 0, 0],\n",
       "        [0, 0, 0, ..., 0, 0, 0]]], dtype=uint8)"
      ]
     },
     "execution_count": 62,
     "metadata": {},
     "output_type": "execute_result"
    }
   ],
   "source": [
    "x_test[0:2]"
   ]
  },
  {
   "cell_type": "code",
   "execution_count": 63,
   "metadata": {
    "colab": {
     "base_uri": "https://localhost:8080/"
    },
    "executionInfo": {
     "elapsed": 312,
     "status": "ok",
     "timestamp": 1719342056540,
     "user": {
      "displayName": "milad ebrahimian",
      "userId": "12617387319880213983"
     },
     "user_tz": -60
    },
    "id": "zbA1e7nLGjG-",
    "outputId": "43466436-647f-4dac-d58d-fac3113399c5"
   },
   "outputs": [
    {
     "data": {
      "text/plain": [
       "array([9, 2], dtype=uint8)"
      ]
     },
     "execution_count": 63,
     "metadata": {},
     "output_type": "execute_result"
    }
   ],
   "source": [
    "y_test[0:2]"
   ]
  },
  {
   "cell_type": "code",
   "execution_count": 64,
   "metadata": {
    "colab": {
     "base_uri": "https://localhost:8080/",
     "height": 66
    },
    "executionInfo": {
     "elapsed": 330,
     "status": "ok",
     "timestamp": 1719342057621,
     "user": {
      "displayName": "milad ebrahimian",
      "userId": "12617387319880213983"
     },
     "user_tz": -60
    },
    "id": "cWxCYsteGl0c",
    "outputId": "e53ff817-dc0a-41cf-e303-e4d8cfc50b6c"
   },
   "outputs": [
    {
     "data": {
      "text/html": [
       "<style>\n",
       "      .ndarray_repr .ndarray_raw_data {\n",
       "        display: none;\n",
       "      }\n",
       "      .ndarray_repr.show_array .ndarray_raw_data {\n",
       "        display: block;\n",
       "      }\n",
       "      .ndarray_repr.show_array .ndarray_image_preview {\n",
       "        display: none;\n",
       "      }\n",
       "      </style>\n",
       "      <div id=\"id-cc0b458e-1e32-489c-99d3-aad42d0b86e7\" class=\"ndarray_repr\"><pre>ndarray (28, 28) <button style=\"padding: 0 2px;\">show data</button></pre><img src=\"data:image/png;base64,iVBORw0KGgoAAAANSUhEUgAAABwAAAAcCAAAAABXZoBIAAAB90lEQVR4nF2QvWvTURSGn3PuTUwaSVMtlLZDBT+g0CragnQQwcnFQRAcdHNy0KngXyAIDg5O4qKuDrrp4ChFOthBsNrSxZZ0MMXYD5tffvfe45CkX2d9eF7e9wgAYsD487cL7Xzi5srTJvsnwMUnyz/WGmZmPxfT+qvJPQDVN+d1ezdPvn8nGZTKxc939+CnsY3kg6C5ooDY8PVF8ABTYw3vyiN9mvsohbC1Foj3Zrvm7MNGcvFFfW1kXfPi8UsPGr7qT4EC3ArOSuFlPvXhcnlocPNZ9KV/I+e6sRdW3TGqfNwZn313w3+dCpWYfs0s4YHJ30FdeYOJbPix5DJDfTSl1pXXeOBReTuWW2H65InCUN4q1m4P7PZLcboTOzd0plpZjl9Sis5L1K2litP6+97OgbP3r672NwsOEG31f7sDdAvxZz67ZsWKS4ikUrs01/mrAkgR23LJujmOJk560HJW/voMExCyApuo9SDKbtuCExNRbXuJB2IxUjRTMRVRS5qwfQiMijMRAM3FHTaJFBERJBWCFY6YLRc0mUvmfaR20AQSCKhgYqHcMX0PKlgHqoU+DnzIAAcmOEw0Hiok0BYhSVQwie5IIdRQFaTjH55SJ2RZ3s6ydo65I4VqFT+oWoTgVvtOo2kPirHwvVlAt01CymvzJID/CjnVF438ZwEAAAAASUVORK5CYII=\" class=\"ndarray_image_preview\" /><pre class=\"ndarray_raw_data\">array([[  0,   0,   0,   0,   0,   1,   0,   0,   0,   0,  41, 188, 103,\n",
       "         54,  48,  43,  87, 168, 133,  16,   0,   0,   0,   0,   0,   0,\n",
       "          0,   0],\n",
       "       [  0,   0,   0,   1,   0,   0,   0,  49, 136, 219, 216, 228, 236,\n",
       "        255, 255, 255, 255, 217, 215, 254, 231, 160,  45,   0,   0,   0,\n",
       "          0,   0],\n",
       "       [  0,   0,   0,   0,   0,  14, 176, 222, 224, 212, 203, 198, 196,\n",
       "        200, 215, 204, 202, 201, 201, 201, 209, 218, 224, 164,   0,   0,\n",
       "          0,   0],\n",
       "       [  0,   0,   0,   0,   0, 188, 219, 200, 198, 202, 198, 199, 199,\n",
       "        201, 196, 198, 198, 200, 200, 200, 200, 201, 200, 225,  41,   0,\n",
       "          0,   0],\n",
       "       [  0,   0,   0,   0,  51, 219, 199, 203, 203, 212, 238, 248, 250,\n",
       "        245, 249, 246, 247, 252, 248, 235, 207, 203, 203, 222, 140,   0,\n",
       "          0,   0],\n",
       "       [  0,   0,   0,   0, 116, 226, 206, 204, 207, 204, 101,  75,  47,\n",
       "         73,  48,  50,  45,  51,  63, 113, 222, 202, 206, 220, 224,   0,\n",
       "          0,   0],\n",
       "       [  0,   0,   0,   0, 200, 222, 209, 203, 215, 200,   0,  70,  98,\n",
       "          0, 103,  59,  68,  71,  49,   0, 219, 206, 214, 210, 250,  38,\n",
       "          0,   0],\n",
       "       [  0,   0,   0,   0, 247, 218, 212, 210, 215, 214,   0, 254, 243,\n",
       "        139, 255, 174, 251, 255, 205,   0, 215, 217, 214, 208, 220,  95,\n",
       "          0,   0],\n",
       "       [  0,   0,   0,  45, 226, 214, 214, 215, 224, 205,   0,  42,  35,\n",
       "         60,  16,  17,  12,  13,  70,   0, 189, 216, 212, 206, 212, 156,\n",
       "          0,   0],\n",
       "       [  0,   0,   0, 164, 235, 214, 211, 220, 216, 201,  52,  71,  89,\n",
       "         94,  83,  78,  70,  76,  92,  87, 206, 207, 222, 213, 219, 208,\n",
       "          0,   0],\n",
       "       [  0,   0,   0, 106, 187, 223, 237, 248, 211, 198, 252, 250, 248,\n",
       "        245, 248, 252, 253, 250, 252, 239, 201, 212, 225, 215, 193, 113,\n",
       "          0,   0],\n",
       "       [  0,   0,   0,   0,   0,  17,  54, 159, 222, 193, 208, 192, 197,\n",
       "        200, 200, 200, 200, 201, 203, 195, 210, 165,   0,   0,   0,   0,\n",
       "          0,   0],\n",
       "       [  0,   0,   0,   0,   0,   0,   0,  47, 225, 192, 214, 203, 206,\n",
       "        204, 204, 205, 206, 204, 212, 197, 218, 107,   0,   0,   0,   0,\n",
       "          0,   0],\n",
       "       [  0,   0,   0,   0,   1,   6,   0,  46, 212, 195, 212, 202, 206,\n",
       "        205, 204, 205, 206, 204, 212, 200, 218,  91,   0,   3,   1,   0,\n",
       "          0,   0],\n",
       "       [  0,   0,   0,   0,   0,   1,   0,  11, 197, 199, 205, 202, 205,\n",
       "        206, 204, 205, 207, 204, 205, 205, 218,  77,   0,   5,   0,   0,\n",
       "          0,   0],\n",
       "       [  0,   0,   0,   0,   0,   3,   0,   2, 191, 198, 201, 205, 206,\n",
       "        205, 205, 206, 209, 206, 199, 209, 219,  74,   0,   5,   0,   0,\n",
       "          0,   0],\n",
       "       [  0,   0,   0,   0,   0,   2,   0,   0, 188, 197, 200, 207, 207,\n",
       "        204, 207, 207, 210, 208, 198, 207, 221,  72,   0,   4,   0,   0,\n",
       "          0,   0],\n",
       "       [  0,   0,   0,   0,   0,   2,   0,   0, 215, 198, 203, 206, 208,\n",
       "        205, 207, 207, 210, 208, 200, 202, 222,  75,   0,   4,   0,   0,\n",
       "          0,   0],\n",
       "       [  0,   0,   0,   0,   0,   1,   0,   0, 212, 198, 209, 206, 209,\n",
       "        206, 208, 207, 211, 206, 205, 198, 221,  80,   0,   3,   0,   0,\n",
       "          0,   0],\n",
       "       [  0,   0,   0,   0,   0,   1,   0,   0, 204, 201, 205, 208, 207,\n",
       "        205, 211, 205, 210, 210, 209, 195, 221,  96,   0,   3,   0,   0,\n",
       "          0,   0],\n",
       "       [  0,   0,   0,   0,   0,   1,   0,   0, 202, 201, 205, 209, 207,\n",
       "        205, 213, 206, 210, 209, 210, 194, 217, 105,   0,   2,   0,   0,\n",
       "          0,   0],\n",
       "       [  0,   0,   0,   0,   0,   1,   0,   0, 204, 204, 205, 208, 207,\n",
       "        205, 215, 207, 210, 208, 211, 193, 213, 115,   0,   2,   0,   0,\n",
       "          0,   0],\n",
       "       [  0,   0,   0,   0,   0,   0,   0,   0, 204, 207, 207, 208, 206,\n",
       "        206, 215, 210, 210, 207, 212, 195, 210, 118,   0,   2,   0,   0,\n",
       "          0,   0],\n",
       "       [  0,   0,   0,   0,   0,   1,   0,   0, 198, 208, 208, 208, 204,\n",
       "        207, 212, 212, 210, 207, 211, 196, 207, 121,   0,   1,   0,   0,\n",
       "          0,   0],\n",
       "       [  0,   0,   0,   0,   0,   1,   0,   0, 198, 210, 207, 208, 206,\n",
       "        209, 213, 212, 211, 207, 210, 197, 207, 124,   0,   1,   0,   0,\n",
       "          0,   0],\n",
       "       [  0,   0,   0,   0,   0,   0,   0,   0, 172, 210, 203, 201, 199,\n",
       "        204, 207, 205, 204, 201, 205, 197, 206, 127,   0,   0,   0,   0,\n",
       "          0,   0],\n",
       "       [  0,   0,   0,   0,   0,   0,   0,   0, 188, 221, 214, 234, 236,\n",
       "        238, 244, 244, 244, 240, 243, 214, 224, 162,   0,   2,   0,   0,\n",
       "          0,   0],\n",
       "       [  0,   0,   0,   0,   0,   1,   0,   0, 139, 146, 130, 135, 135,\n",
       "        137, 125, 124, 125, 121, 119, 114, 130,  76,   0,   0,   0,   0,\n",
       "          0,   0]], dtype=uint8)</pre></div><script>\n",
       "      (() => {\n",
       "      const titles = ['show data', 'hide data'];\n",
       "      let index = 0\n",
       "      document.querySelector('#id-cc0b458e-1e32-489c-99d3-aad42d0b86e7 button').onclick = (e) => {\n",
       "        document.querySelector('#id-cc0b458e-1e32-489c-99d3-aad42d0b86e7').classList.toggle('show_array');\n",
       "        index = (++index) % 2;\n",
       "        document.querySelector('#id-cc0b458e-1e32-489c-99d3-aad42d0b86e7 button').textContent = titles[index];\n",
       "        e.preventDefault();\n",
       "        e.stopPropagation();\n",
       "      }\n",
       "      })();\n",
       "    </script>"
      ],
      "text/plain": [
       "array([[  0,   0,   0,   0,   0,   1,   0,   0,   0,   0,  41, 188, 103,\n",
       "         54,  48,  43,  87, 168, 133,  16,   0,   0,   0,   0,   0,   0,\n",
       "          0,   0],\n",
       "       [  0,   0,   0,   1,   0,   0,   0,  49, 136, 219, 216, 228, 236,\n",
       "        255, 255, 255, 255, 217, 215, 254, 231, 160,  45,   0,   0,   0,\n",
       "          0,   0],\n",
       "       [  0,   0,   0,   0,   0,  14, 176, 222, 224, 212, 203, 198, 196,\n",
       "        200, 215, 204, 202, 201, 201, 201, 209, 218, 224, 164,   0,   0,\n",
       "          0,   0],\n",
       "       [  0,   0,   0,   0,   0, 188, 219, 200, 198, 202, 198, 199, 199,\n",
       "        201, 196, 198, 198, 200, 200, 200, 200, 201, 200, 225,  41,   0,\n",
       "          0,   0],\n",
       "       [  0,   0,   0,   0,  51, 219, 199, 203, 203, 212, 238, 248, 250,\n",
       "        245, 249, 246, 247, 252, 248, 235, 207, 203, 203, 222, 140,   0,\n",
       "          0,   0],\n",
       "       [  0,   0,   0,   0, 116, 226, 206, 204, 207, 204, 101,  75,  47,\n",
       "         73,  48,  50,  45,  51,  63, 113, 222, 202, 206, 220, 224,   0,\n",
       "          0,   0],\n",
       "       [  0,   0,   0,   0, 200, 222, 209, 203, 215, 200,   0,  70,  98,\n",
       "          0, 103,  59,  68,  71,  49,   0, 219, 206, 214, 210, 250,  38,\n",
       "          0,   0],\n",
       "       [  0,   0,   0,   0, 247, 218, 212, 210, 215, 214,   0, 254, 243,\n",
       "        139, 255, 174, 251, 255, 205,   0, 215, 217, 214, 208, 220,  95,\n",
       "          0,   0],\n",
       "       [  0,   0,   0,  45, 226, 214, 214, 215, 224, 205,   0,  42,  35,\n",
       "         60,  16,  17,  12,  13,  70,   0, 189, 216, 212, 206, 212, 156,\n",
       "          0,   0],\n",
       "       [  0,   0,   0, 164, 235, 214, 211, 220, 216, 201,  52,  71,  89,\n",
       "         94,  83,  78,  70,  76,  92,  87, 206, 207, 222, 213, 219, 208,\n",
       "          0,   0],\n",
       "       [  0,   0,   0, 106, 187, 223, 237, 248, 211, 198, 252, 250, 248,\n",
       "        245, 248, 252, 253, 250, 252, 239, 201, 212, 225, 215, 193, 113,\n",
       "          0,   0],\n",
       "       [  0,   0,   0,   0,   0,  17,  54, 159, 222, 193, 208, 192, 197,\n",
       "        200, 200, 200, 200, 201, 203, 195, 210, 165,   0,   0,   0,   0,\n",
       "          0,   0],\n",
       "       [  0,   0,   0,   0,   0,   0,   0,  47, 225, 192, 214, 203, 206,\n",
       "        204, 204, 205, 206, 204, 212, 197, 218, 107,   0,   0,   0,   0,\n",
       "          0,   0],\n",
       "       [  0,   0,   0,   0,   1,   6,   0,  46, 212, 195, 212, 202, 206,\n",
       "        205, 204, 205, 206, 204, 212, 200, 218,  91,   0,   3,   1,   0,\n",
       "          0,   0],\n",
       "       [  0,   0,   0,   0,   0,   1,   0,  11, 197, 199, 205, 202, 205,\n",
       "        206, 204, 205, 207, 204, 205, 205, 218,  77,   0,   5,   0,   0,\n",
       "          0,   0],\n",
       "       [  0,   0,   0,   0,   0,   3,   0,   2, 191, 198, 201, 205, 206,\n",
       "        205, 205, 206, 209, 206, 199, 209, 219,  74,   0,   5,   0,   0,\n",
       "          0,   0],\n",
       "       [  0,   0,   0,   0,   0,   2,   0,   0, 188, 197, 200, 207, 207,\n",
       "        204, 207, 207, 210, 208, 198, 207, 221,  72,   0,   4,   0,   0,\n",
       "          0,   0],\n",
       "       [  0,   0,   0,   0,   0,   2,   0,   0, 215, 198, 203, 206, 208,\n",
       "        205, 207, 207, 210, 208, 200, 202, 222,  75,   0,   4,   0,   0,\n",
       "          0,   0],\n",
       "       [  0,   0,   0,   0,   0,   1,   0,   0, 212, 198, 209, 206, 209,\n",
       "        206, 208, 207, 211, 206, 205, 198, 221,  80,   0,   3,   0,   0,\n",
       "          0,   0],\n",
       "       [  0,   0,   0,   0,   0,   1,   0,   0, 204, 201, 205, 208, 207,\n",
       "        205, 211, 205, 210, 210, 209, 195, 221,  96,   0,   3,   0,   0,\n",
       "          0,   0],\n",
       "       [  0,   0,   0,   0,   0,   1,   0,   0, 202, 201, 205, 209, 207,\n",
       "        205, 213, 206, 210, 209, 210, 194, 217, 105,   0,   2,   0,   0,\n",
       "          0,   0],\n",
       "       [  0,   0,   0,   0,   0,   1,   0,   0, 204, 204, 205, 208, 207,\n",
       "        205, 215, 207, 210, 208, 211, 193, 213, 115,   0,   2,   0,   0,\n",
       "          0,   0],\n",
       "       [  0,   0,   0,   0,   0,   0,   0,   0, 204, 207, 207, 208, 206,\n",
       "        206, 215, 210, 210, 207, 212, 195, 210, 118,   0,   2,   0,   0,\n",
       "          0,   0],\n",
       "       [  0,   0,   0,   0,   0,   1,   0,   0, 198, 208, 208, 208, 204,\n",
       "        207, 212, 212, 210, 207, 211, 196, 207, 121,   0,   1,   0,   0,\n",
       "          0,   0],\n",
       "       [  0,   0,   0,   0,   0,   1,   0,   0, 198, 210, 207, 208, 206,\n",
       "        209, 213, 212, 211, 207, 210, 197, 207, 124,   0,   1,   0,   0,\n",
       "          0,   0],\n",
       "       [  0,   0,   0,   0,   0,   0,   0,   0, 172, 210, 203, 201, 199,\n",
       "        204, 207, 205, 204, 201, 205, 197, 206, 127,   0,   0,   0,   0,\n",
       "          0,   0],\n",
       "       [  0,   0,   0,   0,   0,   0,   0,   0, 188, 221, 214, 234, 236,\n",
       "        238, 244, 244, 244, 240, 243, 214, 224, 162,   0,   2,   0,   0,\n",
       "          0,   0],\n",
       "       [  0,   0,   0,   0,   0,   1,   0,   0, 139, 146, 130, 135, 135,\n",
       "        137, 125, 124, 125, 121, 119, 114, 130,  76,   0,   0,   0,   0,\n",
       "          0,   0]], dtype=uint8)"
      ]
     },
     "execution_count": 64,
     "metadata": {},
     "output_type": "execute_result"
    }
   ],
   "source": [
    "x_train[1,]"
   ]
  },
  {
   "cell_type": "code",
   "execution_count": 65,
   "metadata": {
    "colab": {
     "base_uri": "https://localhost:8080/",
     "height": 447
    },
    "executionInfo": {
     "elapsed": 461,
     "status": "ok",
     "timestamp": 1719342058852,
     "user": {
      "displayName": "milad ebrahimian",
      "userId": "12617387319880213983"
     },
     "user_tz": -60
    },
    "id": "wxNNheDRHbS0",
    "outputId": "4c003c6f-e9e7-4150-c54b-51f00773732b"
   },
   "outputs": [
    {
     "data": {
      "text/plain": [
       "<matplotlib.image.AxesImage at 0x78e80c41d900>"
      ]
     },
     "execution_count": 65,
     "metadata": {},
     "output_type": "execute_result"
    },
    {
     "data": {
      "image/png": "[encoded data removed]",
      "text/plain": [
       "<Figure size 640x480 with 1 Axes>"
      ]
     },
     "metadata": {},
     "output_type": "display_data"
    }
   ],
   "source": [
    "plt.imshow(x_train[1,], cmap= \"gray\")"
   ]
  },
  {
   "cell_type": "code",
   "execution_count": 66,
   "metadata": {
    "colab": {
     "base_uri": "https://localhost:8080/",
     "height": 66
    },
    "executionInfo": {
     "elapsed": 5,
     "status": "ok",
     "timestamp": 1719342059484,
     "user": {
      "displayName": "milad ebrahimian",
      "userId": "12617387319880213983"
     },
     "user_tz": -60
    },
    "id": "U0sgOQEMIlXb",
    "outputId": "2ffa6518-8e50-48c3-82d2-b6b0af063546"
   },
   "outputs": [
    {
     "data": {
      "text/html": [
       "<style>\n",
       "      .ndarray_repr .ndarray_raw_data {\n",
       "        display: none;\n",
       "      }\n",
       "      .ndarray_repr.show_array .ndarray_raw_data {\n",
       "        display: block;\n",
       "      }\n",
       "      .ndarray_repr.show_array .ndarray_image_preview {\n",
       "        display: none;\n",
       "      }\n",
       "      </style>\n",
       "      <div id=\"id-9a366739-2328-4186-9f45-4969a08a382f\" class=\"ndarray_repr\"><pre>ndarray (28, 28) <button style=\"padding: 0 2px;\">show data</button></pre><img src=\"data:image/png;base64,iVBORw0KGgoAAAANSUhEUgAAABwAAAAcCAAAAABXZoBIAAABTElEQVR4nG3SMYoUURDG8f9X9WamcUZ21VF3dTMTQ6/gBTbVyEMYiOA1PIC5kYmJgrk3MBJGhAFXZGEYune6Xxns9Ajv2VFTP76qV68bxufeqxMAnjyfjKU0vizOXzy7uLq6OTv7MLwvcXP5+s3j+7M/m08fF2PNDm2n3dv1avXj87vTtmrLZrl6eXb3++9lUo09d7hY33g4RNRoMfgxoDjU/s1cNO5ZZsmaOpkkk0y9eZ20rVuCoOM/iGcMUres8JYLA7LaeVNi1wUEMvyyLTHGY8SsnulkIAfYYCU2Ecq4pIhpiZICAYgq6QABCvNUJYeQEZGFjkqcmK67MsS45+Fuk/z6U/XsVCanRN4vuptXGH3sK7tHJT7AyAJD/a8S20m4D9KOvNiW+NWOk6ehh9P5t3G9EWmeLufe4/3PL9sSFXD75CjW6xbt/7+/cBFrEYg97c0AAAAASUVORK5CYII=\" class=\"ndarray_image_preview\" /><pre class=\"ndarray_raw_data\">array([[  0,   0,   0,   0,   0,   0,   0,   0,   0,  22, 118,  24,   0,\n",
       "          0,   0,   0,   0,  48,  88,   5,   0,   0,   0,   0,   0,   0,\n",
       "          0,   0],\n",
       "       [  0,   0,   0,   0,   0,   0,   0,   0,  12, 100, 212, 205, 185,\n",
       "        179, 173, 186, 193, 221, 142,  85,   0,   0,   0,   0,   0,   0,\n",
       "          0,   0],\n",
       "       [  0,   0,   0,   0,   0,   0,   0,   0,   0,  85,  76, 199, 225,\n",
       "        248, 255, 238, 226, 157,  68,  80,   0,   0,   0,   0,   0,   0,\n",
       "          0,   0],\n",
       "       [  0,   0,   0,   0,   0,   0,   0,   0,   0,  91,  69,  91, 201,\n",
       "        218, 225, 209, 158,  61,  93,  72,   0,   0,   0,   0,   0,   0,\n",
       "          0,   0],\n",
       "       [  0,   0,   0,   0,   0,   0,   0,   0,   0,  79,  89,  61,  59,\n",
       "         87, 108,  75,  56,  76,  97,  73,   0,   0,   0,   0,   0,   0,\n",
       "          0,   0],\n",
       "       [  0,   0,   0,   0,   0,   0,   0,   0,   0,  75,  89,  80,  80,\n",
       "         67,  63,  73,  83,  80,  96,  72,   0,   0,   0,   0,   0,   0,\n",
       "          0,   0],\n",
       "       [  0,   0,   0,   0,   0,   0,   0,   0,   0,  77,  88,  77,  80,\n",
       "         83,  83,  83,  83,  81,  95,  76,   0,   0,   0,   0,   0,   0,\n",
       "          0,   0],\n",
       "       [  0,   0,   0,   0,   0,   0,   0,   0,   0,  89,  96,  80,  83,\n",
       "         81,  84,  85,  85,  85,  97,  84,   0,   0,   0,   0,   0,   0,\n",
       "          0,   0],\n",
       "       [  0,   0,   0,   0,   0,   0,   0,   0,   0,  93,  97,  81,  85,\n",
       "         84,  85,  87,  88,  84,  99,  87,   0,   0,   0,   0,   0,   0,\n",
       "          0,   0],\n",
       "       [  0,   0,   0,   0,   0,   0,   0,   0,   0,  95,  87,  84,  87,\n",
       "         88,  85,  87,  87,  84,  92,  87,   0,   0,   0,   0,   0,   0,\n",
       "          0,   0],\n",
       "       [  0,   0,   0,   0,   0,   0,   0,   0,   0,  97,  87,  87,  85,\n",
       "         88,  87,  87,  87,  88,  85, 107,   0,   0,   0,   0,   0,   0,\n",
       "          0,   0],\n",
       "       [  0,   0,   0,   0,   0,   0,   0,   0,  17, 100,  88,  87,  87,\n",
       "         88,  87,  87,  85,  89,  77, 118,   8,   0,   0,   0,   0,   0,\n",
       "          0,   0],\n",
       "       [  0,   0,   0,   0,   0,   0,   0,   0,  10,  93,  87,  87,  87,\n",
       "         87,  87,  88,  87,  89,  80, 103,   0,   0,   0,   0,   0,   0,\n",
       "          0,   0],\n",
       "       [  0,   0,   0,   0,   0,   0,   0,   0,   9,  96,  87,  87,  87,\n",
       "         87,  87,  88,  87,  88,  87, 103,   0,   0,   0,   0,   0,   0,\n",
       "          0,   0],\n",
       "       [  0,   0,   0,   0,   0,   0,   0,   0,  12,  96,  85,  87,  87,\n",
       "         87,  85,  87,  87,  88,  89, 100,   2,   0,   0,   0,   0,   0,\n",
       "          0,   0],\n",
       "       [  0,   0,   0,   0,   0,   0,   0,   0,  20,  95,  84,  88,  85,\n",
       "         87,  88,  88,  88,  89,  88,  99,   8,   0,   0,   0,   0,   0,\n",
       "          0,   0],\n",
       "       [  0,   0,   0,   0,   0,   0,   0,   0,  21,  96,  85,  87,  85,\n",
       "         88,  88,  88,  88,  89,  89,  99,  10,   0,   0,   0,   0,   0,\n",
       "          0,   0],\n",
       "       [  0,   0,   0,   0,   0,   0,   0,   0,  24,  96,  85,  87,  85,\n",
       "         87,  88,  88,  89,  88,  91, 102,  14,   0,   0,   0,   0,   0,\n",
       "          0,   0],\n",
       "       [  0,   0,   0,   0,   0,   0,   0,   0,  25,  93,  84,  88,  87,\n",
       "         87,  87,  87,  87,  89,  91, 103,  29,   0,   0,   0,   0,   0,\n",
       "          0,   0],\n",
       "       [  0,   0,   0,   0,   0,   0,   0,   0,  30,  95,  85,  88,  88,\n",
       "         87,  87,  87,  87,  89,  88, 102,  37,   0,   0,   0,   0,   0,\n",
       "          0,   0],\n",
       "       [  0,   0,   0,   0,   0,   0,   0,   0,  34,  96,  88,  87,  87,\n",
       "         87,  87,  87,  87,  85,  85,  97,  38,   0,   0,   0,   0,   0,\n",
       "          0,   0],\n",
       "       [  0,   0,   0,   0,   0,   0,   0,   0,  40,  96,  87,  85,  87,\n",
       "         87,  87,  87,  87,  85,  84,  92,  49,   0,   0,   0,   0,   0,\n",
       "          0,   0],\n",
       "       [  0,   0,   0,   0,   0,   0,   0,   0,  46,  95,  83,  84,  87,\n",
       "         87,  87,  87,  87,  87,  84,  87,  84,   0,   0,   0,   0,   0,\n",
       "          0,   0],\n",
       "       [  0,   0,   0,   0,   0,   0,   0,   0,  72,  95,  85,  84,  85,\n",
       "         88,  87,  87,  89,  87,  85,  83,  63,   0,   0,   0,   0,   0,\n",
       "          0,   0],\n",
       "       [  0,   0,   0,   0,   0,   0,   0,   0,  64, 100,  84,  87,  88,\n",
       "         85,  88,  88,  84,  87,  83,  95,  53,   0,   0,   0,   0,   0,\n",
       "          0,   0],\n",
       "       [  0,   0,   0,   0,   0,   0,   0,   0,  10, 102, 100,  91,  91,\n",
       "         89,  85,  84,  84,  87, 108, 106,  14,   0,   0,   0,   0,   0,\n",
       "          0,   0],\n",
       "       [  0,   0,   0,   0,   0,   0,   0,   0,   0,   8,  73,  93, 104,\n",
       "        107, 103, 103, 106, 102,  75,  10,   0,   0,   0,   0,   0,   0,\n",
       "          0,   0],\n",
       "       [  0,   0,   0,   0,   0,   0,   0,   0,   1,   0,   0,   0,  18,\n",
       "         42,  57,  56,  32,   8,   0,   0,   1,   0,   0,   0,   0,   0,\n",
       "          0,   0]], dtype=uint8)</pre></div><script>\n",
       "      (() => {\n",
       "      const titles = ['show data', 'hide data'];\n",
       "      let index = 0\n",
       "      document.querySelector('#id-9a366739-2328-4186-9f45-4969a08a382f button').onclick = (e) => {\n",
       "        document.querySelector('#id-9a366739-2328-4186-9f45-4969a08a382f').classList.toggle('show_array');\n",
       "        index = (++index) % 2;\n",
       "        document.querySelector('#id-9a366739-2328-4186-9f45-4969a08a382f button').textContent = titles[index];\n",
       "        e.preventDefault();\n",
       "        e.stopPropagation();\n",
       "      }\n",
       "      })();\n",
       "    </script>"
      ],
      "text/plain": [
       "array([[  0,   0,   0,   0,   0,   0,   0,   0,   0,  22, 118,  24,   0,\n",
       "          0,   0,   0,   0,  48,  88,   5,   0,   0,   0,   0,   0,   0,\n",
       "          0,   0],\n",
       "       [  0,   0,   0,   0,   0,   0,   0,   0,  12, 100, 212, 205, 185,\n",
       "        179, 173, 186, 193, 221, 142,  85,   0,   0,   0,   0,   0,   0,\n",
       "          0,   0],\n",
       "       [  0,   0,   0,   0,   0,   0,   0,   0,   0,  85,  76, 199, 225,\n",
       "        248, 255, 238, 226, 157,  68,  80,   0,   0,   0,   0,   0,   0,\n",
       "          0,   0],\n",
       "       [  0,   0,   0,   0,   0,   0,   0,   0,   0,  91,  69,  91, 201,\n",
       "        218, 225, 209, 158,  61,  93,  72,   0,   0,   0,   0,   0,   0,\n",
       "          0,   0],\n",
       "       [  0,   0,   0,   0,   0,   0,   0,   0,   0,  79,  89,  61,  59,\n",
       "         87, 108,  75,  56,  76,  97,  73,   0,   0,   0,   0,   0,   0,\n",
       "          0,   0],\n",
       "       [  0,   0,   0,   0,   0,   0,   0,   0,   0,  75,  89,  80,  80,\n",
       "         67,  63,  73,  83,  80,  96,  72,   0,   0,   0,   0,   0,   0,\n",
       "          0,   0],\n",
       "       [  0,   0,   0,   0,   0,   0,   0,   0,   0,  77,  88,  77,  80,\n",
       "         83,  83,  83,  83,  81,  95,  76,   0,   0,   0,   0,   0,   0,\n",
       "          0,   0],\n",
       "       [  0,   0,   0,   0,   0,   0,   0,   0,   0,  89,  96,  80,  83,\n",
       "         81,  84,  85,  85,  85,  97,  84,   0,   0,   0,   0,   0,   0,\n",
       "          0,   0],\n",
       "       [  0,   0,   0,   0,   0,   0,   0,   0,   0,  93,  97,  81,  85,\n",
       "         84,  85,  87,  88,  84,  99,  87,   0,   0,   0,   0,   0,   0,\n",
       "          0,   0],\n",
       "       [  0,   0,   0,   0,   0,   0,   0,   0,   0,  95,  87,  84,  87,\n",
       "         88,  85,  87,  87,  84,  92,  87,   0,   0,   0,   0,   0,   0,\n",
       "          0,   0],\n",
       "       [  0,   0,   0,   0,   0,   0,   0,   0,   0,  97,  87,  87,  85,\n",
       "         88,  87,  87,  87,  88,  85, 107,   0,   0,   0,   0,   0,   0,\n",
       "          0,   0],\n",
       "       [  0,   0,   0,   0,   0,   0,   0,   0,  17, 100,  88,  87,  87,\n",
       "         88,  87,  87,  85,  89,  77, 118,   8,   0,   0,   0,   0,   0,\n",
       "          0,   0],\n",
       "       [  0,   0,   0,   0,   0,   0,   0,   0,  10,  93,  87,  87,  87,\n",
       "         87,  87,  88,  87,  89,  80, 103,   0,   0,   0,   0,   0,   0,\n",
       "          0,   0],\n",
       "       [  0,   0,   0,   0,   0,   0,   0,   0,   9,  96,  87,  87,  87,\n",
       "         87,  87,  88,  87,  88,  87, 103,   0,   0,   0,   0,   0,   0,\n",
       "          0,   0],\n",
       "       [  0,   0,   0,   0,   0,   0,   0,   0,  12,  96,  85,  87,  87,\n",
       "         87,  85,  87,  87,  88,  89, 100,   2,   0,   0,   0,   0,   0,\n",
       "          0,   0],\n",
       "       [  0,   0,   0,   0,   0,   0,   0,   0,  20,  95,  84,  88,  85,\n",
       "         87,  88,  88,  88,  89,  88,  99,   8,   0,   0,   0,   0,   0,\n",
       "          0,   0],\n",
       "       [  0,   0,   0,   0,   0,   0,   0,   0,  21,  96,  85,  87,  85,\n",
       "         88,  88,  88,  88,  89,  89,  99,  10,   0,   0,   0,   0,   0,\n",
       "          0,   0],\n",
       "       [  0,   0,   0,   0,   0,   0,   0,   0,  24,  96,  85,  87,  85,\n",
       "         87,  88,  88,  89,  88,  91, 102,  14,   0,   0,   0,   0,   0,\n",
       "          0,   0],\n",
       "       [  0,   0,   0,   0,   0,   0,   0,   0,  25,  93,  84,  88,  87,\n",
       "         87,  87,  87,  87,  89,  91, 103,  29,   0,   0,   0,   0,   0,\n",
       "          0,   0],\n",
       "       [  0,   0,   0,   0,   0,   0,   0,   0,  30,  95,  85,  88,  88,\n",
       "         87,  87,  87,  87,  89,  88, 102,  37,   0,   0,   0,   0,   0,\n",
       "          0,   0],\n",
       "       [  0,   0,   0,   0,   0,   0,   0,   0,  34,  96,  88,  87,  87,\n",
       "         87,  87,  87,  87,  85,  85,  97,  38,   0,   0,   0,   0,   0,\n",
       "          0,   0],\n",
       "       [  0,   0,   0,   0,   0,   0,   0,   0,  40,  96,  87,  85,  87,\n",
       "         87,  87,  87,  87,  85,  84,  92,  49,   0,   0,   0,   0,   0,\n",
       "          0,   0],\n",
       "       [  0,   0,   0,   0,   0,   0,   0,   0,  46,  95,  83,  84,  87,\n",
       "         87,  87,  87,  87,  87,  84,  87,  84,   0,   0,   0,   0,   0,\n",
       "          0,   0],\n",
       "       [  0,   0,   0,   0,   0,   0,   0,   0,  72,  95,  85,  84,  85,\n",
       "         88,  87,  87,  89,  87,  85,  83,  63,   0,   0,   0,   0,   0,\n",
       "          0,   0],\n",
       "       [  0,   0,   0,   0,   0,   0,   0,   0,  64, 100,  84,  87,  88,\n",
       "         85,  88,  88,  84,  87,  83,  95,  53,   0,   0,   0,   0,   0,\n",
       "          0,   0],\n",
       "       [  0,   0,   0,   0,   0,   0,   0,   0,  10, 102, 100,  91,  91,\n",
       "         89,  85,  84,  84,  87, 108, 106,  14,   0,   0,   0,   0,   0,\n",
       "          0,   0],\n",
       "       [  0,   0,   0,   0,   0,   0,   0,   0,   0,   8,  73,  93, 104,\n",
       "        107, 103, 103, 106, 102,  75,  10,   0,   0,   0,   0,   0,   0,\n",
       "          0,   0],\n",
       "       [  0,   0,   0,   0,   0,   0,   0,   0,   1,   0,   0,   0,  18,\n",
       "         42,  57,  56,  32,   8,   0,   0,   1,   0,   0,   0,   0,   0,\n",
       "          0,   0]], dtype=uint8)"
      ]
     },
     "execution_count": 66,
     "metadata": {},
     "output_type": "execute_result"
    }
   ],
   "source": [
    "x_train[2,]"
   ]
  },
  {
   "cell_type": "code",
   "execution_count": 67,
   "metadata": {
    "colab": {
     "base_uri": "https://localhost:8080/",
     "height": 447
    },
    "executionInfo": {
     "elapsed": 726,
     "status": "ok",
     "timestamp": 1719342060997,
     "user": {
      "displayName": "milad ebrahimian",
      "userId": "12617387319880213983"
     },
     "user_tz": -60
    },
    "id": "RvsHZ4KlIz60",
    "outputId": "77364a70-9eb4-47b8-eff2-e5a745518b2d"
   },
   "outputs": [
    {
     "data": {
      "text/plain": [
       "<matplotlib.image.AxesImage at 0x78e80c4040a0>"
      ]
     },
     "execution_count": 67,
     "metadata": {},
     "output_type": "execute_result"
    },
    {
     "data": {
      "image/png": "[encoded data removed]",
      "text/plain": [
       "<Figure size 640x480 with 1 Axes>"
      ]
     },
     "metadata": {},
     "output_type": "display_data"
    }
   ],
   "source": [
    "plt.imshow(x_train[2,], cmap= \"gray\")"
   ]
  },
  {
   "cell_type": "markdown",
   "metadata": {
    "id": "8svKuGSxKhp4"
   },
   "source": [
    "# **Data normalisation**"
   ]
  },
  {
   "cell_type": "code",
   "execution_count": 68,
   "metadata": {
    "colab": {
     "base_uri": "https://localhost:8080/",
     "height": 66
    },
    "executionInfo": {
     "elapsed": 256,
     "status": "ok",
     "timestamp": 1719342062412,
     "user": {
      "displayName": "milad ebrahimian",
      "userId": "12617387319880213983"
     },
     "user_tz": -60
    },
    "id": "kJuwwAXeI3XA",
    "outputId": "e0ac60d1-b3a7-40ee-dc03-eaa8af8dcaed"
   },
   "outputs": [
    {
     "data": {
      "text/html": [
       "<style>\n",
       "      .ndarray_repr .ndarray_raw_data {\n",
       "        display: none;\n",
       "      }\n",
       "      .ndarray_repr.show_array .ndarray_raw_data {\n",
       "        display: block;\n",
       "      }\n",
       "      .ndarray_repr.show_array .ndarray_image_preview {\n",
       "        display: none;\n",
       "      }\n",
       "      </style>\n",
       "      <div id=\"id-c3761b52-e64e-40fc-8905-ae1a44f8e7aa\" class=\"ndarray_repr\"><pre>ndarray (28, 28) <button style=\"padding: 0 2px;\">show data</button></pre><img src=\"data:image/png;base64,iVBORw0KGgoAAAANSUhEUgAAABwAAAAcCAAAAABXZoBIAAACBUlEQVR4nLXSz0tUURQH8O+597373rx545g6NmNJY6TlJgozEsKFZGCrkDBoVdGmdf9BiwJ3bVr1PwhBUbQfJQcKjWZRTsjo0KDpDPV+eN+997WK0Z2bvtsPfM+Bc4D/HwJycwBZAEAE6zAyfe5RFMQfFYiRAj+CXM/c2HK82VetVMM34RGUmCxz9v7yYnW9dnWyskyHR6azi72Jwep3ScVk9c7LLhKQrpRBSiI2n76puZFT3doUwH4pcmw/zpjrU2zw3dFt4XEWdvbKhpinzTBYt5bDH4qlLYO8cbKBWHOudDHluFtiLrLD0kmM2//6q9VFS+JLLDxv9GzMPV9v3XuzYgHEGSUGCngbRCLd4W6CxPCLHTDwVMkDA0y/qEa/lFFBoF2EEME8CAD6hsZK8+djlmSatuiXXsWfNh27NU6Yelro1bytPElRbaGaO1FGPfc7zPg9HvHlIaVD8AjID9y/+bgZ/6iP9ks7J/QZevh8w/cd2PlGs8CKt92R7MQEk0yA7GtWq9ETN3zRs7fpR7FaWi/3yXaipW1IjFnbaSM70N7dsRzbzbHd8aCx7+wmKskUO5esz0sPmvXYF67gBzoNfxptxb5stxM10iLg1pOTO23NhcUptW1hE6gFYYprC8QMMPNsMM+4pamVbps/HGkSsg+1Cv4d+0Jh//Sm3DjGix4rfwFoJNh2/0cDFgAAAABJRU5ErkJggg==\" class=\"ndarray_image_preview\" /><pre class=\"ndarray_raw_data\">array([[  0,   0,   0,   0,   0,   0,   0,   0,   0,   0,   0,   0,   0,\n",
       "          0,   0,   0,   0,   0,   0,   0,   0,   0,   0,   0,   0,   0,\n",
       "          0,   0],\n",
       "       [  0,   0,   0,   0,   0,   0,   0,   0,   0,   0,   0,   0,   0,\n",
       "          0,   0,   0,   0,   0,   0,   0,   0,   0,   0,   0,   0,   0,\n",
       "          0,   0],\n",
       "       [  0,   0,   0,   0,   0,   0,   0,   0,   0,   0,   0,   0,   0,\n",
       "          0,   0,   0,   0,   0,   0,   0,   0,   0,   0,   0,   0,   0,\n",
       "          0,   0],\n",
       "       [  0,   0,   0,   0,   0,   0,   0,   0,   0,   0,   0,   0,   1,\n",
       "          0,   0,  13,  73,   0,   0,   1,   4,   0,   0,   0,   0,   1,\n",
       "          1,   0],\n",
       "       [  0,   0,   0,   0,   0,   0,   0,   0,   0,   0,   0,   0,   3,\n",
       "          0,  36, 136, 127,  62,  54,   0,   0,   0,   1,   3,   4,   0,\n",
       "          0,   3],\n",
       "       [  0,   0,   0,   0,   0,   0,   0,   0,   0,   0,   0,   0,   6,\n",
       "          0, 102, 204, 176, 134, 144, 123,  23,   0,   0,   0,   0,  12,\n",
       "         10,   0],\n",
       "       [  0,   0,   0,   0,   0,   0,   0,   0,   0,   0,   0,   0,   0,\n",
       "          0, 155, 236, 207, 178, 107, 156, 161, 109,  64,  23,  77, 130,\n",
       "         72,  15],\n",
       "       [  0,   0,   0,   0,   0,   0,   0,   0,   0,   0,   0,   1,   0,\n",
       "         69, 207, 223, 218, 216, 216, 163, 127, 121, 122, 146, 141,  88,\n",
       "        172,  66],\n",
       "       [  0,   0,   0,   0,   0,   0,   0,   0,   0,   1,   1,   1,   0,\n",
       "        200, 232, 232, 233, 229, 223, 223, 215, 213, 164, 127, 123, 196,\n",
       "        229,   0],\n",
       "       [  0,   0,   0,   0,   0,   0,   0,   0,   0,   0,   0,   0,   0,\n",
       "        183, 225, 216, 223, 228, 235, 227, 224, 222, 224, 221, 223, 245,\n",
       "        173,   0],\n",
       "       [  0,   0,   0,   0,   0,   0,   0,   0,   0,   0,   0,   0,   0,\n",
       "        193, 228, 218, 213, 198, 180, 212, 210, 211, 213, 223, 220, 243,\n",
       "        202,   0],\n",
       "       [  0,   0,   0,   0,   0,   0,   0,   0,   0,   1,   3,   0,  12,\n",
       "        219, 220, 212, 218, 192, 169, 227, 208, 218, 224, 212, 226, 197,\n",
       "        209,  52],\n",
       "       [  0,   0,   0,   0,   0,   0,   0,   0,   0,   0,   6,   0,  99,\n",
       "        244, 222, 220, 218, 203, 198, 221, 215, 213, 222, 220, 245, 119,\n",
       "        167,  56],\n",
       "       [  0,   0,   0,   0,   0,   0,   0,   0,   0,   4,   0,   0,  55,\n",
       "        236, 228, 230, 228, 240, 232, 213, 218, 223, 234, 217, 217, 209,\n",
       "         92,   0],\n",
       "       [  0,   0,   1,   4,   6,   7,   2,   0,   0,   0,   0,   0, 237,\n",
       "        226, 217, 223, 222, 219, 222, 221, 216, 223, 229, 215, 218, 255,\n",
       "         77,   0],\n",
       "       [  0,   3,   0,   0,   0,   0,   0,   0,   0,  62, 145, 204, 228,\n",
       "        207, 213, 221, 218, 208, 211, 218, 224, 223, 219, 215, 224, 244,\n",
       "        159,   0],\n",
       "       [  0,   0,   0,   0,  18,  44,  82, 107, 189, 228, 220, 222, 217,\n",
       "        226, 200, 205, 211, 230, 224, 234, 176, 188, 250, 248, 233, 238,\n",
       "        215,   0],\n",
       "       [  0,  57, 187, 208, 224, 221, 224, 208, 204, 214, 208, 209, 200,\n",
       "        159, 245, 193, 206, 223, 255, 255, 221, 234, 221, 211, 220, 232,\n",
       "        246,   0],\n",
       "       [  3, 202, 228, 224, 221, 211, 211, 214, 205, 205, 205, 220, 240,\n",
       "         80, 150, 255, 229, 221, 188, 154, 191, 210, 204, 209, 222, 228,\n",
       "        225,   0],\n",
       "       [ 98, 233, 198, 210, 222, 229, 229, 234, 249, 220, 194, 215, 217,\n",
       "        241,  65,  73, 106, 117, 168, 219, 221, 215, 217, 223, 223, 224,\n",
       "        229,  29],\n",
       "       [ 75, 204, 212, 204, 193, 205, 211, 225, 216, 185, 197, 206, 198,\n",
       "        213, 240, 195, 227, 245, 239, 223, 218, 212, 209, 222, 220, 221,\n",
       "        230,  67],\n",
       "       [ 48, 203, 183, 194, 213, 197, 185, 190, 194, 192, 202, 214, 219,\n",
       "        221, 220, 236, 225, 216, 199, 206, 186, 181, 177, 172, 181, 205,\n",
       "        206, 115],\n",
       "       [  0, 122, 219, 193, 179, 171, 183, 196, 204, 210, 213, 207, 211,\n",
       "        210, 200, 196, 194, 191, 195, 191, 198, 192, 176, 156, 167, 177,\n",
       "        210,  92],\n",
       "       [  0,   0,  74, 189, 212, 191, 175, 172, 175, 181, 185, 188, 189,\n",
       "        188, 193, 198, 204, 209, 210, 210, 211, 188, 188, 194, 192, 216,\n",
       "        170,   0],\n",
       "       [  2,   0,   0,   0,  66, 200, 222, 237, 239, 242, 246, 243, 244,\n",
       "        221, 220, 193, 191, 179, 182, 182, 181, 176, 166, 168,  99,  58,\n",
       "          0,   0],\n",
       "       [  0,   0,   0,   0,   0,   0,   0,  40,  61,  44,  72,  41,  35,\n",
       "          0,   0,   0,   0,   0,   0,   0,   0,   0,   0,   0,   0,   0,\n",
       "          0,   0],\n",
       "       [  0,   0,   0,   0,   0,   0,   0,   0,   0,   0,   0,   0,   0,\n",
       "          0,   0,   0,   0,   0,   0,   0,   0,   0,   0,   0,   0,   0,\n",
       "          0,   0],\n",
       "       [  0,   0,   0,   0,   0,   0,   0,   0,   0,   0,   0,   0,   0,\n",
       "          0,   0,   0,   0,   0,   0,   0,   0,   0,   0,   0,   0,   0,\n",
       "          0,   0]], dtype=uint8)</pre></div><script>\n",
       "      (() => {\n",
       "      const titles = ['show data', 'hide data'];\n",
       "      let index = 0\n",
       "      document.querySelector('#id-c3761b52-e64e-40fc-8905-ae1a44f8e7aa button').onclick = (e) => {\n",
       "        document.querySelector('#id-c3761b52-e64e-40fc-8905-ae1a44f8e7aa').classList.toggle('show_array');\n",
       "        index = (++index) % 2;\n",
       "        document.querySelector('#id-c3761b52-e64e-40fc-8905-ae1a44f8e7aa button').textContent = titles[index];\n",
       "        e.preventDefault();\n",
       "        e.stopPropagation();\n",
       "      }\n",
       "      })();\n",
       "    </script>"
      ],
      "text/plain": [
       "array([[  0,   0,   0,   0,   0,   0,   0,   0,   0,   0,   0,   0,   0,\n",
       "          0,   0,   0,   0,   0,   0,   0,   0,   0,   0,   0,   0,   0,\n",
       "          0,   0],\n",
       "       [  0,   0,   0,   0,   0,   0,   0,   0,   0,   0,   0,   0,   0,\n",
       "          0,   0,   0,   0,   0,   0,   0,   0,   0,   0,   0,   0,   0,\n",
       "          0,   0],\n",
       "       [  0,   0,   0,   0,   0,   0,   0,   0,   0,   0,   0,   0,   0,\n",
       "          0,   0,   0,   0,   0,   0,   0,   0,   0,   0,   0,   0,   0,\n",
       "          0,   0],\n",
       "       [  0,   0,   0,   0,   0,   0,   0,   0,   0,   0,   0,   0,   1,\n",
       "          0,   0,  13,  73,   0,   0,   1,   4,   0,   0,   0,   0,   1,\n",
       "          1,   0],\n",
       "       [  0,   0,   0,   0,   0,   0,   0,   0,   0,   0,   0,   0,   3,\n",
       "          0,  36, 136, 127,  62,  54,   0,   0,   0,   1,   3,   4,   0,\n",
       "          0,   3],\n",
       "       [  0,   0,   0,   0,   0,   0,   0,   0,   0,   0,   0,   0,   6,\n",
       "          0, 102, 204, 176, 134, 144, 123,  23,   0,   0,   0,   0,  12,\n",
       "         10,   0],\n",
       "       [  0,   0,   0,   0,   0,   0,   0,   0,   0,   0,   0,   0,   0,\n",
       "          0, 155, 236, 207, 178, 107, 156, 161, 109,  64,  23,  77, 130,\n",
       "         72,  15],\n",
       "       [  0,   0,   0,   0,   0,   0,   0,   0,   0,   0,   0,   1,   0,\n",
       "         69, 207, 223, 218, 216, 216, 163, 127, 121, 122, 146, 141,  88,\n",
       "        172,  66],\n",
       "       [  0,   0,   0,   0,   0,   0,   0,   0,   0,   1,   1,   1,   0,\n",
       "        200, 232, 232, 233, 229, 223, 223, 215, 213, 164, 127, 123, 196,\n",
       "        229,   0],\n",
       "       [  0,   0,   0,   0,   0,   0,   0,   0,   0,   0,   0,   0,   0,\n",
       "        183, 225, 216, 223, 228, 235, 227, 224, 222, 224, 221, 223, 245,\n",
       "        173,   0],\n",
       "       [  0,   0,   0,   0,   0,   0,   0,   0,   0,   0,   0,   0,   0,\n",
       "        193, 228, 218, 213, 198, 180, 212, 210, 211, 213, 223, 220, 243,\n",
       "        202,   0],\n",
       "       [  0,   0,   0,   0,   0,   0,   0,   0,   0,   1,   3,   0,  12,\n",
       "        219, 220, 212, 218, 192, 169, 227, 208, 218, 224, 212, 226, 197,\n",
       "        209,  52],\n",
       "       [  0,   0,   0,   0,   0,   0,   0,   0,   0,   0,   6,   0,  99,\n",
       "        244, 222, 220, 218, 203, 198, 221, 215, 213, 222, 220, 245, 119,\n",
       "        167,  56],\n",
       "       [  0,   0,   0,   0,   0,   0,   0,   0,   0,   4,   0,   0,  55,\n",
       "        236, 228, 230, 228, 240, 232, 213, 218, 223, 234, 217, 217, 209,\n",
       "         92,   0],\n",
       "       [  0,   0,   1,   4,   6,   7,   2,   0,   0,   0,   0,   0, 237,\n",
       "        226, 217, 223, 222, 219, 222, 221, 216, 223, 229, 215, 218, 255,\n",
       "         77,   0],\n",
       "       [  0,   3,   0,   0,   0,   0,   0,   0,   0,  62, 145, 204, 228,\n",
       "        207, 213, 221, 218, 208, 211, 218, 224, 223, 219, 215, 224, 244,\n",
       "        159,   0],\n",
       "       [  0,   0,   0,   0,  18,  44,  82, 107, 189, 228, 220, 222, 217,\n",
       "        226, 200, 205, 211, 230, 224, 234, 176, 188, 250, 248, 233, 238,\n",
       "        215,   0],\n",
       "       [  0,  57, 187, 208, 224, 221, 224, 208, 204, 214, 208, 209, 200,\n",
       "        159, 245, 193, 206, 223, 255, 255, 221, 234, 221, 211, 220, 232,\n",
       "        246,   0],\n",
       "       [  3, 202, 228, 224, 221, 211, 211, 214, 205, 205, 205, 220, 240,\n",
       "         80, 150, 255, 229, 221, 188, 154, 191, 210, 204, 209, 222, 228,\n",
       "        225,   0],\n",
       "       [ 98, 233, 198, 210, 222, 229, 229, 234, 249, 220, 194, 215, 217,\n",
       "        241,  65,  73, 106, 117, 168, 219, 221, 215, 217, 223, 223, 224,\n",
       "        229,  29],\n",
       "       [ 75, 204, 212, 204, 193, 205, 211, 225, 216, 185, 197, 206, 198,\n",
       "        213, 240, 195, 227, 245, 239, 223, 218, 212, 209, 222, 220, 221,\n",
       "        230,  67],\n",
       "       [ 48, 203, 183, 194, 213, 197, 185, 190, 194, 192, 202, 214, 219,\n",
       "        221, 220, 236, 225, 216, 199, 206, 186, 181, 177, 172, 181, 205,\n",
       "        206, 115],\n",
       "       [  0, 122, 219, 193, 179, 171, 183, 196, 204, 210, 213, 207, 211,\n",
       "        210, 200, 196, 194, 191, 195, 191, 198, 192, 176, 156, 167, 177,\n",
       "        210,  92],\n",
       "       [  0,   0,  74, 189, 212, 191, 175, 172, 175, 181, 185, 188, 189,\n",
       "        188, 193, 198, 204, 209, 210, 210, 211, 188, 188, 194, 192, 216,\n",
       "        170,   0],\n",
       "       [  2,   0,   0,   0,  66, 200, 222, 237, 239, 242, 246, 243, 244,\n",
       "        221, 220, 193, 191, 179, 182, 182, 181, 176, 166, 168,  99,  58,\n",
       "          0,   0],\n",
       "       [  0,   0,   0,   0,   0,   0,   0,  40,  61,  44,  72,  41,  35,\n",
       "          0,   0,   0,   0,   0,   0,   0,   0,   0,   0,   0,   0,   0,\n",
       "          0,   0],\n",
       "       [  0,   0,   0,   0,   0,   0,   0,   0,   0,   0,   0,   0,   0,\n",
       "          0,   0,   0,   0,   0,   0,   0,   0,   0,   0,   0,   0,   0,\n",
       "          0,   0],\n",
       "       [  0,   0,   0,   0,   0,   0,   0,   0,   0,   0,   0,   0,   0,\n",
       "          0,   0,   0,   0,   0,   0,   0,   0,   0,   0,   0,   0,   0,\n",
       "          0,   0]], dtype=uint8)"
      ]
     },
     "execution_count": 68,
     "metadata": {},
     "output_type": "execute_result"
    }
   ],
   "source": [
    "x_train[0]"
   ]
  },
  {
   "cell_type": "code",
   "execution_count": 69,
   "metadata": {
    "colab": {
     "base_uri": "https://localhost:8080/",
     "height": 66
    },
    "executionInfo": {
     "elapsed": 4,
     "status": "ok",
     "timestamp": 1719342063165,
     "user": {
      "displayName": "milad ebrahimian",
      "userId": "12617387319880213983"
     },
     "user_tz": -60
    },
    "id": "mdoYBHa-LTyP",
    "outputId": "9de13ecb-07a3-4c5c-8f82-9dfab3082a29"
   },
   "outputs": [
    {
     "data": {
      "text/html": [
       "<style>\n",
       "      .ndarray_repr .ndarray_raw_data {\n",
       "        display: none;\n",
       "      }\n",
       "      .ndarray_repr.show_array .ndarray_raw_data {\n",
       "        display: block;\n",
       "      }\n",
       "      .ndarray_repr.show_array .ndarray_image_preview {\n",
       "        display: none;\n",
       "      }\n",
       "      </style>\n",
       "      <div id=\"id-acd50d45-06ed-4937-8d61-853a68a01103\" class=\"ndarray_repr\"><pre>ndarray (28, 28) <button style=\"padding: 0 2px;\">show data</button></pre><img src=\"data:image/png;base64,iVBORw0KGgoAAAANSUhEUgAAABwAAAAcCAAAAABXZoBIAAABUUlEQVR4nN2RPUvDUBiFz3tzm/QmaayE2lrBj6EUFXESxeImuouLg4td/AH+L8HByV/g6CS4KCq2RVPbJLVt7odDQdBZHHzG83DOcoB/jUWAgxrAvsXEMHfoKQOMcPBTQmOn0QSAmeMY4N8H5cZyu3YeiYcwePrRZNI7pHyBGK1mXf4lCYxgaZy2WyLfVjod24E3kQQDbSyFo0orKb51Mp4D82oTacA4QeFk/TEsin5BDzIy2AcHGAxpDVQPxJ3vhGPjQo1UqhvgltKAQWmxPjvuF4Ocoxdy75lmH1a8yhXKC54nltwsYVNCuoOR/TLldv3ptBJy7FZlyVIy9ivkdJlvpUlvBuhq4Ui+17x9idnYotjWBRI6Vymv2AypO0w6/HprrQEZR1HPprDuBmb95n7XMZDP/QIB8Dfr26XAI6Oj26vLIXAx/xrHcnT2i0//AZ9ign3/9ZgRIQAAAABJRU5ErkJggg==\" class=\"ndarray_image_preview\" /><pre class=\"ndarray_raw_data\">array([[  0,   0,   0,   0,   0,   0,   0,   0,   0,   0,   0,   0,   0,\n",
       "          0,   0,   0,   0,   0,   0,   0,   0,   0,   0,   0,   0,   0,\n",
       "          0,   0],\n",
       "       [  0,   0,   0,   0,   0,   0,   0,   0,   0,   0,   0,   0,   0,\n",
       "          0,   0,   0,   0,   0,   0,   0,   0,   0,   0,   0,   0,   0,\n",
       "          0,   0],\n",
       "       [  0,   0,   0,   0,   0,   0,   0,   0,   0,   0,   0,   0,   0,\n",
       "          0,   0,   0,   0,   0,   0,   0,   0,   0,   0,   0,   0,   0,\n",
       "          0,   0],\n",
       "       [  0,   0,   0,   0,   0,   0,   0,   0,   0,   0,   0,   0,   0,\n",
       "          0,   0,   0,   0,   0,   0,   0,   0,   0,   0,   0,   0,   0,\n",
       "          0,   0],\n",
       "       [  0,   0,   0,   0,   0,   0,   0,   0,   0,   0,   0,   0,   0,\n",
       "          0,   0,   0,   0,   0,   0,   0,   0,   0,   0,   0,   0,   0,\n",
       "          0,   0],\n",
       "       [  0,   0,   0,   0,   0,   0,   0,   0,   0,   0,   0,   0,   0,\n",
       "          0,   0,   0,   0,   0,   0,   0,   0,   0,   0,   0,   0,   0,\n",
       "          0,   0],\n",
       "       [  0,   0,   0,   0,   0,   0,   0,   0,   0,   0,   0,   0,   0,\n",
       "          0,   0,   0,   0,   0,   0,   0,   0,   0,   0,   0,   0,   0,\n",
       "          0,   0],\n",
       "       [  0,   0,   0,   0,   0,   0,   0,   0,   0,   0,   0,   0,   0,\n",
       "          0,   0,   0,   0,   0,   0,   3,   1,   0,   0,   7,   0,  37,\n",
       "          0,   0],\n",
       "       [  0,   0,   0,   0,   0,   0,   0,   0,   0,   0,   0,   0,   0,\n",
       "          1,   2,   0,  27,  84,  11,   0,   0,   0,   0,   0,   0, 119,\n",
       "          0,   0],\n",
       "       [  0,   0,   0,   0,   0,   0,   0,   0,   0,   0,   0,   0,   0,\n",
       "          1,   0,   0,  88, 143, 110,   0,   0,   0,   0,  22,  93, 106,\n",
       "          0,   0],\n",
       "       [  0,   0,   0,   0,   0,   0,   0,   0,   0,   0,   0,   0,   0,\n",
       "          4,   0,  53, 129, 120, 147, 175, 157, 166, 135, 154, 168, 140,\n",
       "          0,   0],\n",
       "       [  0,   0,   0,   0,   0,   0,   0,   0,   0,   0,   0,   0,   2,\n",
       "          0,  11, 137, 130, 128, 160, 176, 159, 167, 178, 149, 151, 144,\n",
       "          0,   0],\n",
       "       [  0,   0,   0,   0,   0,   0,   1,   0,   2,   1,   0,   3,   0,\n",
       "          0, 115, 114, 106, 137, 168, 153, 156, 165, 167, 143, 157, 158,\n",
       "         11,   0],\n",
       "       [  0,   0,   0,   0,   1,   0,   0,   0,   0,   0,   3,   0,   0,\n",
       "         89, 139,  90,  94, 153, 149, 131, 151, 169, 172, 143, 159, 169,\n",
       "         48,   0],\n",
       "       [  0,   0,   0,   0,   0,   0,   2,   4,   1,   0,   0,   0,  98,\n",
       "        136, 110, 109, 110, 162, 135, 144, 149, 159, 167, 144, 158, 169,\n",
       "        119,   0],\n",
       "       [  0,   0,   2,   2,   1,   2,   0,   0,   0,   0,  26, 108, 117,\n",
       "         99, 111, 117, 136, 156, 134, 154, 154, 156, 160, 141, 147, 156,\n",
       "        178,   0],\n",
       "       [  3,   0,   0,   0,   0,   0,   0,  21,  53,  92, 117, 111, 103,\n",
       "        115, 129, 134, 143, 154, 165, 170, 154, 151, 154, 143, 138, 150,\n",
       "        165,  43],\n",
       "       [  0,   0,  23,  54,  65,  76,  85, 118, 128, 123, 111, 113, 118,\n",
       "        127, 125, 139, 133, 136, 160, 140, 155, 161, 144, 155, 172, 161,\n",
       "        189,  62],\n",
       "       [  0,  68,  94,  90, 111, 114, 111, 114, 115, 127, 135, 136, 143,\n",
       "        126, 127, 151, 154, 143, 148, 125, 162, 162, 144, 138, 153, 162,\n",
       "        196,  58],\n",
       "       [ 70, 169, 129, 104,  98, 100,  94,  97,  98, 102, 108, 106, 119,\n",
       "        120, 129, 149, 156, 167, 190, 190, 196, 198, 198, 187, 197, 189,\n",
       "        184,  36],\n",
       "       [ 16, 126, 171, 188, 188, 184, 171, 153, 135, 120, 126, 127, 146,\n",
       "        185, 195, 209, 208, 255, 209, 177, 245, 252, 251, 251, 247, 220,\n",
       "        206,  49],\n",
       "       [  0,   0,   0,  12,  67, 106, 164, 185, 199, 210, 211, 210, 208,\n",
       "        190, 150,  82,   8,   0,   0,   0, 178, 208, 188, 175, 162, 158,\n",
       "        151,  11],\n",
       "       [  0,   0,   0,   0,   0,   0,   0,   0,   0,   0,   0,   0,   0,\n",
       "          0,   0,   0,   0,   0,   0,   0,   0,   0,   0,   0,   0,   0,\n",
       "          0,   0],\n",
       "       [  0,   0,   0,   0,   0,   0,   0,   0,   0,   0,   0,   0,   0,\n",
       "          0,   0,   0,   0,   0,   0,   0,   0,   0,   0,   0,   0,   0,\n",
       "          0,   0],\n",
       "       [  0,   0,   0,   0,   0,   0,   0,   0,   0,   0,   0,   0,   0,\n",
       "          0,   0,   0,   0,   0,   0,   0,   0,   0,   0,   0,   0,   0,\n",
       "          0,   0],\n",
       "       [  0,   0,   0,   0,   0,   0,   0,   0,   0,   0,   0,   0,   0,\n",
       "          0,   0,   0,   0,   0,   0,   0,   0,   0,   0,   0,   0,   0,\n",
       "          0,   0],\n",
       "       [  0,   0,   0,   0,   0,   0,   0,   0,   0,   0,   0,   0,   0,\n",
       "          0,   0,   0,   0,   0,   0,   0,   0,   0,   0,   0,   0,   0,\n",
       "          0,   0],\n",
       "       [  0,   0,   0,   0,   0,   0,   0,   0,   0,   0,   0,   0,   0,\n",
       "          0,   0,   0,   0,   0,   0,   0,   0,   0,   0,   0,   0,   0,\n",
       "          0,   0]], dtype=uint8)</pre></div><script>\n",
       "      (() => {\n",
       "      const titles = ['show data', 'hide data'];\n",
       "      let index = 0\n",
       "      document.querySelector('#id-acd50d45-06ed-4937-8d61-853a68a01103 button').onclick = (e) => {\n",
       "        document.querySelector('#id-acd50d45-06ed-4937-8d61-853a68a01103').classList.toggle('show_array');\n",
       "        index = (++index) % 2;\n",
       "        document.querySelector('#id-acd50d45-06ed-4937-8d61-853a68a01103 button').textContent = titles[index];\n",
       "        e.preventDefault();\n",
       "        e.stopPropagation();\n",
       "      }\n",
       "      })();\n",
       "    </script>"
      ],
      "text/plain": [
       "array([[  0,   0,   0,   0,   0,   0,   0,   0,   0,   0,   0,   0,   0,\n",
       "          0,   0,   0,   0,   0,   0,   0,   0,   0,   0,   0,   0,   0,\n",
       "          0,   0],\n",
       "       [  0,   0,   0,   0,   0,   0,   0,   0,   0,   0,   0,   0,   0,\n",
       "          0,   0,   0,   0,   0,   0,   0,   0,   0,   0,   0,   0,   0,\n",
       "          0,   0],\n",
       "       [  0,   0,   0,   0,   0,   0,   0,   0,   0,   0,   0,   0,   0,\n",
       "          0,   0,   0,   0,   0,   0,   0,   0,   0,   0,   0,   0,   0,\n",
       "          0,   0],\n",
       "       [  0,   0,   0,   0,   0,   0,   0,   0,   0,   0,   0,   0,   0,\n",
       "          0,   0,   0,   0,   0,   0,   0,   0,   0,   0,   0,   0,   0,\n",
       "          0,   0],\n",
       "       [  0,   0,   0,   0,   0,   0,   0,   0,   0,   0,   0,   0,   0,\n",
       "          0,   0,   0,   0,   0,   0,   0,   0,   0,   0,   0,   0,   0,\n",
       "          0,   0],\n",
       "       [  0,   0,   0,   0,   0,   0,   0,   0,   0,   0,   0,   0,   0,\n",
       "          0,   0,   0,   0,   0,   0,   0,   0,   0,   0,   0,   0,   0,\n",
       "          0,   0],\n",
       "       [  0,   0,   0,   0,   0,   0,   0,   0,   0,   0,   0,   0,   0,\n",
       "          0,   0,   0,   0,   0,   0,   0,   0,   0,   0,   0,   0,   0,\n",
       "          0,   0],\n",
       "       [  0,   0,   0,   0,   0,   0,   0,   0,   0,   0,   0,   0,   0,\n",
       "          0,   0,   0,   0,   0,   0,   3,   1,   0,   0,   7,   0,  37,\n",
       "          0,   0],\n",
       "       [  0,   0,   0,   0,   0,   0,   0,   0,   0,   0,   0,   0,   0,\n",
       "          1,   2,   0,  27,  84,  11,   0,   0,   0,   0,   0,   0, 119,\n",
       "          0,   0],\n",
       "       [  0,   0,   0,   0,   0,   0,   0,   0,   0,   0,   0,   0,   0,\n",
       "          1,   0,   0,  88, 143, 110,   0,   0,   0,   0,  22,  93, 106,\n",
       "          0,   0],\n",
       "       [  0,   0,   0,   0,   0,   0,   0,   0,   0,   0,   0,   0,   0,\n",
       "          4,   0,  53, 129, 120, 147, 175, 157, 166, 135, 154, 168, 140,\n",
       "          0,   0],\n",
       "       [  0,   0,   0,   0,   0,   0,   0,   0,   0,   0,   0,   0,   2,\n",
       "          0,  11, 137, 130, 128, 160, 176, 159, 167, 178, 149, 151, 144,\n",
       "          0,   0],\n",
       "       [  0,   0,   0,   0,   0,   0,   1,   0,   2,   1,   0,   3,   0,\n",
       "          0, 115, 114, 106, 137, 168, 153, 156, 165, 167, 143, 157, 158,\n",
       "         11,   0],\n",
       "       [  0,   0,   0,   0,   1,   0,   0,   0,   0,   0,   3,   0,   0,\n",
       "         89, 139,  90,  94, 153, 149, 131, 151, 169, 172, 143, 159, 169,\n",
       "         48,   0],\n",
       "       [  0,   0,   0,   0,   0,   0,   2,   4,   1,   0,   0,   0,  98,\n",
       "        136, 110, 109, 110, 162, 135, 144, 149, 159, 167, 144, 158, 169,\n",
       "        119,   0],\n",
       "       [  0,   0,   2,   2,   1,   2,   0,   0,   0,   0,  26, 108, 117,\n",
       "         99, 111, 117, 136, 156, 134, 154, 154, 156, 160, 141, 147, 156,\n",
       "        178,   0],\n",
       "       [  3,   0,   0,   0,   0,   0,   0,  21,  53,  92, 117, 111, 103,\n",
       "        115, 129, 134, 143, 154, 165, 170, 154, 151, 154, 143, 138, 150,\n",
       "        165,  43],\n",
       "       [  0,   0,  23,  54,  65,  76,  85, 118, 128, 123, 111, 113, 118,\n",
       "        127, 125, 139, 133, 136, 160, 140, 155, 161, 144, 155, 172, 161,\n",
       "        189,  62],\n",
       "       [  0,  68,  94,  90, 111, 114, 111, 114, 115, 127, 135, 136, 143,\n",
       "        126, 127, 151, 154, 143, 148, 125, 162, 162, 144, 138, 153, 162,\n",
       "        196,  58],\n",
       "       [ 70, 169, 129, 104,  98, 100,  94,  97,  98, 102, 108, 106, 119,\n",
       "        120, 129, 149, 156, 167, 190, 190, 196, 198, 198, 187, 197, 189,\n",
       "        184,  36],\n",
       "       [ 16, 126, 171, 188, 188, 184, 171, 153, 135, 120, 126, 127, 146,\n",
       "        185, 195, 209, 208, 255, 209, 177, 245, 252, 251, 251, 247, 220,\n",
       "        206,  49],\n",
       "       [  0,   0,   0,  12,  67, 106, 164, 185, 199, 210, 211, 210, 208,\n",
       "        190, 150,  82,   8,   0,   0,   0, 178, 208, 188, 175, 162, 158,\n",
       "        151,  11],\n",
       "       [  0,   0,   0,   0,   0,   0,   0,   0,   0,   0,   0,   0,   0,\n",
       "          0,   0,   0,   0,   0,   0,   0,   0,   0,   0,   0,   0,   0,\n",
       "          0,   0],\n",
       "       [  0,   0,   0,   0,   0,   0,   0,   0,   0,   0,   0,   0,   0,\n",
       "          0,   0,   0,   0,   0,   0,   0,   0,   0,   0,   0,   0,   0,\n",
       "          0,   0],\n",
       "       [  0,   0,   0,   0,   0,   0,   0,   0,   0,   0,   0,   0,   0,\n",
       "          0,   0,   0,   0,   0,   0,   0,   0,   0,   0,   0,   0,   0,\n",
       "          0,   0],\n",
       "       [  0,   0,   0,   0,   0,   0,   0,   0,   0,   0,   0,   0,   0,\n",
       "          0,   0,   0,   0,   0,   0,   0,   0,   0,   0,   0,   0,   0,\n",
       "          0,   0],\n",
       "       [  0,   0,   0,   0,   0,   0,   0,   0,   0,   0,   0,   0,   0,\n",
       "          0,   0,   0,   0,   0,   0,   0,   0,   0,   0,   0,   0,   0,\n",
       "          0,   0],\n",
       "       [  0,   0,   0,   0,   0,   0,   0,   0,   0,   0,   0,   0,   0,\n",
       "          0,   0,   0,   0,   0,   0,   0,   0,   0,   0,   0,   0,   0,\n",
       "          0,   0]], dtype=uint8)"
      ]
     },
     "execution_count": 69,
     "metadata": {},
     "output_type": "execute_result"
    }
   ],
   "source": [
    "x_test[0]"
   ]
  },
  {
   "cell_type": "code",
   "execution_count": 70,
   "metadata": {
    "executionInfo": {
     "elapsed": 258,
     "status": "ok",
     "timestamp": 1719342064283,
     "user": {
      "displayName": "milad ebrahimian",
      "userId": "12617387319880213983"
     },
     "user_tz": -60
    },
    "id": "yNNp-AfZLb7f"
   },
   "outputs": [],
   "source": [
    "x_train, x_test= x_train/255.0, x_test/255.0"
   ]
  },
  {
   "cell_type": "markdown",
   "metadata": {
    "id": "aOs_KyaZMAjZ"
   },
   "source": [
    "We divide by 255 to normalize the pixel values of the Fashion MNIST dataset to a range of 0 to 1, as the original pixel values range from 0 to 255."
   ]
  },
  {
   "cell_type": "code",
   "execution_count": 71,
   "metadata": {
    "colab": {
     "base_uri": "https://localhost:8080/"
    },
    "executionInfo": {
     "elapsed": 283,
     "status": "ok",
     "timestamp": 1719342066029,
     "user": {
      "displayName": "milad ebrahimian",
      "userId": "12617387319880213983"
     },
     "user_tz": -60
    },
    "id": "EbErE4q4Lhjc",
    "outputId": "bcbb039f-a73a-47a0-bcc3-1739dbd8728b"
   },
   "outputs": [
    {
     "data": {
      "text/plain": [
       "array([[0.        , 0.        , 0.        , 0.        , 0.        ,\n",
       "        0.        , 0.        , 0.        , 0.        , 0.        ,\n",
       "        0.        , 0.        , 0.        , 0.        , 0.        ,\n",
       "        0.        , 0.        , 0.        , 0.        , 0.        ,\n",
       "        0.        , 0.        , 0.        , 0.        , 0.        ,\n",
       "        0.        , 0.        , 0.        ],\n",
       "       [0.        , 0.        , 0.        , 0.        , 0.        ,\n",
       "        0.        , 0.        , 0.        , 0.        , 0.        ,\n",
       "        0.        , 0.        , 0.        , 0.        , 0.        ,\n",
       "        0.        , 0.        , 0.        , 0.        , 0.        ,\n",
       "        0.        , 0.        , 0.        , 0.        , 0.        ,\n",
       "        0.        , 0.        , 0.        ],\n",
       "       [0.        , 0.        , 0.        , 0.        , 0.        ,\n",
       "        0.        , 0.        , 0.        , 0.        , 0.        ,\n",
       "        0.        , 0.        , 0.        , 0.        , 0.        ,\n",
       "        0.        , 0.        , 0.        , 0.        , 0.        ,\n",
       "        0.        , 0.        , 0.        , 0.        , 0.        ,\n",
       "        0.        , 0.        , 0.        ],\n",
       "       [0.        , 0.        , 0.        , 0.        , 0.        ,\n",
       "        0.        , 0.        , 0.        , 0.        , 0.        ,\n",
       "        0.        , 0.        , 0.00392157, 0.        , 0.        ,\n",
       "        0.05098039, 0.28627451, 0.        , 0.        , 0.00392157,\n",
       "        0.01568627, 0.        , 0.        , 0.        , 0.        ,\n",
       "        0.00392157, 0.00392157, 0.        ],\n",
       "       [0.        , 0.        , 0.        , 0.        , 0.        ,\n",
       "        0.        , 0.        , 0.        , 0.        , 0.        ,\n",
       "        0.        , 0.        , 0.01176471, 0.        , 0.14117647,\n",
       "        0.53333333, 0.49803922, 0.24313725, 0.21176471, 0.        ,\n",
       "        0.        , 0.        , 0.00392157, 0.01176471, 0.01568627,\n",
       "        0.        , 0.        , 0.01176471],\n",
       "       [0.        , 0.        , 0.        , 0.        , 0.        ,\n",
       "        0.        , 0.        , 0.        , 0.        , 0.        ,\n",
       "        0.        , 0.        , 0.02352941, 0.        , 0.4       ,\n",
       "        0.8       , 0.69019608, 0.5254902 , 0.56470588, 0.48235294,\n",
       "        0.09019608, 0.        , 0.        , 0.        , 0.        ,\n",
       "        0.04705882, 0.03921569, 0.        ],\n",
       "       [0.        , 0.        , 0.        , 0.        , 0.        ,\n",
       "        0.        , 0.        , 0.        , 0.        , 0.        ,\n",
       "        0.        , 0.        , 0.        , 0.        , 0.60784314,\n",
       "        0.9254902 , 0.81176471, 0.69803922, 0.41960784, 0.61176471,\n",
       "        0.63137255, 0.42745098, 0.25098039, 0.09019608, 0.30196078,\n",
       "        0.50980392, 0.28235294, 0.05882353],\n",
       "       [0.        , 0.        , 0.        , 0.        , 0.        ,\n",
       "        0.        , 0.        , 0.        , 0.        , 0.        ,\n",
       "        0.        , 0.00392157, 0.        , 0.27058824, 0.81176471,\n",
       "        0.8745098 , 0.85490196, 0.84705882, 0.84705882, 0.63921569,\n",
       "        0.49803922, 0.4745098 , 0.47843137, 0.57254902, 0.55294118,\n",
       "        0.34509804, 0.6745098 , 0.25882353],\n",
       "       [0.        , 0.        , 0.        , 0.        , 0.        ,\n",
       "        0.        , 0.        , 0.        , 0.        , 0.00392157,\n",
       "        0.00392157, 0.00392157, 0.        , 0.78431373, 0.90980392,\n",
       "        0.90980392, 0.91372549, 0.89803922, 0.8745098 , 0.8745098 ,\n",
       "        0.84313725, 0.83529412, 0.64313725, 0.49803922, 0.48235294,\n",
       "        0.76862745, 0.89803922, 0.        ],\n",
       "       [0.        , 0.        , 0.        , 0.        , 0.        ,\n",
       "        0.        , 0.        , 0.        , 0.        , 0.        ,\n",
       "        0.        , 0.        , 0.        , 0.71764706, 0.88235294,\n",
       "        0.84705882, 0.8745098 , 0.89411765, 0.92156863, 0.89019608,\n",
       "        0.87843137, 0.87058824, 0.87843137, 0.86666667, 0.8745098 ,\n",
       "        0.96078431, 0.67843137, 0.        ],\n",
       "       [0.        , 0.        , 0.        , 0.        , 0.        ,\n",
       "        0.        , 0.        , 0.        , 0.        , 0.        ,\n",
       "        0.        , 0.        , 0.        , 0.75686275, 0.89411765,\n",
       "        0.85490196, 0.83529412, 0.77647059, 0.70588235, 0.83137255,\n",
       "        0.82352941, 0.82745098, 0.83529412, 0.8745098 , 0.8627451 ,\n",
       "        0.95294118, 0.79215686, 0.        ],\n",
       "       [0.        , 0.        , 0.        , 0.        , 0.        ,\n",
       "        0.        , 0.        , 0.        , 0.        , 0.00392157,\n",
       "        0.01176471, 0.        , 0.04705882, 0.85882353, 0.8627451 ,\n",
       "        0.83137255, 0.85490196, 0.75294118, 0.6627451 , 0.89019608,\n",
       "        0.81568627, 0.85490196, 0.87843137, 0.83137255, 0.88627451,\n",
       "        0.77254902, 0.81960784, 0.20392157],\n",
       "       [0.        , 0.        , 0.        , 0.        , 0.        ,\n",
       "        0.        , 0.        , 0.        , 0.        , 0.        ,\n",
       "        0.02352941, 0.        , 0.38823529, 0.95686275, 0.87058824,\n",
       "        0.8627451 , 0.85490196, 0.79607843, 0.77647059, 0.86666667,\n",
       "        0.84313725, 0.83529412, 0.87058824, 0.8627451 , 0.96078431,\n",
       "        0.46666667, 0.65490196, 0.21960784],\n",
       "       [0.        , 0.        , 0.        , 0.        , 0.        ,\n",
       "        0.        , 0.        , 0.        , 0.        , 0.01568627,\n",
       "        0.        , 0.        , 0.21568627, 0.9254902 , 0.89411765,\n",
       "        0.90196078, 0.89411765, 0.94117647, 0.90980392, 0.83529412,\n",
       "        0.85490196, 0.8745098 , 0.91764706, 0.85098039, 0.85098039,\n",
       "        0.81960784, 0.36078431, 0.        ],\n",
       "       [0.        , 0.        , 0.00392157, 0.01568627, 0.02352941,\n",
       "        0.02745098, 0.00784314, 0.        , 0.        , 0.        ,\n",
       "        0.        , 0.        , 0.92941176, 0.88627451, 0.85098039,\n",
       "        0.8745098 , 0.87058824, 0.85882353, 0.87058824, 0.86666667,\n",
       "        0.84705882, 0.8745098 , 0.89803922, 0.84313725, 0.85490196,\n",
       "        1.        , 0.30196078, 0.        ],\n",
       "       [0.        , 0.01176471, 0.        , 0.        , 0.        ,\n",
       "        0.        , 0.        , 0.        , 0.        , 0.24313725,\n",
       "        0.56862745, 0.8       , 0.89411765, 0.81176471, 0.83529412,\n",
       "        0.86666667, 0.85490196, 0.81568627, 0.82745098, 0.85490196,\n",
       "        0.87843137, 0.8745098 , 0.85882353, 0.84313725, 0.87843137,\n",
       "        0.95686275, 0.62352941, 0.        ],\n",
       "       [0.        , 0.        , 0.        , 0.        , 0.07058824,\n",
       "        0.17254902, 0.32156863, 0.41960784, 0.74117647, 0.89411765,\n",
       "        0.8627451 , 0.87058824, 0.85098039, 0.88627451, 0.78431373,\n",
       "        0.80392157, 0.82745098, 0.90196078, 0.87843137, 0.91764706,\n",
       "        0.69019608, 0.7372549 , 0.98039216, 0.97254902, 0.91372549,\n",
       "        0.93333333, 0.84313725, 0.        ],\n",
       "       [0.        , 0.22352941, 0.73333333, 0.81568627, 0.87843137,\n",
       "        0.86666667, 0.87843137, 0.81568627, 0.8       , 0.83921569,\n",
       "        0.81568627, 0.81960784, 0.78431373, 0.62352941, 0.96078431,\n",
       "        0.75686275, 0.80784314, 0.8745098 , 1.        , 1.        ,\n",
       "        0.86666667, 0.91764706, 0.86666667, 0.82745098, 0.8627451 ,\n",
       "        0.90980392, 0.96470588, 0.        ],\n",
       "       [0.01176471, 0.79215686, 0.89411765, 0.87843137, 0.86666667,\n",
       "        0.82745098, 0.82745098, 0.83921569, 0.80392157, 0.80392157,\n",
       "        0.80392157, 0.8627451 , 0.94117647, 0.31372549, 0.58823529,\n",
       "        1.        , 0.89803922, 0.86666667, 0.7372549 , 0.60392157,\n",
       "        0.74901961, 0.82352941, 0.8       , 0.81960784, 0.87058824,\n",
       "        0.89411765, 0.88235294, 0.        ],\n",
       "       [0.38431373, 0.91372549, 0.77647059, 0.82352941, 0.87058824,\n",
       "        0.89803922, 0.89803922, 0.91764706, 0.97647059, 0.8627451 ,\n",
       "        0.76078431, 0.84313725, 0.85098039, 0.94509804, 0.25490196,\n",
       "        0.28627451, 0.41568627, 0.45882353, 0.65882353, 0.85882353,\n",
       "        0.86666667, 0.84313725, 0.85098039, 0.8745098 , 0.8745098 ,\n",
       "        0.87843137, 0.89803922, 0.11372549],\n",
       "       [0.29411765, 0.8       , 0.83137255, 0.8       , 0.75686275,\n",
       "        0.80392157, 0.82745098, 0.88235294, 0.84705882, 0.7254902 ,\n",
       "        0.77254902, 0.80784314, 0.77647059, 0.83529412, 0.94117647,\n",
       "        0.76470588, 0.89019608, 0.96078431, 0.9372549 , 0.8745098 ,\n",
       "        0.85490196, 0.83137255, 0.81960784, 0.87058824, 0.8627451 ,\n",
       "        0.86666667, 0.90196078, 0.2627451 ],\n",
       "       [0.18823529, 0.79607843, 0.71764706, 0.76078431, 0.83529412,\n",
       "        0.77254902, 0.7254902 , 0.74509804, 0.76078431, 0.75294118,\n",
       "        0.79215686, 0.83921569, 0.85882353, 0.86666667, 0.8627451 ,\n",
       "        0.9254902 , 0.88235294, 0.84705882, 0.78039216, 0.80784314,\n",
       "        0.72941176, 0.70980392, 0.69411765, 0.6745098 , 0.70980392,\n",
       "        0.80392157, 0.80784314, 0.45098039],\n",
       "       [0.        , 0.47843137, 0.85882353, 0.75686275, 0.70196078,\n",
       "        0.67058824, 0.71764706, 0.76862745, 0.8       , 0.82352941,\n",
       "        0.83529412, 0.81176471, 0.82745098, 0.82352941, 0.78431373,\n",
       "        0.76862745, 0.76078431, 0.74901961, 0.76470588, 0.74901961,\n",
       "        0.77647059, 0.75294118, 0.69019608, 0.61176471, 0.65490196,\n",
       "        0.69411765, 0.82352941, 0.36078431],\n",
       "       [0.        , 0.        , 0.29019608, 0.74117647, 0.83137255,\n",
       "        0.74901961, 0.68627451, 0.6745098 , 0.68627451, 0.70980392,\n",
       "        0.7254902 , 0.7372549 , 0.74117647, 0.7372549 , 0.75686275,\n",
       "        0.77647059, 0.8       , 0.81960784, 0.82352941, 0.82352941,\n",
       "        0.82745098, 0.7372549 , 0.7372549 , 0.76078431, 0.75294118,\n",
       "        0.84705882, 0.66666667, 0.        ],\n",
       "       [0.00784314, 0.        , 0.        , 0.        , 0.25882353,\n",
       "        0.78431373, 0.87058824, 0.92941176, 0.9372549 , 0.94901961,\n",
       "        0.96470588, 0.95294118, 0.95686275, 0.86666667, 0.8627451 ,\n",
       "        0.75686275, 0.74901961, 0.70196078, 0.71372549, 0.71372549,\n",
       "        0.70980392, 0.69019608, 0.65098039, 0.65882353, 0.38823529,\n",
       "        0.22745098, 0.        , 0.        ],\n",
       "       [0.        , 0.        , 0.        , 0.        , 0.        ,\n",
       "        0.        , 0.        , 0.15686275, 0.23921569, 0.17254902,\n",
       "        0.28235294, 0.16078431, 0.1372549 , 0.        , 0.        ,\n",
       "        0.        , 0.        , 0.        , 0.        , 0.        ,\n",
       "        0.        , 0.        , 0.        , 0.        , 0.        ,\n",
       "        0.        , 0.        , 0.        ],\n",
       "       [0.        , 0.        , 0.        , 0.        , 0.        ,\n",
       "        0.        , 0.        , 0.        , 0.        , 0.        ,\n",
       "        0.        , 0.        , 0.        , 0.        , 0.        ,\n",
       "        0.        , 0.        , 0.        , 0.        , 0.        ,\n",
       "        0.        , 0.        , 0.        , 0.        , 0.        ,\n",
       "        0.        , 0.        , 0.        ],\n",
       "       [0.        , 0.        , 0.        , 0.        , 0.        ,\n",
       "        0.        , 0.        , 0.        , 0.        , 0.        ,\n",
       "        0.        , 0.        , 0.        , 0.        , 0.        ,\n",
       "        0.        , 0.        , 0.        , 0.        , 0.        ,\n",
       "        0.        , 0.        , 0.        , 0.        , 0.        ,\n",
       "        0.        , 0.        , 0.        ]])"
      ]
     },
     "execution_count": 71,
     "metadata": {},
     "output_type": "execute_result"
    }
   ],
   "source": [
    "x_train [0]"
   ]
  },
  {
   "cell_type": "code",
   "execution_count": 72,
   "metadata": {
    "colab": {
     "base_uri": "https://localhost:8080/"
    },
    "executionInfo": {
     "elapsed": 332,
     "status": "ok",
     "timestamp": 1719342066713,
     "user": {
      "displayName": "milad ebrahimian",
      "userId": "12617387319880213983"
     },
     "user_tz": -60
    },
    "id": "b5VgVFfdLjp9",
    "outputId": "beb4c168-4d3d-4e81-82ba-b38eb1154571"
   },
   "outputs": [
    {
     "data": {
      "text/plain": [
       "array([[0.        , 0.        , 0.        , 0.        , 0.        ,\n",
       "        0.        , 0.        , 0.        , 0.        , 0.        ,\n",
       "        0.        , 0.        , 0.        , 0.        , 0.        ,\n",
       "        0.        , 0.        , 0.        , 0.        , 0.        ,\n",
       "        0.        , 0.        , 0.        , 0.        , 0.        ,\n",
       "        0.        , 0.        , 0.        ],\n",
       "       [0.        , 0.        , 0.        , 0.        , 0.        ,\n",
       "        0.        , 0.        , 0.        , 0.        , 0.        ,\n",
       "        0.        , 0.        , 0.        , 0.        , 0.        ,\n",
       "        0.        , 0.        , 0.        , 0.        , 0.        ,\n",
       "        0.        , 0.        , 0.        , 0.        , 0.        ,\n",
       "        0.        , 0.        , 0.        ],\n",
       "       [0.        , 0.        , 0.        , 0.        , 0.        ,\n",
       "        0.        , 0.        , 0.        , 0.        , 0.        ,\n",
       "        0.        , 0.        , 0.        , 0.        , 0.        ,\n",
       "        0.        , 0.        , 0.        , 0.        , 0.        ,\n",
       "        0.        , 0.        , 0.        , 0.        , 0.        ,\n",
       "        0.        , 0.        , 0.        ],\n",
       "       [0.        , 0.        , 0.        , 0.        , 0.        ,\n",
       "        0.        , 0.        , 0.        , 0.        , 0.        ,\n",
       "        0.        , 0.        , 0.        , 0.        , 0.        ,\n",
       "        0.        , 0.        , 0.        , 0.        , 0.        ,\n",
       "        0.        , 0.        , 0.        , 0.        , 0.        ,\n",
       "        0.        , 0.        , 0.        ],\n",
       "       [0.        , 0.        , 0.        , 0.        , 0.        ,\n",
       "        0.        , 0.        , 0.        , 0.        , 0.        ,\n",
       "        0.        , 0.        , 0.        , 0.        , 0.        ,\n",
       "        0.        , 0.        , 0.        , 0.        , 0.        ,\n",
       "        0.        , 0.        , 0.        , 0.        , 0.        ,\n",
       "        0.        , 0.        , 0.        ],\n",
       "       [0.        , 0.        , 0.        , 0.        , 0.        ,\n",
       "        0.        , 0.        , 0.        , 0.        , 0.        ,\n",
       "        0.        , 0.        , 0.        , 0.        , 0.        ,\n",
       "        0.        , 0.        , 0.        , 0.        , 0.        ,\n",
       "        0.        , 0.        , 0.        , 0.        , 0.        ,\n",
       "        0.        , 0.        , 0.        ],\n",
       "       [0.        , 0.        , 0.        , 0.        , 0.        ,\n",
       "        0.        , 0.        , 0.        , 0.        , 0.        ,\n",
       "        0.        , 0.        , 0.        , 0.        , 0.        ,\n",
       "        0.        , 0.        , 0.        , 0.        , 0.        ,\n",
       "        0.        , 0.        , 0.        , 0.        , 0.        ,\n",
       "        0.        , 0.        , 0.        ],\n",
       "       [0.        , 0.        , 0.        , 0.        , 0.        ,\n",
       "        0.        , 0.        , 0.        , 0.        , 0.        ,\n",
       "        0.        , 0.        , 0.        , 0.        , 0.        ,\n",
       "        0.        , 0.        , 0.        , 0.        , 0.01176471,\n",
       "        0.00392157, 0.        , 0.        , 0.02745098, 0.        ,\n",
       "        0.14509804, 0.        , 0.        ],\n",
       "       [0.        , 0.        , 0.        , 0.        , 0.        ,\n",
       "        0.        , 0.        , 0.        , 0.        , 0.        ,\n",
       "        0.        , 0.        , 0.        , 0.00392157, 0.00784314,\n",
       "        0.        , 0.10588235, 0.32941176, 0.04313725, 0.        ,\n",
       "        0.        , 0.        , 0.        , 0.        , 0.        ,\n",
       "        0.46666667, 0.        , 0.        ],\n",
       "       [0.        , 0.        , 0.        , 0.        , 0.        ,\n",
       "        0.        , 0.        , 0.        , 0.        , 0.        ,\n",
       "        0.        , 0.        , 0.        , 0.00392157, 0.        ,\n",
       "        0.        , 0.34509804, 0.56078431, 0.43137255, 0.        ,\n",
       "        0.        , 0.        , 0.        , 0.08627451, 0.36470588,\n",
       "        0.41568627, 0.        , 0.        ],\n",
       "       [0.        , 0.        , 0.        , 0.        , 0.        ,\n",
       "        0.        , 0.        , 0.        , 0.        , 0.        ,\n",
       "        0.        , 0.        , 0.        , 0.01568627, 0.        ,\n",
       "        0.20784314, 0.50588235, 0.47058824, 0.57647059, 0.68627451,\n",
       "        0.61568627, 0.65098039, 0.52941176, 0.60392157, 0.65882353,\n",
       "        0.54901961, 0.        , 0.        ],\n",
       "       [0.        , 0.        , 0.        , 0.        , 0.        ,\n",
       "        0.        , 0.        , 0.        , 0.        , 0.        ,\n",
       "        0.        , 0.        , 0.00784314, 0.        , 0.04313725,\n",
       "        0.5372549 , 0.50980392, 0.50196078, 0.62745098, 0.69019608,\n",
       "        0.62352941, 0.65490196, 0.69803922, 0.58431373, 0.59215686,\n",
       "        0.56470588, 0.        , 0.        ],\n",
       "       [0.        , 0.        , 0.        , 0.        , 0.        ,\n",
       "        0.        , 0.00392157, 0.        , 0.00784314, 0.00392157,\n",
       "        0.        , 0.01176471, 0.        , 0.        , 0.45098039,\n",
       "        0.44705882, 0.41568627, 0.5372549 , 0.65882353, 0.6       ,\n",
       "        0.61176471, 0.64705882, 0.65490196, 0.56078431, 0.61568627,\n",
       "        0.61960784, 0.04313725, 0.        ],\n",
       "       [0.        , 0.        , 0.        , 0.        , 0.00392157,\n",
       "        0.        , 0.        , 0.        , 0.        , 0.        ,\n",
       "        0.01176471, 0.        , 0.        , 0.34901961, 0.54509804,\n",
       "        0.35294118, 0.36862745, 0.6       , 0.58431373, 0.51372549,\n",
       "        0.59215686, 0.6627451 , 0.6745098 , 0.56078431, 0.62352941,\n",
       "        0.6627451 , 0.18823529, 0.        ],\n",
       "       [0.        , 0.        , 0.        , 0.        , 0.        ,\n",
       "        0.        , 0.00784314, 0.01568627, 0.00392157, 0.        ,\n",
       "        0.        , 0.        , 0.38431373, 0.53333333, 0.43137255,\n",
       "        0.42745098, 0.43137255, 0.63529412, 0.52941176, 0.56470588,\n",
       "        0.58431373, 0.62352941, 0.65490196, 0.56470588, 0.61960784,\n",
       "        0.6627451 , 0.46666667, 0.        ],\n",
       "       [0.        , 0.        , 0.00784314, 0.00784314, 0.00392157,\n",
       "        0.00784314, 0.        , 0.        , 0.        , 0.        ,\n",
       "        0.10196078, 0.42352941, 0.45882353, 0.38823529, 0.43529412,\n",
       "        0.45882353, 0.53333333, 0.61176471, 0.5254902 , 0.60392157,\n",
       "        0.60392157, 0.61176471, 0.62745098, 0.55294118, 0.57647059,\n",
       "        0.61176471, 0.69803922, 0.        ],\n",
       "       [0.01176471, 0.        , 0.        , 0.        , 0.        ,\n",
       "        0.        , 0.        , 0.08235294, 0.20784314, 0.36078431,\n",
       "        0.45882353, 0.43529412, 0.40392157, 0.45098039, 0.50588235,\n",
       "        0.5254902 , 0.56078431, 0.60392157, 0.64705882, 0.66666667,\n",
       "        0.60392157, 0.59215686, 0.60392157, 0.56078431, 0.54117647,\n",
       "        0.58823529, 0.64705882, 0.16862745],\n",
       "       [0.        , 0.        , 0.09019608, 0.21176471, 0.25490196,\n",
       "        0.29803922, 0.33333333, 0.4627451 , 0.50196078, 0.48235294,\n",
       "        0.43529412, 0.44313725, 0.4627451 , 0.49803922, 0.49019608,\n",
       "        0.54509804, 0.52156863, 0.53333333, 0.62745098, 0.54901961,\n",
       "        0.60784314, 0.63137255, 0.56470588, 0.60784314, 0.6745098 ,\n",
       "        0.63137255, 0.74117647, 0.24313725],\n",
       "       [0.        , 0.26666667, 0.36862745, 0.35294118, 0.43529412,\n",
       "        0.44705882, 0.43529412, 0.44705882, 0.45098039, 0.49803922,\n",
       "        0.52941176, 0.53333333, 0.56078431, 0.49411765, 0.49803922,\n",
       "        0.59215686, 0.60392157, 0.56078431, 0.58039216, 0.49019608,\n",
       "        0.63529412, 0.63529412, 0.56470588, 0.54117647, 0.6       ,\n",
       "        0.63529412, 0.76862745, 0.22745098],\n",
       "       [0.2745098 , 0.6627451 , 0.50588235, 0.40784314, 0.38431373,\n",
       "        0.39215686, 0.36862745, 0.38039216, 0.38431373, 0.4       ,\n",
       "        0.42352941, 0.41568627, 0.46666667, 0.47058824, 0.50588235,\n",
       "        0.58431373, 0.61176471, 0.65490196, 0.74509804, 0.74509804,\n",
       "        0.76862745, 0.77647059, 0.77647059, 0.73333333, 0.77254902,\n",
       "        0.74117647, 0.72156863, 0.14117647],\n",
       "       [0.0627451 , 0.49411765, 0.67058824, 0.7372549 , 0.7372549 ,\n",
       "        0.72156863, 0.67058824, 0.6       , 0.52941176, 0.47058824,\n",
       "        0.49411765, 0.49803922, 0.57254902, 0.7254902 , 0.76470588,\n",
       "        0.81960784, 0.81568627, 1.        , 0.81960784, 0.69411765,\n",
       "        0.96078431, 0.98823529, 0.98431373, 0.98431373, 0.96862745,\n",
       "        0.8627451 , 0.80784314, 0.19215686],\n",
       "       [0.        , 0.        , 0.        , 0.04705882, 0.2627451 ,\n",
       "        0.41568627, 0.64313725, 0.7254902 , 0.78039216, 0.82352941,\n",
       "        0.82745098, 0.82352941, 0.81568627, 0.74509804, 0.58823529,\n",
       "        0.32156863, 0.03137255, 0.        , 0.        , 0.        ,\n",
       "        0.69803922, 0.81568627, 0.7372549 , 0.68627451, 0.63529412,\n",
       "        0.61960784, 0.59215686, 0.04313725],\n",
       "       [0.        , 0.        , 0.        , 0.        , 0.        ,\n",
       "        0.        , 0.        , 0.        , 0.        , 0.        ,\n",
       "        0.        , 0.        , 0.        , 0.        , 0.        ,\n",
       "        0.        , 0.        , 0.        , 0.        , 0.        ,\n",
       "        0.        , 0.        , 0.        , 0.        , 0.        ,\n",
       "        0.        , 0.        , 0.        ],\n",
       "       [0.        , 0.        , 0.        , 0.        , 0.        ,\n",
       "        0.        , 0.        , 0.        , 0.        , 0.        ,\n",
       "        0.        , 0.        , 0.        , 0.        , 0.        ,\n",
       "        0.        , 0.        , 0.        , 0.        , 0.        ,\n",
       "        0.        , 0.        , 0.        , 0.        , 0.        ,\n",
       "        0.        , 0.        , 0.        ],\n",
       "       [0.        , 0.        , 0.        , 0.        , 0.        ,\n",
       "        0.        , 0.        , 0.        , 0.        , 0.        ,\n",
       "        0.        , 0.        , 0.        , 0.        , 0.        ,\n",
       "        0.        , 0.        , 0.        , 0.        , 0.        ,\n",
       "        0.        , 0.        , 0.        , 0.        , 0.        ,\n",
       "        0.        , 0.        , 0.        ],\n",
       "       [0.        , 0.        , 0.        , 0.        , 0.        ,\n",
       "        0.        , 0.        , 0.        , 0.        , 0.        ,\n",
       "        0.        , 0.        , 0.        , 0.        , 0.        ,\n",
       "        0.        , 0.        , 0.        , 0.        , 0.        ,\n",
       "        0.        , 0.        , 0.        , 0.        , 0.        ,\n",
       "        0.        , 0.        , 0.        ],\n",
       "       [0.        , 0.        , 0.        , 0.        , 0.        ,\n",
       "        0.        , 0.        , 0.        , 0.        , 0.        ,\n",
       "        0.        , 0.        , 0.        , 0.        , 0.        ,\n",
       "        0.        , 0.        , 0.        , 0.        , 0.        ,\n",
       "        0.        , 0.        , 0.        , 0.        , 0.        ,\n",
       "        0.        , 0.        , 0.        ],\n",
       "       [0.        , 0.        , 0.        , 0.        , 0.        ,\n",
       "        0.        , 0.        , 0.        , 0.        , 0.        ,\n",
       "        0.        , 0.        , 0.        , 0.        , 0.        ,\n",
       "        0.        , 0.        , 0.        , 0.        , 0.        ,\n",
       "        0.        , 0.        , 0.        , 0.        , 0.        ,\n",
       "        0.        , 0.        , 0.        ]])"
      ]
     },
     "execution_count": 72,
     "metadata": {},
     "output_type": "execute_result"
    }
   ],
   "source": [
    "x_test[0]"
   ]
  },
  {
   "cell_type": "markdown",
   "metadata": {
    "id": "ZSMFIjahMN6j"
   },
   "source": [
    "### In the real world we normalize the training data and then use the same normalizer for the test data. This means that the normalization parameters (such as the mean and standard deviation) are computed from the training data, and these same parameters are applied to the test data to ensure consistency and to prevent data leakage, ensuring the model evaluates the test data on the same scale it was trained on. However, in the case of simple normalization by dividing by 255, both train and test data are directly scaled to the [0, 1] range without the need for separate parameter computation."
   ]
  },
  {
   "cell_type": "markdown",
   "metadata": {
    "id": "hK5wOitKNfKr"
   },
   "source": [
    "# Model training and evaluation with KERAS"
   ]
  },
  {
   "cell_type": "markdown",
   "metadata": {
    "id": "H7P3_b29S7bV"
   },
   "source": [
    "### **Creating the MLP**"
   ]
  },
  {
   "cell_type": "code",
   "execution_count": 73,
   "metadata": {
    "executionInfo": {
     "elapsed": 322,
     "status": "ok",
     "timestamp": 1719342069290,
     "user": {
      "displayName": "milad ebrahimian",
      "userId": "12617387319880213983"
     },
     "user_tz": -60
    },
    "id": "1Owbhuf7Lmbq"
   },
   "outputs": [],
   "source": [
    "model= keras.models.Sequential()\n",
    "model.add(keras.layers.Flatten(input_shape= [28,28]))\n",
    "model.add(keras.layers.Dense(100, activation= \"relu\"))\n",
    "model.add(keras.layers.Dense(75, activation= \"relu\"))\n",
    "model.add(keras.layers.Dense(10, activation= \"softmax\")) # 10 categories"
   ]
  },
  {
   "cell_type": "markdown",
   "metadata": {
    "id": "WuDJnwbETmnh"
   },
   "source": [
    "1. `model= keras.models.Sequential()`\n",
    "   - This initializes a Sequential model, which is a linear stack of layers. This means the model will be built layer by layer in a sequence.\n",
    "\n",
    "2. `model.add(keras.layers.Flatten(input_shape= [28,28]))`\n",
    "   - The `Flatten` layer transforms the 2D input data (28x28 pixels) into a 1D array of 784 elements (28*28). This is necessary because the dense layers that follow expect 1D input.\n",
    "   - `input_shape=[28,28]` specifies the shape of the input data, which in this case is 28x28 pixels.\n",
    "\n",
    "3. `model.add(keras.layers.Dense(128, activation= \"relu\"))`\n",
    "   - This adds a fully connected (dense) layer with 128 neurons.\n",
    "   - `activation=\"relu\"` specifies that the Rectified Linear Unit (ReLU) activation function should be used, which helps the network learn non-linear patterns by introducing non-linearity.\n",
    "\n",
    "4. `model.add(keras.layers.Dense(10, activation= \"softmax\"))`\n",
    "   - This adds another dense layer with 10 neurons, one for each category in the Fashion MNIST dataset.\n",
    "   - `activation=\"softmax\"` specifies that the softmax activation function should be used. The softmax function outputs a probability distribution over the 10 categories, ensuring that the sum of the outputs is 1. This is useful for multi-class classification problems like this one, where the model needs to assign probabilities to each of the 10 classes."
   ]
  },
  {
   "cell_type": "code",
   "execution_count": 74,
   "metadata": {
    "colab": {
     "base_uri": "https://localhost:8080/"
    },
    "executionInfo": {
     "elapsed": 310,
     "status": "ok",
     "timestamp": 1719342070936,
     "user": {
      "displayName": "milad ebrahimian",
      "userId": "12617387319880213983"
     },
     "user_tz": -60
    },
    "id": "sJ9meKj0TZM6",
    "outputId": "ef31d72b-2818-469e-cd6e-ce9df68db544"
   },
   "outputs": [
    {
     "name": "stdout",
     "output_type": "stream",
     "text": [
      "Model: \"sequential_3\"\n",
      "_________________________________________________________________\n",
      " Layer (type)                Output Shape              Param #   \n",
      "=================================================================\n",
      " flatten_3 (Flatten)         (None, 784)               0         \n",
      "                                                                 \n",
      " dense_8 (Dense)             (None, 100)               78500     \n",
      "                                                                 \n",
      " dense_9 (Dense)             (None, 75)                7575      \n",
      "                                                                 \n",
      " dense_10 (Dense)            (None, 10)                760       \n",
      "                                                                 \n",
      "=================================================================\n",
      "Total params: 86835 (339.20 KB)\n",
      "Trainable params: 86835 (339.20 KB)\n",
      "Non-trainable params: 0 (0.00 Byte)\n",
      "_________________________________________________________________\n"
     ]
    }
   ],
   "source": [
    "model.summary()"
   ]
  },
  {
   "cell_type": "markdown",
   "metadata": {
    "id": "cApjxJovVJK3"
   },
   "source": [
    "note that the number of parameter above for each layer is a summasion the weights and intercepts"
   ]
  },
  {
   "cell_type": "code",
   "execution_count": 75,
   "metadata": {
    "colab": {
     "base_uri": "https://localhost:8080/"
    },
    "executionInfo": {
     "elapsed": 407,
     "status": "ok",
     "timestamp": 1719342072643,
     "user": {
      "displayName": "milad ebrahimian",
      "userId": "12617387319880213983"
     },
     "user_tz": -60
    },
    "id": "0bD97_7kUOOL",
    "outputId": "ed581f40-007c-4188-f629-517416835394"
   },
   "outputs": [
    {
     "data": {
      "text/plain": [
       "[<keras.src.layers.reshaping.flatten.Flatten at 0x78e80cebb670>,\n",
       " <keras.src.layers.core.dense.Dense at 0x78e80cee4130>,\n",
       " <keras.src.layers.core.dense.Dense at 0x78e80cee4af0>,\n",
       " <keras.src.layers.core.dense.Dense at 0x78e80cee4a90>]"
      ]
     },
     "execution_count": 75,
     "metadata": {},
     "output_type": "execute_result"
    }
   ],
   "source": [
    "model.layers"
   ]
  },
  {
   "cell_type": "code",
   "execution_count": 76,
   "metadata": {
    "colab": {
     "base_uri": "https://localhost:8080/"
    },
    "executionInfo": {
     "elapsed": 2,
     "status": "ok",
     "timestamp": 1719342072974,
     "user": {
      "displayName": "milad ebrahimian",
      "userId": "12617387319880213983"
     },
     "user_tz": -60
    },
    "id": "TDWepTsbWHtK",
    "outputId": "d0a634f7-5f12-45d2-ad7d-fa958e6849f0"
   },
   "outputs": [
    {
     "data": {
      "text/plain": [
       "<keras.src.layers.core.dense.Dense at 0x78e80cee4130>"
      ]
     },
     "execution_count": 76,
     "metadata": {},
     "output_type": "execute_result"
    }
   ],
   "source": [
    "model.layers[1]"
   ]
  },
  {
   "cell_type": "code",
   "execution_count": 77,
   "metadata": {
    "colab": {
     "base_uri": "https://localhost:8080/"
    },
    "executionInfo": {
     "elapsed": 2,
     "status": "ok",
     "timestamp": 1719342073699,
     "user": {
      "displayName": "milad ebrahimian",
      "userId": "12617387319880213983"
     },
     "user_tz": -60
    },
    "id": "TZKpG1ulYJNH",
    "outputId": "8972e6c3-0477-40d9-c2dd-c0eb1b7443a7"
   },
   "outputs": [
    {
     "data": {
      "text/plain": [
       "[array([[ 0.06539705,  0.08040728, -0.03454061, ..., -0.03222419,\n",
       "          0.05361   , -0.06440298],\n",
       "        [-0.03517737, -0.03033345,  0.07105848, ..., -0.06855047,\n",
       "          0.05383573, -0.03148725],\n",
       "        [-0.07672723, -0.03196421, -0.00625079, ...,  0.05747625,\n",
       "         -0.02375548,  0.04475228],\n",
       "        ...,\n",
       "        [-0.01997427, -0.03556232, -0.06989427, ..., -0.05555925,\n",
       "         -0.06504273, -0.02246768],\n",
       "        [-0.02606811,  0.05601506, -0.0148915 , ...,  0.06380709,\n",
       "         -0.00024571, -0.062457  ],\n",
       "        [-0.02068625,  0.07447097,  0.07305594, ..., -0.06345648,\n",
       "          0.07827215,  0.02788845]], dtype=float32),\n",
       " array([0., 0., 0., 0., 0., 0., 0., 0., 0., 0., 0., 0., 0., 0., 0., 0., 0.,\n",
       "        0., 0., 0., 0., 0., 0., 0., 0., 0., 0., 0., 0., 0., 0., 0., 0., 0.,\n",
       "        0., 0., 0., 0., 0., 0., 0., 0., 0., 0., 0., 0., 0., 0., 0., 0., 0.,\n",
       "        0., 0., 0., 0., 0., 0., 0., 0., 0., 0., 0., 0., 0., 0., 0., 0., 0.,\n",
       "        0., 0., 0., 0., 0., 0., 0., 0., 0., 0., 0., 0., 0., 0., 0., 0., 0.,\n",
       "        0., 0., 0., 0., 0., 0., 0., 0., 0., 0., 0., 0., 0., 0., 0.],\n",
       "       dtype=float32)]"
      ]
     },
     "execution_count": 77,
     "metadata": {},
     "output_type": "execute_result"
    }
   ],
   "source": [
    "model.layers[1].get_weights() #Output will have 2 lists (weights and bias values for layer 1)"
   ]
  },
  {
   "cell_type": "code",
   "execution_count": 78,
   "metadata": {
    "executionInfo": {
     "elapsed": 234,
     "status": "ok",
     "timestamp": 1719342074631,
     "user": {
      "displayName": "milad ebrahimian",
      "userId": "12617387319880213983"
     },
     "user_tz": -60
    },
    "id": "r85t9Hu4YkVW"
   },
   "outputs": [],
   "source": [
    "weights, bias= model.layers[1].get_weights()"
   ]
  },
  {
   "cell_type": "code",
   "execution_count": 79,
   "metadata": {
    "colab": {
     "base_uri": "https://localhost:8080/"
    },
    "executionInfo": {
     "elapsed": 3,
     "status": "ok",
     "timestamp": 1719342075325,
     "user": {
      "displayName": "milad ebrahimian",
      "userId": "12617387319880213983"
     },
     "user_tz": -60
    },
    "id": "W2ARouODYwHR",
    "outputId": "ddf1b826-f8d1-4fd4-c02a-3658876631be"
   },
   "outputs": [
    {
     "data": {
      "text/plain": [
       "array([[ 0.06539705,  0.08040728, -0.03454061, ..., -0.03222419,\n",
       "         0.05361   , -0.06440298],\n",
       "       [-0.03517737, -0.03033345,  0.07105848, ..., -0.06855047,\n",
       "         0.05383573, -0.03148725],\n",
       "       [-0.07672723, -0.03196421, -0.00625079, ...,  0.05747625,\n",
       "        -0.02375548,  0.04475228],\n",
       "       ...,\n",
       "       [-0.01997427, -0.03556232, -0.06989427, ..., -0.05555925,\n",
       "        -0.06504273, -0.02246768],\n",
       "       [-0.02606811,  0.05601506, -0.0148915 , ...,  0.06380709,\n",
       "        -0.00024571, -0.062457  ],\n",
       "       [-0.02068625,  0.07447097,  0.07305594, ..., -0.06345648,\n",
       "         0.07827215,  0.02788845]], dtype=float32)"
      ]
     },
     "execution_count": 79,
     "metadata": {},
     "output_type": "execute_result"
    }
   ],
   "source": [
    "weights"
   ]
  },
  {
   "cell_type": "markdown",
   "metadata": {
    "id": "lzjj1HIjY186"
   },
   "source": [
    "**Initial values are given to weights of layer 1 by KERAS. non-zero values are given**"
   ]
  },
  {
   "cell_type": "code",
   "execution_count": 80,
   "metadata": {
    "colab": {
     "base_uri": "https://localhost:8080/"
    },
    "executionInfo": {
     "elapsed": 254,
     "status": "ok",
     "timestamp": 1719342076896,
     "user": {
      "displayName": "milad ebrahimian",
      "userId": "12617387319880213983"
     },
     "user_tz": -60
    },
    "id": "_0pU10MWZKId",
    "outputId": "5ed94001-9e02-47da-c64f-d7502b0b0831"
   },
   "outputs": [
    {
     "data": {
      "text/plain": [
       "array([0., 0., 0., 0., 0., 0., 0., 0., 0., 0., 0., 0., 0., 0., 0., 0., 0.,\n",
       "       0., 0., 0., 0., 0., 0., 0., 0., 0., 0., 0., 0., 0., 0., 0., 0., 0.,\n",
       "       0., 0., 0., 0., 0., 0., 0., 0., 0., 0., 0., 0., 0., 0., 0., 0., 0.,\n",
       "       0., 0., 0., 0., 0., 0., 0., 0., 0., 0., 0., 0., 0., 0., 0., 0., 0.,\n",
       "       0., 0., 0., 0., 0., 0., 0., 0., 0., 0., 0., 0., 0., 0., 0., 0., 0.,\n",
       "       0., 0., 0., 0., 0., 0., 0., 0., 0., 0., 0., 0., 0., 0., 0.],\n",
       "      dtype=float32)"
      ]
     },
     "execution_count": 80,
     "metadata": {},
     "output_type": "execute_result"
    }
   ],
   "source": [
    "bias"
   ]
  },
  {
   "cell_type": "markdown",
   "metadata": {
    "id": "12EfJV5-ZRAs"
   },
   "source": [
    "**zero intial values are given to intercepts pf layer 1**"
   ]
  },
  {
   "cell_type": "code",
   "execution_count": 81,
   "metadata": {
    "colab": {
     "base_uri": "https://localhost:8080/"
    },
    "executionInfo": {
     "elapsed": 275,
     "status": "ok",
     "timestamp": 1719342078303,
     "user": {
      "displayName": "milad ebrahimian",
      "userId": "12617387319880213983"
     },
     "user_tz": -60
    },
    "id": "VrHP1z_IZN67",
    "outputId": "e47eb9f1-fb0a-4df8-d9ff-9b018d4e6403"
   },
   "outputs": [
    {
     "data": {
      "text/plain": [
       "(784, 100)"
      ]
     },
     "execution_count": 81,
     "metadata": {},
     "output_type": "execute_result"
    }
   ],
   "source": [
    "weights.shape"
   ]
  },
  {
   "cell_type": "markdown",
   "metadata": {
    "id": "MN3j37vdZ4WK"
   },
   "source": [
    "This is because these weights are connecting all 784 neurons of the input value to all 100 neurons of layer 1"
   ]
  },
  {
   "cell_type": "code",
   "execution_count": 82,
   "metadata": {
    "colab": {
     "base_uri": "https://localhost:8080/"
    },
    "executionInfo": {
     "elapsed": 258,
     "status": "ok",
     "timestamp": 1719342079710,
     "user": {
      "displayName": "milad ebrahimian",
      "userId": "12617387319880213983"
     },
     "user_tz": -60
    },
    "id": "aFdFwJl8aN_j",
    "outputId": "7941ac34-d791-4b85-b90b-646356ad3e2e"
   },
   "outputs": [
    {
     "data": {
      "text/plain": [
       "(100,)"
      ]
     },
     "execution_count": 82,
     "metadata": {},
     "output_type": "execute_result"
    }
   ],
   "source": [
    "bias.shape"
   ]
  },
  {
   "cell_type": "markdown",
   "metadata": {
    "id": "1uDksES5aabn"
   },
   "source": [
    "This is because we have 100 neurons in layer 1 and the number of bias values equals the number of neurons"
   ]
  },
  {
   "cell_type": "markdown",
   "metadata": {
    "id": "K53kJeaec-dJ"
   },
   "source": [
    "# Model Compile"
   ]
  },
  {
   "cell_type": "markdown",
   "metadata": {
    "id": "SWMS35BgdOQK"
   },
   "source": [
    "### This is where we define the loss function, optimiser, and the metrics"
   ]
  },
  {
   "cell_type": "code",
   "execution_count": 83,
   "metadata": {
    "executionInfo": {
     "elapsed": 242,
     "status": "ok",
     "timestamp": 1719342082183,
     "user": {
      "displayName": "milad ebrahimian",
      "userId": "12617387319880213983"
     },
     "user_tz": -60
    },
    "id": "WI-1QU7AdLdG"
   },
   "outputs": [],
   "source": [
    "model.compile(loss= \"sparse_categorical_crossentropy\",\n",
    "              optimizer= \"sgd\",\n",
    "              metrics= [\"accuracy\"])"
   ]
  },
  {
   "cell_type": "markdown",
   "metadata": {
    "id": "pxgWdzbtfM3u"
   },
   "source": [
    "the default for batch size is 32."
   ]
  },
  {
   "cell_type": "markdown",
   "metadata": {
    "id": "8eCDDqOPkTPL"
   },
   "source": [
    "Sure, here's an explanation of the `model.compile` code:\n",
    "\n",
    "1. `model.compile(loss= \"sparse_categorical_crossentropy\",`\n",
    "   - The `loss` parameter specifies the loss function to be used during training. In this case, `sparse_categorical_crossentropy` is chosen.\n",
    "   - `sparse_categorical_crossentropy` is used for classification problems where the target variable is a single integer representing the class label (rather than a one-hot encoded vector). This is appropriate for the Fashion MNIST dataset, where each image belongs to one of 10 classes.\n",
    "\n",
    "2. `optimizer= \"sgd\",`\n",
    "   - The `optimizer` parameter specifies the optimization algorithm to be used to minimize the loss function. Here, `sgd` stands for Stochastic Gradient Descent.\n",
    "   - Stochastic Gradient Descent is a simple and commonly used optimization algorithm that updates the model's parameters based on the gradients of the loss function with respect to the parameters. It's efficient and works well for many machine learning tasks.\n",
    "\n",
    "3. `metricts= [\"accuracy\"])`\n",
    "   - The `metrics` parameter specifies the list of metrics to be evaluated by the model during training and testing. Here, the metric is `accuracy`.\n",
    "   - `accuracy` is a common evaluation metric for classification problems. It measures the proportion of correctly predicted instances out of the total instances. Using accuracy as a metric allows you to monitor how well the model is performing during training and evaluation.\n"
   ]
  },
  {
   "cell_type": "code",
   "execution_count": 83,
   "metadata": {
    "executionInfo": {
     "elapsed": 241,
     "status": "ok",
     "timestamp": 1719342085445,
     "user": {
      "displayName": "milad ebrahimian",
      "userId": "12617387319880213983"
     },
     "user_tz": -60
    },
    "id": "efSX9bHbkjsT"
   },
   "outputs": [],
   "source": []
  },
  {
   "cell_type": "markdown",
   "metadata": {
    "id": "t53Jr9lakqGo"
   },
   "source": [
    "# Fit Model"
   ]
  },
  {
   "cell_type": "markdown",
   "metadata": {
    "id": "ntPFnjCck4ya"
   },
   "source": [
    "1. `model.fit(x_train, y_train, epochs= 50, validation_split= 0.15)`\n",
    "   - `x_train` and `y_train` are the training data and their corresponding labels.\n",
    "   - `epochs=50` specifies the number of complete passes through the entire training dataset. In this case, the model will train for 50 epochs.\n",
    "   - `validation_split=0.15` indicates that 15% of the training data should be set aside for validation. This means the model will train on 85% of the data and validate on the remaining 15% during each epoch. Validation data is used to monitor the model's performance on unseen data during training, helping to detect overfitting.\n",
    "   \n",
    "   The validation split is internally done by Keras, so you don't need to manually separate the validation set from your training data.\n",
    "\n",
    "2. Default Mini-Batch Size:\n",
    "   - The default mini-batch size in Keras is 32. This means that during each training epoch, the dataset is divided into mini-batches of 32 samples. The model's weights are updated after each mini-batch, allowing for more frequent updates and faster convergence compared to using the entire dataset in one batch.\n",
    "\n"
   ]
  },
  {
   "cell_type": "code",
   "execution_count": 84,
   "metadata": {
    "colab": {
     "base_uri": "https://localhost:8080/"
    },
    "executionInfo": {
     "elapsed": 101927,
     "status": "ok",
     "timestamp": 1719342423431,
     "user": {
      "displayName": "milad ebrahimian",
      "userId": "12617387319880213983"
     },
     "user_tz": -60
    },
    "id": "ZDfLL8DakuTJ",
    "outputId": "94eb4416-e263-4fe2-aac6-dd0182da7b74"
   },
   "outputs": [
    {
     "name": "stdout",
     "output_type": "stream",
     "text": [
      "Epoch 1/50\n",
      "1594/1594 [==============================] - 11s 7ms/step - loss: 0.8001 - accuracy: 0.7347 - val_loss: 0.5540 - val_accuracy: 0.8119\n",
      "Epoch 2/50\n",
      "1594/1594 [==============================] - 6s 4ms/step - loss: 0.5149 - accuracy: 0.8210 - val_loss: 0.5056 - val_accuracy: 0.8233\n",
      "Epoch 3/50\n",
      "1594/1594 [==============================] - 7s 4ms/step - loss: 0.4663 - accuracy: 0.8366 - val_loss: 0.4675 - val_accuracy: 0.8372\n",
      "Epoch 4/50\n",
      "1594/1594 [==============================] - 5s 3ms/step - loss: 0.4384 - accuracy: 0.8460 - val_loss: 0.4503 - val_accuracy: 0.8410\n",
      "Epoch 5/50\n",
      "1594/1594 [==============================] - 7s 4ms/step - loss: 0.4199 - accuracy: 0.8520 - val_loss: 0.4192 - val_accuracy: 0.8480\n",
      "Epoch 6/50\n",
      "1594/1594 [==============================] - 6s 4ms/step - loss: 0.4036 - accuracy: 0.8584 - val_loss: 0.4129 - val_accuracy: 0.8576\n",
      "Epoch 7/50\n",
      "1594/1594 [==============================] - 7s 5ms/step - loss: 0.3917 - accuracy: 0.8635 - val_loss: 0.4127 - val_accuracy: 0.8550\n",
      "Epoch 8/50\n",
      "1594/1594 [==============================] - 6s 4ms/step - loss: 0.3794 - accuracy: 0.8657 - val_loss: 0.3996 - val_accuracy: 0.8587\n",
      "Epoch 9/50\n",
      "1594/1594 [==============================] - 7s 4ms/step - loss: 0.3698 - accuracy: 0.8692 - val_loss: 0.4051 - val_accuracy: 0.8584\n",
      "Epoch 10/50\n",
      "1594/1594 [==============================] - 6s 4ms/step - loss: 0.3603 - accuracy: 0.8725 - val_loss: 0.3815 - val_accuracy: 0.8666\n",
      "Epoch 11/50\n",
      "1594/1594 [==============================] - 7s 4ms/step - loss: 0.3522 - accuracy: 0.8754 - val_loss: 0.3952 - val_accuracy: 0.8587\n",
      "Epoch 12/50\n",
      "1594/1594 [==============================] - 6s 4ms/step - loss: 0.3440 - accuracy: 0.8786 - val_loss: 0.3755 - val_accuracy: 0.8654\n",
      "Epoch 13/50\n",
      "1594/1594 [==============================] - 7s 5ms/step - loss: 0.3368 - accuracy: 0.8809 - val_loss: 0.3936 - val_accuracy: 0.8589\n",
      "Epoch 14/50\n",
      "1594/1594 [==============================] - 6s 4ms/step - loss: 0.3306 - accuracy: 0.8820 - val_loss: 0.3587 - val_accuracy: 0.8731\n",
      "Epoch 15/50\n",
      "1594/1594 [==============================] - 7s 5ms/step - loss: 0.3236 - accuracy: 0.8844 - val_loss: 0.3574 - val_accuracy: 0.8734\n",
      "Epoch 16/50\n",
      "1594/1594 [==============================] - 6s 4ms/step - loss: 0.3183 - accuracy: 0.8859 - val_loss: 0.3690 - val_accuracy: 0.8706\n",
      "Epoch 17/50\n",
      "1594/1594 [==============================] - 7s 5ms/step - loss: 0.3115 - accuracy: 0.8874 - val_loss: 0.3585 - val_accuracy: 0.8759\n",
      "Epoch 18/50\n",
      "1594/1594 [==============================] - 6s 4ms/step - loss: 0.3067 - accuracy: 0.8902 - val_loss: 0.3563 - val_accuracy: 0.8752\n",
      "Epoch 19/50\n",
      "1594/1594 [==============================] - 7s 4ms/step - loss: 0.3021 - accuracy: 0.8914 - val_loss: 0.3546 - val_accuracy: 0.8731\n",
      "Epoch 20/50\n",
      "1594/1594 [==============================] - 6s 4ms/step - loss: 0.2968 - accuracy: 0.8937 - val_loss: 0.3474 - val_accuracy: 0.8767\n",
      "Epoch 21/50\n",
      "1594/1594 [==============================] - 7s 4ms/step - loss: 0.2919 - accuracy: 0.8959 - val_loss: 0.3537 - val_accuracy: 0.8733\n",
      "Epoch 22/50\n",
      "1594/1594 [==============================] - 7s 4ms/step - loss: 0.2872 - accuracy: 0.8964 - val_loss: 0.3550 - val_accuracy: 0.8736\n",
      "Epoch 23/50\n",
      "1594/1594 [==============================] - 7s 5ms/step - loss: 0.2833 - accuracy: 0.8979 - val_loss: 0.3353 - val_accuracy: 0.8804\n",
      "Epoch 24/50\n",
      "1594/1594 [==============================] - 6s 3ms/step - loss: 0.2793 - accuracy: 0.8989 - val_loss: 0.3470 - val_accuracy: 0.8762\n",
      "Epoch 25/50\n",
      "1594/1594 [==============================] - 7s 4ms/step - loss: 0.2754 - accuracy: 0.9019 - val_loss: 0.3368 - val_accuracy: 0.8823\n",
      "Epoch 26/50\n",
      "1594/1594 [==============================] - 6s 3ms/step - loss: 0.2718 - accuracy: 0.9031 - val_loss: 0.3401 - val_accuracy: 0.8807\n",
      "Epoch 27/50\n",
      "1594/1594 [==============================] - 9s 5ms/step - loss: 0.2676 - accuracy: 0.9045 - val_loss: 0.3345 - val_accuracy: 0.8806\n",
      "Epoch 28/50\n",
      "1594/1594 [==============================] - 6s 4ms/step - loss: 0.2646 - accuracy: 0.9041 - val_loss: 0.3282 - val_accuracy: 0.8829\n",
      "Epoch 29/50\n",
      "1594/1594 [==============================] - 8s 5ms/step - loss: 0.2612 - accuracy: 0.9053 - val_loss: 0.3329 - val_accuracy: 0.8813\n",
      "Epoch 30/50\n",
      "1594/1594 [==============================] - 6s 4ms/step - loss: 0.2577 - accuracy: 0.9075 - val_loss: 0.3391 - val_accuracy: 0.8767\n",
      "Epoch 31/50\n",
      "1594/1594 [==============================] - 8s 5ms/step - loss: 0.2547 - accuracy: 0.9087 - val_loss: 0.3250 - val_accuracy: 0.8837\n",
      "Epoch 32/50\n",
      "1594/1594 [==============================] - 7s 4ms/step - loss: 0.2509 - accuracy: 0.9097 - val_loss: 0.3325 - val_accuracy: 0.8811\n",
      "Epoch 33/50\n",
      "1594/1594 [==============================] - 7s 4ms/step - loss: 0.2478 - accuracy: 0.9102 - val_loss: 0.3233 - val_accuracy: 0.8870\n",
      "Epoch 34/50\n",
      "1594/1594 [==============================] - 6s 3ms/step - loss: 0.2454 - accuracy: 0.9118 - val_loss: 0.3549 - val_accuracy: 0.8739\n",
      "Epoch 35/50\n",
      "1594/1594 [==============================] - 7s 4ms/step - loss: 0.2422 - accuracy: 0.9127 - val_loss: 0.3381 - val_accuracy: 0.8806\n",
      "Epoch 36/50\n",
      "1594/1594 [==============================] - 7s 4ms/step - loss: 0.2394 - accuracy: 0.9148 - val_loss: 0.3299 - val_accuracy: 0.8854\n",
      "Epoch 37/50\n",
      "1594/1594 [==============================] - 7s 4ms/step - loss: 0.2369 - accuracy: 0.9147 - val_loss: 0.3416 - val_accuracy: 0.8787\n",
      "Epoch 38/50\n",
      "1594/1594 [==============================] - 6s 4ms/step - loss: 0.2346 - accuracy: 0.9157 - val_loss: 0.3317 - val_accuracy: 0.8847\n",
      "Epoch 39/50\n",
      "1594/1594 [==============================] - 7s 4ms/step - loss: 0.2310 - accuracy: 0.9161 - val_loss: 0.3365 - val_accuracy: 0.8818\n",
      "Epoch 40/50\n",
      "1594/1594 [==============================] - 6s 4ms/step - loss: 0.2298 - accuracy: 0.9172 - val_loss: 0.3328 - val_accuracy: 0.8862\n",
      "Epoch 41/50\n",
      "1594/1594 [==============================] - 7s 4ms/step - loss: 0.2258 - accuracy: 0.9188 - val_loss: 0.3299 - val_accuracy: 0.8861\n",
      "Epoch 42/50\n",
      "1594/1594 [==============================] - 6s 4ms/step - loss: 0.2235 - accuracy: 0.9195 - val_loss: 0.3503 - val_accuracy: 0.8758\n",
      "Epoch 43/50\n",
      "1594/1594 [==============================] - 7s 5ms/step - loss: 0.2205 - accuracy: 0.9210 - val_loss: 0.3285 - val_accuracy: 0.8853\n",
      "Epoch 44/50\n",
      "1594/1594 [==============================] - 6s 4ms/step - loss: 0.2181 - accuracy: 0.9205 - val_loss: 0.3346 - val_accuracy: 0.8819\n",
      "Epoch 45/50\n",
      "1594/1594 [==============================] - 7s 4ms/step - loss: 0.2166 - accuracy: 0.9212 - val_loss: 0.3248 - val_accuracy: 0.8864\n",
      "Epoch 46/50\n",
      "1594/1594 [==============================] - 6s 4ms/step - loss: 0.2140 - accuracy: 0.9235 - val_loss: 0.3165 - val_accuracy: 0.8904\n",
      "Epoch 47/50\n",
      "1594/1594 [==============================] - 7s 4ms/step - loss: 0.2125 - accuracy: 0.9244 - val_loss: 0.3387 - val_accuracy: 0.8829\n",
      "Epoch 48/50\n",
      "1594/1594 [==============================] - 5s 3ms/step - loss: 0.2097 - accuracy: 0.9247 - val_loss: 0.3308 - val_accuracy: 0.8857\n",
      "Epoch 49/50\n",
      "1594/1594 [==============================] - 7s 4ms/step - loss: 0.2072 - accuracy: 0.9260 - val_loss: 0.3637 - val_accuracy: 0.8773\n",
      "Epoch 50/50\n",
      "1594/1594 [==============================] - 6s 4ms/step - loss: 0.2047 - accuracy: 0.9267 - val_loss: 0.3243 - val_accuracy: 0.8879\n"
     ]
    }
   ],
   "source": [
    "history= model.fit(x_train, y_train, epochs= 50, validation_split= 0.15)"
   ]
  },
  {
   "cell_type": "code",
   "execution_count": 88,
   "metadata": {
    "colab": {
     "base_uri": "https://localhost:8080/"
    },
    "executionInfo": {
     "elapsed": 262,
     "status": "ok",
     "timestamp": 1719342498205,
     "user": {
      "displayName": "milad ebrahimian",
      "userId": "12617387319880213983"
     },
     "user_tz": -60
    },
    "id": "cA_RvqaVlcbl",
    "outputId": "ac0e7ce9-f823-4843-f838-85a5e705d826"
   },
   "outputs": [
    {
     "data": {
      "text/plain": [
       "{'verbose': 1, 'epochs': 50, 'steps': 1594}"
      ]
     },
     "execution_count": 88,
     "metadata": {},
     "output_type": "execute_result"
    }
   ],
   "source": [
    "history.params"
   ]
  },
  {
   "cell_type": "code",
   "execution_count": 89,
   "metadata": {
    "colab": {
     "base_uri": "https://localhost:8080/"
    },
    "executionInfo": {
     "elapsed": 2,
     "status": "ok",
     "timestamp": 1719342498533,
     "user": {
      "displayName": "milad ebrahimian",
      "userId": "12617387319880213983"
     },
     "user_tz": -60
    },
    "id": "GwCBqUviv0bu",
    "outputId": "f6f43626-b885-4d67-9adb-c7a9629972d7"
   },
   "outputs": [
    {
     "data": {
      "text/plain": [
       "{'loss': [0.8001118302345276,\n",
       "  0.5148840546607971,\n",
       "  0.46625950932502747,\n",
       "  0.4384194612503052,\n",
       "  0.4199104905128479,\n",
       "  0.4036053419113159,\n",
       "  0.39166828989982605,\n",
       "  0.37941092252731323,\n",
       "  0.3697603642940521,\n",
       "  0.36026614904403687,\n",
       "  0.3522200882434845,\n",
       "  0.3439987003803253,\n",
       "  0.3368285596370697,\n",
       "  0.3306257128715515,\n",
       "  0.3236236870288849,\n",
       "  0.31834229826927185,\n",
       "  0.31152769923210144,\n",
       "  0.30667564272880554,\n",
       "  0.30206549167633057,\n",
       "  0.2968495786190033,\n",
       "  0.29189929366111755,\n",
       "  0.28724583983421326,\n",
       "  0.28331756591796875,\n",
       "  0.27933716773986816,\n",
       "  0.2754391133785248,\n",
       "  0.27181708812713623,\n",
       "  0.26761987805366516,\n",
       "  0.26459312438964844,\n",
       "  0.26124313473701477,\n",
       "  0.25770169496536255,\n",
       "  0.25466012954711914,\n",
       "  0.2509087920188904,\n",
       "  0.24780325591564178,\n",
       "  0.24535608291625977,\n",
       "  0.24222588539123535,\n",
       "  0.23940494656562805,\n",
       "  0.23692819476127625,\n",
       "  0.23459918797016144,\n",
       "  0.23098671436309814,\n",
       "  0.22983543574810028,\n",
       "  0.22584077715873718,\n",
       "  0.2235376238822937,\n",
       "  0.220473974943161,\n",
       "  0.21814529597759247,\n",
       "  0.21660399436950684,\n",
       "  0.21402907371520996,\n",
       "  0.2124798744916916,\n",
       "  0.2096605896949768,\n",
       "  0.20716838538646698,\n",
       "  0.20466114580631256],\n",
       " 'accuracy': [0.7346862554550171,\n",
       "  0.8209803700447083,\n",
       "  0.8366470336914062,\n",
       "  0.8460392355918884,\n",
       "  0.8519803881645203,\n",
       "  0.8583529591560364,\n",
       "  0.863548994064331,\n",
       "  0.8657059073448181,\n",
       "  0.8691568374633789,\n",
       "  0.8724706172943115,\n",
       "  0.8754117488861084,\n",
       "  0.8785882592201233,\n",
       "  0.8808627724647522,\n",
       "  0.882019579410553,\n",
       "  0.8843725323677063,\n",
       "  0.8859215974807739,\n",
       "  0.8874313831329346,\n",
       "  0.8901960849761963,\n",
       "  0.8914313912391663,\n",
       "  0.8936862945556641,\n",
       "  0.8959215879440308,\n",
       "  0.8964117765426636,\n",
       "  0.8979215621948242,\n",
       "  0.898941159248352,\n",
       "  0.9019019603729248,\n",
       "  0.9030588269233704,\n",
       "  0.9044705629348755,\n",
       "  0.9041372537612915,\n",
       "  0.9052549004554749,\n",
       "  0.9075098037719727,\n",
       "  0.9087451100349426,\n",
       "  0.9097450971603394,\n",
       "  0.9101568460464478,\n",
       "  0.9117646813392639,\n",
       "  0.9127255082130432,\n",
       "  0.9148431420326233,\n",
       "  0.9147058725357056,\n",
       "  0.9157254695892334,\n",
       "  0.9160784482955933,\n",
       "  0.9171960949897766,\n",
       "  0.918843150138855,\n",
       "  0.9194706082344055,\n",
       "  0.9209607839584351,\n",
       "  0.9205294251441956,\n",
       "  0.9212157130241394,\n",
       "  0.9235097765922546,\n",
       "  0.9243529438972473,\n",
       "  0.9247450828552246,\n",
       "  0.9259999990463257,\n",
       "  0.9266666769981384],\n",
       " 'val_loss': [0.5539580583572388,\n",
       "  0.5056126117706299,\n",
       "  0.4674934446811676,\n",
       "  0.4502739906311035,\n",
       "  0.4192059636116028,\n",
       "  0.41294360160827637,\n",
       "  0.4126761257648468,\n",
       "  0.39960071444511414,\n",
       "  0.4050796627998352,\n",
       "  0.38149121403694153,\n",
       "  0.39518460631370544,\n",
       "  0.3755283057689667,\n",
       "  0.39363762736320496,\n",
       "  0.3587053716182709,\n",
       "  0.3573901653289795,\n",
       "  0.3690119981765747,\n",
       "  0.35854780673980713,\n",
       "  0.35633760690689087,\n",
       "  0.3545951545238495,\n",
       "  0.34743747115135193,\n",
       "  0.353694349527359,\n",
       "  0.3549785614013672,\n",
       "  0.3353171944618225,\n",
       "  0.34698471426963806,\n",
       "  0.3368046283721924,\n",
       "  0.34006205201148987,\n",
       "  0.33454200625419617,\n",
       "  0.3282325267791748,\n",
       "  0.3328988552093506,\n",
       "  0.3390844762325287,\n",
       "  0.32495421171188354,\n",
       "  0.33250200748443604,\n",
       "  0.32330188155174255,\n",
       "  0.3548867404460907,\n",
       "  0.3380962610244751,\n",
       "  0.3299262821674347,\n",
       "  0.34160056710243225,\n",
       "  0.33169570565223694,\n",
       "  0.3365355432033539,\n",
       "  0.3328336775302887,\n",
       "  0.3299064636230469,\n",
       "  0.35033905506134033,\n",
       "  0.32846176624298096,\n",
       "  0.3346114754676819,\n",
       "  0.32483217120170593,\n",
       "  0.3165278434753418,\n",
       "  0.33871448040008545,\n",
       "  0.33081674575805664,\n",
       "  0.36372897028923035,\n",
       "  0.3242895305156708],\n",
       " 'val_accuracy': [0.8118888735771179,\n",
       "  0.8233333230018616,\n",
       "  0.8372222185134888,\n",
       "  0.8410000205039978,\n",
       "  0.8479999899864197,\n",
       "  0.8575555682182312,\n",
       "  0.8550000190734863,\n",
       "  0.8586666584014893,\n",
       "  0.8584444522857666,\n",
       "  0.8665555715560913,\n",
       "  0.8586666584014893,\n",
       "  0.8654444217681885,\n",
       "  0.8588888645172119,\n",
       "  0.8731111288070679,\n",
       "  0.8734444379806519,\n",
       "  0.870555579662323,\n",
       "  0.8758888840675354,\n",
       "  0.8752222061157227,\n",
       "  0.8731111288070679,\n",
       "  0.8766666650772095,\n",
       "  0.8733333349227905,\n",
       "  0.8735555410385132,\n",
       "  0.8804444670677185,\n",
       "  0.8762221932411194,\n",
       "  0.8823333382606506,\n",
       "  0.8806666731834412,\n",
       "  0.8805555701255798,\n",
       "  0.882888913154602,\n",
       "  0.8813333511352539,\n",
       "  0.8766666650772095,\n",
       "  0.8836666941642761,\n",
       "  0.8811110854148865,\n",
       "  0.8870000243186951,\n",
       "  0.8738889098167419,\n",
       "  0.8805555701255798,\n",
       "  0.8854444622993469,\n",
       "  0.8786666393280029,\n",
       "  0.8846666812896729,\n",
       "  0.8817777633666992,\n",
       "  0.886222243309021,\n",
       "  0.8861111402511597,\n",
       "  0.8757777810096741,\n",
       "  0.8853333592414856,\n",
       "  0.8818888664245605,\n",
       "  0.8864444494247437,\n",
       "  0.8904444575309753,\n",
       "  0.882888913154602,\n",
       "  0.8856666684150696,\n",
       "  0.8773333430290222,\n",
       "  0.8878889083862305]}"
      ]
     },
     "execution_count": 89,
     "metadata": {},
     "output_type": "execute_result"
    }
   ],
   "source": [
    "history.history"
   ]
  },
  {
   "cell_type": "code",
   "execution_count": 90,
   "metadata": {
    "colab": {
     "base_uri": "https://localhost:8080/"
    },
    "executionInfo": {
     "elapsed": 250,
     "status": "ok",
     "timestamp": 1719342499713,
     "user": {
      "displayName": "milad ebrahimian",
      "userId": "12617387319880213983"
     },
     "user_tz": -60
    },
    "id": "rkF_UPabv3rs",
    "outputId": "1dba3b2c-21b8-4e72-a022-cffa71d3d97c"
   },
   "outputs": [
    {
     "name": "stdout",
     "output_type": "stream",
     "text": [
      "{'loss': [0.8001118302345276, 0.5148840546607971, 0.46625950932502747, 0.4384194612503052, 0.4199104905128479, 0.4036053419113159, 0.39166828989982605, 0.37941092252731323, 0.3697603642940521, 0.36026614904403687, 0.3522200882434845, 0.3439987003803253, 0.3368285596370697, 0.3306257128715515, 0.3236236870288849, 0.31834229826927185, 0.31152769923210144, 0.30667564272880554, 0.30206549167633057, 0.2968495786190033, 0.29189929366111755, 0.28724583983421326, 0.28331756591796875, 0.27933716773986816, 0.2754391133785248, 0.27181708812713623, 0.26761987805366516, 0.26459312438964844, 0.26124313473701477, 0.25770169496536255, 0.25466012954711914, 0.2509087920188904, 0.24780325591564178, 0.24535608291625977, 0.24222588539123535, 0.23940494656562805, 0.23692819476127625, 0.23459918797016144, 0.23098671436309814, 0.22983543574810028, 0.22584077715873718, 0.2235376238822937, 0.220473974943161, 0.21814529597759247, 0.21660399436950684, 0.21402907371520996, 0.2124798744916916, 0.2096605896949768, 0.20716838538646698, 0.20466114580631256], 'accuracy': [0.7346862554550171, 0.8209803700447083, 0.8366470336914062, 0.8460392355918884, 0.8519803881645203, 0.8583529591560364, 0.863548994064331, 0.8657059073448181, 0.8691568374633789, 0.8724706172943115, 0.8754117488861084, 0.8785882592201233, 0.8808627724647522, 0.882019579410553, 0.8843725323677063, 0.8859215974807739, 0.8874313831329346, 0.8901960849761963, 0.8914313912391663, 0.8936862945556641, 0.8959215879440308, 0.8964117765426636, 0.8979215621948242, 0.898941159248352, 0.9019019603729248, 0.9030588269233704, 0.9044705629348755, 0.9041372537612915, 0.9052549004554749, 0.9075098037719727, 0.9087451100349426, 0.9097450971603394, 0.9101568460464478, 0.9117646813392639, 0.9127255082130432, 0.9148431420326233, 0.9147058725357056, 0.9157254695892334, 0.9160784482955933, 0.9171960949897766, 0.918843150138855, 0.9194706082344055, 0.9209607839584351, 0.9205294251441956, 0.9212157130241394, 0.9235097765922546, 0.9243529438972473, 0.9247450828552246, 0.9259999990463257, 0.9266666769981384], 'val_loss': [0.5539580583572388, 0.5056126117706299, 0.4674934446811676, 0.4502739906311035, 0.4192059636116028, 0.41294360160827637, 0.4126761257648468, 0.39960071444511414, 0.4050796627998352, 0.38149121403694153, 0.39518460631370544, 0.3755283057689667, 0.39363762736320496, 0.3587053716182709, 0.3573901653289795, 0.3690119981765747, 0.35854780673980713, 0.35633760690689087, 0.3545951545238495, 0.34743747115135193, 0.353694349527359, 0.3549785614013672, 0.3353171944618225, 0.34698471426963806, 0.3368046283721924, 0.34006205201148987, 0.33454200625419617, 0.3282325267791748, 0.3328988552093506, 0.3390844762325287, 0.32495421171188354, 0.33250200748443604, 0.32330188155174255, 0.3548867404460907, 0.3380962610244751, 0.3299262821674347, 0.34160056710243225, 0.33169570565223694, 0.3365355432033539, 0.3328336775302887, 0.3299064636230469, 0.35033905506134033, 0.32846176624298096, 0.3346114754676819, 0.32483217120170593, 0.3165278434753418, 0.33871448040008545, 0.33081674575805664, 0.36372897028923035, 0.3242895305156708], 'val_accuracy': [0.8118888735771179, 0.8233333230018616, 0.8372222185134888, 0.8410000205039978, 0.8479999899864197, 0.8575555682182312, 0.8550000190734863, 0.8586666584014893, 0.8584444522857666, 0.8665555715560913, 0.8586666584014893, 0.8654444217681885, 0.8588888645172119, 0.8731111288070679, 0.8734444379806519, 0.870555579662323, 0.8758888840675354, 0.8752222061157227, 0.8731111288070679, 0.8766666650772095, 0.8733333349227905, 0.8735555410385132, 0.8804444670677185, 0.8762221932411194, 0.8823333382606506, 0.8806666731834412, 0.8805555701255798, 0.882888913154602, 0.8813333511352539, 0.8766666650772095, 0.8836666941642761, 0.8811110854148865, 0.8870000243186951, 0.8738889098167419, 0.8805555701255798, 0.8854444622993469, 0.8786666393280029, 0.8846666812896729, 0.8817777633666992, 0.886222243309021, 0.8861111402511597, 0.8757777810096741, 0.8853333592414856, 0.8818888664245605, 0.8864444494247437, 0.8904444575309753, 0.882888913154602, 0.8856666684150696, 0.8773333430290222, 0.8878889083862305]}\n"
     ]
    }
   ],
   "source": [
    "print(history.history)"
   ]
  },
  {
   "cell_type": "markdown",
   "metadata": {
    "id": "cknwEh25wRJj"
   },
   "source": [
    "# plotting"
   ]
  },
  {
   "cell_type": "code",
   "execution_count": 93,
   "metadata": {
    "colab": {
     "base_uri": "https://localhost:8080/",
     "height": 462
    },
    "executionInfo": {
     "elapsed": 897,
     "status": "ok",
     "timestamp": 1719342653794,
     "user": {
      "displayName": "milad ebrahimian",
      "userId": "12617387319880213983"
     },
     "user_tz": -60
    },
    "id": "5wo_8fpuwL-w",
    "outputId": "8545ede1-5670-4c37-fa3d-15fa8df8f3d0"
   },
   "outputs": [
    {
     "data": {
      "text/plain": [
       "<matplotlib.legend.Legend at 0x78e80cd7df90>"
      ]
     },
     "execution_count": 93,
     "metadata": {},
     "output_type": "execute_result"
    },
    {
     "data": {
      "image/png": "[encoded data removed]",
      "text/plain": [
       "<Figure size 1200x500 with 1 Axes>"
      ]
     },
     "metadata": {},
     "output_type": "display_data"
    }
   ],
   "source": [
    "fig, ax= plt.subplots(figsize= (12,5))\n",
    "ax.plot(history.history[\"loss\"], label=\"train loss\")\n",
    "ax.plot(history.history[\"accuracy\"], label= \"train accuracy\")\n",
    "ax.plot(history.history[\"val_loss\"],label= \"validation loss\")\n",
    "ax.plot(history.history[\"val_accuracy\"], label= \"validation accuracy\")\n",
    "ax.legend()"
   ]
  },
  {
   "cell_type": "code",
   "execution_count": null,
   "metadata": {
    "id": "lZsLOzFrwwxN"
   },
   "outputs": [],
   "source": []
  },
  {
   "cell_type": "markdown",
   "metadata": {
    "id": "Iz1jNnOt0LOY"
   },
   "source": [
    "# Model evaluation on test data"
   ]
  },
  {
   "cell_type": "code",
   "execution_count": 94,
   "metadata": {
    "colab": {
     "base_uri": "https://localhost:8080/"
    },
    "executionInfo": {
     "elapsed": 1891,
     "status": "ok",
     "timestamp": 1719342989746,
     "user": {
      "displayName": "milad ebrahimian",
      "userId": "12617387319880213983"
     },
     "user_tz": -60
    },
    "id": "1bBVkIVK0O_Y",
    "outputId": "169580dc-2df6-47fb-a86a-68521c6b8734"
   },
   "outputs": [
    {
     "data": {
      "text/plain": [
       "[0.34232500195503235, 0.8815000057220459]"
      ]
     },
     "execution_count": 94,
     "metadata": {},
     "output_type": "execute_result"
    }
   ],
   "source": [
    "model.evaluate(x_test, y_test, verbose= 0)"
   ]
  },
  {
   "cell_type": "markdown",
   "metadata": {
    "id": "vsib78BX1C5v"
   },
   "source": [
    "1. `model.evaluate(x_test, y_test, verbose= 0)`\n",
    "   - `x_test` and `y_test` are the test data and their corresponding labels. This data is used to evaluate the model's performance after training.\n",
    "   - The `evaluate` function computes the loss and any specified metrics for the model on the test dataset. This gives an indication of how well the model is expected to perform on new, unseen data.\n",
    "   - `verbose=0` controls the verbosity mode. When `verbose` is set to 0, it means that the evaluation process will run silently without displaying any progress bar or messages.\n",
    "\n",
    "In summary, `model.evaluate(x_test, y_test, verbose=0)` evaluates the trained model on the test dataset (`x_test`, `y_test`) and returns the loss value and any other metrics specified during `model.compile`. Setting `verbose` to 0 ensures that no output is displayed during the evaluation process."
   ]
  },
  {
   "cell_type": "markdown",
   "metadata": {
    "id": "x93BrApa7Pw3"
   },
   "source": [
    "# Model prediction"
   ]
  },
  {
   "cell_type": "code",
   "execution_count": 95,
   "metadata": {
    "executionInfo": {
     "elapsed": 266,
     "status": "ok",
     "timestamp": 1719344698927,
     "user": {
      "displayName": "milad ebrahimian",
      "userId": "12617387319880213983"
     },
     "user_tz": -60
    },
    "id": "A43ANTp-0_kF"
   },
   "outputs": [],
   "source": [
    "x3= x_test[1:3]"
   ]
  },
  {
   "cell_type": "code",
   "execution_count": 96,
   "metadata": {
    "colab": {
     "base_uri": "https://localhost:8080/"
    },
    "executionInfo": {
     "elapsed": 7,
     "status": "ok",
     "timestamp": 1719344702476,
     "user": {
      "displayName": "milad ebrahimian",
      "userId": "12617387319880213983"
     },
     "user_tz": -60
    },
    "id": "IqEbmV7z7hPZ",
    "outputId": "2847d1ec-015c-4cbe-9942-45d18eacd8eb"
   },
   "outputs": [
    {
     "data": {
      "text/plain": [
       "array([[[0., 0., 0., ..., 0., 0., 0.],\n",
       "        [0., 0., 0., ..., 0., 0., 0.],\n",
       "        [0., 0., 0., ..., 0., 0., 0.],\n",
       "        ...,\n",
       "        [0., 0., 0., ..., 0., 0., 0.],\n",
       "        [0., 0., 0., ..., 0., 0., 0.],\n",
       "        [0., 0., 0., ..., 0., 0., 0.]],\n",
       "\n",
       "       [[0., 0., 0., ..., 0., 0., 0.],\n",
       "        [0., 0., 0., ..., 0., 0., 0.],\n",
       "        [0., 0., 0., ..., 0., 0., 0.],\n",
       "        ...,\n",
       "        [0., 0., 0., ..., 0., 0., 0.],\n",
       "        [0., 0., 0., ..., 0., 0., 0.],\n",
       "        [0., 0., 0., ..., 0., 0., 0.]]])"
      ]
     },
     "execution_count": 96,
     "metadata": {},
     "output_type": "execute_result"
    }
   ],
   "source": [
    "x3"
   ]
  },
  {
   "cell_type": "code",
   "execution_count": 97,
   "metadata": {
    "colab": {
     "base_uri": "https://localhost:8080/"
    },
    "executionInfo": {
     "elapsed": 361,
     "status": "ok",
     "timestamp": 1719344718017,
     "user": {
      "displayName": "milad ebrahimian",
      "userId": "12617387319880213983"
     },
     "user_tz": -60
    },
    "id": "dsG3-RQy7iCw",
    "outputId": "c4d49780-a7e8-4bab-aa95-963b05a0aba6"
   },
   "outputs": [
    {
     "data": {
      "text/plain": [
       "(2, 28, 28)"
      ]
     },
     "execution_count": 97,
     "metadata": {},
     "output_type": "execute_result"
    }
   ],
   "source": [
    "x3.shape"
   ]
  },
  {
   "cell_type": "code",
   "execution_count": 98,
   "metadata": {
    "colab": {
     "base_uri": "https://localhost:8080/",
     "height": 447
    },
    "executionInfo": {
     "elapsed": 842,
     "status": "ok",
     "timestamp": 1719344774420,
     "user": {
      "displayName": "milad ebrahimian",
      "userId": "12617387319880213983"
     },
     "user_tz": -60
    },
    "id": "Iuk78wW77l1t",
    "outputId": "17c1aeaa-3422-49b9-bafc-8cac09616275"
   },
   "outputs": [
    {
     "data": {
      "text/plain": [
       "<matplotlib.image.AxesImage at 0x78e80ceb61d0>"
      ]
     },
     "execution_count": 98,
     "metadata": {},
     "output_type": "execute_result"
    },
    {
     "data": {
      "image/png": "[encoded data removed]",
      "text/plain": [
       "<Figure size 640x480 with 1 Axes>"
      ]
     },
     "metadata": {},
     "output_type": "display_data"
    }
   ],
   "source": [
    "plt.imshow(x3[0], cmap= \"gray\")"
   ]
  },
  {
   "cell_type": "code",
   "execution_count": 99,
   "metadata": {
    "colab": {
     "base_uri": "https://localhost:8080/",
     "height": 447
    },
    "executionInfo": {
     "elapsed": 645,
     "status": "ok",
     "timestamp": 1719344790239,
     "user": {
      "displayName": "milad ebrahimian",
      "userId": "12617387319880213983"
     },
     "user_tz": -60
    },
    "id": "TMTNS1Tq7zh8",
    "outputId": "711408d4-abd9-4ec3-d334-19dddc25c139"
   },
   "outputs": [
    {
     "data": {
      "text/plain": [
       "<matplotlib.image.AxesImage at 0x78e80c46b6d0>"
      ]
     },
     "execution_count": 99,
     "metadata": {},
     "output_type": "execute_result"
    },
    {
     "data": {
      "image/png": "[encoded data removed]",
      "text/plain": [
       "<Figure size 640x480 with 1 Axes>"
      ]
     },
     "metadata": {},
     "output_type": "display_data"
    }
   ],
   "source": [
    "plt.imshow(x3[1], cmap= \"gray\")"
   ]
  },
  {
   "cell_type": "code",
   "execution_count": 100,
   "metadata": {
    "colab": {
     "base_uri": "https://localhost:8080/"
    },
    "executionInfo": {
     "elapsed": 605,
     "status": "ok",
     "timestamp": 1719344849526,
     "user": {
      "displayName": "milad ebrahimian",
      "userId": "12617387319880213983"
     },
     "user_tz": -60
    },
    "id": "BovsviPN73cT",
    "outputId": "01fca966-d666-4f0d-f942-26e240ae25ac"
   },
   "outputs": [
    {
     "name": "stdout",
     "output_type": "stream",
     "text": [
      "1/1 [==============================] - 0s 144ms/step\n"
     ]
    },
    {
     "data": {
      "text/plain": [
       "array([[8.7867414e-07, 5.4480201e-12, 9.7769916e-01, 1.2001448e-09,\n",
       "        2.1363834e-02, 3.2440882e-13, 9.3612156e-04, 1.8894795e-09,\n",
       "        5.3268157e-11, 4.6991122e-12],\n",
       "       [1.5049251e-06, 9.9999845e-01, 1.7724867e-09, 3.9208796e-08,\n",
       "        4.2887742e-09, 1.0443064e-14, 3.6265371e-09, 3.8315935e-12,\n",
       "        1.1970573e-09, 3.4317518e-11]], dtype=float32)"
      ]
     },
     "execution_count": 100,
     "metadata": {},
     "output_type": "execute_result"
    }
   ],
   "source": [
    "model.predict(x3)"
   ]
  },
  {
   "cell_type": "code",
   "execution_count": 101,
   "metadata": {
    "colab": {
     "base_uri": "https://localhost:8080/"
    },
    "executionInfo": {
     "elapsed": 623,
     "status": "ok",
     "timestamp": 1719344881528,
     "user": {
      "displayName": "milad ebrahimian",
      "userId": "12617387319880213983"
     },
     "user_tz": -60
    },
    "id": "Q0VCXPVo8F7V",
    "outputId": "19446574-68ea-4c87-e19e-cadc639ed099"
   },
   "outputs": [
    {
     "name": "stdout",
     "output_type": "stream",
     "text": [
      "1/1 [==============================] - 0s 111ms/step\n"
     ]
    },
    {
     "data": {
      "text/plain": [
       "(2, 10)"
      ]
     },
     "execution_count": 101,
     "metadata": {},
     "output_type": "execute_result"
    }
   ],
   "source": [
    "model.predict(x3).shape"
   ]
  },
  {
   "cell_type": "markdown",
   "metadata": {
    "id": "kGpmP6YS8R5k"
   },
   "source": [
    "### Model.predict(x3) is a 2 dimensional array and it emcompasses the probability scores of being class 0 to class 9 for each of the two samples. the class that has the highest score will be chosen"
   ]
  },
  {
   "cell_type": "code",
   "execution_count": 103,
   "metadata": {
    "colab": {
     "base_uri": "https://localhost:8080/"
    },
    "executionInfo": {
     "elapsed": 391,
     "status": "ok",
     "timestamp": 1719345095671,
     "user": {
      "displayName": "milad ebrahimian",
      "userId": "12617387319880213983"
     },
     "user_tz": -60
    },
    "id": "3sI9ZcWe8NvA",
    "outputId": "1eb7d863-6e9c-4115-970e-46e826a0e8a4"
   },
   "outputs": [
    {
     "name": "stdout",
     "output_type": "stream",
     "text": [
      "1/1 [==============================] - 0s 22ms/step\n"
     ]
    },
    {
     "data": {
      "text/plain": [
       "array([[0.   , 0.   , 0.978, 0.   , 0.021, 0.   , 0.001, 0.   , 0.   ,\n",
       "        0.   ],\n",
       "       [0.   , 1.   , 0.   , 0.   , 0.   , 0.   , 0.   , 0.   , 0.   ,\n",
       "        0.   ]], dtype=float32)"
      ]
     },
     "execution_count": 103,
     "metadata": {},
     "output_type": "execute_result"
    }
   ],
   "source": [
    "model.predict(x3).round(3)"
   ]
  },
  {
   "cell_type": "code",
   "execution_count": 105,
   "metadata": {
    "colab": {
     "base_uri": "https://localhost:8080/"
    },
    "executionInfo": {
     "elapsed": 307,
     "status": "ok",
     "timestamp": 1719345304191,
     "user": {
      "displayName": "milad ebrahimian",
      "userId": "12617387319880213983"
     },
     "user_tz": -60
    },
    "id": "PDf-l-3C8_um",
    "outputId": "8b84011d-fd85-4cd5-aaa8-2b01ccb0261b"
   },
   "outputs": [
    {
     "name": "stdout",
     "output_type": "stream",
     "text": [
      "1/1 [==============================] - 0s 54ms/step\n"
     ]
    },
    {
     "data": {
      "text/plain": [
       "array([2, 1])"
      ]
     },
     "execution_count": 105,
     "metadata": {},
     "output_type": "execute_result"
    }
   ],
   "source": [
    "np.argmax (model.predict(x3), axis= 1)"
   ]
  },
  {
   "cell_type": "markdown",
   "metadata": {
    "id": "uFnFVzOC-NM9"
   },
   "source": [
    "1. `model.predict(x3)`\n",
    "   - `x3` is the input data for which you want to make predictions. This could be a single sample or a batch of samples.\n",
    "   - The `predict` method generates output predictions for the input samples. For a classification model, these predictions are typically probabilities for each class.\n",
    "\n",
    "2. `np.argmax(..., axis=1)`\n",
    "   - `np.argmax` is a function from the NumPy library that returns the indices of the maximum values along a specified axis.\n",
    "   - `axis=1` specifies that the function should find the index of the maximum value along the second axis (i.e., across the columns for each row). In the context of model predictions, this means it will find the class with the highest predicted probability for each sample.\n",
    "\n",
    "Putting it all together, `np.argmax(model.predict(x3), axis=1)` performs the following steps:\n",
    "1. `model.predict(x3)` generates the predicted probabilities for each class for each sample in `x3`.\n",
    "2. `np.argmax(..., axis=1)` then finds the index of the class with the highest probability for each sample.\n",
    "\n",
    "This results in an array of predicted class indices, where each index corresponds to the class with the highest predicted probability for each sample in `x3`.\n",
    "\n",
    "For example, if `model.predict(x3)` returns:\n",
    "```\n",
    "[[0.1, 0.2, 0.7],\n",
    " [0.3, 0.4, 0.3],\n",
    " [0.8, 0.1, 0.1]]\n",
    "```\n",
    "Then `np.argmax(model.predict(x3), axis=1)` will return:\n",
    "```\n",
    "[2, 1, 0]\n",
    "```\n",
    "Indicating that the predicted classes for the three samples are 2, 1, and 0 respectively."
   ]
  },
  {
   "cell_type": "code",
   "execution_count": 106,
   "metadata": {
    "colab": {
     "base_uri": "https://localhost:8080/"
    },
    "executionInfo": {
     "elapsed": 250,
     "status": "ok",
     "timestamp": 1719345445719,
     "user": {
      "displayName": "milad ebrahimian",
      "userId": "12617387319880213983"
     },
     "user_tz": -60
    },
    "id": "5FIcLUeC91AD",
    "outputId": "e1b2d992-98ba-49de-cad1-095c2bde57ae"
   },
   "outputs": [
    {
     "data": {
      "text/plain": [
       "array([2, 1], dtype=uint8)"
      ]
     },
     "execution_count": 106,
     "metadata": {},
     "output_type": "execute_result"
    }
   ],
   "source": [
    "y_test[1:3]"
   ]
  },
  {
   "cell_type": "code",
   "execution_count": null,
   "metadata": {
    "id": "oKCHRwT7-Xj6"
   },
   "outputs": [],
   "source": []
  }
 ],
 "metadata": {
  "colab": {
   "authorship_tag": "ABX9TyMhHfDniRy6PPEbateVJAtS",
   "provenance": []
  },
  "kernelspec": {
   "display_name": "Python 3 (ipykernel)",
   "language": "python",
   "name": "python3"
  },
  "language_info": {
   "codemirror_mode": {
    "name": "ipython",
    "version": 3
   },
   "file_extension": ".py",
   "mimetype": "text/x-python",
   "name": "python",
   "nbconvert_exporter": "python",
   "pygments_lexer": "ipython3",
   "version": "3.11.5"
  }
 },
 "nbformat": 4,
 "nbformat_minor": 4
}
