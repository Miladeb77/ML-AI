{
 "cells": [
  {
   "cell_type": "markdown",
   "id": "fd773f39-d504-4e9a-9994-e8464eb7e066",
   "metadata": {},
   "source": [
    "<div class=\"alert alert-block alert-success\">\n",
    "    <h1 align=\"center\">Machine Learning in Python</h1>\n",
    "    <h3 align=\"center\">K-Nearest Neighbor (Breast Cancer Dataset)</h3>\n",
    "    <h4 align=\"center\"><a href=\"http://www.iran-machinelearning.ir\">Soheil Tehranipour</a></h5>\n",
    "</div>"
   ]
  },
  {
   "cell_type": "markdown",
   "id": "84507546-b192-4699-bb78-2c6aa2ee2ec9",
   "metadata": {},
   "source": [
    "- [ ] What is KNN?\n",
    "- [ ] Breast Cancer Dataset\n",
    "- [ ] How to use optimal K?"
   ]
  },
  {
   "cell_type": "markdown",
   "id": "e4ed5c8e-4b5e-4399-a053-745fd4f4bf9e",
   "metadata": {},
   "source": [
    "## What is K-Nearest Neighbor (KNN)?\n",
    "\n",
    "K-Nearest Neighbors, or **KNN** for short, is one of the simplest machine learning algorithms and is used in a wide array of institutions. KNN is a `non-parametric`, `lazy learning` algorithm."
   ]
  },
  {
   "cell_type": "markdown",
   "id": "00cbaf29-625b-4c29-8515-76714f1946d6",
   "metadata": {},
   "source": [
    "\n",
    "\n",
    "* When we say a technique is non-parametric, it means that it does not make any assumptions about the underlying data. In other words, it makes its selection based off of the proximity to other data points regardless of what feature the numerical values represent. \n",
    "\n",
    "* Being a lazy learning algorithm implies that there is little to no training phase. Therefore, we can immediately classify new data points as they present themselves.\n",
    "\n",
    "> K-NN is a lazy learner because it doesn’t learn a discriminative function from the training data but “memorizes” the training dataset instead.\n",
    "For example, the logistic regression algorithm learns its model weights (parameters) during training time. In contrast, there is no training time in K-NN.\n",
    "\n",
    "**To summarize: An eager learner has a model fitting or training step. A lazy learner does not have a training phase.**"
   ]
  },
  {
   "cell_type": "markdown",
   "id": "4e4c1a3b-925d-4ef8-b372-87e9c11ca8c5",
   "metadata": {},
   "source": [
    "<img src = \"https://miro.medium.com/max/1400/1*YWKvGH4kKOtCvlX950LM9g.jpeg\" width=75%>"
   ]
  },
  {
   "cell_type": "markdown",
   "id": "234f8915-21a8-4774-8cfb-82ea818d63b1",
   "metadata": {},
   "source": [
    "## KNN in a nutshell"
   ]
  },
  {
   "cell_type": "markdown",
   "id": "1742b278-c7ae-43de-b114-9a3b77315450",
   "metadata": {},
   "source": [
    "1.     Pick a value for K (i.e. 5)."
   ]
  },
  {
   "cell_type": "markdown",
   "id": "48b30691-8bb0-4d3d-8600-c55ea798c7f8",
   "metadata": {},
   "source": [
    "<img src = \"https://miro.medium.com/max/1400/1*4F-q86XFr2-EsaAcz0Zu5A.png\" width=50%>\n"
   ]
  },
  {
   "cell_type": "markdown",
   "id": "7c7b0793-235e-458a-bf95-bd9721097773",
   "metadata": {},
   "source": [
    "3. Among these neighbors, count the number of data points in each category and assign the new data point to the category where you counted the most neighbors."
   ]
  },
  {
   "cell_type": "markdown",
   "id": "0818a1c6-ce31-4097-a0f7-31865ddc801c",
   "metadata": {},
   "source": [
    "<img src = \"https://miro.medium.com/max/1400/1*OMHr6KZl7nHnKgLb8pq0Jg.png\" width=50%>\n"
   ]
  },
  {
   "cell_type": "markdown",
   "id": "927c62fa-05a0-4e11-993d-6c54bba15660",
   "metadata": {},
   "source": [
    "## Algorithm...\n",
    "\n",
    "1.Initialize the K value.\n",
    "\n",
    "2.Calculate the distance between test input and K trained nearest neighbors.\n",
    "\n",
    "3.Check class categories of nearest neighbors and determine the type in which test input falls.\n",
    "\n",
    "4.Classification will be done by taking the majority of votes.\n",
    "\n",
    "5.Return the class category."
   ]
  },
  {
   "cell_type": "markdown",
   "id": "c0c819ce-2ae6-4955-b7c5-0387f188af1f",
   "metadata": {},
   "source": [
    "## Distance Metrics\n",
    "\n",
    "The distance metric is the effective hyper-parameter through which we measure the distance between data feature values and new test inputs."
   ]
  },
  {
   "cell_type": "markdown",
   "id": "b7f02480-367c-40cd-ba06-ab367576d1c0",
   "metadata": {},
   "source": [
    "<img src = \"https://miro.medium.com/max/1400/1*_i1PCxvSDw5TIfzyq90aag.png\" width=50%>\n"
   ]
  },
  {
   "cell_type": "markdown",
   "id": "b164b4b4-b985-4ef6-ac4e-66e84ecf8baf",
   "metadata": {},
   "source": [
    "## Some pros and cons of KNN"
   ]
  },
  {
   "cell_type": "markdown",
   "id": "a5f3bd5e-18a3-4d19-81f0-02109652924f",
   "metadata": {},
   "source": [
    "> Pros:\n",
    "\n",
    "* No assumptions about data\n",
    "* Simple algorithm — easy to understand\n",
    "* Can be used for classification and regression\n",
    "\n",
    "> Cons:\n",
    "\n",
    "* High memory requirement — All of the training data must be present in memory in order to calculate the closest K neighbors\n",
    "* Sensitive to irrelevant features\n",
    "* Sensitive to the scale of the data since we’re computing the distance to the closest K points"
   ]
  },
  {
   "cell_type": "markdown",
   "id": "cf5ef091-e456-4fdd-9296-6636a3894a5f",
   "metadata": {},
   "source": [
    "- [x] What is KNN?\n",
    "- [ ] Breast Cancer Dataset\n",
    "- [ ] How to use optimal K?"
   ]
  },
  {
   "cell_type": "markdown",
   "id": "c60e1bf5-ac39-49b6-a1fb-78bc56fa9d09",
   "metadata": {},
   "source": [
    "## KNN in python - Breast Cancer Dataset"
   ]
  },
  {
   "cell_type": "code",
   "execution_count": 1,
   "id": "32a63f3c-a1c9-4cd3-8e87-59088b12aec4",
   "metadata": {},
   "outputs": [],
   "source": [
    "%matplotlib inline\n",
    "import numpy as np\n",
    "import pandas as pd\n",
    "import matplotlib.pyplot as plt\n",
    "import seaborn as sns\n",
    "import sklearn\n",
    "import warnings\n",
    "warnings.filterwarnings('ignore')"
   ]
  },
  {
   "cell_type": "code",
   "execution_count": 2,
   "id": "3026c183-6216-418e-a9a5-09749a5ae5da",
   "metadata": {},
   "outputs": [],
   "source": [
    "from sklearn.datasets import load_breast_cancer \n",
    "\n",
    "cancer= load_breast_cancer()"
   ]
  },
  {
   "cell_type": "markdown",
   "id": "931f57f1-ec05-4395-8aa7-90886c424cc1",
   "metadata": {},
   "source": [
    "| Question      |Answer\n",
    "| :---        |    :----:   \n",
    "| Number of Instances      | 659       \n",
    "| Number of Features   | 30\n",
    "| Class Distribution      | 357 Benign, 212 Malignant\n",
    "| Number of Missing Values      | 0       \n",
    "| Number of Classes      | 2       \n",
    "| Task   | Classification "
   ]
  },
  {
   "cell_type": "code",
   "execution_count": 3,
   "id": "d127a0fc-c0da-4da3-bcd9-ceb980f263d8",
   "metadata": {},
   "outputs": [
    {
     "data": {
      "text/plain": [
       "(569, 30)"
      ]
     },
     "execution_count": 3,
     "metadata": {},
     "output_type": "execute_result"
    }
   ],
   "source": [
    "cancer.data.shape"
   ]
  },
  {
   "cell_type": "code",
   "execution_count": 4,
   "id": "ed8d9621-342f-41f3-b486-c00e2ea29db4",
   "metadata": {},
   "outputs": [
    {
     "name": "stdout",
     "output_type": "stream",
     "text": [
      "['mean radius' 'mean texture' 'mean perimeter' 'mean area'\n",
      " 'mean smoothness' 'mean compactness' 'mean concavity'\n",
      " 'mean concave points' 'mean symmetry' 'mean fractal dimension'\n",
      " 'radius error' 'texture error' 'perimeter error' 'area error'\n",
      " 'smoothness error' 'compactness error' 'concavity error'\n",
      " 'concave points error' 'symmetry error' 'fractal dimension error'\n",
      " 'worst radius' 'worst texture' 'worst perimeter' 'worst area'\n",
      " 'worst smoothness' 'worst compactness' 'worst concavity'\n",
      " 'worst concave points' 'worst symmetry' 'worst fractal dimension']\n"
     ]
    }
   ],
   "source": [
    "print(cancer.feature_names)"
   ]
  },
  {
   "cell_type": "code",
   "execution_count": 5,
   "id": "02925642-230b-46eb-b32c-08b0e010b773",
   "metadata": {},
   "outputs": [
    {
     "name": "stdout",
     "output_type": "stream",
     "text": [
      "['malignant' 'benign']\n"
     ]
    }
   ],
   "source": [
    "print(cancer.target_names)"
   ]
  },
  {
   "cell_type": "markdown",
   "id": "832b7ba6-321e-451e-aaa4-37c225e802ce",
   "metadata": {},
   "source": [
    "<img src = \"https://miro.medium.com/max/875/1*-7Gwli-yhmHA7XNRmJwSRg.jpeg\" width=60%>\n"
   ]
  },
  {
   "cell_type": "code",
   "execution_count": 6,
   "id": "388df43e-2835-42da-91f8-57e5ed46c0c3",
   "metadata": {},
   "outputs": [
    {
     "data": {
      "text/plain": [
       "array([0, 0, 0, 0, 0, 0, 0, 0, 0, 0, 0, 0, 0, 0, 0, 0, 0, 0, 0, 1, 1, 1,\n",
       "       0, 0, 0, 0, 0, 0, 0, 0, 0, 0, 0, 0, 0, 0, 0, 1, 0, 0, 0, 0, 0, 0,\n",
       "       0, 0, 1, 0, 1, 1, 1, 1, 1, 0, 0, 1, 0, 0, 1, 1, 1, 1, 0, 1, 0, 0,\n",
       "       1, 1, 1, 1, 0, 1, 0, 0, 1, 0, 1, 0, 0, 1, 1, 1, 0, 0, 1, 0, 0, 0,\n",
       "       1, 1, 1, 0, 1, 1, 0, 0, 1, 1, 1, 0, 0, 1, 1, 1, 1, 0, 1, 1, 0, 1,\n",
       "       1, 1, 1, 1, 1, 1, 1, 0, 0, 0, 1, 0, 0, 1, 1, 1, 0, 0, 1, 0, 1, 0,\n",
       "       0, 1, 0, 0, 1, 1, 0, 1, 1, 0, 1, 1, 1, 1, 0, 1, 1, 1, 1, 1, 1, 1,\n",
       "       1, 1, 0, 1, 1, 1, 1, 0, 0, 1, 0, 1, 1, 0, 0, 1, 1, 0, 0, 1, 1, 1,\n",
       "       1, 0, 1, 1, 0, 0, 0, 1, 0, 1, 0, 1, 1, 1, 0, 1, 1, 0, 0, 1, 0, 0,\n",
       "       0, 0, 1, 0, 0, 0, 1, 0, 1, 0, 1, 1, 0, 1, 0, 0, 0, 0, 1, 1, 0, 0,\n",
       "       1, 1, 1, 0, 1, 1, 1, 1, 1, 0, 0, 1, 1, 0, 1, 1, 0, 0, 1, 0, 1, 1,\n",
       "       1, 1, 0, 1, 1, 1, 1, 1, 0, 1, 0, 0, 0, 0, 0, 0, 0, 0, 0, 0, 0, 0,\n",
       "       0, 0, 1, 1, 1, 1, 1, 1, 0, 1, 0, 1, 1, 0, 1, 1, 0, 1, 0, 0, 1, 1,\n",
       "       1, 1, 1, 1, 1, 1, 1, 1, 1, 1, 1, 0, 1, 1, 0, 1, 0, 1, 1, 1, 1, 1,\n",
       "       1, 1, 1, 1, 1, 1, 1, 1, 1, 0, 1, 1, 1, 0, 1, 0, 1, 1, 1, 1, 0, 0,\n",
       "       0, 1, 1, 1, 1, 0, 1, 0, 1, 0, 1, 1, 1, 0, 1, 1, 1, 1, 1, 1, 1, 0,\n",
       "       0, 0, 1, 1, 1, 1, 1, 1, 1, 1, 1, 1, 1, 0, 0, 1, 0, 0, 0, 1, 0, 0,\n",
       "       1, 1, 1, 1, 1, 0, 1, 1, 1, 1, 1, 0, 1, 1, 1, 0, 1, 1, 0, 0, 1, 1,\n",
       "       1, 1, 1, 1, 0, 1, 1, 1, 1, 1, 1, 1, 0, 1, 1, 1, 1, 1, 0, 1, 1, 0,\n",
       "       1, 1, 1, 1, 1, 1, 1, 1, 1, 1, 1, 1, 0, 1, 0, 0, 1, 0, 1, 1, 1, 1,\n",
       "       1, 0, 1, 1, 0, 1, 0, 1, 1, 0, 1, 0, 1, 1, 1, 1, 1, 1, 1, 1, 0, 0,\n",
       "       1, 1, 1, 1, 1, 1, 0, 1, 1, 1, 1, 1, 1, 1, 1, 1, 1, 0, 1, 1, 1, 1,\n",
       "       1, 1, 1, 0, 1, 0, 1, 1, 0, 1, 1, 1, 1, 1, 0, 0, 1, 0, 1, 0, 1, 1,\n",
       "       1, 1, 1, 0, 1, 1, 0, 1, 0, 1, 0, 0, 1, 1, 1, 0, 1, 1, 1, 1, 1, 1,\n",
       "       1, 1, 1, 1, 1, 0, 1, 0, 0, 1, 1, 1, 1, 1, 1, 1, 1, 1, 1, 1, 1, 1,\n",
       "       1, 1, 1, 1, 1, 1, 1, 1, 1, 1, 1, 1, 0, 0, 0, 0, 0, 0, 1])"
      ]
     },
     "execution_count": 6,
     "metadata": {},
     "output_type": "execute_result"
    }
   ],
   "source": [
    "cancer.target"
   ]
  },
  {
   "cell_type": "code",
   "execution_count": 7,
   "id": "21016ab7-e26d-49d2-a634-b91d4696f21f",
   "metadata": {},
   "outputs": [
    {
     "name": "stdout",
     "output_type": "stream",
     "text": [
      "Shape of Train Data: (426, 30)\n",
      "Shape of Test Data: (143, 30)\n"
     ]
    }
   ],
   "source": [
    "from sklearn.model_selection import train_test_split\n",
    "\n",
    "X_train, X_test, y_train, y_test = train_test_split(cancer.data,cancer.target, random_state=42)\n",
    "\n",
    "print (\"Shape of Train Data:\", X_train.shape)\n",
    "print (\"Shape of Test Data:\", X_test.shape)"
   ]
  },
  {
   "cell_type": "markdown",
   "id": "d23f9d0d-2409-4d19-9937-4f2fc1aeb51f",
   "metadata": {},
   "source": [
    "## Fitting the KNN model"
   ]
  },
  {
   "cell_type": "code",
   "execution_count": 18,
   "id": "207ed503-36a9-42fc-aa10-aaf4fc426cc4",
   "metadata": {},
   "outputs": [
    {
     "data": {
      "text/html": [
       "<style>#sk-container-id-1 {color: black;background-color: white;}#sk-container-id-1 pre{padding: 0;}#sk-container-id-1 div.sk-toggleable {background-color: white;}#sk-container-id-1 label.sk-toggleable__label {cursor: pointer;display: block;width: 100%;margin-bottom: 0;padding: 0.3em;box-sizing: border-box;text-align: center;}#sk-container-id-1 label.sk-toggleable__label-arrow:before {content: \"▸\";float: left;margin-right: 0.25em;color: #696969;}#sk-container-id-1 label.sk-toggleable__label-arrow:hover:before {color: black;}#sk-container-id-1 div.sk-estimator:hover label.sk-toggleable__label-arrow:before {color: black;}#sk-container-id-1 div.sk-toggleable__content {max-height: 0;max-width: 0;overflow: hidden;text-align: left;background-color: #f0f8ff;}#sk-container-id-1 div.sk-toggleable__content pre {margin: 0.2em;color: black;border-radius: 0.25em;background-color: #f0f8ff;}#sk-container-id-1 input.sk-toggleable__control:checked~div.sk-toggleable__content {max-height: 200px;max-width: 100%;overflow: auto;}#sk-container-id-1 input.sk-toggleable__control:checked~label.sk-toggleable__label-arrow:before {content: \"▾\";}#sk-container-id-1 div.sk-estimator input.sk-toggleable__control:checked~label.sk-toggleable__label {background-color: #d4ebff;}#sk-container-id-1 div.sk-label input.sk-toggleable__control:checked~label.sk-toggleable__label {background-color: #d4ebff;}#sk-container-id-1 input.sk-hidden--visually {border: 0;clip: rect(1px 1px 1px 1px);clip: rect(1px, 1px, 1px, 1px);height: 1px;margin: -1px;overflow: hidden;padding: 0;position: absolute;width: 1px;}#sk-container-id-1 div.sk-estimator {font-family: monospace;background-color: #f0f8ff;border: 1px dotted black;border-radius: 0.25em;box-sizing: border-box;margin-bottom: 0.5em;}#sk-container-id-1 div.sk-estimator:hover {background-color: #d4ebff;}#sk-container-id-1 div.sk-parallel-item::after {content: \"\";width: 100%;border-bottom: 1px solid gray;flex-grow: 1;}#sk-container-id-1 div.sk-label:hover label.sk-toggleable__label {background-color: #d4ebff;}#sk-container-id-1 div.sk-serial::before {content: \"\";position: absolute;border-left: 1px solid gray;box-sizing: border-box;top: 0;bottom: 0;left: 50%;z-index: 0;}#sk-container-id-1 div.sk-serial {display: flex;flex-direction: column;align-items: center;background-color: white;padding-right: 0.2em;padding-left: 0.2em;position: relative;}#sk-container-id-1 div.sk-item {position: relative;z-index: 1;}#sk-container-id-1 div.sk-parallel {display: flex;align-items: stretch;justify-content: center;background-color: white;position: relative;}#sk-container-id-1 div.sk-item::before, #sk-container-id-1 div.sk-parallel-item::before {content: \"\";position: absolute;border-left: 1px solid gray;box-sizing: border-box;top: 0;bottom: 0;left: 50%;z-index: -1;}#sk-container-id-1 div.sk-parallel-item {display: flex;flex-direction: column;z-index: 1;position: relative;background-color: white;}#sk-container-id-1 div.sk-parallel-item:first-child::after {align-self: flex-end;width: 50%;}#sk-container-id-1 div.sk-parallel-item:last-child::after {align-self: flex-start;width: 50%;}#sk-container-id-1 div.sk-parallel-item:only-child::after {width: 0;}#sk-container-id-1 div.sk-dashed-wrapped {border: 1px dashed gray;margin: 0 0.4em 0.5em 0.4em;box-sizing: border-box;padding-bottom: 0.4em;background-color: white;}#sk-container-id-1 div.sk-label label {font-family: monospace;font-weight: bold;display: inline-block;line-height: 1.2em;}#sk-container-id-1 div.sk-label-container {text-align: center;}#sk-container-id-1 div.sk-container {/* jupyter's `normalize.less` sets `[hidden] { display: none; }` but bootstrap.min.css set `[hidden] { display: none !important; }` so we also need the `!important` here to be able to override the default hidden behavior on the sphinx rendered scikit-learn.org. See: https://github.com/scikit-learn/scikit-learn/issues/21755 */display: inline-block !important;position: relative;}#sk-container-id-1 div.sk-text-repr-fallback {display: none;}</style><div id=\"sk-container-id-1\" class=\"sk-top-container\"><div class=\"sk-text-repr-fallback\"><pre>KNeighborsClassifier()</pre><b>In a Jupyter environment, please rerun this cell to show the HTML representation or trust the notebook. <br />On GitHub, the HTML representation is unable to render, please try loading this page with nbviewer.org.</b></div><div class=\"sk-container\" hidden><div class=\"sk-item\"><div class=\"sk-estimator sk-toggleable\"><input class=\"sk-toggleable__control sk-hidden--visually\" id=\"sk-estimator-id-1\" type=\"checkbox\" checked><label for=\"sk-estimator-id-1\" class=\"sk-toggleable__label sk-toggleable__label-arrow\">KNeighborsClassifier</label><div class=\"sk-toggleable__content\"><pre>KNeighborsClassifier()</pre></div></div></div></div></div>"
      ],
      "text/plain": [
       "KNeighborsClassifier()"
      ]
     },
     "execution_count": 18,
     "metadata": {},
     "output_type": "execute_result"
    }
   ],
   "source": [
    "from sklearn.neighbors import KNeighborsClassifier\n",
    "\n",
    "knn= KNeighborsClassifier() # K by default is 5 \n",
    "\n",
    "knn.fit(X_train, y_train)"
   ]
  },
  {
   "cell_type": "code",
   "execution_count": 19,
   "id": "5a5fc2ef-dcd3-449c-969e-1aad86cbb6d6",
   "metadata": {},
   "outputs": [
    {
     "data": {
      "text/plain": [
       "array([[1.289e+01, 1.312e+01, 8.189e+01, 5.159e+02, 6.955e-02, 3.729e-02,\n",
       "        2.260e-02, 1.171e-02, 1.337e-01, 5.581e-02, 1.532e-01, 4.690e-01,\n",
       "        1.115e+00, 1.268e+01, 4.731e-03, 1.345e-02, 1.652e-02, 5.905e-03,\n",
       "        1.619e-02, 2.081e-03, 1.362e+01, 1.554e+01, 8.740e+01, 5.770e+02,\n",
       "        9.616e-02, 1.147e-01, 1.186e-01, 5.366e-02, 2.309e-01, 6.915e-02],\n",
       "       [1.340e+01, 2.052e+01, 8.864e+01, 5.567e+02, 1.106e-01, 1.469e-01,\n",
       "        1.445e-01, 8.172e-02, 2.116e-01, 7.325e-02, 3.906e-01, 9.306e-01,\n",
       "        3.093e+00, 3.367e+01, 5.414e-03, 2.265e-02, 3.452e-02, 1.334e-02,\n",
       "        1.705e-02, 4.005e-03, 1.641e+01, 2.966e+01, 1.133e+02, 8.444e+02,\n",
       "        1.574e-01, 3.856e-01, 5.106e-01, 2.051e-01, 3.585e-01, 1.109e-01],\n",
       "       [1.296e+01, 1.829e+01, 8.418e+01, 5.252e+02, 7.351e-02, 7.899e-02,\n",
       "        4.057e-02, 1.883e-02, 1.874e-01, 5.899e-02, 2.357e-01, 1.299e+00,\n",
       "        2.397e+00, 2.021e+01, 3.629e-03, 3.713e-02, 3.452e-02, 1.065e-02,\n",
       "        2.632e-02, 3.705e-03, 1.413e+01, 2.461e+01, 9.631e+01, 6.219e+02,\n",
       "        9.329e-02, 2.318e-01, 1.604e-01, 6.608e-02, 3.207e-01, 7.247e-02]])"
      ]
     },
     "execution_count": 19,
     "metadata": {},
     "output_type": "execute_result"
    }
   ],
   "source": [
    "X_train[0:3]"
   ]
  },
  {
   "cell_type": "code",
   "execution_count": 20,
   "id": "e3a422c7-144a-47b0-8543-67caba12309f",
   "metadata": {},
   "outputs": [
    {
     "data": {
      "text/plain": [
       "array([1.289e+01, 1.312e+01, 8.189e+01, 5.159e+02, 6.955e-02, 3.729e-02,\n",
       "       2.260e-02, 1.171e-02, 1.337e-01, 5.581e-02, 1.532e-01, 4.690e-01,\n",
       "       1.115e+00, 1.268e+01, 4.731e-03, 1.345e-02, 1.652e-02, 5.905e-03,\n",
       "       1.619e-02, 2.081e-03, 1.362e+01, 1.554e+01, 8.740e+01, 5.770e+02,\n",
       "       9.616e-02, 1.147e-01, 1.186e-01, 5.366e-02, 2.309e-01, 6.915e-02])"
      ]
     },
     "execution_count": 20,
     "metadata": {},
     "output_type": "execute_result"
    }
   ],
   "source": [
    "X_train[0]"
   ]
  },
  {
   "cell_type": "code",
   "execution_count": 22,
   "id": "abef05de-2734-4a7e-8202-0378034465be",
   "metadata": {},
   "outputs": [
    {
     "data": {
      "text/plain": [
       "array([1, 0, 1])"
      ]
     },
     "execution_count": 22,
     "metadata": {},
     "output_type": "execute_result"
    }
   ],
   "source": [
    "y_train[0:3]"
   ]
  },
  {
   "cell_type": "code",
   "execution_count": 23,
   "id": "281d2661-5c60-40cc-9b37-d576dfa8fadd",
   "metadata": {},
   "outputs": [],
   "source": [
    "y_pred= knn.predict(X_test)"
   ]
  },
  {
   "cell_type": "code",
   "execution_count": 24,
   "id": "f85fe22e-a823-4374-8a99-c1c2b77f83a8",
   "metadata": {},
   "outputs": [
    {
     "data": {
      "text/plain": [
       "array([1, 0, 0])"
      ]
     },
     "execution_count": 24,
     "metadata": {},
     "output_type": "execute_result"
    }
   ],
   "source": [
    "y_pred[0:3]"
   ]
  },
  {
   "cell_type": "code",
   "execution_count": 26,
   "id": "216559d1-ac04-4e06-a171-9717fc0889aa",
   "metadata": {},
   "outputs": [
    {
     "data": {
      "text/plain": [
       "0.9342723004694836"
      ]
     },
     "execution_count": 26,
     "metadata": {},
     "output_type": "execute_result"
    }
   ],
   "source": [
    "knn.score(X_train,y_train)"
   ]
  },
  {
   "cell_type": "code",
   "execution_count": 27,
   "id": "dc23b19d-5e77-461e-8762-9e47ef6f0860",
   "metadata": {},
   "outputs": [
    {
     "data": {
      "text/plain": [
       "0.965034965034965"
      ]
     },
     "execution_count": 27,
     "metadata": {},
     "output_type": "execute_result"
    }
   ],
   "source": [
    "knn.score(X_test,y_test)"
   ]
  },
  {
   "cell_type": "markdown",
   "id": "0bd83026-2312-4173-8c5f-709cb1bc9945",
   "metadata": {},
   "source": [
    "# Evaluation "
   ]
  },
  {
   "cell_type": "code",
   "execution_count": 28,
   "id": "8614aaef-2ce7-4f1b-9d49-aba341828176",
   "metadata": {},
   "outputs": [],
   "source": [
    "from sklearn.metrics import confusion_matrix\n",
    "from sklearn.metrics import classification_report"
   ]
  },
  {
   "cell_type": "code",
   "execution_count": 29,
   "id": "8a684ed2-c973-45f4-bed7-a941e6df0281",
   "metadata": {},
   "outputs": [
    {
     "name": "stdout",
     "output_type": "stream",
     "text": [
      "              precision    recall  f1-score   support\n",
      "\n",
      "           0       0.98      0.93      0.95        54\n",
      "           1       0.96      0.99      0.97        89\n",
      "\n",
      "    accuracy                           0.97       143\n",
      "   macro avg       0.97      0.96      0.96       143\n",
      "weighted avg       0.97      0.97      0.96       143\n",
      "\n"
     ]
    }
   ],
   "source": [
    "print(classification_report(y_test, y_pred))"
   ]
  },
  {
   "cell_type": "code",
   "execution_count": 32,
   "id": "85088ba7-97fe-46fd-b496-1475a834756e",
   "metadata": {},
   "outputs": [
    {
     "data": {
      "image/png": "[encoded data removed]",
      "text/plain": [
       "<Figure size 800x600 with 2 Axes>"
      ]
     },
     "metadata": {},
     "output_type": "display_data"
    }
   ],
   "source": [
    "# Generate the confusion matrix\n",
    "cm = confusion_matrix(y_test, y_pred)\n",
    "\n",
    "# Create the heatmap\n",
    "plt.figure(figsize=(8, 6))\n",
    "sns.heatmap(cm, square=True, annot=False, cmap='Blues', cbar=True)\n",
    "\n",
    "# Annotate each cell with the numeric value using matplotlib\n",
    "ax = plt.gca()\n",
    "for i in range(cm.shape[0]):\n",
    "    for j in range(cm.shape[1]):\n",
    "        ax.text(j + 0.5, i + 0.5, cm[i, j], horizontalalignment='center', verticalalignment='center')\n",
    "\n",
    "plt.xlabel('Predicted labels')\n",
    "plt.ylabel('True labels')\n",
    "plt.title('Confusion Matrix')\n",
    "plt.show()"
   ]
  },
  {
   "cell_type": "markdown",
   "id": "74028031-b4a6-4f32-b073-1efb40b378e8",
   "metadata": {},
   "source": [
    "- [x] What is KNN?\n",
    "- [x] Breast Cancer Dataset\n",
    "- [ ] How to use optimal K?"
   ]
  },
  {
   "cell_type": "markdown",
   "id": "91c6603e-077e-4242-9d24-d2cd11333fa2",
   "metadata": {},
   "source": [
    "# How to choose a K value?"
   ]
  },
  {
   "cell_type": "markdown",
   "id": "272b2760-ee3e-43ec-81cf-f4977f6e1da7",
   "metadata": {},
   "source": [
    "K value indicates the count of the nearest neighbors. We have to compute distances between test points and trained labels points. Updating distance metrics with every iteration is computationally expensive, and that’s why KNN is a lazy learning algorithm"
   ]
  },
  {
   "cell_type": "markdown",
   "id": "01fc47c6-c113-42e1-8512-7ba3ce2006ec",
   "metadata": {},
   "source": [
    "<img src = \"https://miro.medium.com/max/810/0*FakkqTKdMPDb3gof.jpg\" width=40%>"
   ]
  },
  {
   "cell_type": "markdown",
   "id": "6d65ff56-a4eb-40d0-bf69-adcf6883c603",
   "metadata": {},
   "source": [
    "## Optimal value of K"
   ]
  },
  {
   "cell_type": "markdown",
   "id": "92de0433-0796-4b32-b465-fd7d714e9c4a",
   "metadata": {},
   "source": [
    "Manual tuning of K as a hyperparameter "
   ]
  },
  {
   "cell_type": "code",
   "execution_count": 33,
   "id": "fa499cf3-cd9a-4ace-9dee-53c1615892d7",
   "metadata": {},
   "outputs": [],
   "source": [
    "error_rate = []\n",
    "# Might take some time\n",
    "for i in range(1,40):\n",
    "    \n",
    "    knn = KNeighborsClassifier(n_neighbors=i)\n",
    "    knn.fit(X_train,y_train)\n",
    "    pred_i = knn.predict(X_test)\n",
    "    error_rate.append(np.mean(pred_i != y_test))"
   ]
  },
  {
   "cell_type": "markdown",
   "id": "c8a1cebb-7e1b-437d-ae73-6daa55c847d2",
   "metadata": {},
   "source": [
    "The line of code you're asking about is used to calculate and record the error rate of a k-Nearest Neighbors (k-NN) classifier for different values of `k` (the number of neighbors). Here’s a breakdown of what each part does:\n",
    "\n",
    "1. **Comparison of Predictions with True Values**:\n",
    "   ```python\n",
    "   pred_i != y_test\n",
    "   ```\n",
    "   This part compares each prediction made by the k-NN classifier (`pred_i`) with the actual true labels (`y_test`). The result is a boolean array where `True` indicates a wrong prediction (an error), and `False` indicates a correct prediction.\n",
    "\n",
    "2. **Calculating the Mean of Boolean Array**:\n",
    "   ```python\n",
    "   np.mean(pred_i != y_test)\n",
    "   ```\n",
    "   `numpy.mean()` computes the average of the array elements. When applied to a boolean array, `True` is treated as 1 and `False` as 0. Thus, calculating the mean of this boolean array effectively gives you the proportion of `True` values in the array, which is the error rate. In other words, it's the fraction of all predictions that were incorrect.\n",
    "\n",
    "3. **Appending to the Error Rate List**:\n",
    "   ```python\n",
    "   error_rate.append(np.mean(pred_i != y_test))\n",
    "   ```\n",
    "   This adds the calculated error rate to the list `error_rate`. Each iteration of the loop (where `i` ranges from 1 to 40) corresponds to a different k-NN model with a different number of neighbors. For each model, the error rate is calculated and appended to the list. This list can later be used to analyze how the error rate changes as the number of neighbors varies.\n",
    "\n",
    "The purpose of this loop and the line in question is typically to find an optimal value for `k` that minimizes the error rate, thereby enhancing the model's prediction accuracy. The list `error_rate` can be plotted against the values of `k` to visually identify the best choice for `k` in terms of prediction accuracy."
   ]
  },
  {
   "cell_type": "code",
   "execution_count": 34,
   "id": "ee8dae59-4dc0-423c-b606-def018cecede",
   "metadata": {},
   "outputs": [
    {
     "data": {
      "text/plain": [
       "array([1, 0, 0, 1, 1, 0, 0, 0, 1, 1, 1, 0, 1, 0, 1, 0, 1, 1, 1, 0, 1, 1,\n",
       "       0, 1, 1, 1, 1, 1, 1, 0, 1, 1, 1, 1, 1, 1, 0, 1, 0, 1, 1, 0, 1, 1,\n",
       "       1, 1, 1, 1, 1, 1, 0, 0, 1, 1, 1, 1, 1, 0, 1, 1, 1, 0, 0, 1, 1, 1,\n",
       "       0, 0, 1, 1, 1, 0, 1, 0, 1, 1, 1, 1, 1, 1, 0, 1, 1, 0, 0, 0, 1, 0,\n",
       "       1, 1, 1, 1, 1, 1, 1, 1, 0, 0, 1, 0, 0, 1, 0, 0, 1, 1, 1, 0, 1, 1,\n",
       "       0, 1, 1, 0, 1, 0, 1, 1, 1, 0, 1, 1, 1, 0, 1, 0, 0, 1, 1, 0, 0, 0,\n",
       "       1, 1, 0, 0, 1, 1, 1, 0, 1, 0, 1])"
      ]
     },
     "execution_count": 34,
     "metadata": {},
     "output_type": "execute_result"
    }
   ],
   "source": [
    "pred_i"
   ]
  },
  {
   "cell_type": "code",
   "execution_count": 35,
   "id": "5acd1ea5-6f2b-4c6f-9d6e-8c9c63821f6e",
   "metadata": {},
   "outputs": [
    {
     "data": {
      "text/plain": [
       "array([1, 0, 0, 1, 1, 0, 0, 0, 1, 1, 1, 0, 1, 0, 1, 0, 1, 1, 1, 0, 0, 1,\n",
       "       0, 1, 1, 1, 1, 1, 1, 0, 1, 1, 1, 1, 1, 1, 0, 1, 0, 1, 1, 0, 1, 1,\n",
       "       1, 1, 1, 1, 1, 1, 0, 0, 1, 1, 1, 1, 1, 0, 0, 1, 1, 0, 0, 1, 1, 1,\n",
       "       0, 0, 1, 1, 0, 0, 1, 0, 1, 1, 1, 0, 1, 1, 0, 1, 0, 0, 0, 0, 0, 0,\n",
       "       1, 1, 1, 1, 1, 1, 1, 1, 0, 0, 1, 0, 0, 1, 0, 0, 1, 1, 1, 0, 1, 1,\n",
       "       0, 1, 1, 0, 1, 0, 1, 1, 1, 0, 1, 1, 1, 0, 1, 0, 0, 1, 1, 0, 0, 0,\n",
       "       1, 1, 1, 0, 1, 1, 1, 0, 1, 0, 1])"
      ]
     },
     "execution_count": 35,
     "metadata": {},
     "output_type": "execute_result"
    }
   ],
   "source": [
    "y_test"
   ]
  },
  {
   "cell_type": "code",
   "execution_count": 36,
   "id": "3b6621b7-c0f3-46dd-885f-41bcb808a339",
   "metadata": {},
   "outputs": [
    {
     "data": {
      "text/plain": [
       "[0.06993006993006994,\n",
       " 0.07692307692307693,\n",
       " 0.06993006993006994,\n",
       " 0.055944055944055944,\n",
       " 0.03496503496503497,\n",
       " 0.04895104895104895,\n",
       " 0.04195804195804196,\n",
       " 0.04195804195804196,\n",
       " 0.04195804195804196,\n",
       " 0.027972027972027972,\n",
       " 0.02097902097902098,\n",
       " 0.02097902097902098,\n",
       " 0.027972027972027972,\n",
       " 0.027972027972027972,\n",
       " 0.03496503496503497,\n",
       " 0.03496503496503497,\n",
       " 0.03496503496503497,\n",
       " 0.027972027972027972,\n",
       " 0.03496503496503497,\n",
       " 0.03496503496503497,\n",
       " 0.03496503496503497,\n",
       " 0.03496503496503497,\n",
       " 0.03496503496503497,\n",
       " 0.03496503496503497,\n",
       " 0.04895104895104895,\n",
       " 0.04895104895104895,\n",
       " 0.04895104895104895,\n",
       " 0.04895104895104895,\n",
       " 0.04895104895104895,\n",
       " 0.04895104895104895,\n",
       " 0.04895104895104895,\n",
       " 0.04895104895104895,\n",
       " 0.055944055944055944,\n",
       " 0.055944055944055944,\n",
       " 0.055944055944055944,\n",
       " 0.055944055944055944,\n",
       " 0.055944055944055944,\n",
       " 0.04895104895104895,\n",
       " 0.04895104895104895]"
      ]
     },
     "execution_count": 36,
     "metadata": {},
     "output_type": "execute_result"
    }
   ],
   "source": [
    "error_rate"
   ]
  },
  {
   "cell_type": "code",
   "execution_count": 37,
   "id": "f528ca55-bdec-4be3-be10-ecc192847f38",
   "metadata": {},
   "outputs": [
    {
     "data": {
      "text/plain": [
       "Text(0, 0.5, 'Error Rate')"
      ]
     },
     "execution_count": 37,
     "metadata": {},
     "output_type": "execute_result"
    },
    {
     "data": {
      "image/png": "[encoded data removed]",
      "text/plain": [
       "<Figure size 1000x600 with 1 Axes>"
      ]
     },
     "metadata": {},
     "output_type": "display_data"
    }
   ],
   "source": [
    "plt.figure(figsize=(10,6))\n",
    "plt.plot(range(1,40),error_rate,color='blue', linestyle='dashed', marker='o',\n",
    "         markerfacecolor='red', markersize=10)\n",
    "plt.title('Error Rate vs. K Value')\n",
    "plt.xlabel('K')\n",
    "plt.ylabel('Error Rate')"
   ]
  },
  {
   "cell_type": "code",
   "execution_count": 39,
   "id": "8a035752-8fd4-4255-8614-8b1aa09783af",
   "metadata": {},
   "outputs": [],
   "source": [
    "knn = KNeighborsClassifier(n_neighbors=11)\n",
    "\n",
    "knn.fit(X_train, y_train)\n",
    "\n",
    "y_pred = knn.predict(X_test)"
   ]
  },
  {
   "cell_type": "code",
   "execution_count": 40,
   "id": "dcf48f6c-9641-4dda-a354-2944660c288b",
   "metadata": {},
   "outputs": [
    {
     "data": {
      "text/plain": [
       "0.9342723004694836"
      ]
     },
     "execution_count": 40,
     "metadata": {},
     "output_type": "execute_result"
    }
   ],
   "source": [
    "knn.score(X_train, y_train)"
   ]
  },
  {
   "cell_type": "code",
   "execution_count": 41,
   "id": "1302855a-8213-4593-91fb-57b934e7f18d",
   "metadata": {},
   "outputs": [
    {
     "data": {
      "text/plain": [
       "0.9790209790209791"
      ]
     },
     "execution_count": 41,
     "metadata": {},
     "output_type": "execute_result"
    }
   ],
   "source": [
    "knn.score(X_test, y_test)"
   ]
  },
  {
   "cell_type": "code",
   "execution_count": null,
   "id": "f864293e-7ac8-4f67-8e3b-6d147bb2bc14",
   "metadata": {},
   "outputs": [],
   "source": []
  }
 ],
 "metadata": {
  "kernelspec": {
   "display_name": "Python 3 (ipykernel)",
   "language": "python",
   "name": "python3"
  },
  "language_info": {
   "codemirror_mode": {
    "name": "ipython",
    "version": 3
   },
   "file_extension": ".py",
   "mimetype": "text/x-python",
   "name": "python",
   "nbconvert_exporter": "python",
   "pygments_lexer": "ipython3",
   "version": "3.11.5"
  }
 },
 "nbformat": 4,
 "nbformat_minor": 5
}
