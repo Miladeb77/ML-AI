{
 "cells": [
  {
   "cell_type": "code",
   "execution_count": 5,
   "id": "4fe90066-305f-4e0f-806c-4d512b21da47",
   "metadata": {},
   "outputs": [
    {
     "ename": "ImportError",
     "evalue": "cannot import name 'GeneticSelectionCV' from 'mlxtend.feature_selection' (/Applications/anaconda3/lib/python3.11/site-packages/mlxtend/feature_selection/__init__.py)",
     "output_type": "error",
     "traceback": [
      "\u001b[0;31m---------------------------------------------------------------------------\u001b[0m",
      "\u001b[0;31mImportError\u001b[0m                               Traceback (most recent call last)",
      "Cell \u001b[0;32mIn[5], line 15\u001b[0m\n\u001b[1;32m     13\u001b[0m \u001b[38;5;28;01mfrom\u001b[39;00m \u001b[38;5;21;01mtensorflow\u001b[39;00m\u001b[38;5;21;01m.\u001b[39;00m\u001b[38;5;21;01mkeras\u001b[39;00m\u001b[38;5;21;01m.\u001b[39;00m\u001b[38;5;21;01mregularizers\u001b[39;00m \u001b[38;5;28;01mimport\u001b[39;00m l2\n\u001b[1;32m     14\u001b[0m \u001b[38;5;28;01mfrom\u001b[39;00m \u001b[38;5;21;01msklearn\u001b[39;00m\u001b[38;5;21;01m.\u001b[39;00m\u001b[38;5;21;01mmetrics\u001b[39;00m \u001b[38;5;28;01mimport\u001b[39;00m roc_auc_score, f1_score\n\u001b[0;32m---> 15\u001b[0m \u001b[38;5;28;01mfrom\u001b[39;00m \u001b[38;5;21;01mmlxtend\u001b[39;00m\u001b[38;5;21;01m.\u001b[39;00m\u001b[38;5;21;01mfeature_selection\u001b[39;00m \u001b[38;5;28;01mimport\u001b[39;00m GeneticSelectionCV\n",
      "\u001b[0;31mImportError\u001b[0m: cannot import name 'GeneticSelectionCV' from 'mlxtend.feature_selection' (/Applications/anaconda3/lib/python3.11/site-packages/mlxtend/feature_selection/__init__.py)"
     ]
    }
   ],
   "source": [
    "import tensorflow as tf \n",
    "from tensorflow import keras \n",
    "import matplotlib.pyplot as plt \n",
    "import numpy as np \n",
    "from keras.datasets import cifar10\n",
    "from sklearn.model_selection import train_test_split\n",
    "from keras.utils import to_categorical \n",
    "import keras_tuner as kt\n",
    "from tensorflow.keras import layers \n",
    "import datetime\n",
    "from tensorflow.keras.models import Sequential\n",
    "from tensorflow.keras.layers import Dense, Dropout\n",
    "from tensorflow.keras.regularizers import l2\n",
    "from sklearn.metrics import roc_auc_score, f1_score\n",
    "from mlxtend.feature_selection import GeneticSelectionCV"
   ]
  },
  {
   "cell_type": "markdown",
   "id": "0fd41ea9-3741-43b9-963a-932144f3f1f8",
   "metadata": {},
   "source": [
    "## Importing the dataset"
   ]
  },
  {
   "cell_type": "code",
   "execution_count": 2,
   "id": "46f44ef7-56a2-44af-9d9c-b1850e44eab4",
   "metadata": {},
   "outputs": [],
   "source": [
    "(X_train, y_train), (X_test, y_test) = cifar10.load_data()"
   ]
  },
  {
   "cell_type": "code",
   "execution_count": 3,
   "id": "03220adc-0bf1-41f6-acda-81452430b4ca",
   "metadata": {},
   "outputs": [
    {
     "data": {
      "text/plain": [
       "(50000, 32, 32, 3)"
      ]
     },
     "execution_count": 3,
     "metadata": {},
     "output_type": "execute_result"
    }
   ],
   "source": [
    "X_train.shape "
   ]
  },
  {
   "cell_type": "markdown",
   "id": "8a8be093-a770-4527-96b7-f34231f54ac5",
   "metadata": {},
   "source": [
    "- `50000`: the number of images in the training set.\n",
    "- `32`: the height of each image.\n",
    "- `32`: the width of each image.\n",
    "- `3`: the number of color channels in each image.\n",
    "\n",
    "The `3` represents the three color channels: Red, Green, and Blue (RGB). Each image in the CIFAR-10 dataset is a color image with these three channels."
   ]
  },
  {
   "cell_type": "code",
   "execution_count": 4,
   "id": "9e155ae6-9252-4824-8af2-47f83ae57a94",
   "metadata": {},
   "outputs": [
    {
     "data": {
      "text/plain": [
       "(50000, 1)"
      ]
     },
     "execution_count": 4,
     "metadata": {},
     "output_type": "execute_result"
    }
   ],
   "source": [
    "y_train.shape"
   ]
  },
  {
   "cell_type": "code",
   "execution_count": 5,
   "id": "84f57e7a-83d3-44b4-bb21-0d015a6c7a5a",
   "metadata": {},
   "outputs": [
    {
     "data": {
      "text/plain": [
       "(10000, 32, 32, 3)"
      ]
     },
     "execution_count": 5,
     "metadata": {},
     "output_type": "execute_result"
    }
   ],
   "source": [
    "X_test.shape"
   ]
  },
  {
   "cell_type": "code",
   "execution_count": 6,
   "id": "a66a9dce-9a6d-41fc-b310-8acd87f1d259",
   "metadata": {},
   "outputs": [
    {
     "data": {
      "text/plain": [
       "(10000, 1)"
      ]
     },
     "execution_count": 6,
     "metadata": {},
     "output_type": "execute_result"
    }
   ],
   "source": [
    "y_test.shape "
   ]
  },
  {
   "cell_type": "code",
   "execution_count": 7,
   "id": "c47369c2-f452-4074-9909-5a3d14cc2f61",
   "metadata": {},
   "outputs": [
    {
     "data": {
      "text/plain": [
       "array([[[ 59,  62,  63],\n",
       "        [ 43,  46,  45],\n",
       "        [ 50,  48,  43],\n",
       "        ...,\n",
       "        [158, 132, 108],\n",
       "        [152, 125, 102],\n",
       "        [148, 124, 103]],\n",
       "\n",
       "       [[ 16,  20,  20],\n",
       "        [  0,   0,   0],\n",
       "        [ 18,   8,   0],\n",
       "        ...,\n",
       "        [123,  88,  55],\n",
       "        [119,  83,  50],\n",
       "        [122,  87,  57]],\n",
       "\n",
       "       [[ 25,  24,  21],\n",
       "        [ 16,   7,   0],\n",
       "        [ 49,  27,   8],\n",
       "        ...,\n",
       "        [118,  84,  50],\n",
       "        [120,  84,  50],\n",
       "        [109,  73,  42]],\n",
       "\n",
       "       ...,\n",
       "\n",
       "       [[208, 170,  96],\n",
       "        [201, 153,  34],\n",
       "        [198, 161,  26],\n",
       "        ...,\n",
       "        [160, 133,  70],\n",
       "        [ 56,  31,   7],\n",
       "        [ 53,  34,  20]],\n",
       "\n",
       "       [[180, 139,  96],\n",
       "        [173, 123,  42],\n",
       "        [186, 144,  30],\n",
       "        ...,\n",
       "        [184, 148,  94],\n",
       "        [ 97,  62,  34],\n",
       "        [ 83,  53,  34]],\n",
       "\n",
       "       [[177, 144, 116],\n",
       "        [168, 129,  94],\n",
       "        [179, 142,  87],\n",
       "        ...,\n",
       "        [216, 184, 140],\n",
       "        [151, 118,  84],\n",
       "        [123,  92,  72]]], dtype=uint8)"
      ]
     },
     "execution_count": 7,
     "metadata": {},
     "output_type": "execute_result"
    }
   ],
   "source": [
    "X_train[0]"
   ]
  },
  {
   "cell_type": "code",
   "execution_count": 8,
   "id": "6532fc89-d9fd-4012-9c2c-2a79ae7c4410",
   "metadata": {},
   "outputs": [
    {
     "data": {
      "text/plain": [
       "array([6], dtype=uint8)"
      ]
     },
     "execution_count": 8,
     "metadata": {},
     "output_type": "execute_result"
    }
   ],
   "source": [
    "y_train[0]"
   ]
  },
  {
   "cell_type": "code",
   "execution_count": 9,
   "id": "9077d5b9-6f30-4229-bdce-0de188b942b8",
   "metadata": {},
   "outputs": [
    {
     "data": {
      "text/plain": [
       "<matplotlib.image.AxesImage at 0x29085b350>"
      ]
     },
     "execution_count": 9,
     "metadata": {},
     "output_type": "execute_result"
    },
    {
     "data": {
      "image/png": "[encoded data removed]",
      "text/plain": [
       "<Figure size 640x480 with 1 Axes>"
      ]
     },
     "metadata": {},
     "output_type": "display_data"
    }
   ],
   "source": [
    "plt.imshow(X_train[2,])"
   ]
  },
  {
   "cell_type": "code",
   "execution_count": 10,
   "id": "6f541942-ed26-4a3f-a0cc-75984aa9ea23",
   "metadata": {},
   "outputs": [
    {
     "data": {
      "text/plain": [
       "<matplotlib.image.AxesImage at 0x29dd3cdd0>"
      ]
     },
     "execution_count": 10,
     "metadata": {},
     "output_type": "execute_result"
    },
    {
     "data": {
      "image/png": "[encoded data removed]",
      "text/plain": [
       "<Figure size 640x480 with 1 Axes>"
      ]
     },
     "metadata": {},
     "output_type": "display_data"
    }
   ],
   "source": [
    "plt.imshow(X_train[56,])"
   ]
  },
  {
   "cell_type": "code",
   "execution_count": 11,
   "id": "4a323f30-8975-4bda-9bcd-b5c224a3b2f6",
   "metadata": {},
   "outputs": [
    {
     "data": {
      "text/plain": [
       "<matplotlib.image.AxesImage at 0x29dda7350>"
      ]
     },
     "execution_count": 11,
     "metadata": {},
     "output_type": "execute_result"
    },
    {
     "data": {
      "image/png": "[encoded data removed]",
      "text/plain": [
       "<Figure size 640x480 with 1 Axes>"
      ]
     },
     "metadata": {},
     "output_type": "display_data"
    }
   ],
   "source": [
    "plt.imshow(X_train[922,])"
   ]
  },
  {
   "cell_type": "markdown",
   "id": "ca1bcc65-a67a-4bc9-8d30-3f8771698d82",
   "metadata": {},
   "source": [
    "## Data Normalisation"
   ]
  },
  {
   "cell_type": "code",
   "execution_count": 12,
   "id": "8b891a1f-ae3c-40f7-8db5-96969949e4eb",
   "metadata": {},
   "outputs": [],
   "source": [
    "max_value = X_train.max()"
   ]
  },
  {
   "cell_type": "code",
   "execution_count": 13,
   "id": "4155b927-aad2-430e-b770-1bd3ad5a4b30",
   "metadata": {},
   "outputs": [
    {
     "data": {
      "text/plain": [
       "255"
      ]
     },
     "execution_count": 13,
     "metadata": {},
     "output_type": "execute_result"
    }
   ],
   "source": [
    "max_value"
   ]
  },
  {
   "cell_type": "code",
   "execution_count": 14,
   "id": "bf58794d-a7d8-4984-9fa7-5c952a0fa38c",
   "metadata": {},
   "outputs": [],
   "source": [
    "X_train, X_test= X_train/max_value, X_test/max_value"
   ]
  },
  {
   "cell_type": "code",
   "execution_count": 15,
   "id": "fd0e47f7-f3b5-45d2-bc70-a747f698624b",
   "metadata": {},
   "outputs": [
    {
     "data": {
      "text/plain": [
       "array([[[0.60392157, 0.69411765, 0.73333333],\n",
       "        [0.49411765, 0.5372549 , 0.53333333],\n",
       "        [0.41176471, 0.40784314, 0.37254902],\n",
       "        ...,\n",
       "        [0.35686275, 0.37254902, 0.27843137],\n",
       "        [0.34117647, 0.35294118, 0.27843137],\n",
       "        [0.30980392, 0.31764706, 0.2745098 ]],\n",
       "\n",
       "       [[0.54901961, 0.62745098, 0.6627451 ],\n",
       "        [0.56862745, 0.6       , 0.60392157],\n",
       "        [0.49019608, 0.49019608, 0.4627451 ],\n",
       "        ...,\n",
       "        [0.37647059, 0.38823529, 0.30588235],\n",
       "        [0.30196078, 0.31372549, 0.24313725],\n",
       "        [0.27843137, 0.28627451, 0.23921569]],\n",
       "\n",
       "       [[0.54901961, 0.60784314, 0.64313725],\n",
       "        [0.54509804, 0.57254902, 0.58431373],\n",
       "        [0.45098039, 0.45098039, 0.43921569],\n",
       "        ...,\n",
       "        [0.30980392, 0.32156863, 0.25098039],\n",
       "        [0.26666667, 0.2745098 , 0.21568627],\n",
       "        [0.2627451 , 0.27058824, 0.21568627]],\n",
       "\n",
       "       ...,\n",
       "\n",
       "       [[0.68627451, 0.65490196, 0.65098039],\n",
       "        [0.61176471, 0.60392157, 0.62745098],\n",
       "        [0.60392157, 0.62745098, 0.66666667],\n",
       "        ...,\n",
       "        [0.16470588, 0.13333333, 0.14117647],\n",
       "        [0.23921569, 0.20784314, 0.22352941],\n",
       "        [0.36470588, 0.3254902 , 0.35686275]],\n",
       "\n",
       "       [[0.64705882, 0.60392157, 0.50196078],\n",
       "        [0.61176471, 0.59607843, 0.50980392],\n",
       "        [0.62352941, 0.63137255, 0.55686275],\n",
       "        ...,\n",
       "        [0.40392157, 0.36470588, 0.37647059],\n",
       "        [0.48235294, 0.44705882, 0.47058824],\n",
       "        [0.51372549, 0.4745098 , 0.51372549]],\n",
       "\n",
       "       [[0.63921569, 0.58039216, 0.47058824],\n",
       "        [0.61960784, 0.58039216, 0.47843137],\n",
       "        [0.63921569, 0.61176471, 0.52156863],\n",
       "        ...,\n",
       "        [0.56078431, 0.52156863, 0.54509804],\n",
       "        [0.56078431, 0.5254902 , 0.55686275],\n",
       "        [0.56078431, 0.52156863, 0.56470588]]])"
      ]
     },
     "execution_count": 15,
     "metadata": {},
     "output_type": "execute_result"
    }
   ],
   "source": [
    "X_train[1]"
   ]
  },
  {
   "cell_type": "markdown",
   "id": "8f60f3c5-015d-4ad8-919c-4b9b0b931c61",
   "metadata": {},
   "source": [
    "plt.imshow(X_train[2,])"
   ]
  },
  {
   "cell_type": "markdown",
   "id": "a3588cfe-4414-476b-8412-d9d52fa135b9",
   "metadata": {},
   "source": [
    "## Train/val/Test split "
   ]
  },
  {
   "cell_type": "markdown",
   "id": "f5b27f59-c6be-4487-97a2-71134d113574",
   "metadata": {},
   "source": [
    "### merging the train and test together again "
   ]
  },
  {
   "cell_type": "code",
   "execution_count": 16,
   "id": "21c0f61b-6320-4af4-b54b-21a06bfb68c3",
   "metadata": {},
   "outputs": [],
   "source": [
    "X_all_normalised= np.concatenate((X_train,X_test), axis= 0)\n",
    "y_all_normalised= np.concatenate((y_train,y_test), axis=0) "
   ]
  },
  {
   "cell_type": "markdown",
   "id": "59bbe259-02e2-4741-9597-6ec4caae5b2d",
   "metadata": {},
   "source": [
    "### Splitting "
   ]
  },
  {
   "cell_type": "code",
   "execution_count": 17,
   "id": "ef8e43cf-d32d-455e-a7e6-8482185d463a",
   "metadata": {},
   "outputs": [],
   "source": [
    "test_ratio= 0.15\n",
    "train_ratio= 0.85\n",
    "val_ratio= 0.10"
   ]
  },
  {
   "cell_type": "markdown",
   "id": "3a7fbbda-621d-4f3f-ba00-0a3615e35b27",
   "metadata": {},
   "source": [
    "#### Train-val / Test split "
   ]
  },
  {
   "cell_type": "code",
   "execution_count": 18,
   "id": "02839bc5-eb1f-40f7-b73d-11723353c7a9",
   "metadata": {},
   "outputs": [],
   "source": [
    "X_train_val, X_test, y_train_val, y_test= train_test_split(X_all_normalised, y_all_normalised, test_size= test_ratio, random_state= 42)"
   ]
  },
  {
   "cell_type": "markdown",
   "id": "ec0cef16-84ef-4c6a-9cd4-e2f2a609398c",
   "metadata": {},
   "source": [
    "## Changing the integer encoded labels to one-hot"
   ]
  },
  {
   "cell_type": "code",
   "execution_count": 19,
   "id": "e326e61e-36df-4459-998d-ce0bfec7bd2a",
   "metadata": {},
   "outputs": [
    {
     "data": {
      "text/plain": [
       "array([[4],\n",
       "       [1],\n",
       "       [1],\n",
       "       [2]], dtype=uint8)"
      ]
     },
     "execution_count": 19,
     "metadata": {},
     "output_type": "execute_result"
    }
   ],
   "source": [
    "y_train[3:7]"
   ]
  },
  {
   "cell_type": "code",
   "execution_count": 20,
   "id": "963ea97e-c072-449c-94a4-6d7e1c38ea48",
   "metadata": {},
   "outputs": [
    {
     "data": {
      "text/plain": [
       "array([[5],\n",
       "       [2],\n",
       "       [1],\n",
       "       [5],\n",
       "       [5]], dtype=uint8)"
      ]
     },
     "execution_count": 20,
     "metadata": {},
     "output_type": "execute_result"
    }
   ],
   "source": [
    "y_test[23:28]"
   ]
  },
  {
   "cell_type": "code",
   "execution_count": 21,
   "id": "1a336acc-8e05-4524-839d-4663c7263961",
   "metadata": {},
   "outputs": [],
   "source": [
    "y_train_val_one_hot= to_categorical(y_train_val) \n",
    "y_test_one_hot= to_categorical(y_test)"
   ]
  },
  {
   "cell_type": "code",
   "execution_count": 22,
   "id": "cc685ce9-1905-446a-be76-9f10f4f16f29",
   "metadata": {},
   "outputs": [
    {
     "data": {
      "text/plain": [
       "array([[0., 1., 0., 0., 0., 0., 0., 0., 0., 0.],\n",
       "       [0., 0., 0., 0., 0., 0., 0., 1., 0., 0.],\n",
       "       [0., 0., 0., 0., 0., 0., 0., 1., 0., 0.],\n",
       "       [0., 0., 0., 0., 1., 0., 0., 0., 0., 0.]], dtype=float32)"
      ]
     },
     "execution_count": 22,
     "metadata": {},
     "output_type": "execute_result"
    }
   ],
   "source": [
    "y_train_val_one_hot[3:7]"
   ]
  },
  {
   "cell_type": "code",
   "execution_count": 23,
   "id": "2f4dda80-4e09-4597-8a3b-e6f766ae1bec",
   "metadata": {},
   "outputs": [
    {
     "data": {
      "text/plain": [
       "array([[0., 0., 0., 0., 0., 1., 0., 0., 0., 0.],\n",
       "       [0., 0., 1., 0., 0., 0., 0., 0., 0., 0.],\n",
       "       [0., 1., 0., 0., 0., 0., 0., 0., 0., 0.],\n",
       "       [0., 0., 0., 0., 0., 1., 0., 0., 0., 0.],\n",
       "       [0., 0., 0., 0., 0., 1., 0., 0., 0., 0.]], dtype=float32)"
      ]
     },
     "execution_count": 23,
     "metadata": {},
     "output_type": "execute_result"
    }
   ],
   "source": [
    "y_test_one_hot[23:28]"
   ]
  },
  {
   "cell_type": "markdown",
   "id": "36da8285-1e64-45dd-a198-6a5c15342f13",
   "metadata": {},
   "source": [
    "## Creating the MLP "
   ]
  },
  {
   "cell_type": "code",
   "execution_count": 24,
   "id": "338e8702-b343-4e68-8085-ca2e6341d1b7",
   "metadata": {},
   "outputs": [],
   "source": [
    "model= keras.models.Sequential()\n",
    "model.add(keras.layers.Flatten(input_shape= [32,32,3]))\n",
    "model.add(keras.layers.Dense(50, activation= \"relu\"))\n",
    "model.add(keras.layers.Dense(50, activation= \"relu\"))\n",
    "model.add(keras.layers.Dense(50, activation= \"relu\"))\n",
    "model.add(keras.layers.Dense(50, activation= \"relu\"))\n",
    "model.add(keras.layers.Dense(10, activation= \"softmax\"))"
   ]
  },
  {
   "cell_type": "code",
   "execution_count": 25,
   "id": "d4a900b7-ae32-4f31-b205-31baea007ada",
   "metadata": {},
   "outputs": [
    {
     "name": "stdout",
     "output_type": "stream",
     "text": [
      "Model: \"sequential\"\n",
      "_________________________________________________________________\n",
      " Layer (type)                Output Shape              Param #   \n",
      "=================================================================\n",
      " flatten (Flatten)           (None, 3072)              0         \n",
      "                                                                 \n",
      " dense (Dense)               (None, 50)                153650    \n",
      "                                                                 \n",
      " dense_1 (Dense)             (None, 50)                2550      \n",
      "                                                                 \n",
      " dense_2 (Dense)             (None, 50)                2550      \n",
      "                                                                 \n",
      " dense_3 (Dense)             (None, 50)                2550      \n",
      "                                                                 \n",
      " dense_4 (Dense)             (None, 10)                510       \n",
      "                                                                 \n",
      "=================================================================\n",
      "Total params: 161,810\n",
      "Trainable params: 161,810\n",
      "Non-trainable params: 0\n",
      "_________________________________________________________________\n"
     ]
    }
   ],
   "source": [
    "model.summary()"
   ]
  },
  {
   "cell_type": "code",
   "execution_count": 26,
   "id": "122afa0f-81ef-4f9d-9d56-e2927d368a39",
   "metadata": {},
   "outputs": [
    {
     "data": {
      "text/plain": [
       "[<keras.layers.reshaping.flatten.Flatten at 0x290889c90>,\n",
       " <keras.layers.core.dense.Dense at 0x29ddfa590>,\n",
       " <keras.layers.core.dense.Dense at 0x29dda6b10>,\n",
       " <keras.layers.core.dense.Dense at 0x29de31e90>,\n",
       " <keras.layers.core.dense.Dense at 0x29ddba8d0>,\n",
       " <keras.layers.core.dense.Dense at 0x29de894d0>]"
      ]
     },
     "execution_count": 26,
     "metadata": {},
     "output_type": "execute_result"
    }
   ],
   "source": [
    "model.layers"
   ]
  },
  {
   "cell_type": "code",
   "execution_count": 27,
   "id": "06175fdd-53f4-4d4c-8cbb-c442f54d435a",
   "metadata": {},
   "outputs": [
    {
     "data": {
      "text/plain": [
       "[array([[-0.01356622, -0.03456558,  0.04240936, ...,  0.01140735,\n",
       "         -0.02727719,  0.03515492],\n",
       "        [ 0.03724816, -0.03305691, -0.04007837, ...,  0.00617778,\n",
       "         -0.02557129, -0.04307098],\n",
       "        [-0.02968056, -0.02109109,  0.02256069, ...,  0.0366772 ,\n",
       "          0.03990258,  0.02582692],\n",
       "        ...,\n",
       "        [-0.01607661,  0.01625716,  0.0093126 , ..., -0.04058156,\n",
       "         -0.01871639,  0.036685  ],\n",
       "        [-0.01255953, -0.03658399,  0.01016707, ...,  0.02527467,\n",
       "          0.00595434, -0.03162981],\n",
       "        [-0.03716097,  0.01082304, -0.00032911, ..., -0.01234769,\n",
       "         -0.02656094, -0.01346536]], dtype=float32),\n",
       " array([0., 0., 0., 0., 0., 0., 0., 0., 0., 0., 0., 0., 0., 0., 0., 0., 0.,\n",
       "        0., 0., 0., 0., 0., 0., 0., 0., 0., 0., 0., 0., 0., 0., 0., 0., 0.,\n",
       "        0., 0., 0., 0., 0., 0., 0., 0., 0., 0., 0., 0., 0., 0., 0., 0.],\n",
       "       dtype=float32)]"
      ]
     },
     "execution_count": 27,
     "metadata": {},
     "output_type": "execute_result"
    }
   ],
   "source": [
    "model.layers[1].get_weights()"
   ]
  },
  {
   "cell_type": "markdown",
   "id": "c22277b1-b652-4d4f-ad96-06f25fcb0431",
   "metadata": {},
   "source": [
    "## Model Compile "
   ]
  },
  {
   "cell_type": "code",
   "execution_count": 28,
   "id": "8403d6eb-1428-4062-b90a-bc2e6b3bd2b9",
   "metadata": {},
   "outputs": [],
   "source": [
    "model.compile(loss= \"categorical_crossentropy\",\n",
    "              optimizer= \"sgd\",\n",
    "              metrics= [\"accuracy\"])"
   ]
  },
  {
   "cell_type": "markdown",
   "id": "07f2d744-5f2a-4a98-8cb4-9c76bb146c38",
   "metadata": {},
   "source": [
    "## Fitting Model"
   ]
  },
  {
   "cell_type": "code",
   "execution_count": 29,
   "id": "6038836f-75bf-4a52-8d10-f2ba7b4b958b",
   "metadata": {},
   "outputs": [
    {
     "name": "stdout",
     "output_type": "stream",
     "text": [
      "Epoch 1/50\n",
      " 238/1355 [====>.........................] - ETA: 0s - loss: 2.2533 - accuracy: 0.1541"
     ]
    },
    {
     "name": "stderr",
     "output_type": "stream",
     "text": [
      "2024-07-04 19:47:47.740173: W tensorflow/tsl/platform/profile_utils/cpu_utils.cc:128] Failed to get CPU frequency: 0 Hz\n"
     ]
    },
    {
     "name": "stdout",
     "output_type": "stream",
     "text": [
      "1355/1355 [==============================] - 1s 517us/step - loss: 2.0335 - accuracy: 0.2523 - val_loss: 1.9351 - val_accuracy: 0.2805\n",
      "Epoch 2/50\n",
      "1355/1355 [==============================] - 1s 454us/step - loss: 1.8128 - accuracy: 0.3493 - val_loss: 1.7469 - val_accuracy: 0.3771\n",
      "Epoch 3/50\n",
      "1355/1355 [==============================] - 1s 453us/step - loss: 1.7224 - accuracy: 0.3842 - val_loss: 1.7034 - val_accuracy: 0.3868\n",
      "Epoch 4/50\n",
      "1355/1355 [==============================] - 1s 453us/step - loss: 1.6727 - accuracy: 0.4020 - val_loss: 1.7073 - val_accuracy: 0.3737\n",
      "Epoch 5/50\n",
      "1355/1355 [==============================] - 1s 455us/step - loss: 1.6314 - accuracy: 0.4154 - val_loss: 1.6555 - val_accuracy: 0.4056\n",
      "Epoch 6/50\n",
      "1355/1355 [==============================] - 1s 453us/step - loss: 1.5935 - accuracy: 0.4330 - val_loss: 1.6028 - val_accuracy: 0.4222\n",
      "Epoch 7/50\n",
      "1355/1355 [==============================] - 1s 459us/step - loss: 1.5698 - accuracy: 0.4391 - val_loss: 1.6495 - val_accuracy: 0.4101\n",
      "Epoch 8/50\n",
      "1355/1355 [==============================] - 1s 454us/step - loss: 1.5450 - accuracy: 0.4472 - val_loss: 1.6441 - val_accuracy: 0.4078\n",
      "Epoch 9/50\n",
      "1355/1355 [==============================] - 1s 457us/step - loss: 1.5255 - accuracy: 0.4532 - val_loss: 1.5471 - val_accuracy: 0.4434\n",
      "Epoch 10/50\n",
      "1355/1355 [==============================] - 1s 482us/step - loss: 1.5036 - accuracy: 0.4611 - val_loss: 1.5627 - val_accuracy: 0.4363\n",
      "Epoch 11/50\n",
      "1355/1355 [==============================] - 1s 456us/step - loss: 1.4911 - accuracy: 0.4676 - val_loss: 1.6487 - val_accuracy: 0.4131\n",
      "Epoch 12/50\n",
      "1355/1355 [==============================] - 1s 454us/step - loss: 1.4731 - accuracy: 0.4722 - val_loss: 1.5352 - val_accuracy: 0.4539\n",
      "Epoch 13/50\n",
      "1355/1355 [==============================] - 1s 455us/step - loss: 1.4580 - accuracy: 0.4785 - val_loss: 1.5413 - val_accuracy: 0.4464\n",
      "Epoch 14/50\n",
      "1355/1355 [==============================] - 1s 454us/step - loss: 1.4464 - accuracy: 0.4794 - val_loss: 1.5339 - val_accuracy: 0.4545\n",
      "Epoch 15/50\n",
      "1355/1355 [==============================] - 1s 456us/step - loss: 1.4320 - accuracy: 0.4869 - val_loss: 1.5201 - val_accuracy: 0.4605\n",
      "Epoch 16/50\n",
      "1355/1355 [==============================] - 1s 456us/step - loss: 1.4215 - accuracy: 0.4897 - val_loss: 1.5158 - val_accuracy: 0.4610\n",
      "Epoch 17/50\n",
      "1355/1355 [==============================] - 1s 458us/step - loss: 1.4095 - accuracy: 0.4962 - val_loss: 1.4926 - val_accuracy: 0.4705\n",
      "Epoch 18/50\n",
      "1355/1355 [==============================] - 1s 479us/step - loss: 1.3968 - accuracy: 0.4983 - val_loss: 1.4605 - val_accuracy: 0.4833\n",
      "Epoch 19/50\n",
      "1355/1355 [==============================] - 1s 454us/step - loss: 1.3880 - accuracy: 0.5028 - val_loss: 1.5033 - val_accuracy: 0.4617\n",
      "Epoch 20/50\n",
      "1355/1355 [==============================] - 1s 456us/step - loss: 1.3763 - accuracy: 0.5064 - val_loss: 1.5353 - val_accuracy: 0.4614\n",
      "Epoch 21/50\n",
      "1355/1355 [==============================] - 1s 474us/step - loss: 1.3684 - accuracy: 0.5088 - val_loss: 1.5107 - val_accuracy: 0.4633\n",
      "Epoch 22/50\n",
      "1355/1355 [==============================] - 1s 470us/step - loss: 1.3591 - accuracy: 0.5131 - val_loss: 1.5621 - val_accuracy: 0.4454\n",
      "Epoch 23/50\n",
      "1355/1355 [==============================] - 1s 458us/step - loss: 1.3509 - accuracy: 0.5153 - val_loss: 1.4536 - val_accuracy: 0.4818\n",
      "Epoch 24/50\n",
      "1355/1355 [==============================] - 1s 457us/step - loss: 1.3436 - accuracy: 0.5171 - val_loss: 1.5411 - val_accuracy: 0.4588\n",
      "Epoch 25/50\n",
      "1355/1355 [==============================] - 1s 464us/step - loss: 1.3348 - accuracy: 0.5217 - val_loss: 1.5529 - val_accuracy: 0.4556\n",
      "Epoch 26/50\n",
      "1355/1355 [==============================] - 1s 462us/step - loss: 1.3251 - accuracy: 0.5250 - val_loss: 1.4783 - val_accuracy: 0.4753\n",
      "Epoch 27/50\n",
      "1355/1355 [==============================] - 1s 459us/step - loss: 1.3190 - accuracy: 0.5273 - val_loss: 1.4552 - val_accuracy: 0.4844\n",
      "Epoch 28/50\n",
      "1355/1355 [==============================] - 1s 455us/step - loss: 1.3116 - accuracy: 0.5294 - val_loss: 1.5568 - val_accuracy: 0.4524\n",
      "Epoch 29/50\n",
      "1355/1355 [==============================] - 1s 462us/step - loss: 1.3047 - accuracy: 0.5322 - val_loss: 1.4377 - val_accuracy: 0.4916\n",
      "Epoch 30/50\n",
      "1355/1355 [==============================] - 1s 460us/step - loss: 1.2961 - accuracy: 0.5363 - val_loss: 1.4390 - val_accuracy: 0.4910\n",
      "Epoch 31/50\n",
      "1355/1355 [==============================] - 1s 458us/step - loss: 1.2904 - accuracy: 0.5415 - val_loss: 1.4544 - val_accuracy: 0.4898\n",
      "Epoch 32/50\n",
      "1355/1355 [==============================] - 1s 457us/step - loss: 1.2838 - accuracy: 0.5411 - val_loss: 1.6022 - val_accuracy: 0.4558\n",
      "Epoch 33/50\n",
      "1355/1355 [==============================] - 1s 464us/step - loss: 1.2743 - accuracy: 0.5419 - val_loss: 1.4365 - val_accuracy: 0.4901\n",
      "Epoch 34/50\n",
      "1355/1355 [==============================] - 1s 458us/step - loss: 1.2713 - accuracy: 0.5467 - val_loss: 1.4814 - val_accuracy: 0.4825\n",
      "Epoch 35/50\n",
      "1355/1355 [==============================] - 1s 468us/step - loss: 1.2647 - accuracy: 0.5474 - val_loss: 1.4399 - val_accuracy: 0.4946\n",
      "Epoch 36/50\n",
      "1355/1355 [==============================] - 1s 464us/step - loss: 1.2584 - accuracy: 0.5527 - val_loss: 1.4988 - val_accuracy: 0.4725\n",
      "Epoch 37/50\n",
      "1355/1355 [==============================] - 1s 466us/step - loss: 1.2520 - accuracy: 0.5514 - val_loss: 1.4582 - val_accuracy: 0.4890\n",
      "Epoch 38/50\n",
      "1355/1355 [==============================] - 1s 494us/step - loss: 1.2458 - accuracy: 0.5538 - val_loss: 1.4721 - val_accuracy: 0.4834\n",
      "Epoch 39/50\n",
      "1355/1355 [==============================] - 1s 488us/step - loss: 1.2414 - accuracy: 0.5556 - val_loss: 1.4728 - val_accuracy: 0.4865\n",
      "Epoch 40/50\n",
      "1355/1355 [==============================] - 1s 488us/step - loss: 1.2341 - accuracy: 0.5584 - val_loss: 1.4408 - val_accuracy: 0.4939\n",
      "Epoch 41/50\n",
      "1355/1355 [==============================] - 1s 463us/step - loss: 1.2288 - accuracy: 0.5585 - val_loss: 1.4544 - val_accuracy: 0.4929\n",
      "Epoch 42/50\n",
      "1355/1355 [==============================] - 1s 467us/step - loss: 1.2223 - accuracy: 0.5636 - val_loss: 1.4992 - val_accuracy: 0.4759\n",
      "Epoch 43/50\n",
      "1355/1355 [==============================] - 1s 490us/step - loss: 1.2154 - accuracy: 0.5633 - val_loss: 1.4770 - val_accuracy: 0.4919\n",
      "Epoch 44/50\n",
      "1355/1355 [==============================] - 1s 466us/step - loss: 1.2130 - accuracy: 0.5641 - val_loss: 1.5068 - val_accuracy: 0.4746\n",
      "Epoch 45/50\n",
      "1355/1355 [==============================] - 1s 492us/step - loss: 1.2083 - accuracy: 0.5664 - val_loss: 1.4601 - val_accuracy: 0.4899\n",
      "Epoch 46/50\n",
      "1355/1355 [==============================] - 1s 470us/step - loss: 1.2020 - accuracy: 0.5710 - val_loss: 1.5455 - val_accuracy: 0.4809\n",
      "Epoch 47/50\n",
      "1355/1355 [==============================] - 1s 487us/step - loss: 1.1981 - accuracy: 0.5700 - val_loss: 1.5053 - val_accuracy: 0.4809\n",
      "Epoch 48/50\n",
      "1355/1355 [==============================] - 1s 468us/step - loss: 1.1925 - accuracy: 0.5746 - val_loss: 1.4791 - val_accuracy: 0.4864\n",
      "Epoch 49/50\n",
      "1355/1355 [==============================] - 1s 470us/step - loss: 1.1860 - accuracy: 0.5759 - val_loss: 1.5712 - val_accuracy: 0.4658\n",
      "Epoch 50/50\n",
      "1355/1355 [==============================] - 1s 467us/step - loss: 1.1858 - accuracy: 0.5730 - val_loss: 1.4762 - val_accuracy: 0.4920\n"
     ]
    }
   ],
   "source": [
    "history= model.fit(X_train_val, y_train_val_one_hot, epochs= 50, validation_split= 0.15)"
   ]
  },
  {
   "cell_type": "code",
   "execution_count": 30,
   "id": "242457c8-e869-4bdf-bdd9-831914f1334d",
   "metadata": {},
   "outputs": [
    {
     "data": {
      "text/plain": [
       "{'verbose': 1, 'epochs': 50, 'steps': 1355}"
      ]
     },
     "execution_count": 30,
     "metadata": {},
     "output_type": "execute_result"
    }
   ],
   "source": [
    "history.params"
   ]
  },
  {
   "cell_type": "code",
   "execution_count": 31,
   "id": "50218f76-aff2-4da6-9d6d-0e342cb1e5c4",
   "metadata": {},
   "outputs": [
    {
     "data": {
      "text/plain": [
       "{'loss': [2.0334808826446533,\n",
       "  1.8128036260604858,\n",
       "  1.7223970890045166,\n",
       "  1.6726795434951782,\n",
       "  1.6313986778259277,\n",
       "  1.5934569835662842,\n",
       "  1.5698035955429077,\n",
       "  1.544983983039856,\n",
       "  1.525526762008667,\n",
       "  1.5035754442214966,\n",
       "  1.4911473989486694,\n",
       "  1.4730628728866577,\n",
       "  1.4580433368682861,\n",
       "  1.4463554620742798,\n",
       "  1.4319751262664795,\n",
       "  1.4214906692504883,\n",
       "  1.4095361232757568,\n",
       "  1.396775245666504,\n",
       "  1.3880475759506226,\n",
       "  1.3762754201889038,\n",
       "  1.368389368057251,\n",
       "  1.3591111898422241,\n",
       "  1.350879430770874,\n",
       "  1.343591332435608,\n",
       "  1.3348380327224731,\n",
       "  1.3251210451126099,\n",
       "  1.3190480470657349,\n",
       "  1.311576008796692,\n",
       "  1.304703950881958,\n",
       "  1.2960985898971558,\n",
       "  1.2904161214828491,\n",
       "  1.2837533950805664,\n",
       "  1.2742505073547363,\n",
       "  1.2713332176208496,\n",
       "  1.2647148370742798,\n",
       "  1.25835382938385,\n",
       "  1.2520452737808228,\n",
       "  1.2458285093307495,\n",
       "  1.2414294481277466,\n",
       "  1.2341238260269165,\n",
       "  1.2288224697113037,\n",
       "  1.2223057746887207,\n",
       "  1.2153633832931519,\n",
       "  1.2130457162857056,\n",
       "  1.2083169221878052,\n",
       "  1.2019679546356201,\n",
       "  1.1980581283569336,\n",
       "  1.1925301551818848,\n",
       "  1.1859593391418457,\n",
       "  1.185815453529358],\n",
       " 'accuracy': [0.2523414194583893,\n",
       "  0.34925028681755066,\n",
       "  0.38415226340293884,\n",
       "  0.40200692415237427,\n",
       "  0.41543251276016235,\n",
       "  0.43301036953926086,\n",
       "  0.439146488904953,\n",
       "  0.4472202956676483,\n",
       "  0.45319491624832153,\n",
       "  0.46108418703079224,\n",
       "  0.46763551235198975,\n",
       "  0.47220298647880554,\n",
       "  0.4785005748271942,\n",
       "  0.4793771505355835,\n",
       "  0.486897349357605,\n",
       "  0.4897116422653198,\n",
       "  0.49623990058898926,\n",
       "  0.4983160197734833,\n",
       "  0.5027681589126587,\n",
       "  0.506412923336029,\n",
       "  0.5087658762931824,\n",
       "  0.5131487846374512,\n",
       "  0.515340268611908,\n",
       "  0.5170934200286865,\n",
       "  0.5216609239578247,\n",
       "  0.5249596238136292,\n",
       "  0.5272895097732544,\n",
       "  0.5293887257575989,\n",
       "  0.5322260856628418,\n",
       "  0.5362860560417175,\n",
       "  0.5414994359016418,\n",
       "  0.5410841703414917,\n",
       "  0.5419377088546753,\n",
       "  0.5466897487640381,\n",
       "  0.5474048256874084,\n",
       "  0.552687406539917,\n",
       "  0.5513725280761719,\n",
       "  0.5538408160209656,\n",
       "  0.5555709600448608,\n",
       "  0.5583852529525757,\n",
       "  0.5584544539451599,\n",
       "  0.5636216998100281,\n",
       "  0.5632756352424622,\n",
       "  0.5641061067581177,\n",
       "  0.5664359927177429,\n",
       "  0.5710034370422363,\n",
       "  0.5699654221534729,\n",
       "  0.5746020674705505,\n",
       "  0.5758938789367676,\n",
       "  0.5730334520339966],\n",
       " 'val_loss': [1.9350816011428833,\n",
       "  1.7469005584716797,\n",
       "  1.7034372091293335,\n",
       "  1.70734703540802,\n",
       "  1.6555123329162598,\n",
       "  1.602825403213501,\n",
       "  1.6495064496994019,\n",
       "  1.6441315412521362,\n",
       "  1.547057032585144,\n",
       "  1.562697172164917,\n",
       "  1.6487382650375366,\n",
       "  1.535230040550232,\n",
       "  1.541320562362671,\n",
       "  1.5338801145553589,\n",
       "  1.5201129913330078,\n",
       "  1.5158432722091675,\n",
       "  1.4925594329833984,\n",
       "  1.460540771484375,\n",
       "  1.5032707452774048,\n",
       "  1.535338044166565,\n",
       "  1.5107392072677612,\n",
       "  1.562148094177246,\n",
       "  1.4535537958145142,\n",
       "  1.5411403179168701,\n",
       "  1.5529381036758423,\n",
       "  1.4783467054367065,\n",
       "  1.4552478790283203,\n",
       "  1.5568147897720337,\n",
       "  1.437699317932129,\n",
       "  1.4389607906341553,\n",
       "  1.4544023275375366,\n",
       "  1.6021533012390137,\n",
       "  1.4365264177322388,\n",
       "  1.4813754558563232,\n",
       "  1.4399473667144775,\n",
       "  1.498777985572815,\n",
       "  1.4582456350326538,\n",
       "  1.4721251726150513,\n",
       "  1.4728114604949951,\n",
       "  1.4408010244369507,\n",
       "  1.454351782798767,\n",
       "  1.4992239475250244,\n",
       "  1.476973533630371,\n",
       "  1.5067906379699707,\n",
       "  1.4600858688354492,\n",
       "  1.5454527139663696,\n",
       "  1.5052605867385864,\n",
       "  1.479133129119873,\n",
       "  1.5711705684661865,\n",
       "  1.476184606552124],\n",
       " 'val_accuracy': [0.280522882938385,\n",
       "  0.37712419033050537,\n",
       "  0.38679739832878113,\n",
       "  0.3737255036830902,\n",
       "  0.40562090277671814,\n",
       "  0.42222222685813904,\n",
       "  0.41006535291671753,\n",
       "  0.40784314274787903,\n",
       "  0.44339868426322937,\n",
       "  0.4363398551940918,\n",
       "  0.4130719006061554,\n",
       "  0.4538561999797821,\n",
       "  0.44640523195266724,\n",
       "  0.45450979471206665,\n",
       "  0.4605228900909424,\n",
       "  0.4610457420349121,\n",
       "  0.470457524061203,\n",
       "  0.48326796293258667,\n",
       "  0.46169933676719666,\n",
       "  0.4614379107952118,\n",
       "  0.463267982006073,\n",
       "  0.445359468460083,\n",
       "  0.48183006048202515,\n",
       "  0.4588235318660736,\n",
       "  0.4555555582046509,\n",
       "  0.4752941131591797,\n",
       "  0.48444443941116333,\n",
       "  0.4524182975292206,\n",
       "  0.49163398146629333,\n",
       "  0.4909803867340088,\n",
       "  0.48980391025543213,\n",
       "  0.45581698417663574,\n",
       "  0.4900653660297394,\n",
       "  0.4824836552143097,\n",
       "  0.4946405291557312,\n",
       "  0.4725490212440491,\n",
       "  0.48901960253715515,\n",
       "  0.4833987057209015,\n",
       "  0.4865359365940094,\n",
       "  0.4938562214374542,\n",
       "  0.4929411709308624,\n",
       "  0.47594770789146423,\n",
       "  0.4918954372406006,\n",
       "  0.47464051842689514,\n",
       "  0.48993465304374695,\n",
       "  0.48091503977775574,\n",
       "  0.48091503977775574,\n",
       "  0.48640522360801697,\n",
       "  0.46575164794921875,\n",
       "  0.492026150226593]}"
      ]
     },
     "execution_count": 31,
     "metadata": {},
     "output_type": "execute_result"
    }
   ],
   "source": [
    "history.history"
   ]
  },
  {
   "cell_type": "markdown",
   "id": "9fcadbf6-fdb5-448f-bb92-97eb52cd1e89",
   "metadata": {},
   "source": [
    "## Plotting "
   ]
  },
  {
   "cell_type": "code",
   "execution_count": 32,
   "id": "5c1fb9d8-c3ab-4d15-9335-982569f67097",
   "metadata": {
    "scrolled": true
   },
   "outputs": [
    {
     "data": {
      "text/plain": [
       "<matplotlib.legend.Legend at 0x29f5dd4d0>"
      ]
     },
     "execution_count": 32,
     "metadata": {},
     "output_type": "execute_result"
    },
    {
     "data": {
      "image/png": "[encoded data removed]",
      "text/plain": [
       "<Figure size 1200x500 with 1 Axes>"
      ]
     },
     "metadata": {},
     "output_type": "display_data"
    }
   ],
   "source": [
    "fig,ax= plt.subplots(figsize= (12,5))\n",
    "ax.plot(history.history[\"loss\"], label= \"train loss\")\n",
    "ax.plot(history.history[\"accuracy\"], label= \"train accuracy\")\n",
    "ax.plot(history.history[\"val_loss\"], label= \"validation loss\")\n",
    "ax.plot(history.history[\"val_accuracy\"], label= \"validation accuracy\")\n",
    "ax.legend()"
   ]
  },
  {
   "cell_type": "markdown",
   "id": "94c1d16b-1026-46cd-a1ac-5d5f33b2f354",
   "metadata": {},
   "source": [
    "# Hyperparameter tuning using Keras_Tuner "
   ]
  },
  {
   "cell_type": "markdown",
   "id": "893ee73b-0ae7-44c7-90d7-e8e01f4852d0",
   "metadata": {},
   "source": [
    "Write a function that creates and returns a Keras model. Use the hp argument to define the hyperparameters during model creation:"
   ]
  },
  {
   "cell_type": "code",
   "execution_count": 33,
   "id": "c6440fe3-638a-40f9-9d16-84c6daab5c21",
   "metadata": {},
   "outputs": [],
   "source": [
    "def build_model(hp):\n",
    "\n",
    "    model= keras.Sequential()\n",
    "    model.add(layers.Flatten(input_shape= [32,32,3]))\n",
    "\n",
    "    # Tuning the number of hidden layers:\n",
    "    num_layers= hp.Int('num_layers', min_value= 1, max_value= 5)\n",
    "\n",
    "    # Tuning the num of units in each layer:\n",
    "    for i in range(num_layers):\n",
    "        units= hp.Int(f'units_{i}', min_value= 100, max_value= 200, step= 32)\n",
    "        model.add(layers.Dense(units=units, activation= 'relu'))\n",
    "\n",
    "    # Output layer:\n",
    "    model.add(layers.Dense(10, activation= 'softmax'))\n",
    "\n",
    "    # Tuning the learning rate for the optimizer:\n",
    "    learning_rate= hp.Choice('learning_rate', values= [1e-2, 1e-3, 1e-4])\n",
    "\n",
    "    # Compiling the model:\n",
    "    model.compile(optimizer= keras.optimizers.Adam(learning_rate= learning_rate),\n",
    "                  loss= 'categorical_crossentropy',\n",
    "                  metrics= ['accuracy'])\n",
    "\n",
    "    return model "
   ]
  },
  {
   "cell_type": "markdown",
   "id": "148a10b5-1208-4013-bf9d-3c117113e728",
   "metadata": {},
   "source": [
    "### Creating the tuner "
   ]
  },
  {
   "cell_type": "code",
   "execution_count": 34,
   "id": "b72b6130-256d-42c2-b83c-ec6d62bbcc34",
   "metadata": {},
   "outputs": [
    {
     "name": "stdout",
     "output_type": "stream",
     "text": [
      "Reloading Tuner from my_dir/cifar10_tuning/tuner0.json\n"
     ]
    }
   ],
   "source": [
    "tuner= kt.RandomSearch(\n",
    "    build_model,\n",
    "    objective= 'val_accuracy',\n",
    "    max_trials= 10,\n",
    "    executions_per_trial=2,\n",
    "    directory= 'my_dir',\n",
    "    project_name= 'cifar10_tuning'\n",
    ")"
   ]
  },
  {
   "cell_type": "markdown",
   "id": "1afb3fff-0362-4a3a-9eb3-4d5ad2eda14e",
   "metadata": {},
   "source": [
    "### Running the Tuner"
   ]
  },
  {
   "cell_type": "code",
   "execution_count": 39,
   "id": "11c4d582-2056-4ef9-b5cc-64f465553e28",
   "metadata": {},
   "outputs": [],
   "source": [
    "tuner.search(X_train_val, y_train_val_one_hot, epochs= 10, validation_split= 0.15)"
   ]
  },
  {
   "cell_type": "markdown",
   "id": "9c3125ed-af3c-4fd5-b69f-45fd7df77b54",
   "metadata": {},
   "source": [
    "## Retrieve and evaluate the best model"
   ]
  },
  {
   "cell_type": "code",
   "execution_count": 40,
   "id": "41736a34-88f3-4081-9aa4-287717176378",
   "metadata": {},
   "outputs": [
    {
     "data": {
      "text/plain": [
       "<keras_tuner.src.engine.hyperparameters.hyperparameters.HyperParameters at 0x29f01c150>"
      ]
     },
     "execution_count": 40,
     "metadata": {},
     "output_type": "execute_result"
    }
   ],
   "source": [
    "# Retrieve the best hyperparameters\n",
    "best_hps = tuner.get_best_hyperparameters()[0]\n",
    "best_hps"
   ]
  },
  {
   "cell_type": "markdown",
   "id": "e3ca1e8e-b2ed-4fcd-85fb-77e6419d4b27",
   "metadata": {},
   "source": [
    "#### Build the model with the optimal hyperparameters"
   ]
  },
  {
   "cell_type": "code",
   "execution_count": 41,
   "id": "32706fbc-05a4-466d-bf3f-58c1fc68aab9",
   "metadata": {},
   "outputs": [
    {
     "name": "stderr",
     "output_type": "stream",
     "text": [
      "WARNING:absl:At this time, the v2.11+ optimizer `tf.keras.optimizers.Adam` runs slowly on M1/M2 Macs, please use the legacy Keras optimizer instead, located at `tf.keras.optimizers.legacy.Adam`.\n",
      "WARNING:absl:There is a known slowdown when using v2.11+ Keras optimizers on M1/M2 Macs. Falling back to the legacy Keras optimizer, i.e., `tf.keras.optimizers.legacy.Adam`.\n"
     ]
    }
   ],
   "source": [
    "model= tuner.hypermodel.build(best_hps)"
   ]
  },
  {
   "cell_type": "code",
   "execution_count": 42,
   "id": "43228511-a2fc-412d-956e-d07b4f11e6b6",
   "metadata": {},
   "outputs": [
    {
     "data": {
      "text/plain": [
       "<keras.engine.sequential.Sequential at 0x29f0036d0>"
      ]
     },
     "execution_count": 42,
     "metadata": {},
     "output_type": "execute_result"
    }
   ],
   "source": [
    "model"
   ]
  },
  {
   "cell_type": "markdown",
   "id": "e4b32314-34a2-4146-9ea6-0c0728990231",
   "metadata": {},
   "source": [
    "### Train the model"
   ]
  },
  {
   "cell_type": "code",
   "execution_count": 43,
   "id": "d63fcffe-776f-48f8-a1b1-4231feea12e2",
   "metadata": {},
   "outputs": [
    {
     "name": "stdout",
     "output_type": "stream",
     "text": [
      "Epoch 1/50\n",
      "1355/1355 [==============================] - 2s 1ms/step - loss: 1.8929 - accuracy: 0.3147 - val_loss: 1.7595 - val_accuracy: 0.3684\n",
      "Epoch 2/50\n",
      "1355/1355 [==============================] - 1s 1ms/step - loss: 1.6944 - accuracy: 0.3917 - val_loss: 1.6701 - val_accuracy: 0.3940\n",
      "Epoch 3/50\n",
      "1355/1355 [==============================] - 1s 1ms/step - loss: 1.6119 - accuracy: 0.4260 - val_loss: 1.6032 - val_accuracy: 0.4227\n",
      "Epoch 4/50\n",
      "1355/1355 [==============================] - 1s 1ms/step - loss: 1.5566 - accuracy: 0.4437 - val_loss: 1.5833 - val_accuracy: 0.4256\n",
      "Epoch 5/50\n",
      "1355/1355 [==============================] - 1s 1ms/step - loss: 1.5124 - accuracy: 0.4604 - val_loss: 1.5766 - val_accuracy: 0.4378\n",
      "Epoch 6/50\n",
      "1355/1355 [==============================] - 1s 1ms/step - loss: 1.4734 - accuracy: 0.4714 - val_loss: 1.5274 - val_accuracy: 0.4468\n",
      "Epoch 7/50\n",
      "1355/1355 [==============================] - 1s 1ms/step - loss: 1.4420 - accuracy: 0.4861 - val_loss: 1.5261 - val_accuracy: 0.4468\n",
      "Epoch 8/50\n",
      "1355/1355 [==============================] - 1s 1ms/step - loss: 1.4132 - accuracy: 0.4953 - val_loss: 1.5055 - val_accuracy: 0.4642\n",
      "Epoch 9/50\n",
      "1355/1355 [==============================] - 1s 1ms/step - loss: 1.3868 - accuracy: 0.5056 - val_loss: 1.4708 - val_accuracy: 0.4702\n",
      "Epoch 10/50\n",
      "1355/1355 [==============================] - 1s 1ms/step - loss: 1.3630 - accuracy: 0.5143 - val_loss: 1.4564 - val_accuracy: 0.4797\n",
      "Epoch 11/50\n",
      "1355/1355 [==============================] - 1s 1ms/step - loss: 1.3449 - accuracy: 0.5206 - val_loss: 1.4493 - val_accuracy: 0.4852\n",
      "Epoch 12/50\n",
      "1355/1355 [==============================] - 1s 1ms/step - loss: 1.3215 - accuracy: 0.5296 - val_loss: 1.4713 - val_accuracy: 0.4690\n",
      "Epoch 13/50\n",
      "1355/1355 [==============================] - 1s 1ms/step - loss: 1.3036 - accuracy: 0.5350 - val_loss: 1.4397 - val_accuracy: 0.4901\n",
      "Epoch 14/50\n",
      "1355/1355 [==============================] - 1s 1ms/step - loss: 1.2857 - accuracy: 0.5383 - val_loss: 1.4199 - val_accuracy: 0.4944\n",
      "Epoch 15/50\n",
      "1355/1355 [==============================] - 1s 1ms/step - loss: 1.2637 - accuracy: 0.5501 - val_loss: 1.4443 - val_accuracy: 0.4915\n",
      "Epoch 16/50\n",
      "1355/1355 [==============================] - 1s 1ms/step - loss: 1.2495 - accuracy: 0.5514 - val_loss: 1.4356 - val_accuracy: 0.4924\n",
      "Epoch 17/50\n",
      "1355/1355 [==============================] - 1s 1ms/step - loss: 1.2327 - accuracy: 0.5596 - val_loss: 1.4174 - val_accuracy: 0.5025\n",
      "Epoch 18/50\n",
      "1355/1355 [==============================] - 1s 1ms/step - loss: 1.2141 - accuracy: 0.5673 - val_loss: 1.4719 - val_accuracy: 0.4795\n",
      "Epoch 19/50\n",
      "1355/1355 [==============================] - 1s 1ms/step - loss: 1.2011 - accuracy: 0.5722 - val_loss: 1.4233 - val_accuracy: 0.4967\n",
      "Epoch 20/50\n",
      "1355/1355 [==============================] - 1s 1ms/step - loss: 1.1848 - accuracy: 0.5773 - val_loss: 1.3961 - val_accuracy: 0.5171\n",
      "Epoch 21/50\n",
      "1355/1355 [==============================] - 1s 1ms/step - loss: 1.1702 - accuracy: 0.5817 - val_loss: 1.3924 - val_accuracy: 0.5082\n",
      "Epoch 22/50\n",
      "1355/1355 [==============================] - 1s 1ms/step - loss: 1.1544 - accuracy: 0.5869 - val_loss: 1.3983 - val_accuracy: 0.5127\n",
      "Epoch 23/50\n",
      "1355/1355 [==============================] - 1s 1ms/step - loss: 1.1400 - accuracy: 0.5940 - val_loss: 1.4025 - val_accuracy: 0.5097\n",
      "Epoch 24/50\n",
      "1355/1355 [==============================] - 1s 1ms/step - loss: 1.1244 - accuracy: 0.5974 - val_loss: 1.4291 - val_accuracy: 0.5093\n",
      "Epoch 25/50\n",
      "1355/1355 [==============================] - 1s 1ms/step - loss: 1.1109 - accuracy: 0.6038 - val_loss: 1.4270 - val_accuracy: 0.5092\n",
      "Epoch 26/50\n",
      "1355/1355 [==============================] - 1s 1ms/step - loss: 1.0977 - accuracy: 0.6099 - val_loss: 1.3982 - val_accuracy: 0.5085\n",
      "Epoch 27/50\n",
      "1355/1355 [==============================] - 1s 1ms/step - loss: 1.0845 - accuracy: 0.6126 - val_loss: 1.4053 - val_accuracy: 0.5153\n",
      "Epoch 28/50\n",
      "1355/1355 [==============================] - 1s 1ms/step - loss: 1.0702 - accuracy: 0.6179 - val_loss: 1.4739 - val_accuracy: 0.5005\n",
      "Epoch 29/50\n",
      "1355/1355 [==============================] - 1s 1ms/step - loss: 1.0524 - accuracy: 0.6225 - val_loss: 1.4201 - val_accuracy: 0.5144\n",
      "Epoch 30/50\n",
      "1355/1355 [==============================] - 1s 1ms/step - loss: 1.0446 - accuracy: 0.6278 - val_loss: 1.4160 - val_accuracy: 0.5122\n",
      "Epoch 31/50\n",
      "1355/1355 [==============================] - 1s 1ms/step - loss: 1.0287 - accuracy: 0.6338 - val_loss: 1.4425 - val_accuracy: 0.5059\n",
      "Epoch 32/50\n",
      "1355/1355 [==============================] - 1s 1ms/step - loss: 1.0182 - accuracy: 0.6358 - val_loss: 1.4441 - val_accuracy: 0.5144\n",
      "Epoch 33/50\n",
      "1355/1355 [==============================] - 1s 1ms/step - loss: 1.0059 - accuracy: 0.6408 - val_loss: 1.4261 - val_accuracy: 0.5128\n",
      "Epoch 34/50\n",
      "1355/1355 [==============================] - 1s 1ms/step - loss: 0.9913 - accuracy: 0.6469 - val_loss: 1.4382 - val_accuracy: 0.5141\n",
      "Epoch 35/50\n",
      "1355/1355 [==============================] - 1s 1ms/step - loss: 0.9801 - accuracy: 0.6493 - val_loss: 1.4373 - val_accuracy: 0.5221\n",
      "Epoch 36/50\n",
      "1355/1355 [==============================] - 1s 1ms/step - loss: 0.9669 - accuracy: 0.6542 - val_loss: 1.4414 - val_accuracy: 0.5153\n",
      "Epoch 37/50\n",
      "1355/1355 [==============================] - 1s 1ms/step - loss: 0.9560 - accuracy: 0.6596 - val_loss: 1.4569 - val_accuracy: 0.5193\n",
      "Epoch 38/50\n",
      "1355/1355 [==============================] - 1s 1ms/step - loss: 0.9449 - accuracy: 0.6653 - val_loss: 1.5016 - val_accuracy: 0.5106\n",
      "Epoch 39/50\n",
      "1355/1355 [==============================] - 1s 1ms/step - loss: 0.9332 - accuracy: 0.6678 - val_loss: 1.4615 - val_accuracy: 0.5246\n",
      "Epoch 40/50\n",
      "1355/1355 [==============================] - 1s 1ms/step - loss: 0.9191 - accuracy: 0.6736 - val_loss: 1.4905 - val_accuracy: 0.5068\n",
      "Epoch 41/50\n",
      "1355/1355 [==============================] - 1s 1ms/step - loss: 0.9096 - accuracy: 0.6757 - val_loss: 1.4615 - val_accuracy: 0.5170\n",
      "Epoch 42/50\n",
      "1355/1355 [==============================] - 1s 1ms/step - loss: 0.8963 - accuracy: 0.6806 - val_loss: 1.4642 - val_accuracy: 0.5218\n",
      "Epoch 43/50\n",
      "1355/1355 [==============================] - 1s 1ms/step - loss: 0.8847 - accuracy: 0.6858 - val_loss: 1.4900 - val_accuracy: 0.5125\n",
      "Epoch 44/50\n",
      "1355/1355 [==============================] - 1s 1ms/step - loss: 0.8731 - accuracy: 0.6868 - val_loss: 1.4902 - val_accuracy: 0.5192\n",
      "Epoch 45/50\n",
      "1355/1355 [==============================] - 1s 1ms/step - loss: 0.8607 - accuracy: 0.6946 - val_loss: 1.5326 - val_accuracy: 0.5129\n",
      "Epoch 46/50\n",
      "1355/1355 [==============================] - 1s 1ms/step - loss: 0.8535 - accuracy: 0.6958 - val_loss: 1.5544 - val_accuracy: 0.5169\n",
      "Epoch 47/50\n",
      "1355/1355 [==============================] - 1s 1ms/step - loss: 0.8395 - accuracy: 0.7016 - val_loss: 1.5506 - val_accuracy: 0.5203\n",
      "Epoch 48/50\n",
      "1355/1355 [==============================] - 1s 1ms/step - loss: 0.8294 - accuracy: 0.7050 - val_loss: 1.5107 - val_accuracy: 0.5188\n",
      "Epoch 49/50\n",
      "1355/1355 [==============================] - 1s 1ms/step - loss: 0.8198 - accuracy: 0.7082 - val_loss: 1.5703 - val_accuracy: 0.5145\n",
      "Epoch 50/50\n",
      "1355/1355 [==============================] - 1s 1ms/step - loss: 0.8091 - accuracy: 0.7120 - val_loss: 1.5513 - val_accuracy: 0.5069\n"
     ]
    }
   ],
   "source": [
    "history= model.fit(X_train_val,y_train_val_one_hot, epochs= 50, validation_split= 0.15)"
   ]
  },
  {
   "cell_type": "markdown",
   "id": "68f4611a-85c7-4159-974e-caa073d6cfaf",
   "metadata": {},
   "source": [
    "### Evaluating the model on the test set "
   ]
  },
  {
   "cell_type": "code",
   "execution_count": 44,
   "id": "8b68d78d-dc9e-41b9-93f6-de24e121eab3",
   "metadata": {},
   "outputs": [
    {
     "name": "stdout",
     "output_type": "stream",
     "text": [
      "282/282 [==============================] - 0s 408us/step - loss: 1.5256 - accuracy: 0.5206\n",
      "Test accuracy: 0.5205555558204651\n"
     ]
    }
   ],
   "source": [
    "test_loss, test_accuracy= model.evaluate(X_test, y_test_one_hot)\n",
    "print(f\"Test accuracy: {test_accuracy}\")"
   ]
  },
  {
   "cell_type": "markdown",
   "id": "038e818f-e1da-423a-97b9-1d7636d19fe2",
   "metadata": {},
   "source": [
    "## Retreiving the best values of hyperparameters: "
   ]
  },
  {
   "cell_type": "code",
   "execution_count": 45,
   "id": "ad79d80f-f0eb-46ca-8c1e-7c7d5bc62e89",
   "metadata": {},
   "outputs": [
    {
     "name": "stdout",
     "output_type": "stream",
     "text": [
      "Best hyperparameters:\n",
      "num_layers: 5\n",
      "units_0: 132\n",
      "learning_rate: 0.0001\n",
      "units_1: 164\n",
      "units_2: 100\n",
      "units_3: 164\n",
      "units_4: 132\n"
     ]
    }
   ],
   "source": [
    "print(\"Best hyperparameters:\")\n",
    "for param, value in best_hps.values.items():\n",
    "    print(f\"{param}: {value}\")"
   ]
  },
  {
   "cell_type": "markdown",
   "id": "c12202e0-c16b-401c-b10a-e792eebaedbe",
   "metadata": {},
   "source": [
    "# Visualisation"
   ]
  },
  {
   "cell_type": "code",
   "execution_count": 46,
   "id": "48de99e9-91f6-463f-86b0-07df3ea8a942",
   "metadata": {},
   "outputs": [],
   "source": [
    "# Accessing the history: \n",
    "history_dict= history.history"
   ]
  },
  {
   "cell_type": "code",
   "execution_count": 47,
   "id": "f292cf13-0f0a-46ee-89fe-b9616d764a2d",
   "metadata": {},
   "outputs": [
    {
     "data": {
      "text/plain": [
       "{'loss': [1.8929020166397095,\n",
       "  1.6943645477294922,\n",
       "  1.611948013305664,\n",
       "  1.5565897226333618,\n",
       "  1.5124491453170776,\n",
       "  1.4733550548553467,\n",
       "  1.4420336484909058,\n",
       "  1.4132000207901,\n",
       "  1.3867874145507812,\n",
       "  1.362969994544983,\n",
       "  1.3448842763900757,\n",
       "  1.3215303421020508,\n",
       "  1.3035968542099,\n",
       "  1.285719871520996,\n",
       "  1.2637336254119873,\n",
       "  1.2495466470718384,\n",
       "  1.2327497005462646,\n",
       "  1.2141425609588623,\n",
       "  1.2010730504989624,\n",
       "  1.1848320960998535,\n",
       "  1.1702327728271484,\n",
       "  1.1543585062026978,\n",
       "  1.1400201320648193,\n",
       "  1.124419927597046,\n",
       "  1.1108633279800415,\n",
       "  1.0976746082305908,\n",
       "  1.0844818353652954,\n",
       "  1.0701885223388672,\n",
       "  1.052355408668518,\n",
       "  1.0445616245269775,\n",
       "  1.0287009477615356,\n",
       "  1.0182329416275024,\n",
       "  1.0058653354644775,\n",
       "  0.9912795424461365,\n",
       "  0.9800565838813782,\n",
       "  0.9668623208999634,\n",
       "  0.955984890460968,\n",
       "  0.9449229836463928,\n",
       "  0.933223307132721,\n",
       "  0.9191119074821472,\n",
       "  0.9096246957778931,\n",
       "  0.8962947130203247,\n",
       "  0.8846955299377441,\n",
       "  0.8731403350830078,\n",
       "  0.8607121109962463,\n",
       "  0.8534809947013855,\n",
       "  0.8394795060157776,\n",
       "  0.8294349312782288,\n",
       "  0.819777250289917,\n",
       "  0.8090837597846985],\n",
       " 'accuracy': [0.31467127799987793,\n",
       "  0.39167243242263794,\n",
       "  0.42597463726997375,\n",
       "  0.4437139630317688,\n",
       "  0.46039214730262756,\n",
       "  0.47141867876052856,\n",
       "  0.4860899746417999,\n",
       "  0.4953171908855438,\n",
       "  0.5055593848228455,\n",
       "  0.5142791271209717,\n",
       "  0.5206459164619446,\n",
       "  0.5295963287353516,\n",
       "  0.5349711775779724,\n",
       "  0.5382929444313049,\n",
       "  0.5501037836074829,\n",
       "  0.5514417290687561,\n",
       "  0.5596078634262085,\n",
       "  0.5672895312309265,\n",
       "  0.5722491145133972,\n",
       "  0.5772548913955688,\n",
       "  0.5817070603370667,\n",
       "  0.5868973731994629,\n",
       "  0.5940253734588623,\n",
       "  0.5973702669143677,\n",
       "  0.603783130645752,\n",
       "  0.6098731160163879,\n",
       "  0.6125720739364624,\n",
       "  0.6179238557815552,\n",
       "  0.6225144267082214,\n",
       "  0.6278431415557861,\n",
       "  0.6337715983390808,\n",
       "  0.6357554793357849,\n",
       "  0.6407612562179565,\n",
       "  0.6468973755836487,\n",
       "  0.6492964029312134,\n",
       "  0.6542329788208008,\n",
       "  0.6595616936683655,\n",
       "  0.6652826070785522,\n",
       "  0.667773962020874,\n",
       "  0.6735870838165283,\n",
       "  0.6756862998008728,\n",
       "  0.6806458830833435,\n",
       "  0.6858131289482117,\n",
       "  0.6868050694465637,\n",
       "  0.694555938243866,\n",
       "  0.6957785487174988,\n",
       "  0.701568603515625,\n",
       "  0.7050057649612427,\n",
       "  0.7082121968269348,\n",
       "  0.7119722962379456],\n",
       " 'val_loss': [1.7595447301864624,\n",
       "  1.670062780380249,\n",
       "  1.6032145023345947,\n",
       "  1.583282232284546,\n",
       "  1.576553463935852,\n",
       "  1.5273571014404297,\n",
       "  1.5260915756225586,\n",
       "  1.5054864883422852,\n",
       "  1.4708341360092163,\n",
       "  1.4563876390457153,\n",
       "  1.4493181705474854,\n",
       "  1.4713470935821533,\n",
       "  1.4397069215774536,\n",
       "  1.4198882579803467,\n",
       "  1.444306492805481,\n",
       "  1.435570478439331,\n",
       "  1.4174408912658691,\n",
       "  1.4718958139419556,\n",
       "  1.4232769012451172,\n",
       "  1.39607572555542,\n",
       "  1.3923856019973755,\n",
       "  1.398322343826294,\n",
       "  1.402482032775879,\n",
       "  1.4291141033172607,\n",
       "  1.4269585609436035,\n",
       "  1.3982212543487549,\n",
       "  1.4052643775939941,\n",
       "  1.473850965499878,\n",
       "  1.4200974702835083,\n",
       "  1.416028380393982,\n",
       "  1.4424692392349243,\n",
       "  1.4440892934799194,\n",
       "  1.4261279106140137,\n",
       "  1.4381908178329468,\n",
       "  1.4373023509979248,\n",
       "  1.4414358139038086,\n",
       "  1.4569193124771118,\n",
       "  1.501610279083252,\n",
       "  1.461473822593689,\n",
       "  1.490549087524414,\n",
       "  1.4615074396133423,\n",
       "  1.4641796350479126,\n",
       "  1.4900113344192505,\n",
       "  1.4901684522628784,\n",
       "  1.5325804948806763,\n",
       "  1.5544037818908691,\n",
       "  1.550553798675537,\n",
       "  1.5107368230819702,\n",
       "  1.5702643394470215,\n",
       "  1.551283359527588],\n",
       " 'val_accuracy': [0.368366003036499,\n",
       "  0.39398694038391113,\n",
       "  0.42274510860443115,\n",
       "  0.4256209135055542,\n",
       "  0.4377777874469757,\n",
       "  0.44679737091064453,\n",
       "  0.44679737091064453,\n",
       "  0.4641830027103424,\n",
       "  0.47019606828689575,\n",
       "  0.4797385632991791,\n",
       "  0.4852287471294403,\n",
       "  0.4690196216106415,\n",
       "  0.4900653660297394,\n",
       "  0.49437907338142395,\n",
       "  0.4915032684803009,\n",
       "  0.4924182891845703,\n",
       "  0.5024836659431458,\n",
       "  0.4794771373271942,\n",
       "  0.49673202633857727,\n",
       "  0.5171241760253906,\n",
       "  0.5082352757453918,\n",
       "  0.5126797556877136,\n",
       "  0.5096731781959534,\n",
       "  0.5092810392379761,\n",
       "  0.5091503262519836,\n",
       "  0.5084967613220215,\n",
       "  0.5152941346168518,\n",
       "  0.5005228519439697,\n",
       "  0.51437908411026,\n",
       "  0.5121568441390991,\n",
       "  0.5058823823928833,\n",
       "  0.51437908411026,\n",
       "  0.512810468673706,\n",
       "  0.5141176581382751,\n",
       "  0.5220915079116821,\n",
       "  0.5152941346168518,\n",
       "  0.5193464159965515,\n",
       "  0.5105882287025452,\n",
       "  0.5245751738548279,\n",
       "  0.5067973732948303,\n",
       "  0.5169934630393982,\n",
       "  0.5218300819396973,\n",
       "  0.5125490427017212,\n",
       "  0.5192157030105591,\n",
       "  0.5129411816596985,\n",
       "  0.5168627500534058,\n",
       "  0.5202614665031433,\n",
       "  0.518823504447937,\n",
       "  0.5145097970962524,\n",
       "  0.5069280862808228]}"
      ]
     },
     "execution_count": 47,
     "metadata": {},
     "output_type": "execute_result"
    }
   ],
   "source": [
    "history_dict"
   ]
  },
  {
   "cell_type": "markdown",
   "id": "1f3d4b0d-5699-4fcc-89e5-e43045131113",
   "metadata": {},
   "source": [
    "### Extract accuracy and loss values"
   ]
  },
  {
   "cell_type": "code",
   "execution_count": 48,
   "id": "23bd87d5-3bd8-4285-ac7e-e184aa91f76a",
   "metadata": {},
   "outputs": [],
   "source": [
    "train_accuracies = history_dict['accuracy']\n",
    "val_accuracies   = history_dict['val_accuracy']\n",
    "train_losses     = history_dict['loss']\n",
    "val_losses       = history_dict['val_loss']"
   ]
  },
  {
   "cell_type": "markdown",
   "id": "137ea081-0b06-456d-9b91-660380a1740e",
   "metadata": {},
   "source": [
    "#### Plotting accuracy values "
   ]
  },
  {
   "cell_type": "code",
   "execution_count": 49,
   "id": "a3a91387-4044-45f4-8d78-68ec57f00bc3",
   "metadata": {},
   "outputs": [
    {
     "data": {
      "text/plain": [
       "<matplotlib.legend.Legend at 0x320998e50>"
      ]
     },
     "execution_count": 49,
     "metadata": {},
     "output_type": "execute_result"
    },
    {
     "data": {
      "image/png": "[encoded data removed]",
      "text/plain": [
       "<Figure size 1400x500 with 1 Axes>"
      ]
     },
     "metadata": {},
     "output_type": "display_data"
    }
   ],
   "source": [
    "plt.figure(figsize=(14,5))\n",
    "plt.subplot(1,2,1)\n",
    "plt.plot(train_accuracies, label= \"Train Accuracy\")\n",
    "plt.plot(val_accuracies, label= \"Validation Accuracy\")\n",
    "plt.axhline(y=test_accuracy, color='r', linestyle= \"--\", label= \"Test Accuracy\")\n",
    "plt.title('Model Accuracy')\n",
    "plt.ylabel(\"Accuracy\")\n",
    "plt.xlabel(\"Epoch\")\n",
    "plt.legend(loc= 'upper left')"
   ]
  },
  {
   "cell_type": "markdown",
   "id": "df4efdff-c981-4342-9be4-9cd3b19fd403",
   "metadata": {},
   "source": [
    "## Some other performance metrics "
   ]
  },
  {
   "cell_type": "markdown",
   "id": "be1d3e64-28cf-4187-8264-73623046fa51",
   "metadata": {},
   "source": [
    "### ROC AUC (Receiver Operating Characteristic Area Under the Curve)\n",
    "\n",
    "The ROC AUC is a performance measurement for classification problems at various threshold settings. The ROC curve is a plot of true positive rate (TPR) against false positive rate (FPR) at different classification thresholds. The AUC (Area Under the Curve) measures the entire two-dimensional area underneath the entire ROC curve from (0,0) to (1,1).\n",
    "\n",
    "- **True Positive Rate (TPR) or Recall:** TPR = TP / (TP + FN)\n",
    "- **False Positive Rate (FPR):** FPR = FP / (FP + TN)\n",
    "\n",
    "The AUC value ranges from 0 to 1:\n",
    "- **AUC = 1:** Perfect model\n",
    "- **AUC = 0.5:** Model performs no better than random guessing\n",
    "- **AUC < 0.5:** Model performs worse than random guessing\n",
    "\n",
    "### F1 Score\n",
    "\n",
    "The F1 Score is the harmonic mean of precision and recall. It is a measure of a test's accuracy and is useful when you need to balance both precision and recall. The F1 score reaches its best value at 1 and worst score at 0.\n",
    "\n",
    "- **Precision:** Precision = TP / (TP + FP)\n",
    "- **Recall:** Recall = TP / (TP + FN)\n",
    "\n",
    "\\[ \\text{F1 Score} = 2 \\times \\frac{\\text{Precision} \\times \\text{Recall}}{\\text{Precision} + \\text{Recall}} \\]\n",
    "\n",
    "### When to Use Each Metric\n",
    "\n",
    "- **ROC AUC:** Useful when you want to measure the performance of a classification model at different threshold levels. It's especially helpful when you have imbalanced classes and want to see how well your model distinguishes between the positive and negative classes.\n",
    "- **F1 Score:** Useful when you want a single metric that balances precision and recall. It's particularly helpful in cases where you need to account for both false positives and false negatives."
   ]
  },
  {
   "cell_type": "markdown",
   "id": "3e2a4476-07ea-4257-88d6-26cf34f978a7",
   "metadata": {},
   "source": [
    "# Making predictions "
   ]
  },
  {
   "cell_type": "code",
   "execution_count": 50,
   "id": "d1c1ccab-0249-44ce-9963-d130918e7256",
   "metadata": {},
   "outputs": [
    {
     "name": "stdout",
     "output_type": "stream",
     "text": [
      "282/282 [==============================] - 0s 382us/step\n"
     ]
    }
   ],
   "source": [
    "Test_set_prediction= model.predict(X_test)"
   ]
  },
  {
   "cell_type": "code",
   "execution_count": 54,
   "id": "400472ce-1783-420a-b2b3-7a67de3aba52",
   "metadata": {},
   "outputs": [],
   "source": [
    "# Assuming Test_set_prediction contains the predicted probabilities for the positive class\n",
    "# Convert predictions to class labels for F1 score\n",
    "y_pred_classes = np.argmax(Test_set_prediction, axis=1)\n",
    "y_true_classes = np.argmax(y_test_one_hot, axis=1)"
   ]
  },
  {
   "cell_type": "code",
   "execution_count": 56,
   "id": "44dd3a73-32b5-4bcb-a6fc-3ca5fcff251f",
   "metadata": {},
   "outputs": [
    {
     "name": "stdout",
     "output_type": "stream",
     "text": [
      "[2.26529669e-02 6.09354038e-06 1.13861263e-01 1.92924589e-02\n",
      " 7.14659214e-01 1.63689181e-02 1.12788275e-01 1.41539495e-04\n",
      " 2.22643794e-04 6.59437728e-06]\n"
     ]
    }
   ],
   "source": [
    "print(Test_set_prediction[2])"
   ]
  },
  {
   "cell_type": "code",
   "execution_count": 57,
   "id": "1d248664-f3e7-40fd-bf5d-1b0fb12bb158",
   "metadata": {},
   "outputs": [
    {
     "name": "stdout",
     "output_type": "stream",
     "text": [
      "4\n"
     ]
    }
   ],
   "source": [
    "print(y_pred_classes[2])"
   ]
  },
  {
   "cell_type": "code",
   "execution_count": 58,
   "id": "55af7413-c16b-4d43-bf8c-4c3cf07d3a86",
   "metadata": {},
   "outputs": [
    {
     "name": "stdout",
     "output_type": "stream",
     "text": [
      "2\n"
     ]
    }
   ],
   "source": [
    "print(y_true_classes[2])"
   ]
  },
  {
   "cell_type": "code",
   "execution_count": 59,
   "id": "f1b09986-02ea-4bac-b83f-626d7dc7a438",
   "metadata": {},
   "outputs": [
    {
     "name": "stdout",
     "output_type": "stream",
     "text": [
      "[0. 0. 1. 0. 0. 0. 0. 0. 0. 0.]\n"
     ]
    }
   ],
   "source": [
    "print(y_test_one_hot[2])"
   ]
  },
  {
   "cell_type": "markdown",
   "id": "417fd700-b429-4c3a-afc6-2638ff38e783",
   "metadata": {},
   "source": [
    "### Using ROC AUC and f1-score metrics "
   ]
  },
  {
   "cell_type": "code",
   "execution_count": 60,
   "id": "412db36a-cf23-45b8-8776-f45ca2691a14",
   "metadata": {},
   "outputs": [
    {
     "name": "stdout",
     "output_type": "stream",
     "text": [
      "ROC AUC: 0.8891964943132947\n",
      "F1 Score: 0.5186475183465886\n"
     ]
    }
   ],
   "source": [
    "# Calculate ROC AUC\n",
    "roc_auc = roc_auc_score(y_test_one_hot, Test_set_prediction, multi_class='ovr')\n",
    "\n",
    "# Calculate F1 Score\n",
    "f1 = f1_score(y_true_classes, y_pred_classes, average='weighted')\n",
    "\n",
    "print(f'ROC AUC: {roc_auc}')\n",
    "print(f'F1 Score: {f1}')"
   ]
  },
  {
   "cell_type": "code",
   "execution_count": 61,
   "id": "f12e6ade-2249-4469-9c8f-62a0ed12a0d3",
   "metadata": {},
   "outputs": [
    {
     "name": "stdout",
     "output_type": "stream",
     "text": [
      "9000\n",
      "9000\n"
     ]
    }
   ],
   "source": [
    "print(len(y_test_one_hot))\n",
    "print(len(Test_set_prediction))"
   ]
  },
  {
   "cell_type": "markdown",
   "id": "e515f2a9-22ee-42c9-9657-3b2a6cff2d99",
   "metadata": {},
   "source": [
    "# Discussion\n",
    "\n",
    "Based on the results, it looks like your model might be overfitting to the training data, as indicated by the significant drop in accuracy from the training set (0.70) to the validation (0.52) and test sets (0.51). Here are a few strategies to help improve your model's performance and reduce overfitting:\n",
    "\n",
    "### 1. **Regularization Techniques**\n",
    "- **Dropout:** Introduce dropout layers to reduce overfitting. This randomly drops neurons during training, which helps prevent the model from becoming too reliant on specific neurons.\n",
    "- **L2 Regularization:** Add L2 regularization to your layers to penalize large weights and encourage the model to keep weights small, which can reduce overfitting.\n",
    "\n",
    "### 2. **Simplify the Model**\n",
    "Sometimes, reducing the complexity of your model can help improve generalization.\n",
    "- Reduce the number of layers or units per layer. Start with a simpler model and gradually increase complexity only if necessary.\n",
    "\n",
    "### 3. **Data Augmentation**\n",
    "If you're working with image data or other types of data where augmentation is applicable, use data augmentation techniques to artificially increase the size and diversity of your training set.\n",
    "\n",
    "### 4. **Early Stopping**\n",
    "Implement early stopping during training to halt training when the validation loss starts to increase, which indicates that the model is beginning to overfit.\n",
    "\n",
    "### 5. **Increase Training Data**\n",
    "If possible, increase the size of your training dataset. More data can help the model generalize better.\n",
    "\n",
    "### 6. **Tune Hyperparameters Further**\n",
    "- **Learning Rate:** Sometimes, a smaller learning rate can help the model converge more smoothly.\n",
    "- **Batch Size:** Experiment with different batch sizes. Smaller batches can lead to more noise in the gradient estimates, which might help escape local minima and find better generalization."
   ]
  },
  {
   "cell_type": "markdown",
   "id": "a76d7fff-e18d-4977-9741-0cca9927803d",
   "metadata": {},
   "source": [
    "# Using Genetic Selection algorithm "
   ]
  },
  {
   "cell_type": "code",
   "execution_count": null,
   "id": "a23e7c9d-aa4a-40ff-af01-cadad9e3e491",
   "metadata": {},
   "outputs": [],
   "source": []
  },
  {
   "cell_type": "code",
   "execution_count": 1,
   "id": "90650d59-628d-4713-897f-c2f3e42fbdd3",
   "metadata": {},
   "outputs": [
    {
     "ename": "NameError",
     "evalue": "name 'GeneticSelectionCV' is not defined",
     "output_type": "error",
     "traceback": [
      "\u001b[0;31m---------------------------------------------------------------------------\u001b[0m",
      "\u001b[0;31mNameError\u001b[0m                                 Traceback (most recent call last)",
      "Cell \u001b[0;32mIn[1], line 1\u001b[0m\n\u001b[0;32m----> 1\u001b[0m selector \u001b[38;5;241m=\u001b[39m GeneticSelectionCV(estimator\u001b[38;5;241m=\u001b[39mmodel,\n\u001b[1;32m      2\u001b[0m                               cv\u001b[38;5;241m=\u001b[39m\u001b[38;5;241m3\u001b[39m, \u001b[38;5;66;03m# Number of cross-validation folds\u001b[39;00m\n\u001b[1;32m      3\u001b[0m                               verbose\u001b[38;5;241m=\u001b[39m\u001b[38;5;241m1\u001b[39m, \u001b[38;5;66;03m# Verbosity mode\u001b[39;00m\n\u001b[1;32m      4\u001b[0m                               scoring\u001b[38;5;241m=\u001b[39m\u001b[38;5;124m\"\u001b[39m\u001b[38;5;124maccuracy\u001b[39m\u001b[38;5;124m\"\u001b[39m, \u001b[38;5;66;03m# Scoring metric\u001b[39;00m\n\u001b[1;32m      5\u001b[0m                               max_features\u001b[38;5;241m=\u001b[39m\u001b[38;5;241m50\u001b[39m, \u001b[38;5;66;03m# Maximum number of features to select\u001b[39;00m\n\u001b[1;32m      6\u001b[0m                               n_population\u001b[38;5;241m=\u001b[39m\u001b[38;5;241m30\u001b[39m, \u001b[38;5;66;03m# Population size for the genetic algorithm\u001b[39;00m\n\u001b[1;32m      7\u001b[0m                               crossover_proba\u001b[38;5;241m=\u001b[39m\u001b[38;5;241m0.8\u001b[39m, \u001b[38;5;66;03m# Crossover probability\u001b[39;00m\n\u001b[1;32m      8\u001b[0m                               mutation_proba\u001b[38;5;241m=\u001b[39m\u001b[38;5;241m0.1\u001b[39m, \u001b[38;5;66;03m# Mutation probability\u001b[39;00m\n\u001b[1;32m      9\u001b[0m                               n_generations\u001b[38;5;241m=\u001b[39m\u001b[38;5;241m20\u001b[39m, \u001b[38;5;66;03m# Number of generations\u001b[39;00m\n\u001b[1;32m     10\u001b[0m                               crossover_independent_proba\u001b[38;5;241m=\u001b[39m\u001b[38;5;241m0.5\u001b[39m, \u001b[38;5;66;03m# Probability of crossover for each gene\u001b[39;00m\n\u001b[1;32m     11\u001b[0m                               mutation_independent_proba\u001b[38;5;241m=\u001b[39m\u001b[38;5;241m0.02\u001b[39m, \u001b[38;5;66;03m# Probability of mutation for each gene\u001b[39;00m\n\u001b[1;32m     12\u001b[0m                               tournament_size\u001b[38;5;241m=\u001b[39m\u001b[38;5;241m3\u001b[39m, \u001b[38;5;66;03m# Tournament size\u001b[39;00m\n\u001b[1;32m     13\u001b[0m                               n_gen_no_change\u001b[38;5;241m=\u001b[39m\u001b[38;5;241m5\u001b[39m, \u001b[38;5;66;03m# Number of generations with no improvement\u001b[39;00m\n\u001b[1;32m     14\u001b[0m                               caching\u001b[38;5;241m=\u001b[39m\u001b[38;5;28;01mTrue\u001b[39;00m, \u001b[38;5;66;03m# Whether to cache the evaluated features\u001b[39;00m\n\u001b[1;32m     15\u001b[0m                               n_jobs\u001b[38;5;241m=\u001b[39m\u001b[38;5;241m-\u001b[39m\u001b[38;5;241m1\u001b[39m)\n",
      "\u001b[0;31mNameError\u001b[0m: name 'GeneticSelectionCV' is not defined"
     ]
    }
   ],
   "source": [
    "selector = GeneticSelectionCV(estimator=model,\n",
    "                              cv=3, # Number of cross-validation folds\n",
    "                              verbose=1, # Verbosity mode\n",
    "                              scoring=\"accuracy\", # Scoring metric\n",
    "                              max_features=50, # Maximum number of features to select\n",
    "                              n_population=30, # Population size for the genetic algorithm\n",
    "                              crossover_proba=0.8, # Crossover probability\n",
    "                              mutation_proba=0.1, # Mutation probability\n",
    "                              n_generations=20, # Number of generations\n",
    "                              crossover_independent_proba=0.5, # Probability of crossover for each gene\n",
    "                              mutation_independent_proba=0.02, # Probability of mutation for each gene\n",
    "                              tournament_size=3, # Tournament size\n",
    "                              n_gen_no_change=5, # Number of generations with no improvement\n",
    "                              caching=True, # Whether to cache the evaluated features\n",
    "                              n_jobs=-1) # Number of parallel jobs"
   ]
  },
  {
   "cell_type": "code",
   "execution_count": null,
   "id": "86465cef-2a84-48f8-9714-3b4c06cf9735",
   "metadata": {},
   "outputs": [],
   "source": []
  }
 ],
 "metadata": {
  "kernelspec": {
   "display_name": "Python 3 (ipykernel)",
   "language": "python",
   "name": "python3"
  },
  "language_info": {
   "codemirror_mode": {
    "name": "ipython",
    "version": 3
   },
   "file_extension": ".py",
   "mimetype": "text/x-python",
   "name": "python",
   "nbconvert_exporter": "python",
   "pygments_lexer": "ipython3",
   "version": "3.11.5"
  }
 },
 "nbformat": 4,
 "nbformat_minor": 5
}
